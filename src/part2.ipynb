{
  "nbformat": 4,
  "nbformat_minor": 0,
  "metadata": {
    "colab": {
      "name": "part2.ipynb",
      "provenance": [],
      "collapsed_sections": []
    },
    "kernelspec": {
      "name": "python3",
      "display_name": "Python 3"
    },
    "language_info": {
      "name": "python"
    },
    "widgets": {
      "application/vnd.jupyter.widget-state+json": {
        "d74ee12d9677465f8ddc6799ebdcecd1": {
          "model_module": "@jupyter-widgets/controls",
          "model_name": "VBoxModel",
          "model_module_version": "1.5.0",
          "state": {
            "_view_name": "VBoxView",
            "_dom_classes": [
              "widget-interact"
            ],
            "_model_name": "VBoxModel",
            "_view_module": "@jupyter-widgets/controls",
            "_model_module_version": "1.5.0",
            "_view_count": null,
            "_view_module_version": "1.5.0",
            "box_style": "",
            "layout": "IPY_MODEL_95b6ce5abf3c49c094fa93c7f95b5027",
            "_model_module": "@jupyter-widgets/controls",
            "children": [
              "IPY_MODEL_96c26c2520a940caaea462c76efd7e43",
              "IPY_MODEL_e62debbe8b1e432ea742f06f40ca15bc",
              "IPY_MODEL_989e0521c7564b019ac55d9184d65008",
              "IPY_MODEL_4348d1d5ade7471b9352329612ab27a0",
              "IPY_MODEL_809f81627e004047869d15e8e75301e1",
              "IPY_MODEL_3a7bfc9a29a143679037bad20f95947e",
              "IPY_MODEL_6f7229341d684fedb92cab593b88c118",
              "IPY_MODEL_a29452b9238e4a02bd79dfad907a0cf3",
              "IPY_MODEL_f2db53ca52474b8b8feb1bb1c33b20f9",
              "IPY_MODEL_93061edc87924f0988256a54568e6d63",
              "IPY_MODEL_9a508be7a6b0481d81adb9a8d4be8ab1",
              "IPY_MODEL_14c12d9082814629a06f31c8fbc00036",
              "IPY_MODEL_589b65b5b4e94f91942fe6c086042aec",
              "IPY_MODEL_951881fd847e467493e7d2f6834928dc",
              "IPY_MODEL_2db0ee080d974cdcaa00c14334724b65"
            ]
          }
        },
        "95b6ce5abf3c49c094fa93c7f95b5027": {
          "model_module": "@jupyter-widgets/base",
          "model_name": "LayoutModel",
          "model_module_version": "1.2.0",
          "state": {
            "_view_name": "LayoutView",
            "grid_template_rows": null,
            "right": null,
            "justify_content": null,
            "_view_module": "@jupyter-widgets/base",
            "overflow": null,
            "_model_module_version": "1.2.0",
            "_view_count": null,
            "flex_flow": null,
            "width": null,
            "min_width": null,
            "border": null,
            "align_items": null,
            "bottom": null,
            "_model_module": "@jupyter-widgets/base",
            "top": null,
            "grid_column": null,
            "overflow_y": null,
            "overflow_x": null,
            "grid_auto_flow": null,
            "grid_area": null,
            "grid_template_columns": null,
            "flex": null,
            "_model_name": "LayoutModel",
            "justify_items": null,
            "grid_row": null,
            "max_height": null,
            "align_content": null,
            "visibility": null,
            "align_self": null,
            "height": null,
            "min_height": null,
            "padding": null,
            "grid_auto_rows": null,
            "grid_gap": null,
            "max_width": null,
            "order": null,
            "_view_module_version": "1.2.0",
            "grid_template_areas": null,
            "object_position": null,
            "object_fit": null,
            "grid_auto_columns": null,
            "margin": null,
            "display": null,
            "left": null
          }
        },
        "96c26c2520a940caaea462c76efd7e43": {
          "model_module": "@jupyter-widgets/controls",
          "model_name": "IntSliderModel",
          "model_module_version": "1.5.0",
          "state": {
            "_view_name": "IntSliderView",
            "style": "IPY_MODEL_a6820bc06ce94e48813ab31cb5db859b",
            "_dom_classes": [],
            "description": "Layers: ",
            "step": 1,
            "_model_name": "IntSliderModel",
            "orientation": "horizontal",
            "max": 4,
            "_view_module": "@jupyter-widgets/controls",
            "_model_module_version": "1.5.0",
            "value": 2,
            "_view_count": null,
            "disabled": false,
            "_view_module_version": "1.5.0",
            "min": 0,
            "continuous_update": true,
            "readout_format": "d",
            "description_tooltip": null,
            "readout": true,
            "_model_module": "@jupyter-widgets/controls",
            "layout": "IPY_MODEL_bb629b0958064f98a4fe0f559dd459e4"
          }
        },
        "e62debbe8b1e432ea742f06f40ca15bc": {
          "model_module": "@jupyter-widgets/controls",
          "model_name": "DropdownModel",
          "model_module_version": "1.5.0",
          "state": {
            "_options_labels": [
              "Standard deviation",
              "Mean absolute deviation",
              "Binary crossentropy",
              "Categorical crossentropy"
            ],
            "_view_name": "DropdownView",
            "style": "IPY_MODEL_b3859f5ceab04c969fa6ee23811118aa",
            "_dom_classes": [],
            "description": "Loss function: ",
            "_model_name": "DropdownModel",
            "index": 3,
            "_view_module": "@jupyter-widgets/controls",
            "_model_module_version": "1.5.0",
            "_view_count": null,
            "disabled": false,
            "_view_module_version": "1.5.0",
            "description_tooltip": null,
            "_model_module": "@jupyter-widgets/controls",
            "layout": "IPY_MODEL_33cf77d7241a44cd81426b9ab4c8ecbc"
          }
        },
        "989e0521c7564b019ac55d9184d65008": {
          "model_module": "@jupyter-widgets/controls",
          "model_name": "BoundedIntTextModel",
          "model_module_version": "1.5.0",
          "state": {
            "_view_name": "IntTextView",
            "style": "IPY_MODEL_9a534d65ba2c4d49a8dfe5865c6eac2a",
            "_dom_classes": [],
            "description": "Batch size: ",
            "_model_name": "BoundedIntTextModel",
            "max": 60000,
            "_view_module": "@jupyter-widgets/controls",
            "_model_module_version": "1.5.0",
            "value": 100,
            "_view_count": null,
            "disabled": false,
            "_view_module_version": "1.5.0",
            "min": 0,
            "continuous_update": false,
            "step": 1,
            "description_tooltip": null,
            "_model_module": "@jupyter-widgets/controls",
            "layout": "IPY_MODEL_b12fa641860a45b7adbe21e99aeff59c"
          }
        },
        "4348d1d5ade7471b9352329612ab27a0": {
          "model_module": "@jupyter-widgets/controls",
          "model_name": "ToggleButtonsModel",
          "model_module_version": "1.5.0",
          "state": {
            "_options_labels": [
              "-0.1",
              "0",
              "0.001",
              "0.01",
              "0.05",
              "0.1",
              "0.5",
              "1",
              "5"
            ],
            "_view_name": "ToggleButtonsView",
            "style": "IPY_MODEL_46cc0c8c758144a982090b76f63713a2",
            "_dom_classes": [],
            "description": "Learn rate: ",
            "_model_name": "ToggleButtonsModel",
            "tooltips": [],
            "index": 3,
            "button_style": "",
            "_view_module": "@jupyter-widgets/controls",
            "_model_module_version": "1.5.0",
            "_view_count": null,
            "disabled": false,
            "_view_module_version": "1.5.0",
            "icons": [],
            "description_tooltip": null,
            "_model_module": "@jupyter-widgets/controls",
            "layout": "IPY_MODEL_f980e7e4c0be4a4aa94a1b53561a6ecc"
          }
        },
        "809f81627e004047869d15e8e75301e1": {
          "model_module": "@jupyter-widgets/controls",
          "model_name": "ToggleButtonsModel",
          "model_module_version": "1.5.0",
          "state": {
            "_options_labels": [
              "-0.1",
              "0",
              "0.0001",
              "0.0005",
              "0.001",
              "0.005",
              "0.01",
              "0.05",
              "0.1"
            ],
            "_view_name": "ToggleButtonsView",
            "style": "IPY_MODEL_84247884362a46f7bd7a1e1ea30cbb6a",
            "_dom_classes": [],
            "description": "Regularization  L1: ",
            "_model_name": "ToggleButtonsModel",
            "tooltips": [],
            "index": 2,
            "button_style": "",
            "_view_module": "@jupyter-widgets/controls",
            "_model_module_version": "1.5.0",
            "_view_count": null,
            "disabled": false,
            "_view_module_version": "1.5.0",
            "icons": [],
            "description_tooltip": null,
            "_model_module": "@jupyter-widgets/controls",
            "layout": "IPY_MODEL_410d174e496d4de788c15a5c74a62dd1"
          }
        },
        "3a7bfc9a29a143679037bad20f95947e": {
          "model_module": "@jupyter-widgets/controls",
          "model_name": "ToggleButtonsModel",
          "model_module_version": "1.5.0",
          "state": {
            "_options_labels": [
              "-0.1",
              "0",
              "0.0001",
              "0.0005",
              "0.001",
              "0.005",
              "0.01",
              "0.05",
              "0.1"
            ],
            "_view_name": "ToggleButtonsView",
            "style": "IPY_MODEL_67d60dc35e654346a89891b40a64dbe2",
            "_dom_classes": [],
            "description": "Regularization  L2: ",
            "_model_name": "ToggleButtonsModel",
            "tooltips": [],
            "index": 2,
            "button_style": "",
            "_view_module": "@jupyter-widgets/controls",
            "_model_module_version": "1.5.0",
            "_view_count": null,
            "disabled": false,
            "_view_module_version": "1.5.0",
            "icons": [],
            "description_tooltip": null,
            "_model_module": "@jupyter-widgets/controls",
            "layout": "IPY_MODEL_140b0a28e4b041d09ec32727f66fee5a"
          }
        },
        "6f7229341d684fedb92cab593b88c118": {
          "model_module": "@jupyter-widgets/controls",
          "model_name": "DropdownModel",
          "model_module_version": "1.5.0",
          "state": {
            "_options_labels": [
              "softmax",
              "relu",
              "tanh",
              "sigmoid",
              "linear"
            ],
            "_view_name": "DropdownView",
            "style": "IPY_MODEL_23b83a30ec3448bb95bb2c27252a4868",
            "_dom_classes": [],
            "description": "Output layer activation type: ",
            "_model_name": "DropdownModel",
            "index": 3,
            "_view_module": "@jupyter-widgets/controls",
            "_model_module_version": "1.5.0",
            "_view_count": null,
            "disabled": false,
            "_view_module_version": "1.5.0",
            "description_tooltip": null,
            "_model_module": "@jupyter-widgets/controls",
            "layout": "IPY_MODEL_7463337d0ddf467fb240309bc892040a"
          }
        },
        "a29452b9238e4a02bd79dfad907a0cf3": {
          "model_module": "@jupyter-widgets/controls",
          "model_name": "IntSliderModel",
          "model_module_version": "1.5.0",
          "state": {
            "_view_name": "IntSliderView",
            "style": "IPY_MODEL_f3ab08ec5b6f4bce854b04471d5d79a1",
            "_dom_classes": [],
            "description": "Epoch count: ",
            "step": 10,
            "_model_name": "IntSliderModel",
            "orientation": "horizontal",
            "max": 100,
            "_view_module": "@jupyter-widgets/controls",
            "_model_module_version": "1.5.0",
            "value": 20,
            "_view_count": null,
            "disabled": false,
            "_view_module_version": "1.5.0",
            "min": 10,
            "continuous_update": true,
            "readout_format": "d",
            "description_tooltip": null,
            "readout": true,
            "_model_module": "@jupyter-widgets/controls",
            "layout": "IPY_MODEL_4174a07427af4278af815a3d7345c3c7"
          }
        },
        "f2db53ca52474b8b8feb1bb1c33b20f9": {
          "model_module": "@jupyter-widgets/controls",
          "model_name": "IntSliderModel",
          "model_module_version": "1.5.0",
          "state": {
            "_view_name": "IntSliderView",
            "style": "IPY_MODEL_b39f9c1fcb8c42b884e15b54da282aae",
            "_dom_classes": [],
            "description": "Neurons per layer: ",
            "step": 1,
            "_model_name": "IntSliderModel",
            "orientation": "horizontal",
            "max": 20,
            "_view_module": "@jupyter-widgets/controls",
            "_model_module_version": "1.5.0",
            "value": 6,
            "_view_count": null,
            "disabled": false,
            "_view_module_version": "1.5.0",
            "min": 0,
            "continuous_update": true,
            "readout_format": "d",
            "description_tooltip": null,
            "readout": true,
            "_model_module": "@jupyter-widgets/controls",
            "layout": "IPY_MODEL_8e1c40b6b4ff4b2b934371e0a3bd8ba4"
          }
        },
        "93061edc87924f0988256a54568e6d63": {
          "model_module": "@jupyter-widgets/controls",
          "model_name": "DropdownModel",
          "model_module_version": "1.5.0",
          "state": {
            "_options_labels": [
              "softmax",
              "relu",
              "tanh",
              "sigmoid",
              "linear"
            ],
            "_view_name": "DropdownView",
            "style": "IPY_MODEL_823d70da560e4c8ab0f24ea0fc35ac9d",
            "_dom_classes": [],
            "description": "Layer 1 activation type: ",
            "_model_name": "DropdownModel",
            "index": 1,
            "_view_module": "@jupyter-widgets/controls",
            "_model_module_version": "1.5.0",
            "_view_count": null,
            "disabled": false,
            "_view_module_version": "1.5.0",
            "description_tooltip": null,
            "_model_module": "@jupyter-widgets/controls",
            "layout": "IPY_MODEL_eb4aae3c575240ef849e3f2a1f9cf813"
          }
        },
        "9a508be7a6b0481d81adb9a8d4be8ab1": {
          "model_module": "@jupyter-widgets/controls",
          "model_name": "DropdownModel",
          "model_module_version": "1.5.0",
          "state": {
            "_options_labels": [
              "softmax",
              "relu",
              "tanh",
              "sigmoid",
              "linear"
            ],
            "_view_name": "DropdownView",
            "style": "IPY_MODEL_4f90ff18cd4d4eca8c9beb35e28706db",
            "_dom_classes": [],
            "description": "Layer 2 activation type ",
            "_model_name": "DropdownModel",
            "index": 1,
            "_view_module": "@jupyter-widgets/controls",
            "_model_module_version": "1.5.0",
            "_view_count": null,
            "disabled": false,
            "_view_module_version": "1.5.0",
            "description_tooltip": null,
            "_model_module": "@jupyter-widgets/controls",
            "layout": "IPY_MODEL_022fee0fe50a47f59afc9d3240c05d46"
          }
        },
        "14c12d9082814629a06f31c8fbc00036": {
          "model_module": "@jupyter-widgets/controls",
          "model_name": "DropdownModel",
          "model_module_version": "1.5.0",
          "state": {
            "_options_labels": [
              "softmax",
              "relu",
              "tanh",
              "sigmoid",
              "linear"
            ],
            "_view_name": "DropdownView",
            "style": "IPY_MODEL_98a1e69a05fa4fd9a521279c8594a3b1",
            "_dom_classes": [],
            "description": "Layer 3 activation type: ",
            "_model_name": "DropdownModel",
            "index": 1,
            "_view_module": "@jupyter-widgets/controls",
            "_model_module_version": "1.5.0",
            "_view_count": null,
            "disabled": false,
            "_view_module_version": "1.5.0",
            "description_tooltip": null,
            "_model_module": "@jupyter-widgets/controls",
            "layout": "IPY_MODEL_c047ff8cb8574bae9f60ebb975a31aaa"
          }
        },
        "589b65b5b4e94f91942fe6c086042aec": {
          "model_module": "@jupyter-widgets/controls",
          "model_name": "DropdownModel",
          "model_module_version": "1.5.0",
          "state": {
            "_options_labels": [
              "softmax",
              "relu",
              "tanh",
              "sigmoid",
              "linear"
            ],
            "_view_name": "DropdownView",
            "style": "IPY_MODEL_64624aa447de400e8254c319f4fb96da",
            "_dom_classes": [],
            "description": "Layer 4 activation type: ",
            "_model_name": "DropdownModel",
            "index": 1,
            "_view_module": "@jupyter-widgets/controls",
            "_model_module_version": "1.5.0",
            "_view_count": null,
            "disabled": false,
            "_view_module_version": "1.5.0",
            "description_tooltip": null,
            "_model_module": "@jupyter-widgets/controls",
            "layout": "IPY_MODEL_9b6eeb208d8f4620a9668c2cb5cdc5d7"
          }
        },
        "951881fd847e467493e7d2f6834928dc": {
          "model_module": "@jupyter-widgets/controls",
          "model_name": "ButtonModel",
          "model_module_version": "1.5.0",
          "state": {
            "_view_name": "ButtonView",
            "style": "IPY_MODEL_698be142adf7445fa3947d976a712801",
            "_dom_classes": [],
            "description": "Run Interact",
            "_model_name": "ButtonModel",
            "button_style": "",
            "_view_module": "@jupyter-widgets/controls",
            "_model_module_version": "1.5.0",
            "tooltip": "",
            "_view_count": null,
            "disabled": false,
            "_view_module_version": "1.5.0",
            "layout": "IPY_MODEL_a0c70d6d362b43a3bf69a0c258039b28",
            "_model_module": "@jupyter-widgets/controls",
            "icon": ""
          }
        },
        "2db0ee080d974cdcaa00c14334724b65": {
          "model_module": "@jupyter-widgets/output",
          "model_name": "OutputModel",
          "model_module_version": "1.0.0",
          "state": {
            "_view_name": "OutputView",
            "msg_id": "",
            "_dom_classes": [],
            "_model_name": "OutputModel",
            "outputs": [
              {
                "output_type": "stream",
                "name": "stderr",
                "text": [
                  "/usr/local/lib/python3.7/dist-packages/keras/optimizer_v2/gradient_descent.py:102: UserWarning: The `lr` argument is deprecated, use `learning_rate` instead.\n",
                  "  super(SGD, self).__init__(name, **kwargs)\n"
                ]
              },
              {
                "output_type": "stream",
                "name": "stdout",
                "text": [
                  "Model: \"sequential_1\"\n",
                  "_________________________________________________________________\n",
                  " Layer (type)                Output Shape              Param #   \n",
                  "=================================================================\n",
                  " dense_3 (Dense)             (None, 6)                 4710      \n",
                  "                                                                 \n",
                  " dense_4 (Dense)             (None, 6)                 42        \n",
                  "                                                                 \n",
                  " dense_5 (Dense)             (None, 10)                70        \n",
                  "                                                                 \n",
                  "=================================================================\n",
                  "Total params: 4,822\n",
                  "Trainable params: 4,822\n",
                  "Non-trainable params: 0\n",
                  "_________________________________________________________________\n",
                  "Epoch 1/20\n"
                ]
              },
              {
                "output_type": "stream",
                "name": "stdout",
                "text": [
                  "\r  1/600 [..............................] - ETA: 6:02 - loss: 142.1445 - acc: 0.0700"
                ]
              },
              {
                "output_type": "stream",
                "name": "stdout",
                "text": [
                  "\b\b\b\b\b\b\b\b\b\b\b\b\b\b\b\b\b\b\b\b\b\b\b\b\b\b\b\b\b\b\b\b\b\b\b\b\b\b\b\b\b\b\b\b\b\b\b\b\b\b\b\b\b\b\b\b\b\b\b\b\b\b\b\b\b\b\b\b\b\b\b\b\b\b\b\b\b\b\b\b\b\b\b\r 26/600 [>.............................] - ETA: 1s - loss: 7.7888 - acc: 0.0996    "
                ]
              },
              {
                "output_type": "stream",
                "name": "stdout",
                "text": [
                  "\b\b\b\b\b\b\b\b\b\b\b\b\b\b\b\b\b\b\b\b\b\b\b\b\b\b\b\b\b\b\b\b\b\b\b\b\b\b\b\b\b\b\b\b\b\b\b\b\b\b\b\b\b\b\b\b\b\b\b\b\b\b\b\b\b\b\b\b\b\b\b\b\b\b\b\b\b\b\b\r 56/600 [=>............................] - ETA: 1s - loss: 4.9010 - acc: 0.1002"
                ]
              },
              {
                "output_type": "stream",
                "name": "stdout",
                "text": [
                  "\b\b\b\b\b\b\b\b\b\b\b\b\b\b\b\b\b\b\b\b\b\b\b\b\b\b\b\b\b\b\b\b\b\b\b\b\b\b\b\b\b\b\b\b\b\b\b\b\b\b\b\b\b\b\b\b\b\b\b\b\b\b\b\b\b\b\b\b\b\b\b\b\b\b\b\b\b\b\b\r 86/600 [===>..........................] - ETA: 0s - loss: 4.0286 - acc: 0.0970"
                ]
              },
              {
                "output_type": "stream",
                "name": "stdout",
                "text": [
                  "\b\b\b\b\b\b\b\b\b\b\b\b\b\b\b\b\b\b\b\b\b\b\b\b\b\b\b\b\b\b\b\b\b\b\b\b\b\b\b\b\b\b\b\b\b\b\b\b\b\b\b\b\b\b\b\b\b\b\b\b\b\b\b\b\b\b\b\b\b\b\b\b\b\b\b\b\b\b\b\r112/600 [====>.........................] - ETA: 0s - loss: 3.6501 - acc: 0.0971"
                ]
              },
              {
                "output_type": "stream",
                "name": "stdout",
                "text": [
                  "\b\b\b\b\b\b\b\b\b\b\b\b\b\b\b\b\b\b\b\b\b\b\b\b\b\b\b\b\b\b\b\b\b\b\b\b\b\b\b\b\b\b\b\b\b\b\b\b\b\b\b\b\b\b\b\b\b\b\b\b\b\b\b\b\b\b\b\b\b\b\b\b\b\b\b\b\b\b\b\r143/600 [======>.......................] - ETA: 0s - loss: 3.3787 - acc: 0.0974"
                ]
              },
              {
                "output_type": "stream",
                "name": "stdout",
                "text": [
                  "\b\b\b\b\b\b\b\b\b\b\b\b\b\b\b\b\b\b\b\b\b\b\b\b\b\b\b\b\b\b\b\b\b\b\b\b\b\b\b\b\b\b\b\b\b\b\b\b\b\b\b\b\b\b\b\b\b\b\b\b\b\b\b\b\b\b\b\b\b\b\b\b\b\b\b\b\b\b\b\r170/600 [=======>......................] - ETA: 0s - loss: 3.2234 - acc: 0.0969"
                ]
              },
              {
                "output_type": "stream",
                "name": "stdout",
                "text": [
                  "\b\b\b\b\b\b\b\b\b\b\b\b\b\b\b\b\b\b\b\b\b\b\b\b\b\b\b\b\b\b\b\b\b\b\b\b\b\b\b\b\b\b\b\b\b\b\b\b\b\b\b\b\b\b\b\b\b\b\b\b\b\b\b\b\b\b\b\b\b\b\b\b\b\b\b\b\b\b\b\r196/600 [========>.....................] - ETA: 0s - loss: 3.1139 - acc: 0.0974"
                ]
              },
              {
                "output_type": "stream",
                "name": "stdout",
                "text": [
                  "\b\b\b\b\b\b\b\b\b\b\b\b\b\b\b\b\b\b\b\b\b\b\b\b\b\b\b\b\b\b\b\b\b\b\b\b\b\b\b\b\b\b\b\b\b\b\b\b\b\b\b\b\b\b\b\b\b\b\b\b\b\b\b\b\b\b\b\b\b\b\b\b\b\b\b\b\b\b\b\r222/600 [==========>...................] - ETA: 0s - loss: 3.0301 - acc: 0.0975"
                ]
              },
              {
                "output_type": "stream",
                "name": "stdout",
                "text": [
                  "\b\b\b\b\b\b\b\b\b\b\b\b\b\b\b\b\b\b\b\b\b\b\b\b\b\b\b\b\b\b\b\b\b\b\b\b\b\b\b\b\b\b\b\b\b\b\b\b\b\b\b\b\b\b\b\b\b\b\b\b\b\b\b\b\b\b\b\b\b\b\b\b\b\b\b\b\b\b\b\r248/600 [===========>..................] - ETA: 0s - loss: 2.9638 - acc: 0.0977"
                ]
              },
              {
                "output_type": "stream",
                "name": "stdout",
                "text": [
                  "\b\b\b\b\b\b\b\b\b\b\b\b\b\b\b\b\b\b\b\b\b\b\b\b\b\b\b\b\b\b\b\b\b\b\b\b\b\b\b\b\b\b\b\b\b\b\b\b\b\b\b\b\b\b\b\b\b\b\b\b\b\b\b\b\b\b\b\b\b\b\b\b\b\b\b\b\b\b\b\r274/600 [============>.................] - ETA: 0s - loss: 2.9101 - acc: 0.0977"
                ]
              },
              {
                "output_type": "stream",
                "name": "stdout",
                "text": [
                  "\b\b\b\b\b\b\b\b\b\b\b\b\b\b\b\b\b\b\b\b\b\b\b\b\b\b\b\b\b\b\b\b\b\b\b\b\b\b\b\b\b\b\b\b\b\b\b\b\b\b\b\b\b\b\b\b\b\b\b\b\b\b\b\b\b\b\b\b\b\b\b\b\b\b\b\b\b\b\b\r299/600 [=============>................] - ETA: 0s - loss: 2.8673 - acc: 0.0983"
                ]
              },
              {
                "output_type": "stream",
                "name": "stdout",
                "text": [
                  "\b\b\b\b\b\b\b\b\b\b\b\b\b\b\b\b\b\b\b\b\b\b\b\b\b\b\b\b\b\b\b\b\b\b\b\b\b\b\b\b\b\b\b\b\b\b\b\b\b\b\b\b\b\b\b\b\b\b\b\b\b\b\b\b\b\b\b\b\b\b\b\b\b\b\b\b\b\b\b\r324/600 [===============>..............] - ETA: 0s - loss: 2.8311 - acc: 0.0977"
                ]
              },
              {
                "output_type": "stream",
                "name": "stdout",
                "text": [
                  "\b\b\b\b\b\b\b\b\b\b\b\b\b\b\b\b\b\b\b\b\b\b\b\b\b\b\b\b\b\b\b\b\b\b\b\b\b\b\b\b\b\b\b\b\b\b\b\b\b\b\b\b\b\b\b\b\b\b\b\b\b\b\b\b\b\b\b\b\b\b\b\b\b\b\b\b\b\b\b\r351/600 [================>.............] - ETA: 0s - loss: 2.7978 - acc: 0.0977"
                ]
              },
              {
                "output_type": "stream",
                "name": "stdout",
                "text": [
                  "\b\b\b\b\b\b\b\b\b\b\b\b\b\b\b\b\b\b\b\b\b\b\b\b\b\b\b\b\b\b\b\b\b\b\b\b\b\b\b\b\b\b\b\b\b\b\b\b\b\b\b\b\b\b\b\b\b\b\b\b\b\b\b\b\b\b\b\b\b\b\b\b\b\b\b\b\b\b\b\r380/600 [==================>...........] - ETA: 0s - loss: 2.7673 - acc: 0.0971"
                ]
              },
              {
                "output_type": "stream",
                "name": "stdout",
                "text": [
                  "\b\b\b\b\b\b\b\b\b\b\b\b\b\b\b\b\b\b\b\b\b\b\b\b\b\b\b\b\b\b\b\b\b\b\b\b\b\b\b\b\b\b\b\b\b\b\b\b\b\b\b\b\b\b\b\b\b\b\b\b\b\b\b\b\b\b\b\b\b\b\b\b\b\b\b\b\b\b\b\r408/600 [===================>..........] - ETA: 0s - loss: 2.7419 - acc: 0.0973"
                ]
              },
              {
                "output_type": "stream",
                "name": "stdout",
                "text": [
                  "\b\b\b\b\b\b\b\b\b\b\b\b\b\b\b\b\b\b\b\b\b\b\b\b\b\b\b\b\b\b\b\b\b\b\b\b\b\b\b\b\b\b\b\b\b\b\b\b\b\b\b\b\b\b\b\b\b\b\b\b\b\b\b\b\b\b\b\b\b\b\b\b\b\b\b\b\b\b\b\r436/600 [====================>.........] - ETA: 0s - loss: 2.7199 - acc: 0.0972"
                ]
              },
              {
                "output_type": "stream",
                "name": "stdout",
                "text": [
                  "\b\b\b\b\b\b\b\b\b\b\b\b\b\b\b\b\b\b\b\b\b\b\b\b\b\b\b\b\b\b\b\b\b\b\b\b\b\b\b\b\b\b\b\b\b\b\b\b\b\b\b\b\b\b\b\b\b\b\b\b\b\b\b\b\b\b\b\b\b\b\b\b\b\b\b\b\b\b\b\r464/600 [======================>.......] - ETA: 0s - loss: 2.7005 - acc: 0.0971"
                ]
              },
              {
                "output_type": "stream",
                "name": "stdout",
                "text": [
                  "\b\b\b\b\b\b\b\b\b\b\b\b\b\b\b\b\b\b\b\b\b\b\b\b\b\b\b\b\b\b\b\b\b\b\b\b\b\b\b\b\b\b\b\b\b\b\b\b\b\b\b\b\b\b\b\b\b\b\b\b\b\b\b\b\b\b\b\b\b\b\b\b\b\b\b\b\b\b\b\r493/600 [=======================>......] - ETA: 0s - loss: 2.6827 - acc: 0.0975"
                ]
              },
              {
                "output_type": "stream",
                "name": "stdout",
                "text": [
                  "\b\b\b\b\b\b\b\b\b\b\b\b\b\b\b\b\b\b\b\b\b\b\b\b\b\b\b\b\b\b\b\b\b\b\b\b\b\b\b\b\b\b\b\b\b\b\b\b\b\b\b\b\b\b\b\b\b\b\b\b\b\b\b\b\b\b\b\b\b\b\b\b\b\b\b\b\b\b\b\r523/600 [=========================>....] - ETA: 0s - loss: 2.6663 - acc: 0.0973"
                ]
              },
              {
                "output_type": "stream",
                "name": "stdout",
                "text": [
                  "\b\b\b\b\b\b\b\b\b\b\b\b\b\b\b\b\b\b\b\b\b\b\b\b\b\b\b\b\b\b\b\b\b\b\b\b\b\b\b\b\b\b\b\b\b\b\b\b\b\b\b\b\b\b\b\b\b\b\b\b\b\b\b\b\b\b\b\b\b\b\b\b\b\b\b\b\b\b\b\r548/600 [==========================>...] - ETA: 0s - loss: 2.6541 - acc: 0.0968"
                ]
              },
              {
                "output_type": "stream",
                "name": "stdout",
                "text": [
                  "\b\b\b\b\b\b\b\b\b\b\b\b\b\b\b\b\b\b\b\b\b\b\b\b\b\b\b\b\b\b\b\b\b\b\b\b\b\b\b\b\b\b\b\b\b\b\b\b\b\b\b\b\b\b\b\b\b\b\b\b\b\b\b\b\b\b\b\b\b\b\b\b\b\b\b\b\b\b\b\r573/600 [===========================>..] - ETA: 0s - loss: 2.6429 - acc: 0.0966"
                ]
              },
              {
                "output_type": "stream",
                "name": "stdout",
                "text": [
                  "\b\b\b\b\b\b\b\b\b\b\b\b\b\b\b\b\b\b\b\b\b\b\b\b\b\b\b\b\b\b\b\b\b\b\b\b\b\b\b\b\b\b\b\b\b\b\b\b\b\b\b\b\b\b\b\b\b\b\b\b\b\b\b\b\b\b\b\b\b\b\b\b\b\b\b\b\b\b\b\r600/600 [==============================] - 2s 2ms/step - loss: 2.6319 - acc: 0.0964 - val_loss: 2.3978 - val_acc: 0.1000\n"
                ]
              },
              {
                "output_type": "stream",
                "name": "stdout",
                "text": [
                  "Epoch 2/20\n",
                  "\r  1/600 [..............................] - ETA: 2s - loss: 2.3976 - acc: 0.1100"
                ]
              },
              {
                "output_type": "stream",
                "name": "stdout",
                "text": [
                  "\b\b\b\b\b\b\b\b\b\b\b\b\b\b\b\b\b\b\b\b\b\b\b\b\b\b\b\b\b\b\b\b\b\b\b\b\b\b\b\b\b\b\b\b\b\b\b\b\b\b\b\b\b\b\b\b\b\b\b\b\b\b\b\b\b\b\b\b\b\b\b\b\b\b\b\b\b\b\b\r 27/600 [>.............................] - ETA: 1s - loss: 2.3978 - acc: 0.1033"
                ]
              },
              {
                "output_type": "stream",
                "name": "stdout",
                "text": [
                  "\b\b\b\b\b\b\b\b\b\b\b\b\b\b\b\b\b\b\b\b\b\b\b\b\b\b\b\b\b\b\b\b\b\b\b\b\b\b\b\b\b\b\b\b\b\b\b\b\b\b\b\b\b\b\b\b\b\b\b\b\b\b\b\b\b\b\b\b\b\b\b\b\b\b\b\b\b\b\b\r 54/600 [=>............................] - ETA: 1s - loss: 2.3978 - acc: 0.1052"
                ]
              },
              {
                "output_type": "stream",
                "name": "stdout",
                "text": [
                  "\b\b\b\b\b\b\b\b\b\b\b\b\b\b\b\b\b\b\b\b\b\b\b\b\b\b\b\b\b\b\b\b\b\b\b\b\b\b\b\b\b\b\b\b\b\b\b\b\b\b\b\b\b\b\b\b\b\b\b\b\b\b\b\b\b\b\b\b\b\b\b\b\b\b\b\b\b\b\b\r 85/600 [===>..........................] - ETA: 0s - loss: 2.3977 - acc: 0.1021"
                ]
              },
              {
                "output_type": "stream",
                "name": "stdout",
                "text": [
                  "\b\b\b\b\b\b\b\b\b\b\b\b\b\b\b\b\b\b\b\b\b\b\b\b\b\b\b\b\b\b\b\b\b\b\b\b\b\b\b\b\b\b\b\b\b\b\b\b\b\b\b\b\b\b\b\b\b\b\b\b\b\b\b\b\b\b\b\b\b\b\b\b\b\b\b\b\b\b\b\r116/600 [====>.........................] - ETA: 0s - loss: 2.3977 - acc: 0.1012"
                ]
              },
              {
                "output_type": "stream",
                "name": "stdout",
                "text": [
                  "\b\b\b\b\b\b\b\b\b\b\b\b\b\b\b\b\b\b\b\b\b\b\b\b\b\b\b\b\b\b\b\b\b\b\b\b\b\b\b\b\b\b\b\b\b\b\b\b\b\b\b\b\b\b\b\b\b\b\b\b\b\b\b\b\b\b\b\b\b\b\b\b\b\b\b\b\b\b\b\r146/600 [======>.......................] - ETA: 0s - loss: 2.3977 - acc: 0.1003"
                ]
              },
              {
                "output_type": "stream",
                "name": "stdout",
                "text": [
                  "\b\b\b\b\b\b\b\b\b\b\b\b\b\b\b\b\b\b\b\b\b\b\b\b\b\b\b\b\b\b\b\b\b\b\b\b\b\b\b\b\b\b\b\b\b\b\b\b\b\b\b\b\b\b\b\b\b\b\b\b\b\b\b\b\b\b\b\b\b\b\b\b\b\b\b\b\b\b\b\r176/600 [=======>......................] - ETA: 0s - loss: 2.3977 - acc: 0.0994"
                ]
              },
              {
                "output_type": "stream",
                "name": "stdout",
                "text": [
                  "\b\b\b\b\b\b\b\b\b\b\b\b\b\b\b\b\b\b\b\b\b\b\b\b\b\b\b\b\b\b\b\b\b\b\b\b\b\b\b\b\b\b\b\b\b\b\b\b\b\b\b\b\b\b\b\b\b\b\b\b\b\b\b\b\b\b\b\b\b\b\b\b\b\b\b\b\b\b\b\r200/600 [=========>....................] - ETA: 0s - loss: 2.3977 - acc: 0.0993"
                ]
              },
              {
                "output_type": "stream",
                "name": "stdout",
                "text": [
                  "\b\b\b\b\b\b\b\b\b\b\b\b\b\b\b\b\b\b\b\b\b\b\b\b\b\b\b\b\b\b\b\b\b\b\b\b\b\b\b\b\b\b\b\b\b\b\b\b\b\b\b\b\b\b\b\b\b\b\b\b\b\b\b\b\b\b\b\b\b\b\b\b\b\b\b\b\b\b\b\r228/600 [==========>...................] - ETA: 0s - loss: 2.3977 - acc: 0.0989"
                ]
              },
              {
                "output_type": "stream",
                "name": "stdout",
                "text": [
                  "\b\b\b\b\b\b\b\b\b\b\b\b\b\b\b\b\b\b\b\b\b\b\b\b\b\b\b\b\b\b\b\b\b\b\b\b\b\b\b\b\b\b\b\b\b\b\b\b\b\b\b\b\b\b\b\b\b\b\b\b\b\b\b\b\b\b\b\b\b\b\b\b\b\b\b\b\b\b\b\r257/600 [===========>..................] - ETA: 0s - loss: 2.3977 - acc: 0.0988"
                ]
              },
              {
                "output_type": "stream",
                "name": "stdout",
                "text": [
                  "\b\b\b\b\b\b\b\b\b\b\b\b\b\b\b\b\b\b\b\b\b\b\b\b\b\b\b\b\b\b\b\b\b\b\b\b\b\b\b\b\b\b\b\b\b\b\b\b\b\b\b\b\b\b\b\b\b\b\b\b\b\b\b\b\b\b\b\b\b\b\b\b\b\b\b\b\b\b\b\r287/600 [=============>................] - ETA: 0s - loss: 2.3977 - acc: 0.0977"
                ]
              },
              {
                "output_type": "stream",
                "name": "stdout",
                "text": [
                  "\b\b\b\b\b\b\b\b\b\b\b\b\b\b\b\b\b\b\b\b\b\b\b\b\b\b\b\b\b\b\b\b\b\b\b\b\b\b\b\b\b\b\b\b\b\b\b\b\b\b\b\b\b\b\b\b\b\b\b\b\b\b\b\b\b\b\b\b\b\b\b\b\b\b\b\b\b\b\b\r317/600 [==============>...............] - ETA: 0s - loss: 2.3977 - acc: 0.0973"
                ]
              },
              {
                "output_type": "stream",
                "name": "stdout",
                "text": [
                  "\b\b\b\b\b\b\b\b\b\b\b\b\b\b\b\b\b\b\b\b\b\b\b\b\b\b\b\b\b\b\b\b\b\b\b\b\b\b\b\b\b\b\b\b\b\b\b\b\b\b\b\b\b\b\b\b\b\b\b\b\b\b\b\b\b\b\b\b\b\b\b\b\b\b\b\b\b\b\b\r346/600 [================>.............] - ETA: 0s - loss: 2.3977 - acc: 0.0974"
                ]
              },
              {
                "output_type": "stream",
                "name": "stdout",
                "text": [
                  "\b\b\b\b\b\b\b\b\b\b\b\b\b\b\b\b\b\b\b\b\b\b\b\b\b\b\b\b\b\b\b\b\b\b\b\b\b\b\b\b\b\b\b\b\b\b\b\b\b\b\b\b\b\b\b\b\b\b\b\b\b\b\b\b\b\b\b\b\b\b\b\b\b\b\b\b\b\b\b\r371/600 [=================>............] - ETA: 0s - loss: 2.3976 - acc: 0.0980"
                ]
              },
              {
                "output_type": "stream",
                "name": "stdout",
                "text": [
                  "\b\b\b\b\b\b\b\b\b\b\b\b\b\b\b\b\b\b\b\b\b\b\b\b\b\b\b\b\b\b\b\b\b\b\b\b\b\b\b\b\b\b\b\b\b\b\b\b\b\b\b\b\b\b\b\b\b\b\b\b\b\b\b\b\b\b\b\b\b\b\b\b\b\b\b\b\b\b\b\r397/600 [==================>...........] - ETA: 0s - loss: 2.3976 - acc: 0.0976"
                ]
              },
              {
                "output_type": "stream",
                "name": "stdout",
                "text": [
                  "\b\b\b\b\b\b\b\b\b\b\b\b\b\b\b\b\b\b\b\b\b\b\b\b\b\b\b\b\b\b\b\b\b\b\b\b\b\b\b\b\b\b\b\b\b\b\b\b\b\b\b\b\b\b\b\b\b\b\b\b\b\b\b\b\b\b\b\b\b\b\b\b\b\b\b\b\b\b\b\r423/600 [====================>.........] - ETA: 0s - loss: 2.3976 - acc: 0.0982"
                ]
              },
              {
                "output_type": "stream",
                "name": "stdout",
                "text": [
                  "\b\b\b\b\b\b\b\b\b\b\b\b\b\b\b\b\b\b\b\b\b\b\b\b\b\b\b\b\b\b\b\b\b\b\b\b\b\b\b\b\b\b\b\b\b\b\b\b\b\b\b\b\b\b\b\b\b\b\b\b\b\b\b\b\b\b\b\b\b\b\b\b\b\b\b\b\b\b\b\r447/600 [=====================>........] - ETA: 0s - loss: 2.3976 - acc: 0.0985"
                ]
              },
              {
                "output_type": "stream",
                "name": "stdout",
                "text": [
                  "\b\b\b\b\b\b\b\b\b\b\b\b\b\b\b\b\b\b\b\b\b\b\b\b\b\b\b\b\b\b\b\b\b\b\b\b\b\b\b\b\b\b\b\b\b\b\b\b\b\b\b\b\b\b\b\b\b\b\b\b\b\b\b\b\b\b\b\b\b\b\b\b\b\b\b\b\b\b\b\r475/600 [======================>.......] - ETA: 0s - loss: 2.3976 - acc: 0.0981"
                ]
              },
              {
                "output_type": "stream",
                "name": "stdout",
                "text": [
                  "\b\b\b\b\b\b\b\b\b\b\b\b\b\b\b\b\b\b\b\b\b\b\b\b\b\b\b\b\b\b\b\b\b\b\b\b\b\b\b\b\b\b\b\b\b\b\b\b\b\b\b\b\b\b\b\b\b\b\b\b\b\b\b\b\b\b\b\b\b\b\b\b\b\b\b\b\b\b\b\r503/600 [========================>.....] - ETA: 0s - loss: 2.3976 - acc: 0.0979"
                ]
              },
              {
                "output_type": "stream",
                "name": "stdout",
                "text": [
                  "\b\b\b\b\b\b\b\b\b\b\b\b\b\b\b\b\b\b\b\b\b\b\b\b\b\b\b\b\b\b\b\b\b\b\b\b\b\b\b\b\b\b\b\b\b\b\b\b\b\b\b\b\b\b\b\b\b\b\b\b\b\b\b\b\b\b\b\b\b\b\b\b\b\b\b\b\b\b\b\r530/600 [=========================>....] - ETA: 0s - loss: 2.3976 - acc: 0.0980"
                ]
              },
              {
                "output_type": "stream",
                "name": "stdout",
                "text": [
                  "\b\b\b\b\b\b\b\b\b\b\b\b\b\b\b\b\b\b\b\b\b\b\b\b\b\b\b\b\b\b\b\b\b\b\b\b\b\b\b\b\b\b\b\b\b\b\b\b\b\b\b\b\b\b\b\b\b\b\b\b\b\b\b\b\b\b\b\b\b\b\b\b\b\b\b\b\b\b\b\r555/600 [==========================>...] - ETA: 0s - loss: 2.3976 - acc: 0.0977"
                ]
              },
              {
                "output_type": "stream",
                "name": "stdout",
                "text": [
                  "\b\b\b\b\b\b\b\b\b\b\b\b\b\b\b\b\b\b\b\b\b\b\b\b\b\b\b\b\b\b\b\b\b\b\b\b\b\b\b\b\b\b\b\b\b\b\b\b\b\b\b\b\b\b\b\b\b\b\b\b\b\b\b\b\b\b\b\b\b\b\b\b\b\b\b\b\b\b\b\r584/600 [============================>.] - ETA: 0s - loss: 2.3976 - acc: 0.0978"
                ]
              },
              {
                "output_type": "stream",
                "name": "stdout",
                "text": [
                  "\b\b\b\b\b\b\b\b\b\b\b\b\b\b\b\b\b\b\b\b\b\b\b\b\b\b\b\b\b\b\b\b\b\b\b\b\b\b\b\b\b\b\b\b\b\b\b\b\b\b\b\b\b\b\b\b\b\b\b\b\b\b\b\b\b\b\b\b\b\b\b\b\b\b\b\b\b\b\b\r600/600 [==============================] - 1s 2ms/step - loss: 2.3976 - acc: 0.0976 - val_loss: 2.3972 - val_acc: 0.1000\n"
                ]
              },
              {
                "output_type": "stream",
                "name": "stdout",
                "text": [
                  "Epoch 3/20\n",
                  "\r  1/600 [..............................] - ETA: 3s - loss: 2.3969 - acc: 0.1100"
                ]
              },
              {
                "output_type": "stream",
                "name": "stdout",
                "text": [
                  "\b\b\b\b\b\b\b\b\b\b\b\b\b\b\b\b\b\b\b\b\b\b\b\b\b\b\b\b\b\b\b\b\b\b\b\b\b\b\b\b\b\b\b\b\b\b\b\b\b\b\b\b\b\b\b\b\b\b\b\b\b\b\b\b\b\b\b\b\b\b\b\b\b\b\b\b\b\b\b\r 31/600 [>.............................] - ETA: 0s - loss: 2.3972 - acc: 0.0958"
                ]
              },
              {
                "output_type": "stream",
                "name": "stdout",
                "text": [
                  "\b\b\b\b\b\b\b\b\b\b\b\b\b\b\b\b\b\b\b\b\b\b\b\b\b\b\b\b\b\b\b\b\b\b\b\b\b\b\b\b\b\b\b\b\b\b\b\b\b\b\b\b\b\b\b\b\b\b\b\b\b\b\b\b\b\b\b\b\b\b\b\b\b\b\b\b\b\b\b\r 62/600 [==>...........................] - ETA: 0s - loss: 2.3972 - acc: 0.0989"
                ]
              },
              {
                "output_type": "stream",
                "name": "stdout",
                "text": [
                  "\b\b\b\b\b\b\b\b\b\b\b\b\b\b\b\b\b\b\b\b\b\b\b\b\b\b\b\b\b\b\b\b\b\b\b\b\b\b\b\b\b\b\b\b\b\b\b\b\b\b\b\b\b\b\b\b\b\b\b\b\b\b\b\b\b\b\b\b\b\b\b\b\b\b\b\b\b\b\b\r 92/600 [===>..........................] - ETA: 0s - loss: 2.3972 - acc: 0.0999"
                ]
              },
              {
                "output_type": "stream",
                "name": "stdout",
                "text": [
                  "\b\b\b\b\b\b\b\b\b\b\b\b\b\b\b\b\b\b\b\b\b\b\b\b\b\b\b\b\b\b\b\b\b\b\b\b\b\b\b\b\b\b\b\b\b\b\b\b\b\b\b\b\b\b\b\b\b\b\b\b\b\b\b\b\b\b\b\b\b\b\b\b\b\b\b\b\b\b\b\r119/600 [====>.........................] - ETA: 0s - loss: 2.3972 - acc: 0.1003"
                ]
              },
              {
                "output_type": "stream",
                "name": "stdout",
                "text": [
                  "\b\b\b\b\b\b\b\b\b\b\b\b\b\b\b\b\b\b\b\b\b\b\b\b\b\b\b\b\b\b\b\b\b\b\b\b\b\b\b\b\b\b\b\b\b\b\b\b\b\b\b\b\b\b\b\b\b\b\b\b\b\b\b\b\b\b\b\b\b\b\b\b\b\b\b\b\b\b\b\r148/600 [======>.......................] - ETA: 0s - loss: 2.3972 - acc: 0.0996"
                ]
              },
              {
                "output_type": "stream",
                "name": "stdout",
                "text": [
                  "\b\b\b\b\b\b\b\b\b\b\b\b\b\b\b\b\b\b\b\b\b\b\b\b\b\b\b\b\b\b\b\b\b\b\b\b\b\b\b\b\b\b\b\b\b\b\b\b\b\b\b\b\b\b\b\b\b\b\b\b\b\b\b\b\b\b\b\b\b\b\b\b\b\b\b\b\b\b\b\r178/600 [=======>......................] - ETA: 0s - loss: 2.3972 - acc: 0.1002"
                ]
              },
              {
                "output_type": "stream",
                "name": "stdout",
                "text": [
                  "\b\b\b\b\b\b\b\b\b\b\b\b\b\b\b\b\b\b\b\b\b\b\b\b\b\b\b\b\b\b\b\b\b\b\b\b\b\b\b\b\b\b\b\b\b\b\b\b\b\b\b\b\b\b\b\b\b\b\b\b\b\b\b\b\b\b\b\b\b\b\b\b\b\b\b\b\b\b\b\r206/600 [=========>....................] - ETA: 0s - loss: 2.3972 - acc: 0.0998"
                ]
              },
              {
                "output_type": "stream",
                "name": "stdout",
                "text": [
                  "\b\b\b\b\b\b\b\b\b\b\b\b\b\b\b\b\b\b\b\b\b\b\b\b\b\b\b\b\b\b\b\b\b\b\b\b\b\b\b\b\b\b\b\b\b\b\b\b\b\b\b\b\b\b\b\b\b\b\b\b\b\b\b\b\b\b\b\b\b\b\b\b\b\b\b\b\b\b\b\r236/600 [==========>...................] - ETA: 0s - loss: 2.3972 - acc: 0.0994"
                ]
              },
              {
                "output_type": "stream",
                "name": "stdout",
                "text": [
                  "\b\b\b\b\b\b\b\b\b\b\b\b\b\b\b\b\b\b\b\b\b\b\b\b\b\b\b\b\b\b\b\b\b\b\b\b\b\b\b\b\b\b\b\b\b\b\b\b\b\b\b\b\b\b\b\b\b\b\b\b\b\b\b\b\b\b\b\b\b\b\b\b\b\b\b\b\b\b\b\r263/600 [============>.................] - ETA: 0s - loss: 2.3972 - acc: 0.1002"
                ]
              },
              {
                "output_type": "stream",
                "name": "stdout",
                "text": [
                  "\b\b\b\b\b\b\b\b\b\b\b\b\b\b\b\b\b\b\b\b\b\b\b\b\b\b\b\b\b\b\b\b\b\b\b\b\b\b\b\b\b\b\b\b\b\b\b\b\b\b\b\b\b\b\b\b\b\b\b\b\b\b\b\b\b\b\b\b\b\b\b\b\b\b\b\b\b\b\b\r294/600 [=============>................] - ETA: 0s - loss: 2.3971 - acc: 0.1000"
                ]
              },
              {
                "output_type": "stream",
                "name": "stdout",
                "text": [
                  "\b\b\b\b\b\b\b\b\b\b\b\b\b\b\b\b\b\b\b\b\b\b\b\b\b\b\b\b\b\b\b\b\b\b\b\b\b\b\b\b\b\b\b\b\b\b\b\b\b\b\b\b\b\b\b\b\b\b\b\b\b\b\b\b\b\b\b\b\b\b\b\b\b\b\b\b\b\b\b\r324/600 [===============>..............] - ETA: 0s - loss: 2.3971 - acc: 0.0992"
                ]
              },
              {
                "output_type": "stream",
                "name": "stdout",
                "text": [
                  "\b\b\b\b\b\b\b\b\b\b\b\b\b\b\b\b\b\b\b\b\b\b\b\b\b\b\b\b\b\b\b\b\b\b\b\b\b\b\b\b\b\b\b\b\b\b\b\b\b\b\b\b\b\b\b\b\b\b\b\b\b\b\b\b\b\b\b\b\b\b\b\b\b\b\b\b\b\b\b\r355/600 [================>.............] - ETA: 0s - loss: 2.3971 - acc: 0.0990"
                ]
              },
              {
                "output_type": "stream",
                "name": "stdout",
                "text": [
                  "\b\b\b\b\b\b\b\b\b\b\b\b\b\b\b\b\b\b\b\b\b\b\b\b\b\b\b\b\b\b\b\b\b\b\b\b\b\b\b\b\b\b\b\b\b\b\b\b\b\b\b\b\b\b\b\b\b\b\b\b\b\b\b\b\b\b\b\b\b\b\b\b\b\b\b\b\b\b\b\r384/600 [==================>...........] - ETA: 0s - loss: 2.3971 - acc: 0.0984"
                ]
              },
              {
                "output_type": "stream",
                "name": "stdout",
                "text": [
                  "\b\b\b\b\b\b\b\b\b\b\b\b\b\b\b\b\b\b\b\b\b\b\b\b\b\b\b\b\b\b\b\b\b\b\b\b\b\b\b\b\b\b\b\b\b\b\b\b\b\b\b\b\b\b\b\b\b\b\b\b\b\b\b\b\b\b\b\b\b\b\b\b\b\b\b\b\b\b\b\r413/600 [===================>..........] - ETA: 0s - loss: 2.3971 - acc: 0.0984"
                ]
              },
              {
                "output_type": "stream",
                "name": "stdout",
                "text": [
                  "\b\b\b\b\b\b\b\b\b\b\b\b\b\b\b\b\b\b\b\b\b\b\b\b\b\b\b\b\b\b\b\b\b\b\b\b\b\b\b\b\b\b\b\b\b\b\b\b\b\b\b\b\b\b\b\b\b\b\b\b\b\b\b\b\b\b\b\b\b\b\b\b\b\b\b\b\b\b\b\r439/600 [====================>.........] - ETA: 0s - loss: 2.3971 - acc: 0.0981"
                ]
              },
              {
                "output_type": "stream",
                "name": "stdout",
                "text": [
                  "\b\b\b\b\b\b\b\b\b\b\b\b\b\b\b\b\b\b\b\b\b\b\b\b\b\b\b\b\b\b\b\b\b\b\b\b\b\b\b\b\b\b\b\b\b\b\b\b\b\b\b\b\b\b\b\b\b\b\b\b\b\b\b\b\b\b\b\b\b\b\b\b\b\b\b\b\b\b\b\r467/600 [======================>.......] - ETA: 0s - loss: 2.3971 - acc: 0.0985"
                ]
              },
              {
                "output_type": "stream",
                "name": "stdout",
                "text": [
                  "\b\b\b\b\b\b\b\b\b\b\b\b\b\b\b\b\b\b\b\b\b\b\b\b\b\b\b\b\b\b\b\b\b\b\b\b\b\b\b\b\b\b\b\b\b\b\b\b\b\b\b\b\b\b\b\b\b\b\b\b\b\b\b\b\b\b\b\b\b\b\b\b\b\b\b\b\b\b\b\r493/600 [=======================>......] - ETA: 0s - loss: 2.3971 - acc: 0.0984"
                ]
              },
              {
                "output_type": "stream",
                "name": "stdout",
                "text": [
                  "\b\b\b\b\b\b\b\b\b\b\b\b\b\b\b\b\b\b\b\b\b\b\b\b\b\b\b\b\b\b\b\b\b\b\b\b\b\b\b\b\b\b\b\b\b\b\b\b\b\b\b\b\b\b\b\b\b\b\b\b\b\b\b\b\b\b\b\b\b\b\b\b\b\b\b\b\b\b\b\r522/600 [=========================>....] - ETA: 0s - loss: 2.3971 - acc: 0.0976"
                ]
              },
              {
                "output_type": "stream",
                "name": "stdout",
                "text": [
                  "\b\b\b\b\b\b\b\b\b\b\b\b\b\b\b\b\b\b\b\b\b\b\b\b\b\b\b\b\b\b\b\b\b\b\b\b\b\b\b\b\b\b\b\b\b\b\b\b\b\b\b\b\b\b\b\b\b\b\b\b\b\b\b\b\b\b\b\b\b\b\b\b\b\b\b\b\b\b\b\r551/600 [==========================>...] - ETA: 0s - loss: 2.3971 - acc: 0.0975"
                ]
              },
              {
                "output_type": "stream",
                "name": "stdout",
                "text": [
                  "\b\b\b\b\b\b\b\b\b\b\b\b\b\b\b\b\b\b\b\b\b\b\b\b\b\b\b\b\b\b\b\b\b\b\b\b\b\b\b\b\b\b\b\b\b\b\b\b\b\b\b\b\b\b\b\b\b\b\b\b\b\b\b\b\b\b\b\b\b\b\b\b\b\b\b\b\b\b\b\r577/600 [===========================>..] - ETA: 0s - loss: 2.3970 - acc: 0.0974"
                ]
              },
              {
                "output_type": "stream",
                "name": "stdout",
                "text": [
                  "\b\b\b\b\b\b\b\b\b\b\b\b\b\b\b\b\b\b\b\b\b\b\b\b\b\b\b\b\b\b\b\b\b\b\b\b\b\b\b\b\b\b\b\b\b\b\b\b\b\b\b\b\b\b\b\b\b\b\b\b\b\b\b\b\b\b\b\b\b\b\b\b\b\b\b\b\b\b\b\r600/600 [==============================] - 1s 2ms/step - loss: 2.3970 - acc: 0.0975 - val_loss: 2.3967 - val_acc: 0.1000\n"
                ]
              },
              {
                "output_type": "stream",
                "name": "stdout",
                "text": [
                  "Epoch 4/20\n",
                  "\r  1/600 [..............................] - ETA: 3s - loss: 2.3970 - acc: 0.0600"
                ]
              },
              {
                "output_type": "stream",
                "name": "stdout",
                "text": [
                  "\b\b\b\b\b\b\b\b\b\b\b\b\b\b\b\b\b\b\b\b\b\b\b\b\b\b\b\b\b\b\b\b\b\b\b\b\b\b\b\b\b\b\b\b\b\b\b\b\b\b\b\b\b\b\b\b\b\b\b\b\b\b\b\b\b\b\b\b\b\b\b\b\b\b\b\b\b\b\b\r 30/600 [>.............................] - ETA: 0s - loss: 2.3968 - acc: 0.0970"
                ]
              },
              {
                "output_type": "stream",
                "name": "stdout",
                "text": [
                  "\b\b\b\b\b\b\b\b\b\b\b\b\b\b\b\b\b\b\b\b\b\b\b\b\b\b\b\b\b\b\b\b\b\b\b\b\b\b\b\b\b\b\b\b\b\b\b\b\b\b\b\b\b\b\b\b\b\b\b\b\b\b\b\b\b\b\b\b\b\b\b\b\b\b\b\b\b\b\b\r 57/600 [=>............................] - ETA: 0s - loss: 2.3967 - acc: 0.0988"
                ]
              },
              {
                "output_type": "stream",
                "name": "stdout",
                "text": [
                  "\b\b\b\b\b\b\b\b\b\b\b\b\b\b\b\b\b\b\b\b\b\b\b\b\b\b\b\b\b\b\b\b\b\b\b\b\b\b\b\b\b\b\b\b\b\b\b\b\b\b\b\b\b\b\b\b\b\b\b\b\b\b\b\b\b\b\b\b\b\b\b\b\b\b\b\b\b\b\b\r 84/600 [===>..........................] - ETA: 0s - loss: 2.3967 - acc: 0.0983"
                ]
              },
              {
                "output_type": "stream",
                "name": "stdout",
                "text": [
                  "\b\b\b\b\b\b\b\b\b\b\b\b\b\b\b\b\b\b\b\b\b\b\b\b\b\b\b\b\b\b\b\b\b\b\b\b\b\b\b\b\b\b\b\b\b\b\b\b\b\b\b\b\b\b\b\b\b\b\b\b\b\b\b\b\b\b\b\b\b\b\b\b\b\b\b\b\b\b\b\r113/600 [====>.........................] - ETA: 0s - loss: 2.3967 - acc: 0.0980"
                ]
              },
              {
                "output_type": "stream",
                "name": "stdout",
                "text": [
                  "\b\b\b\b\b\b\b\b\b\b\b\b\b\b\b\b\b\b\b\b\b\b\b\b\b\b\b\b\b\b\b\b\b\b\b\b\b\b\b\b\b\b\b\b\b\b\b\b\b\b\b\b\b\b\b\b\b\b\b\b\b\b\b\b\b\b\b\b\b\b\b\b\b\b\b\b\b\b\b\r138/600 [=====>........................] - ETA: 0s - loss: 2.3967 - acc: 0.0977"
                ]
              },
              {
                "output_type": "stream",
                "name": "stdout",
                "text": [
                  "\b\b\b\b\b\b\b\b\b\b\b\b\b\b\b\b\b\b\b\b\b\b\b\b\b\b\b\b\b\b\b\b\b\b\b\b\b\b\b\b\b\b\b\b\b\b\b\b\b\b\b\b\b\b\b\b\b\b\b\b\b\b\b\b\b\b\b\b\b\b\b\b\b\b\b\b\b\b\b\r166/600 [=======>......................] - ETA: 0s - loss: 2.3967 - acc: 0.0981"
                ]
              },
              {
                "output_type": "stream",
                "name": "stdout",
                "text": [
                  "\b\b\b\b\b\b\b\b\b\b\b\b\b\b\b\b\b\b\b\b\b\b\b\b\b\b\b\b\b\b\b\b\b\b\b\b\b\b\b\b\b\b\b\b\b\b\b\b\b\b\b\b\b\b\b\b\b\b\b\b\b\b\b\b\b\b\b\b\b\b\b\b\b\b\b\b\b\b\b\r192/600 [========>.....................] - ETA: 0s - loss: 2.3967 - acc: 0.0980"
                ]
              },
              {
                "output_type": "stream",
                "name": "stdout",
                "text": [
                  "\b\b\b\b\b\b\b\b\b\b\b\b\b\b\b\b\b\b\b\b\b\b\b\b\b\b\b\b\b\b\b\b\b\b\b\b\b\b\b\b\b\b\b\b\b\b\b\b\b\b\b\b\b\b\b\b\b\b\b\b\b\b\b\b\b\b\b\b\b\b\b\b\b\b\b\b\b\b\b\r219/600 [=========>....................] - ETA: 0s - loss: 2.3967 - acc: 0.0975"
                ]
              },
              {
                "output_type": "stream",
                "name": "stdout",
                "text": [
                  "\b\b\b\b\b\b\b\b\b\b\b\b\b\b\b\b\b\b\b\b\b\b\b\b\b\b\b\b\b\b\b\b\b\b\b\b\b\b\b\b\b\b\b\b\b\b\b\b\b\b\b\b\b\b\b\b\b\b\b\b\b\b\b\b\b\b\b\b\b\b\b\b\b\b\b\b\b\b\b\r246/600 [===========>..................] - ETA: 0s - loss: 2.3967 - acc: 0.0980"
                ]
              },
              {
                "output_type": "stream",
                "name": "stdout",
                "text": [
                  "\b\b\b\b\b\b\b\b\b\b\b\b\b\b\b\b\b\b\b\b\b\b\b\b\b\b\b\b\b\b\b\b\b\b\b\b\b\b\b\b\b\b\b\b\b\b\b\b\b\b\b\b\b\b\b\b\b\b\b\b\b\b\b\b\b\b\b\b\b\b\b\b\b\b\b\b\b\b\b\r276/600 [============>.................] - ETA: 0s - loss: 2.3966 - acc: 0.0991"
                ]
              },
              {
                "output_type": "stream",
                "name": "stdout",
                "text": [
                  "\b\b\b\b\b\b\b\b\b\b\b\b\b\b\b\b\b\b\b\b\b\b\b\b\b\b\b\b\b\b\b\b\b\b\b\b\b\b\b\b\b\b\b\b\b\b\b\b\b\b\b\b\b\b\b\b\b\b\b\b\b\b\b\b\b\b\b\b\b\b\b\b\b\b\b\b\b\b\b\r306/600 [==============>...............] - ETA: 0s - loss: 2.3966 - acc: 0.0989"
                ]
              },
              {
                "output_type": "stream",
                "name": "stdout",
                "text": [
                  "\b\b\b\b\b\b\b\b\b\b\b\b\b\b\b\b\b\b\b\b\b\b\b\b\b\b\b\b\b\b\b\b\b\b\b\b\b\b\b\b\b\b\b\b\b\b\b\b\b\b\b\b\b\b\b\b\b\b\b\b\b\b\b\b\b\b\b\b\b\b\b\b\b\b\b\b\b\b\b\r335/600 [===============>..............] - ETA: 0s - loss: 2.3966 - acc: 0.0985"
                ]
              },
              {
                "output_type": "stream",
                "name": "stdout",
                "text": [
                  "\b\b\b\b\b\b\b\b\b\b\b\b\b\b\b\b\b\b\b\b\b\b\b\b\b\b\b\b\b\b\b\b\b\b\b\b\b\b\b\b\b\b\b\b\b\b\b\b\b\b\b\b\b\b\b\b\b\b\b\b\b\b\b\b\b\b\b\b\b\b\b\b\b\b\b\b\b\b\b\r362/600 [=================>............] - ETA: 0s - loss: 2.3966 - acc: 0.0975"
                ]
              },
              {
                "output_type": "stream",
                "name": "stdout",
                "text": [
                  "\b\b\b\b\b\b\b\b\b\b\b\b\b\b\b\b\b\b\b\b\b\b\b\b\b\b\b\b\b\b\b\b\b\b\b\b\b\b\b\b\b\b\b\b\b\b\b\b\b\b\b\b\b\b\b\b\b\b\b\b\b\b\b\b\b\b\b\b\b\b\b\b\b\b\b\b\b\b\b\r391/600 [==================>...........] - ETA: 0s - loss: 2.3966 - acc: 0.0970"
                ]
              },
              {
                "output_type": "stream",
                "name": "stdout",
                "text": [
                  "\b\b\b\b\b\b\b\b\b\b\b\b\b\b\b\b\b\b\b\b\b\b\b\b\b\b\b\b\b\b\b\b\b\b\b\b\b\b\b\b\b\b\b\b\b\b\b\b\b\b\b\b\b\b\b\b\b\b\b\b\b\b\b\b\b\b\b\b\b\b\b\b\b\b\b\b\b\b\b\r420/600 [====================>.........] - ETA: 0s - loss: 2.3966 - acc: 0.0970"
                ]
              },
              {
                "output_type": "stream",
                "name": "stdout",
                "text": [
                  "\b\b\b\b\b\b\b\b\b\b\b\b\b\b\b\b\b\b\b\b\b\b\b\b\b\b\b\b\b\b\b\b\b\b\b\b\b\b\b\b\b\b\b\b\b\b\b\b\b\b\b\b\b\b\b\b\b\b\b\b\b\b\b\b\b\b\b\b\b\b\b\b\b\b\b\b\b\b\b\r448/600 [=====================>........] - ETA: 0s - loss: 2.3966 - acc: 0.0964"
                ]
              },
              {
                "output_type": "stream",
                "name": "stdout",
                "text": [
                  "\b\b\b\b\b\b\b\b\b\b\b\b\b\b\b\b\b\b\b\b\b\b\b\b\b\b\b\b\b\b\b\b\b\b\b\b\b\b\b\b\b\b\b\b\b\b\b\b\b\b\b\b\b\b\b\b\b\b\b\b\b\b\b\b\b\b\b\b\b\b\b\b\b\b\b\b\b\b\b\r474/600 [======================>.......] - ETA: 0s - loss: 2.3966 - acc: 0.0965"
                ]
              },
              {
                "output_type": "stream",
                "name": "stdout",
                "text": [
                  "\b\b\b\b\b\b\b\b\b\b\b\b\b\b\b\b\b\b\b\b\b\b\b\b\b\b\b\b\b\b\b\b\b\b\b\b\b\b\b\b\b\b\b\b\b\b\b\b\b\b\b\b\b\b\b\b\b\b\b\b\b\b\b\b\b\b\b\b\b\b\b\b\b\b\b\b\b\b\b\r501/600 [========================>.....] - ETA: 0s - loss: 2.3966 - acc: 0.0961"
                ]
              },
              {
                "output_type": "stream",
                "name": "stdout",
                "text": [
                  "\b\b\b\b\b\b\b\b\b\b\b\b\b\b\b\b\b\b\b\b\b\b\b\b\b\b\b\b\b\b\b\b\b\b\b\b\b\b\b\b\b\b\b\b\b\b\b\b\b\b\b\b\b\b\b\b\b\b\b\b\b\b\b\b\b\b\b\b\b\b\b\b\b\b\b\b\b\b\b\r531/600 [=========================>....] - ETA: 0s - loss: 2.3966 - acc: 0.0959"
                ]
              },
              {
                "output_type": "stream",
                "name": "stdout",
                "text": [
                  "\b\b\b\b\b\b\b\b\b\b\b\b\b\b\b\b\b\b\b\b\b\b\b\b\b\b\b\b\b\b\b\b\b\b\b\b\b\b\b\b\b\b\b\b\b\b\b\b\b\b\b\b\b\b\b\b\b\b\b\b\b\b\b\b\b\b\b\b\b\b\b\b\b\b\b\b\b\b\b\r560/600 [===========================>..] - ETA: 0s - loss: 2.3965 - acc: 0.0956"
                ]
              },
              {
                "output_type": "stream",
                "name": "stdout",
                "text": [
                  "\b\b\b\b\b\b\b\b\b\b\b\b\b\b\b\b\b\b\b\b\b\b\b\b\b\b\b\b\b\b\b\b\b\b\b\b\b\b\b\b\b\b\b\b\b\b\b\b\b\b\b\b\b\b\b\b\b\b\b\b\b\b\b\b\b\b\b\b\b\b\b\b\b\b\b\b\b\b\b\r586/600 [============================>.] - ETA: 0s - loss: 2.3965 - acc: 0.0961"
                ]
              },
              {
                "output_type": "stream",
                "name": "stdout",
                "text": [
                  "\b\b\b\b\b\b\b\b\b\b\b\b\b\b\b\b\b\b\b\b\b\b\b\b\b\b\b\b\b\b\b\b\b\b\b\b\b\b\b\b\b\b\b\b\b\b\b\b\b\b\b\b\b\b\b\b\b\b\b\b\b\b\b\b\b\b\b\b\b\b\b\b\b\b\b\b\b\b\b\r600/600 [==============================] - 1s 2ms/step - loss: 2.3965 - acc: 0.0962 - val_loss: 2.3962 - val_acc: 0.1000\n"
                ]
              },
              {
                "output_type": "stream",
                "name": "stdout",
                "text": [
                  "Epoch 5/20\n",
                  "\r  1/600 [..............................] - ETA: 3s - loss: 2.3963 - acc: 0.0800"
                ]
              },
              {
                "output_type": "stream",
                "name": "stdout",
                "text": [
                  "\b\b\b\b\b\b\b\b\b\b\b\b\b\b\b\b\b\b\b\b\b\b\b\b\b\b\b\b\b\b\b\b\b\b\b\b\b\b\b\b\b\b\b\b\b\b\b\b\b\b\b\b\b\b\b\b\b\b\b\b\b\b\b\b\b\b\b\b\b\b\b\b\b\b\b\b\b\b\b\r 30/600 [>.............................] - ETA: 0s - loss: 2.3962 - acc: 0.1003"
                ]
              },
              {
                "output_type": "stream",
                "name": "stdout",
                "text": [
                  "\b\b\b\b\b\b\b\b\b\b\b\b\b\b\b\b\b\b\b\b\b\b\b\b\b\b\b\b\b\b\b\b\b\b\b\b\b\b\b\b\b\b\b\b\b\b\b\b\b\b\b\b\b\b\b\b\b\b\b\b\b\b\b\b\b\b\b\b\b\b\b\b\b\b\b\b\b\b\b\r 64/600 [==>...........................] - ETA: 0s - loss: 2.3962 - acc: 0.0997"
                ]
              },
              {
                "output_type": "stream",
                "name": "stdout",
                "text": [
                  "\b\b\b\b\b\b\b\b\b\b\b\b\b\b\b\b\b\b\b\b\b\b\b\b\b\b\b\b\b\b\b\b\b\b\b\b\b\b\b\b\b\b\b\b\b\b\b\b\b\b\b\b\b\b\b\b\b\b\b\b\b\b\b\b\b\b\b\b\b\b\b\b\b\b\b\b\b\b\b\r 94/600 [===>..........................] - ETA: 0s - loss: 2.3962 - acc: 0.0974"
                ]
              },
              {
                "output_type": "stream",
                "name": "stdout",
                "text": [
                  "\b\b\b\b\b\b\b\b\b\b\b\b\b\b\b\b\b\b\b\b\b\b\b\b\b\b\b\b\b\b\b\b\b\b\b\b\b\b\b\b\b\b\b\b\b\b\b\b\b\b\b\b\b\b\b\b\b\b\b\b\b\b\b\b\b\b\b\b\b\b\b\b\b\b\b\b\b\b\b\r126/600 [=====>........................] - ETA: 0s - loss: 2.3962 - acc: 0.0979"
                ]
              },
              {
                "output_type": "stream",
                "name": "stdout",
                "text": [
                  "\b\b\b\b\b\b\b\b\b\b\b\b\b\b\b\b\b\b\b\b\b\b\b\b\b\b\b\b\b\b\b\b\b\b\b\b\b\b\b\b\b\b\b\b\b\b\b\b\b\b\b\b\b\b\b\b\b\b\b\b\b\b\b\b\b\b\b\b\b\b\b\b\b\b\b\b\b\b\b\r159/600 [======>.......................] - ETA: 0s - loss: 2.3962 - acc: 0.0978"
                ]
              },
              {
                "output_type": "stream",
                "name": "stdout",
                "text": [
                  "\b\b\b\b\b\b\b\b\b\b\b\b\b\b\b\b\b\b\b\b\b\b\b\b\b\b\b\b\b\b\b\b\b\b\b\b\b\b\b\b\b\b\b\b\b\b\b\b\b\b\b\b\b\b\b\b\b\b\b\b\b\b\b\b\b\b\b\b\b\b\b\b\b\b\b\b\b\b\b\r188/600 [========>.....................] - ETA: 0s - loss: 2.3962 - acc: 0.0984"
                ]
              },
              {
                "output_type": "stream",
                "name": "stdout",
                "text": [
                  "\b\b\b\b\b\b\b\b\b\b\b\b\b\b\b\b\b\b\b\b\b\b\b\b\b\b\b\b\b\b\b\b\b\b\b\b\b\b\b\b\b\b\b\b\b\b\b\b\b\b\b\b\b\b\b\b\b\b\b\b\b\b\b\b\b\b\b\b\b\b\b\b\b\b\b\b\b\b\b\r217/600 [=========>....................] - ETA: 0s - loss: 2.3962 - acc: 0.0997"
                ]
              },
              {
                "output_type": "stream",
                "name": "stdout",
                "text": [
                  "\b\b\b\b\b\b\b\b\b\b\b\b\b\b\b\b\b\b\b\b\b\b\b\b\b\b\b\b\b\b\b\b\b\b\b\b\b\b\b\b\b\b\b\b\b\b\b\b\b\b\b\b\b\b\b\b\b\b\b\b\b\b\b\b\b\b\b\b\b\b\b\b\b\b\b\b\b\b\b\r244/600 [===========>..................] - ETA: 0s - loss: 2.3961 - acc: 0.0988"
                ]
              },
              {
                "output_type": "stream",
                "name": "stdout",
                "text": [
                  "\b\b\b\b\b\b\b\b\b\b\b\b\b\b\b\b\b\b\b\b\b\b\b\b\b\b\b\b\b\b\b\b\b\b\b\b\b\b\b\b\b\b\b\b\b\b\b\b\b\b\b\b\b\b\b\b\b\b\b\b\b\b\b\b\b\b\b\b\b\b\b\b\b\b\b\b\b\b\b\r273/600 [============>.................] - ETA: 0s - loss: 2.3961 - acc: 0.0984"
                ]
              },
              {
                "output_type": "stream",
                "name": "stdout",
                "text": [
                  "\b\b\b\b\b\b\b\b\b\b\b\b\b\b\b\b\b\b\b\b\b\b\b\b\b\b\b\b\b\b\b\b\b\b\b\b\b\b\b\b\b\b\b\b\b\b\b\b\b\b\b\b\b\b\b\b\b\b\b\b\b\b\b\b\b\b\b\b\b\b\b\b\b\b\b\b\b\b\b\r301/600 [==============>...............] - ETA: 0s - loss: 2.3961 - acc: 0.0985"
                ]
              },
              {
                "output_type": "stream",
                "name": "stdout",
                "text": [
                  "\b\b\b\b\b\b\b\b\b\b\b\b\b\b\b\b\b\b\b\b\b\b\b\b\b\b\b\b\b\b\b\b\b\b\b\b\b\b\b\b\b\b\b\b\b\b\b\b\b\b\b\b\b\b\b\b\b\b\b\b\b\b\b\b\b\b\b\b\b\b\b\b\b\b\b\b\b\b\b\r328/600 [===============>..............] - ETA: 0s - loss: 2.3961 - acc: 0.0984"
                ]
              },
              {
                "output_type": "stream",
                "name": "stdout",
                "text": [
                  "\b\b\b\b\b\b\b\b\b\b\b\b\b\b\b\b\b\b\b\b\b\b\b\b\b\b\b\b\b\b\b\b\b\b\b\b\b\b\b\b\b\b\b\b\b\b\b\b\b\b\b\b\b\b\b\b\b\b\b\b\b\b\b\b\b\b\b\b\b\b\b\b\b\b\b\b\b\b\b\r357/600 [================>.............] - ETA: 0s - loss: 2.3961 - acc: 0.0987"
                ]
              },
              {
                "output_type": "stream",
                "name": "stdout",
                "text": [
                  "\b\b\b\b\b\b\b\b\b\b\b\b\b\b\b\b\b\b\b\b\b\b\b\b\b\b\b\b\b\b\b\b\b\b\b\b\b\b\b\b\b\b\b\b\b\b\b\b\b\b\b\b\b\b\b\b\b\b\b\b\b\b\b\b\b\b\b\b\b\b\b\b\b\b\b\b\b\b\b\r387/600 [==================>...........] - ETA: 0s - loss: 2.3961 - acc: 0.0991"
                ]
              },
              {
                "output_type": "stream",
                "name": "stdout",
                "text": [
                  "\b\b\b\b\b\b\b\b\b\b\b\b\b\b\b\b\b\b\b\b\b\b\b\b\b\b\b\b\b\b\b\b\b\b\b\b\b\b\b\b\b\b\b\b\b\b\b\b\b\b\b\b\b\b\b\b\b\b\b\b\b\b\b\b\b\b\b\b\b\b\b\b\b\b\b\b\b\b\b\r414/600 [===================>..........] - ETA: 0s - loss: 2.3961 - acc: 0.0993"
                ]
              },
              {
                "output_type": "stream",
                "name": "stdout",
                "text": [
                  "\b\b\b\b\b\b\b\b\b\b\b\b\b\b\b\b\b\b\b\b\b\b\b\b\b\b\b\b\b\b\b\b\b\b\b\b\b\b\b\b\b\b\b\b\b\b\b\b\b\b\b\b\b\b\b\b\b\b\b\b\b\b\b\b\b\b\b\b\b\b\b\b\b\b\b\b\b\b\b\r442/600 [=====================>........] - ETA: 0s - loss: 2.3961 - acc: 0.0991"
                ]
              },
              {
                "output_type": "stream",
                "name": "stdout",
                "text": [
                  "\b\b\b\b\b\b\b\b\b\b\b\b\b\b\b\b\b\b\b\b\b\b\b\b\b\b\b\b\b\b\b\b\b\b\b\b\b\b\b\b\b\b\b\b\b\b\b\b\b\b\b\b\b\b\b\b\b\b\b\b\b\b\b\b\b\b\b\b\b\b\b\b\b\b\b\b\b\b\b\r471/600 [======================>.......] - ETA: 0s - loss: 2.3961 - acc: 0.0993"
                ]
              },
              {
                "output_type": "stream",
                "name": "stdout",
                "text": [
                  "\b\b\b\b\b\b\b\b\b\b\b\b\b\b\b\b\b\b\b\b\b\b\b\b\b\b\b\b\b\b\b\b\b\b\b\b\b\b\b\b\b\b\b\b\b\b\b\b\b\b\b\b\b\b\b\b\b\b\b\b\b\b\b\b\b\b\b\b\b\b\b\b\b\b\b\b\b\b\b\r500/600 [========================>.....] - ETA: 0s - loss: 2.3961 - acc: 0.0990"
                ]
              },
              {
                "output_type": "stream",
                "name": "stdout",
                "text": [
                  "\b\b\b\b\b\b\b\b\b\b\b\b\b\b\b\b\b\b\b\b\b\b\b\b\b\b\b\b\b\b\b\b\b\b\b\b\b\b\b\b\b\b\b\b\b\b\b\b\b\b\b\b\b\b\b\b\b\b\b\b\b\b\b\b\b\b\b\b\b\b\b\b\b\b\b\b\b\b\b\r530/600 [=========================>....] - ETA: 0s - loss: 2.3960 - acc: 0.0990"
                ]
              },
              {
                "output_type": "stream",
                "name": "stdout",
                "text": [
                  "\b\b\b\b\b\b\b\b\b\b\b\b\b\b\b\b\b\b\b\b\b\b\b\b\b\b\b\b\b\b\b\b\b\b\b\b\b\b\b\b\b\b\b\b\b\b\b\b\b\b\b\b\b\b\b\b\b\b\b\b\b\b\b\b\b\b\b\b\b\b\b\b\b\b\b\b\b\b\b\r561/600 [===========================>..] - ETA: 0s - loss: 2.3960 - acc: 0.0991"
                ]
              },
              {
                "output_type": "stream",
                "name": "stdout",
                "text": [
                  "\b\b\b\b\b\b\b\b\b\b\b\b\b\b\b\b\b\b\b\b\b\b\b\b\b\b\b\b\b\b\b\b\b\b\b\b\b\b\b\b\b\b\b\b\b\b\b\b\b\b\b\b\b\b\b\b\b\b\b\b\b\b\b\b\b\b\b\b\b\b\b\b\b\b\b\b\b\b\b\r588/600 [============================>.] - ETA: 0s - loss: 2.3960 - acc: 0.0988"
                ]
              },
              {
                "output_type": "stream",
                "name": "stdout",
                "text": [
                  "\b\b\b\b\b\b\b\b\b\b\b\b\b\b\b\b\b\b\b\b\b\b\b\b\b\b\b\b\b\b\b\b\b\b\b\b\b\b\b\b\b\b\b\b\b\b\b\b\b\b\b\b\b\b\b\b\b\b\b\b\b\b\b\b\b\b\b\b\b\b\b\b\b\b\b\b\b\b\b\r600/600 [==============================] - 1s 2ms/step - loss: 2.3960 - acc: 0.0990 - val_loss: 2.3957 - val_acc: 0.1000\n"
                ]
              },
              {
                "output_type": "stream",
                "name": "stdout",
                "text": [
                  "Epoch 6/20\n",
                  "\r  1/600 [..............................] - ETA: 3s - loss: 2.3959 - acc: 0.0800"
                ]
              },
              {
                "output_type": "stream",
                "name": "stdout",
                "text": [
                  "\b\b\b\b\b\b\b\b\b\b\b\b\b\b\b\b\b\b\b\b\b\b\b\b\b\b\b\b\b\b\b\b\b\b\b\b\b\b\b\b\b\b\b\b\b\b\b\b\b\b\b\b\b\b\b\b\b\b\b\b\b\b\b\b\b\b\b\b\b\b\b\b\b\b\b\b\b\b\b\r 31/600 [>.............................] - ETA: 0s - loss: 2.3956 - acc: 0.1139"
                ]
              },
              {
                "output_type": "stream",
                "name": "stdout",
                "text": [
                  "\b\b\b\b\b\b\b\b\b\b\b\b\b\b\b\b\b\b\b\b\b\b\b\b\b\b\b\b\b\b\b\b\b\b\b\b\b\b\b\b\b\b\b\b\b\b\b\b\b\b\b\b\b\b\b\b\b\b\b\b\b\b\b\b\b\b\b\b\b\b\b\b\b\b\b\b\b\b\b\r 57/600 [=>............................] - ETA: 0s - loss: 2.3956 - acc: 0.1061"
                ]
              },
              {
                "output_type": "stream",
                "name": "stdout",
                "text": [
                  "\b\b\b\b\b\b\b\b\b\b\b\b\b\b\b\b\b\b\b\b\b\b\b\b\b\b\b\b\b\b\b\b\b\b\b\b\b\b\b\b\b\b\b\b\b\b\b\b\b\b\b\b\b\b\b\b\b\b\b\b\b\b\b\b\b\b\b\b\b\b\b\b\b\b\b\b\b\b\b\r 83/600 [===>..........................] - ETA: 0s - loss: 2.3956 - acc: 0.1028"
                ]
              },
              {
                "output_type": "stream",
                "name": "stdout",
                "text": [
                  "\b\b\b\b\b\b\b\b\b\b\b\b\b\b\b\b\b\b\b\b\b\b\b\b\b\b\b\b\b\b\b\b\b\b\b\b\b\b\b\b\b\b\b\b\b\b\b\b\b\b\b\b\b\b\b\b\b\b\b\b\b\b\b\b\b\b\b\b\b\b\b\b\b\b\b\b\b\b\b\r108/600 [====>.........................] - ETA: 0s - loss: 2.3956 - acc: 0.1048"
                ]
              },
              {
                "output_type": "stream",
                "name": "stdout",
                "text": [
                  "\b\b\b\b\b\b\b\b\b\b\b\b\b\b\b\b\b\b\b\b\b\b\b\b\b\b\b\b\b\b\b\b\b\b\b\b\b\b\b\b\b\b\b\b\b\b\b\b\b\b\b\b\b\b\b\b\b\b\b\b\b\b\b\b\b\b\b\b\b\b\b\b\b\b\b\b\b\b\b\r132/600 [=====>........................] - ETA: 0s - loss: 2.3956 - acc: 0.1019"
                ]
              },
              {
                "output_type": "stream",
                "name": "stdout",
                "text": [
                  "\b\b\b\b\b\b\b\b\b\b\b\b\b\b\b\b\b\b\b\b\b\b\b\b\b\b\b\b\b\b\b\b\b\b\b\b\b\b\b\b\b\b\b\b\b\b\b\b\b\b\b\b\b\b\b\b\b\b\b\b\b\b\b\b\b\b\b\b\b\b\b\b\b\b\b\b\b\b\b\r159/600 [======>.......................] - ETA: 0s - loss: 2.3956 - acc: 0.1021"
                ]
              },
              {
                "output_type": "stream",
                "name": "stdout",
                "text": [
                  "\b\b\b\b\b\b\b\b\b\b\b\b\b\b\b\b\b\b\b\b\b\b\b\b\b\b\b\b\b\b\b\b\b\b\b\b\b\b\b\b\b\b\b\b\b\b\b\b\b\b\b\b\b\b\b\b\b\b\b\b\b\b\b\b\b\b\b\b\b\b\b\b\b\b\b\b\b\b\b\r187/600 [========>.....................] - ETA: 0s - loss: 2.3956 - acc: 0.1028"
                ]
              },
              {
                "output_type": "stream",
                "name": "stdout",
                "text": [
                  "\b\b\b\b\b\b\b\b\b\b\b\b\b\b\b\b\b\b\b\b\b\b\b\b\b\b\b\b\b\b\b\b\b\b\b\b\b\b\b\b\b\b\b\b\b\b\b\b\b\b\b\b\b\b\b\b\b\b\b\b\b\b\b\b\b\b\b\b\b\b\b\b\b\b\b\b\b\b\b\r216/600 [=========>....................] - ETA: 0s - loss: 2.3956 - acc: 0.1024"
                ]
              },
              {
                "output_type": "stream",
                "name": "stdout",
                "text": [
                  "\b\b\b\b\b\b\b\b\b\b\b\b\b\b\b\b\b\b\b\b\b\b\b\b\b\b\b\b\b\b\b\b\b\b\b\b\b\b\b\b\b\b\b\b\b\b\b\b\b\b\b\b\b\b\b\b\b\b\b\b\b\b\b\b\b\b\b\b\b\b\b\b\b\b\b\b\b\b\b\r241/600 [===========>..................] - ETA: 0s - loss: 2.3956 - acc: 0.1020"
                ]
              },
              {
                "output_type": "stream",
                "name": "stdout",
                "text": [
                  "\b\b\b\b\b\b\b\b\b\b\b\b\b\b\b\b\b\b\b\b\b\b\b\b\b\b\b\b\b\b\b\b\b\b\b\b\b\b\b\b\b\b\b\b\b\b\b\b\b\b\b\b\b\b\b\b\b\b\b\b\b\b\b\b\b\b\b\b\b\b\b\b\b\b\b\b\b\b\b\r270/600 [============>.................] - ETA: 0s - loss: 2.3956 - acc: 0.1017"
                ]
              },
              {
                "output_type": "stream",
                "name": "stdout",
                "text": [
                  "\b\b\b\b\b\b\b\b\b\b\b\b\b\b\b\b\b\b\b\b\b\b\b\b\b\b\b\b\b\b\b\b\b\b\b\b\b\b\b\b\b\b\b\b\b\b\b\b\b\b\b\b\b\b\b\b\b\b\b\b\b\b\b\b\b\b\b\b\b\b\b\b\b\b\b\b\b\b\b\r298/600 [=============>................] - ETA: 0s - loss: 2.3956 - acc: 0.1015"
                ]
              },
              {
                "output_type": "stream",
                "name": "stdout",
                "text": [
                  "\b\b\b\b\b\b\b\b\b\b\b\b\b\b\b\b\b\b\b\b\b\b\b\b\b\b\b\b\b\b\b\b\b\b\b\b\b\b\b\b\b\b\b\b\b\b\b\b\b\b\b\b\b\b\b\b\b\b\b\b\b\b\b\b\b\b\b\b\b\b\b\b\b\b\b\b\b\b\b\r329/600 [===============>..............] - ETA: 0s - loss: 2.3956 - acc: 0.1012"
                ]
              },
              {
                "output_type": "stream",
                "name": "stdout",
                "text": [
                  "\b\b\b\b\b\b\b\b\b\b\b\b\b\b\b\b\b\b\b\b\b\b\b\b\b\b\b\b\b\b\b\b\b\b\b\b\b\b\b\b\b\b\b\b\b\b\b\b\b\b\b\b\b\b\b\b\b\b\b\b\b\b\b\b\b\b\b\b\b\b\b\b\b\b\b\b\b\b\b\r361/600 [=================>............] - ETA: 0s - loss: 2.3956 - acc: 0.1006"
                ]
              },
              {
                "output_type": "stream",
                "name": "stdout",
                "text": [
                  "\b\b\b\b\b\b\b\b\b\b\b\b\b\b\b\b\b\b\b\b\b\b\b\b\b\b\b\b\b\b\b\b\b\b\b\b\b\b\b\b\b\b\b\b\b\b\b\b\b\b\b\b\b\b\b\b\b\b\b\b\b\b\b\b\b\b\b\b\b\b\b\b\b\b\b\b\b\b\b\r391/600 [==================>...........] - ETA: 0s - loss: 2.3956 - acc: 0.1004"
                ]
              },
              {
                "output_type": "stream",
                "name": "stdout",
                "text": [
                  "\b\b\b\b\b\b\b\b\b\b\b\b\b\b\b\b\b\b\b\b\b\b\b\b\b\b\b\b\b\b\b\b\b\b\b\b\b\b\b\b\b\b\b\b\b\b\b\b\b\b\b\b\b\b\b\b\b\b\b\b\b\b\b\b\b\b\b\b\b\b\b\b\b\b\b\b\b\b\b\r425/600 [====================>.........] - ETA: 0s - loss: 2.3956 - acc: 0.1004"
                ]
              },
              {
                "output_type": "stream",
                "name": "stdout",
                "text": [
                  "\b\b\b\b\b\b\b\b\b\b\b\b\b\b\b\b\b\b\b\b\b\b\b\b\b\b\b\b\b\b\b\b\b\b\b\b\b\b\b\b\b\b\b\b\b\b\b\b\b\b\b\b\b\b\b\b\b\b\b\b\b\b\b\b\b\b\b\b\b\b\b\b\b\b\b\b\b\b\b\r457/600 [=====================>........] - ETA: 0s - loss: 2.3956 - acc: 0.0996"
                ]
              },
              {
                "output_type": "stream",
                "name": "stdout",
                "text": [
                  "\b\b\b\b\b\b\b\b\b\b\b\b\b\b\b\b\b\b\b\b\b\b\b\b\b\b\b\b\b\b\b\b\b\b\b\b\b\b\b\b\b\b\b\b\b\b\b\b\b\b\b\b\b\b\b\b\b\b\b\b\b\b\b\b\b\b\b\b\b\b\b\b\b\b\b\b\b\b\b\r482/600 [=======================>......] - ETA: 0s - loss: 2.3955 - acc: 0.0999"
                ]
              },
              {
                "output_type": "stream",
                "name": "stdout",
                "text": [
                  "\b\b\b\b\b\b\b\b\b\b\b\b\b\b\b\b\b\b\b\b\b\b\b\b\b\b\b\b\b\b\b\b\b\b\b\b\b\b\b\b\b\b\b\b\b\b\b\b\b\b\b\b\b\b\b\b\b\b\b\b\b\b\b\b\b\b\b\b\b\b\b\b\b\b\b\b\b\b\b\r514/600 [========================>.....] - ETA: 0s - loss: 2.3955 - acc: 0.0995"
                ]
              },
              {
                "output_type": "stream",
                "name": "stdout",
                "text": [
                  "\b\b\b\b\b\b\b\b\b\b\b\b\b\b\b\b\b\b\b\b\b\b\b\b\b\b\b\b\b\b\b\b\b\b\b\b\b\b\b\b\b\b\b\b\b\b\b\b\b\b\b\b\b\b\b\b\b\b\b\b\b\b\b\b\b\b\b\b\b\b\b\b\b\b\b\b\b\b\b\r544/600 [==========================>...] - ETA: 0s - loss: 2.3955 - acc: 0.0993"
                ]
              },
              {
                "output_type": "stream",
                "name": "stdout",
                "text": [
                  "\b\b\b\b\b\b\b\b\b\b\b\b\b\b\b\b\b\b\b\b\b\b\b\b\b\b\b\b\b\b\b\b\b\b\b\b\b\b\b\b\b\b\b\b\b\b\b\b\b\b\b\b\b\b\b\b\b\b\b\b\b\b\b\b\b\b\b\b\b\b\b\b\b\b\b\b\b\b\b\r575/600 [===========================>..] - ETA: 0s - loss: 2.3955 - acc: 0.0989"
                ]
              },
              {
                "output_type": "stream",
                "name": "stdout",
                "text": [
                  "\b\b\b\b\b\b\b\b\b\b\b\b\b\b\b\b\b\b\b\b\b\b\b\b\b\b\b\b\b\b\b\b\b\b\b\b\b\b\b\b\b\b\b\b\b\b\b\b\b\b\b\b\b\b\b\b\b\b\b\b\b\b\b\b\b\b\b\b\b\b\b\b\b\b\b\b\b\b\b\r600/600 [==============================] - 1s 2ms/step - loss: 2.3955 - acc: 0.0986 - val_loss: 2.3952 - val_acc: 0.1000\n"
                ]
              },
              {
                "output_type": "stream",
                "name": "stdout",
                "text": [
                  "Epoch 7/20\n",
                  "\r  1/600 [..............................] - ETA: 2s - loss: 2.3952 - acc: 0.1200"
                ]
              },
              {
                "output_type": "stream",
                "name": "stdout",
                "text": [
                  "\b\b\b\b\b\b\b\b\b\b\b\b\b\b\b\b\b\b\b\b\b\b\b\b\b\b\b\b\b\b\b\b\b\b\b\b\b\b\b\b\b\b\b\b\b\b\b\b\b\b\b\b\b\b\b\b\b\b\b\b\b\b\b\b\b\b\b\b\b\b\b\b\b\b\b\b\b\b\b\r 32/600 [>.............................] - ETA: 0s - loss: 2.3952 - acc: 0.1084"
                ]
              },
              {
                "output_type": "stream",
                "name": "stdout",
                "text": [
                  "\b\b\b\b\b\b\b\b\b\b\b\b\b\b\b\b\b\b\b\b\b\b\b\b\b\b\b\b\b\b\b\b\b\b\b\b\b\b\b\b\b\b\b\b\b\b\b\b\b\b\b\b\b\b\b\b\b\b\b\b\b\b\b\b\b\b\b\b\b\b\b\b\b\b\b\b\b\b\b\r 63/600 [==>...........................] - ETA: 0s - loss: 2.3952 - acc: 0.1021"
                ]
              },
              {
                "output_type": "stream",
                "name": "stdout",
                "text": [
                  "\b\b\b\b\b\b\b\b\b\b\b\b\b\b\b\b\b\b\b\b\b\b\b\b\b\b\b\b\b\b\b\b\b\b\b\b\b\b\b\b\b\b\b\b\b\b\b\b\b\b\b\b\b\b\b\b\b\b\b\b\b\b\b\b\b\b\b\b\b\b\b\b\b\b\b\b\b\b\b\r 90/600 [===>..........................] - ETA: 0s - loss: 2.3952 - acc: 0.1017"
                ]
              },
              {
                "output_type": "stream",
                "name": "stdout",
                "text": [
                  "\b\b\b\b\b\b\b\b\b\b\b\b\b\b\b\b\b\b\b\b\b\b\b\b\b\b\b\b\b\b\b\b\b\b\b\b\b\b\b\b\b\b\b\b\b\b\b\b\b\b\b\b\b\b\b\b\b\b\b\b\b\b\b\b\b\b\b\b\b\b\b\b\b\b\b\b\b\b\b\r119/600 [====>.........................] - ETA: 0s - loss: 2.3952 - acc: 0.0994"
                ]
              },
              {
                "output_type": "stream",
                "name": "stdout",
                "text": [
                  "\b\b\b\b\b\b\b\b\b\b\b\b\b\b\b\b\b\b\b\b\b\b\b\b\b\b\b\b\b\b\b\b\b\b\b\b\b\b\b\b\b\b\b\b\b\b\b\b\b\b\b\b\b\b\b\b\b\b\b\b\b\b\b\b\b\b\b\b\b\b\b\b\b\b\b\b\b\b\b\r148/600 [======>.......................] - ETA: 0s - loss: 2.3952 - acc: 0.0982"
                ]
              },
              {
                "output_type": "stream",
                "name": "stdout",
                "text": [
                  "\b\b\b\b\b\b\b\b\b\b\b\b\b\b\b\b\b\b\b\b\b\b\b\b\b\b\b\b\b\b\b\b\b\b\b\b\b\b\b\b\b\b\b\b\b\b\b\b\b\b\b\b\b\b\b\b\b\b\b\b\b\b\b\b\b\b\b\b\b\b\b\b\b\b\b\b\b\b\b\r172/600 [=======>......................] - ETA: 0s - loss: 2.3952 - acc: 0.0990"
                ]
              },
              {
                "output_type": "stream",
                "name": "stdout",
                "text": [
                  "\b\b\b\b\b\b\b\b\b\b\b\b\b\b\b\b\b\b\b\b\b\b\b\b\b\b\b\b\b\b\b\b\b\b\b\b\b\b\b\b\b\b\b\b\b\b\b\b\b\b\b\b\b\b\b\b\b\b\b\b\b\b\b\b\b\b\b\b\b\b\b\b\b\b\b\b\b\b\b\r200/600 [=========>....................] - ETA: 0s - loss: 2.3952 - acc: 0.0996"
                ]
              },
              {
                "output_type": "stream",
                "name": "stdout",
                "text": [
                  "\b\b\b\b\b\b\b\b\b\b\b\b\b\b\b\b\b\b\b\b\b\b\b\b\b\b\b\b\b\b\b\b\b\b\b\b\b\b\b\b\b\b\b\b\b\b\b\b\b\b\b\b\b\b\b\b\b\b\b\b\b\b\b\b\b\b\b\b\b\b\b\b\b\b\b\b\b\b\b\r231/600 [==========>...................] - ETA: 0s - loss: 2.3951 - acc: 0.0984"
                ]
              },
              {
                "output_type": "stream",
                "name": "stdout",
                "text": [
                  "\b\b\b\b\b\b\b\b\b\b\b\b\b\b\b\b\b\b\b\b\b\b\b\b\b\b\b\b\b\b\b\b\b\b\b\b\b\b\b\b\b\b\b\b\b\b\b\b\b\b\b\b\b\b\b\b\b\b\b\b\b\b\b\b\b\b\b\b\b\b\b\b\b\b\b\b\b\b\b\r263/600 [============>.................] - ETA: 0s - loss: 2.3951 - acc: 0.0994"
                ]
              },
              {
                "output_type": "stream",
                "name": "stdout",
                "text": [
                  "\b\b\b\b\b\b\b\b\b\b\b\b\b\b\b\b\b\b\b\b\b\b\b\b\b\b\b\b\b\b\b\b\b\b\b\b\b\b\b\b\b\b\b\b\b\b\b\b\b\b\b\b\b\b\b\b\b\b\b\b\b\b\b\b\b\b\b\b\b\b\b\b\b\b\b\b\b\b\b\r293/600 [=============>................] - ETA: 0s - loss: 2.3951 - acc: 0.0988"
                ]
              },
              {
                "output_type": "stream",
                "name": "stdout",
                "text": [
                  "\b\b\b\b\b\b\b\b\b\b\b\b\b\b\b\b\b\b\b\b\b\b\b\b\b\b\b\b\b\b\b\b\b\b\b\b\b\b\b\b\b\b\b\b\b\b\b\b\b\b\b\b\b\b\b\b\b\b\b\b\b\b\b\b\b\b\b\b\b\b\b\b\b\b\b\b\b\b\b\r319/600 [==============>...............] - ETA: 0s - loss: 2.3951 - acc: 0.0983"
                ]
              },
              {
                "output_type": "stream",
                "name": "stdout",
                "text": [
                  "\b\b\b\b\b\b\b\b\b\b\b\b\b\b\b\b\b\b\b\b\b\b\b\b\b\b\b\b\b\b\b\b\b\b\b\b\b\b\b\b\b\b\b\b\b\b\b\b\b\b\b\b\b\b\b\b\b\b\b\b\b\b\b\b\b\b\b\b\b\b\b\b\b\b\b\b\b\b\b\r351/600 [================>.............] - ETA: 0s - loss: 2.3951 - acc: 0.0979"
                ]
              },
              {
                "output_type": "stream",
                "name": "stdout",
                "text": [
                  "\b\b\b\b\b\b\b\b\b\b\b\b\b\b\b\b\b\b\b\b\b\b\b\b\b\b\b\b\b\b\b\b\b\b\b\b\b\b\b\b\b\b\b\b\b\b\b\b\b\b\b\b\b\b\b\b\b\b\b\b\b\b\b\b\b\b\b\b\b\b\b\b\b\b\b\b\b\b\b\r384/600 [==================>...........] - ETA: 0s - loss: 2.3951 - acc: 0.0979"
                ]
              },
              {
                "output_type": "stream",
                "name": "stdout",
                "text": [
                  "\b\b\b\b\b\b\b\b\b\b\b\b\b\b\b\b\b\b\b\b\b\b\b\b\b\b\b\b\b\b\b\b\b\b\b\b\b\b\b\b\b\b\b\b\b\b\b\b\b\b\b\b\b\b\b\b\b\b\b\b\b\b\b\b\b\b\b\b\b\b\b\b\b\b\b\b\b\b\b\r412/600 [===================>..........] - ETA: 0s - loss: 2.3951 - acc: 0.0979"
                ]
              },
              {
                "output_type": "stream",
                "name": "stdout",
                "text": [
                  "\b\b\b\b\b\b\b\b\b\b\b\b\b\b\b\b\b\b\b\b\b\b\b\b\b\b\b\b\b\b\b\b\b\b\b\b\b\b\b\b\b\b\b\b\b\b\b\b\b\b\b\b\b\b\b\b\b\b\b\b\b\b\b\b\b\b\b\b\b\b\b\b\b\b\b\b\b\b\b\r445/600 [=====================>........] - ETA: 0s - loss: 2.3951 - acc: 0.0973"
                ]
              },
              {
                "output_type": "stream",
                "name": "stdout",
                "text": [
                  "\b\b\b\b\b\b\b\b\b\b\b\b\b\b\b\b\b\b\b\b\b\b\b\b\b\b\b\b\b\b\b\b\b\b\b\b\b\b\b\b\b\b\b\b\b\b\b\b\b\b\b\b\b\b\b\b\b\b\b\b\b\b\b\b\b\b\b\b\b\b\b\b\b\b\b\b\b\b\b\r474/600 [======================>.......] - ETA: 0s - loss: 2.3951 - acc: 0.0977"
                ]
              },
              {
                "output_type": "stream",
                "name": "stdout",
                "text": [
                  "\b\b\b\b\b\b\b\b\b\b\b\b\b\b\b\b\b\b\b\b\b\b\b\b\b\b\b\b\b\b\b\b\b\b\b\b\b\b\b\b\b\b\b\b\b\b\b\b\b\b\b\b\b\b\b\b\b\b\b\b\b\b\b\b\b\b\b\b\b\b\b\b\b\b\b\b\b\b\b\r507/600 [========================>.....] - ETA: 0s - loss: 2.3950 - acc: 0.0976"
                ]
              },
              {
                "output_type": "stream",
                "name": "stdout",
                "text": [
                  "\b\b\b\b\b\b\b\b\b\b\b\b\b\b\b\b\b\b\b\b\b\b\b\b\b\b\b\b\b\b\b\b\b\b\b\b\b\b\b\b\b\b\b\b\b\b\b\b\b\b\b\b\b\b\b\b\b\b\b\b\b\b\b\b\b\b\b\b\b\b\b\b\b\b\b\b\b\b\b\r537/600 [=========================>....] - ETA: 0s - loss: 2.3950 - acc: 0.0976"
                ]
              },
              {
                "output_type": "stream",
                "name": "stdout",
                "text": [
                  "\b\b\b\b\b\b\b\b\b\b\b\b\b\b\b\b\b\b\b\b\b\b\b\b\b\b\b\b\b\b\b\b\b\b\b\b\b\b\b\b\b\b\b\b\b\b\b\b\b\b\b\b\b\b\b\b\b\b\b\b\b\b\b\b\b\b\b\b\b\b\b\b\b\b\b\b\b\b\b\r567/600 [===========================>..] - ETA: 0s - loss: 2.3950 - acc: 0.0979"
                ]
              },
              {
                "output_type": "stream",
                "name": "stdout",
                "text": [
                  "\b\b\b\b\b\b\b\b\b\b\b\b\b\b\b\b\b\b\b\b\b\b\b\b\b\b\b\b\b\b\b\b\b\b\b\b\b\b\b\b\b\b\b\b\b\b\b\b\b\b\b\b\b\b\b\b\b\b\b\b\b\b\b\b\b\b\b\b\b\b\b\b\b\b\b\b\b\b\b\r597/600 [============================>.] - ETA: 0s - loss: 2.3950 - acc: 0.0974"
                ]
              },
              {
                "output_type": "stream",
                "name": "stdout",
                "text": [
                  "\b\b\b\b\b\b\b\b\b\b\b\b\b\b\b\b\b\b\b\b\b\b\b\b\b\b\b\b\b\b\b\b\b\b\b\b\b\b\b\b\b\b\b\b\b\b\b\b\b\b\b\b\b\b\b\b\b\b\b\b\b\b\b\b\b\b\b\b\b\b\b\b\b\b\b\b\b\b\b\r600/600 [==============================] - 1s 2ms/step - loss: 2.3950 - acc: 0.0975 - val_loss: 2.3947 - val_acc: 0.1000\n"
                ]
              },
              {
                "output_type": "stream",
                "name": "stdout",
                "text": [
                  "Epoch 8/20\n",
                  "\r  1/600 [..............................] - ETA: 1s - loss: 2.3946 - acc: 0.1000"
                ]
              },
              {
                "output_type": "stream",
                "name": "stdout",
                "text": [
                  "\b\b\b\b\b\b\b\b\b\b\b\b\b\b\b\b\b\b\b\b\b\b\b\b\b\b\b\b\b\b\b\b\b\b\b\b\b\b\b\b\b\b\b\b\b\b\b\b\b\b\b\b\b\b\b\b\b\b\b\b\b\b\b\b\b\b\b\b\b\b\b\b\b\b\b\b\b\b\b\r 30/600 [>.............................] - ETA: 0s - loss: 2.3947 - acc: 0.0967"
                ]
              },
              {
                "output_type": "stream",
                "name": "stdout",
                "text": [
                  "\b\b\b\b\b\b\b\b\b\b\b\b\b\b\b\b\b\b\b\b\b\b\b\b\b\b\b\b\b\b\b\b\b\b\b\b\b\b\b\b\b\b\b\b\b\b\b\b\b\b\b\b\b\b\b\b\b\b\b\b\b\b\b\b\b\b\b\b\b\b\b\b\b\b\b\b\b\b\b\r 60/600 [==>...........................] - ETA: 0s - loss: 2.3947 - acc: 0.0960"
                ]
              },
              {
                "output_type": "stream",
                "name": "stdout",
                "text": [
                  "\b\b\b\b\b\b\b\b\b\b\b\b\b\b\b\b\b\b\b\b\b\b\b\b\b\b\b\b\b\b\b\b\b\b\b\b\b\b\b\b\b\b\b\b\b\b\b\b\b\b\b\b\b\b\b\b\b\b\b\b\b\b\b\b\b\b\b\b\b\b\b\b\b\b\b\b\b\b\b\r 91/600 [===>..........................] - ETA: 0s - loss: 2.3947 - acc: 0.0965"
                ]
              },
              {
                "output_type": "stream",
                "name": "stdout",
                "text": [
                  "\b\b\b\b\b\b\b\b\b\b\b\b\b\b\b\b\b\b\b\b\b\b\b\b\b\b\b\b\b\b\b\b\b\b\b\b\b\b\b\b\b\b\b\b\b\b\b\b\b\b\b\b\b\b\b\b\b\b\b\b\b\b\b\b\b\b\b\b\b\b\b\b\b\b\b\b\b\b\b\r119/600 [====>.........................] - ETA: 0s - loss: 2.3947 - acc: 0.0978"
                ]
              },
              {
                "output_type": "stream",
                "name": "stdout",
                "text": [
                  "\b\b\b\b\b\b\b\b\b\b\b\b\b\b\b\b\b\b\b\b\b\b\b\b\b\b\b\b\b\b\b\b\b\b\b\b\b\b\b\b\b\b\b\b\b\b\b\b\b\b\b\b\b\b\b\b\b\b\b\b\b\b\b\b\b\b\b\b\b\b\b\b\b\b\b\b\b\b\b\r151/600 [======>.......................] - ETA: 0s - loss: 2.3947 - acc: 0.0976"
                ]
              },
              {
                "output_type": "stream",
                "name": "stdout",
                "text": [
                  "\b\b\b\b\b\b\b\b\b\b\b\b\b\b\b\b\b\b\b\b\b\b\b\b\b\b\b\b\b\b\b\b\b\b\b\b\b\b\b\b\b\b\b\b\b\b\b\b\b\b\b\b\b\b\b\b\b\b\b\b\b\b\b\b\b\b\b\b\b\b\b\b\b\b\b\b\b\b\b\r182/600 [========>.....................] - ETA: 0s - loss: 2.3947 - acc: 0.0970"
                ]
              },
              {
                "output_type": "stream",
                "name": "stdout",
                "text": [
                  "\b\b\b\b\b\b\b\b\b\b\b\b\b\b\b\b\b\b\b\b\b\b\b\b\b\b\b\b\b\b\b\b\b\b\b\b\b\b\b\b\b\b\b\b\b\b\b\b\b\b\b\b\b\b\b\b\b\b\b\b\b\b\b\b\b\b\b\b\b\b\b\b\b\b\b\b\b\b\b\r213/600 [=========>....................] - ETA: 0s - loss: 2.3947 - acc: 0.0969"
                ]
              },
              {
                "output_type": "stream",
                "name": "stdout",
                "text": [
                  "\b\b\b\b\b\b\b\b\b\b\b\b\b\b\b\b\b\b\b\b\b\b\b\b\b\b\b\b\b\b\b\b\b\b\b\b\b\b\b\b\b\b\b\b\b\b\b\b\b\b\b\b\b\b\b\b\b\b\b\b\b\b\b\b\b\b\b\b\b\b\b\b\b\b\b\b\b\b\b\r243/600 [===========>..................] - ETA: 0s - loss: 2.3946 - acc: 0.0977"
                ]
              },
              {
                "output_type": "stream",
                "name": "stdout",
                "text": [
                  "\b\b\b\b\b\b\b\b\b\b\b\b\b\b\b\b\b\b\b\b\b\b\b\b\b\b\b\b\b\b\b\b\b\b\b\b\b\b\b\b\b\b\b\b\b\b\b\b\b\b\b\b\b\b\b\b\b\b\b\b\b\b\b\b\b\b\b\b\b\b\b\b\b\b\b\b\b\b\b\r276/600 [============>.................] - ETA: 0s - loss: 2.3946 - acc: 0.0978"
                ]
              },
              {
                "output_type": "stream",
                "name": "stdout",
                "text": [
                  "\b\b\b\b\b\b\b\b\b\b\b\b\b\b\b\b\b\b\b\b\b\b\b\b\b\b\b\b\b\b\b\b\b\b\b\b\b\b\b\b\b\b\b\b\b\b\b\b\b\b\b\b\b\b\b\b\b\b\b\b\b\b\b\b\b\b\b\b\b\b\b\b\b\b\b\b\b\b\b\r301/600 [==============>...............] - ETA: 0s - loss: 2.3946 - acc: 0.0974"
                ]
              },
              {
                "output_type": "stream",
                "name": "stdout",
                "text": [
                  "\b\b\b\b\b\b\b\b\b\b\b\b\b\b\b\b\b\b\b\b\b\b\b\b\b\b\b\b\b\b\b\b\b\b\b\b\b\b\b\b\b\b\b\b\b\b\b\b\b\b\b\b\b\b\b\b\b\b\b\b\b\b\b\b\b\b\b\b\b\b\b\b\b\b\b\b\b\b\b\r330/600 [===============>..............] - ETA: 0s - loss: 2.3946 - acc: 0.0981"
                ]
              },
              {
                "output_type": "stream",
                "name": "stdout",
                "text": [
                  "\b\b\b\b\b\b\b\b\b\b\b\b\b\b\b\b\b\b\b\b\b\b\b\b\b\b\b\b\b\b\b\b\b\b\b\b\b\b\b\b\b\b\b\b\b\b\b\b\b\b\b\b\b\b\b\b\b\b\b\b\b\b\b\b\b\b\b\b\b\b\b\b\b\b\b\b\b\b\b\r354/600 [================>.............] - ETA: 0s - loss: 2.3946 - acc: 0.0973"
                ]
              },
              {
                "output_type": "stream",
                "name": "stdout",
                "text": [
                  "\b\b\b\b\b\b\b\b\b\b\b\b\b\b\b\b\b\b\b\b\b\b\b\b\b\b\b\b\b\b\b\b\b\b\b\b\b\b\b\b\b\b\b\b\b\b\b\b\b\b\b\b\b\b\b\b\b\b\b\b\b\b\b\b\b\b\b\b\b\b\b\b\b\b\b\b\b\b\b\r381/600 [==================>...........] - ETA: 0s - loss: 2.3946 - acc: 0.0978"
                ]
              },
              {
                "output_type": "stream",
                "name": "stdout",
                "text": [
                  "\b\b\b\b\b\b\b\b\b\b\b\b\b\b\b\b\b\b\b\b\b\b\b\b\b\b\b\b\b\b\b\b\b\b\b\b\b\b\b\b\b\b\b\b\b\b\b\b\b\b\b\b\b\b\b\b\b\b\b\b\b\b\b\b\b\b\b\b\b\b\b\b\b\b\b\b\b\b\b\r409/600 [===================>..........] - ETA: 0s - loss: 2.3946 - acc: 0.0978"
                ]
              },
              {
                "output_type": "stream",
                "name": "stdout",
                "text": [
                  "\b\b\b\b\b\b\b\b\b\b\b\b\b\b\b\b\b\b\b\b\b\b\b\b\b\b\b\b\b\b\b\b\b\b\b\b\b\b\b\b\b\b\b\b\b\b\b\b\b\b\b\b\b\b\b\b\b\b\b\b\b\b\b\b\b\b\b\b\b\b\b\b\b\b\b\b\b\b\b\r437/600 [====================>.........] - ETA: 0s - loss: 2.3946 - acc: 0.0974"
                ]
              },
              {
                "output_type": "stream",
                "name": "stdout",
                "text": [
                  "\b\b\b\b\b\b\b\b\b\b\b\b\b\b\b\b\b\b\b\b\b\b\b\b\b\b\b\b\b\b\b\b\b\b\b\b\b\b\b\b\b\b\b\b\b\b\b\b\b\b\b\b\b\b\b\b\b\b\b\b\b\b\b\b\b\b\b\b\b\b\b\b\b\b\b\b\b\b\b\r463/600 [======================>.......] - ETA: 0s - loss: 2.3946 - acc: 0.0970"
                ]
              },
              {
                "output_type": "stream",
                "name": "stdout",
                "text": [
                  "\b\b\b\b\b\b\b\b\b\b\b\b\b\b\b\b\b\b\b\b\b\b\b\b\b\b\b\b\b\b\b\b\b\b\b\b\b\b\b\b\b\b\b\b\b\b\b\b\b\b\b\b\b\b\b\b\b\b\b\b\b\b\b\b\b\b\b\b\b\b\b\b\b\b\b\b\b\b\b\r488/600 [=======================>......] - ETA: 0s - loss: 2.3946 - acc: 0.0970"
                ]
              },
              {
                "output_type": "stream",
                "name": "stdout",
                "text": [
                  "\b\b\b\b\b\b\b\b\b\b\b\b\b\b\b\b\b\b\b\b\b\b\b\b\b\b\b\b\b\b\b\b\b\b\b\b\b\b\b\b\b\b\b\b\b\b\b\b\b\b\b\b\b\b\b\b\b\b\b\b\b\b\b\b\b\b\b\b\b\b\b\b\b\b\b\b\b\b\b\r518/600 [========================>.....] - ETA: 0s - loss: 2.3945 - acc: 0.0971"
                ]
              },
              {
                "output_type": "stream",
                "name": "stdout",
                "text": [
                  "\b\b\b\b\b\b\b\b\b\b\b\b\b\b\b\b\b\b\b\b\b\b\b\b\b\b\b\b\b\b\b\b\b\b\b\b\b\b\b\b\b\b\b\b\b\b\b\b\b\b\b\b\b\b\b\b\b\b\b\b\b\b\b\b\b\b\b\b\b\b\b\b\b\b\b\b\b\b\b\r548/600 [==========================>...] - ETA: 0s - loss: 2.3945 - acc: 0.0970"
                ]
              },
              {
                "output_type": "stream",
                "name": "stdout",
                "text": [
                  "\b\b\b\b\b\b\b\b\b\b\b\b\b\b\b\b\b\b\b\b\b\b\b\b\b\b\b\b\b\b\b\b\b\b\b\b\b\b\b\b\b\b\b\b\b\b\b\b\b\b\b\b\b\b\b\b\b\b\b\b\b\b\b\b\b\b\b\b\b\b\b\b\b\b\b\b\b\b\b\r579/600 [===========================>..] - ETA: 0s - loss: 2.3945 - acc: 0.0965"
                ]
              },
              {
                "output_type": "stream",
                "name": "stdout",
                "text": [
                  "\b\b\b\b\b\b\b\b\b\b\b\b\b\b\b\b\b\b\b\b\b\b\b\b\b\b\b\b\b\b\b\b\b\b\b\b\b\b\b\b\b\b\b\b\b\b\b\b\b\b\b\b\b\b\b\b\b\b\b\b\b\b\b\b\b\b\b\b\b\b\b\b\b\b\b\b\b\b\b\r600/600 [==============================] - 1s 2ms/step - loss: 2.3945 - acc: 0.0965 - val_loss: 2.3942 - val_acc: 0.1000\n"
                ]
              },
              {
                "output_type": "stream",
                "name": "stdout",
                "text": [
                  "Epoch 9/20\n",
                  "\r  1/600 [..............................] - ETA: 1s - loss: 2.3944 - acc: 0.0600"
                ]
              },
              {
                "output_type": "stream",
                "name": "stdout",
                "text": [
                  "\b\b\b\b\b\b\b\b\b\b\b\b\b\b\b\b\b\b\b\b\b\b\b\b\b\b\b\b\b\b\b\b\b\b\b\b\b\b\b\b\b\b\b\b\b\b\b\b\b\b\b\b\b\b\b\b\b\b\b\b\b\b\b\b\b\b\b\b\b\b\b\b\b\b\b\b\b\b\b\r 33/600 [>.............................] - ETA: 0s - loss: 2.3942 - acc: 0.1055"
                ]
              },
              {
                "output_type": "stream",
                "name": "stdout",
                "text": [
                  "\b\b\b\b\b\b\b\b\b\b\b\b\b\b\b\b\b\b\b\b\b\b\b\b\b\b\b\b\b\b\b\b\b\b\b\b\b\b\b\b\b\b\b\b\b\b\b\b\b\b\b\b\b\b\b\b\b\b\b\b\b\b\b\b\b\b\b\b\b\b\b\b\b\b\b\b\b\b\b\r 63/600 [==>...........................] - ETA: 0s - loss: 2.3942 - acc: 0.1002"
                ]
              },
              {
                "output_type": "stream",
                "name": "stdout",
                "text": [
                  "\b\b\b\b\b\b\b\b\b\b\b\b\b\b\b\b\b\b\b\b\b\b\b\b\b\b\b\b\b\b\b\b\b\b\b\b\b\b\b\b\b\b\b\b\b\b\b\b\b\b\b\b\b\b\b\b\b\b\b\b\b\b\b\b\b\b\b\b\b\b\b\b\b\b\b\b\b\b\b\r 93/600 [===>..........................] - ETA: 0s - loss: 2.3942 - acc: 0.1001"
                ]
              },
              {
                "output_type": "stream",
                "name": "stdout",
                "text": [
                  "\b\b\b\b\b\b\b\b\b\b\b\b\b\b\b\b\b\b\b\b\b\b\b\b\b\b\b\b\b\b\b\b\b\b\b\b\b\b\b\b\b\b\b\b\b\b\b\b\b\b\b\b\b\b\b\b\b\b\b\b\b\b\b\b\b\b\b\b\b\b\b\b\b\b\b\b\b\b\b\r123/600 [=====>........................] - ETA: 0s - loss: 2.3942 - acc: 0.0985"
                ]
              },
              {
                "output_type": "stream",
                "name": "stdout",
                "text": [
                  "\b\b\b\b\b\b\b\b\b\b\b\b\b\b\b\b\b\b\b\b\b\b\b\b\b\b\b\b\b\b\b\b\b\b\b\b\b\b\b\b\b\b\b\b\b\b\b\b\b\b\b\b\b\b\b\b\b\b\b\b\b\b\b\b\b\b\b\b\b\b\b\b\b\b\b\b\b\b\b\r153/600 [======>.......................] - ETA: 0s - loss: 2.3942 - acc: 0.0994"
                ]
              },
              {
                "output_type": "stream",
                "name": "stdout",
                "text": [
                  "\b\b\b\b\b\b\b\b\b\b\b\b\b\b\b\b\b\b\b\b\b\b\b\b\b\b\b\b\b\b\b\b\b\b\b\b\b\b\b\b\b\b\b\b\b\b\b\b\b\b\b\b\b\b\b\b\b\b\b\b\b\b\b\b\b\b\b\b\b\b\b\b\b\b\b\b\b\b\b\r183/600 [========>.....................] - ETA: 0s - loss: 2.3941 - acc: 0.0981"
                ]
              },
              {
                "output_type": "stream",
                "name": "stdout",
                "text": [
                  "\b\b\b\b\b\b\b\b\b\b\b\b\b\b\b\b\b\b\b\b\b\b\b\b\b\b\b\b\b\b\b\b\b\b\b\b\b\b\b\b\b\b\b\b\b\b\b\b\b\b\b\b\b\b\b\b\b\b\b\b\b\b\b\b\b\b\b\b\b\b\b\b\b\b\b\b\b\b\b\r209/600 [=========>....................] - ETA: 0s - loss: 2.3941 - acc: 0.0978"
                ]
              },
              {
                "output_type": "stream",
                "name": "stdout",
                "text": [
                  "\b\b\b\b\b\b\b\b\b\b\b\b\b\b\b\b\b\b\b\b\b\b\b\b\b\b\b\b\b\b\b\b\b\b\b\b\b\b\b\b\b\b\b\b\b\b\b\b\b\b\b\b\b\b\b\b\b\b\b\b\b\b\b\b\b\b\b\b\b\b\b\b\b\b\b\b\b\b\b\r238/600 [==========>...................] - ETA: 0s - loss: 2.3941 - acc: 0.0970"
                ]
              },
              {
                "output_type": "stream",
                "name": "stdout",
                "text": [
                  "\b\b\b\b\b\b\b\b\b\b\b\b\b\b\b\b\b\b\b\b\b\b\b\b\b\b\b\b\b\b\b\b\b\b\b\b\b\b\b\b\b\b\b\b\b\b\b\b\b\b\b\b\b\b\b\b\b\b\b\b\b\b\b\b\b\b\b\b\b\b\b\b\b\b\b\b\b\b\b\r269/600 [============>.................] - ETA: 0s - loss: 2.3941 - acc: 0.0983"
                ]
              },
              {
                "output_type": "stream",
                "name": "stdout",
                "text": [
                  "\b\b\b\b\b\b\b\b\b\b\b\b\b\b\b\b\b\b\b\b\b\b\b\b\b\b\b\b\b\b\b\b\b\b\b\b\b\b\b\b\b\b\b\b\b\b\b\b\b\b\b\b\b\b\b\b\b\b\b\b\b\b\b\b\b\b\b\b\b\b\b\b\b\b\b\b\b\b\b\r299/600 [=============>................] - ETA: 0s - loss: 2.3941 - acc: 0.0980"
                ]
              },
              {
                "output_type": "stream",
                "name": "stdout",
                "text": [
                  "\b\b\b\b\b\b\b\b\b\b\b\b\b\b\b\b\b\b\b\b\b\b\b\b\b\b\b\b\b\b\b\b\b\b\b\b\b\b\b\b\b\b\b\b\b\b\b\b\b\b\b\b\b\b\b\b\b\b\b\b\b\b\b\b\b\b\b\b\b\b\b\b\b\b\b\b\b\b\b\r330/600 [===============>..............] - ETA: 0s - loss: 2.3941 - acc: 0.0989"
                ]
              },
              {
                "output_type": "stream",
                "name": "stdout",
                "text": [
                  "\b\b\b\b\b\b\b\b\b\b\b\b\b\b\b\b\b\b\b\b\b\b\b\b\b\b\b\b\b\b\b\b\b\b\b\b\b\b\b\b\b\b\b\b\b\b\b\b\b\b\b\b\b\b\b\b\b\b\b\b\b\b\b\b\b\b\b\b\b\b\b\b\b\b\b\b\b\b\b\r360/600 [=================>............] - ETA: 0s - loss: 2.3941 - acc: 0.0991"
                ]
              },
              {
                "output_type": "stream",
                "name": "stdout",
                "text": [
                  "\b\b\b\b\b\b\b\b\b\b\b\b\b\b\b\b\b\b\b\b\b\b\b\b\b\b\b\b\b\b\b\b\b\b\b\b\b\b\b\b\b\b\b\b\b\b\b\b\b\b\b\b\b\b\b\b\b\b\b\b\b\b\b\b\b\b\b\b\b\b\b\b\b\b\b\b\b\b\b\r388/600 [==================>...........] - ETA: 0s - loss: 2.3941 - acc: 0.0991"
                ]
              },
              {
                "output_type": "stream",
                "name": "stdout",
                "text": [
                  "\b\b\b\b\b\b\b\b\b\b\b\b\b\b\b\b\b\b\b\b\b\b\b\b\b\b\b\b\b\b\b\b\b\b\b\b\b\b\b\b\b\b\b\b\b\b\b\b\b\b\b\b\b\b\b\b\b\b\b\b\b\b\b\b\b\b\b\b\b\b\b\b\b\b\b\b\b\b\b\r420/600 [====================>.........] - ETA: 0s - loss: 2.3941 - acc: 0.0987"
                ]
              },
              {
                "output_type": "stream",
                "name": "stdout",
                "text": [
                  "\b\b\b\b\b\b\b\b\b\b\b\b\b\b\b\b\b\b\b\b\b\b\b\b\b\b\b\b\b\b\b\b\b\b\b\b\b\b\b\b\b\b\b\b\b\b\b\b\b\b\b\b\b\b\b\b\b\b\b\b\b\b\b\b\b\b\b\b\b\b\b\b\b\b\b\b\b\b\b\r452/600 [=====================>........] - ETA: 0s - loss: 2.3941 - acc: 0.0986"
                ]
              },
              {
                "output_type": "stream",
                "name": "stdout",
                "text": [
                  "\b\b\b\b\b\b\b\b\b\b\b\b\b\b\b\b\b\b\b\b\b\b\b\b\b\b\b\b\b\b\b\b\b\b\b\b\b\b\b\b\b\b\b\b\b\b\b\b\b\b\b\b\b\b\b\b\b\b\b\b\b\b\b\b\b\b\b\b\b\b\b\b\b\b\b\b\b\b\b\r484/600 [=======================>......] - ETA: 0s - loss: 2.3941 - acc: 0.0989"
                ]
              },
              {
                "output_type": "stream",
                "name": "stdout",
                "text": [
                  "\b\b\b\b\b\b\b\b\b\b\b\b\b\b\b\b\b\b\b\b\b\b\b\b\b\b\b\b\b\b\b\b\b\b\b\b\b\b\b\b\b\b\b\b\b\b\b\b\b\b\b\b\b\b\b\b\b\b\b\b\b\b\b\b\b\b\b\b\b\b\b\b\b\b\b\b\b\b\b\r514/600 [========================>.....] - ETA: 0s - loss: 2.3940 - acc: 0.0988"
                ]
              },
              {
                "output_type": "stream",
                "name": "stdout",
                "text": [
                  "\b\b\b\b\b\b\b\b\b\b\b\b\b\b\b\b\b\b\b\b\b\b\b\b\b\b\b\b\b\b\b\b\b\b\b\b\b\b\b\b\b\b\b\b\b\b\b\b\b\b\b\b\b\b\b\b\b\b\b\b\b\b\b\b\b\b\b\b\b\b\b\b\b\b\b\b\b\b\b\r545/600 [==========================>...] - ETA: 0s - loss: 2.3940 - acc: 0.0985"
                ]
              },
              {
                "output_type": "stream",
                "name": "stdout",
                "text": [
                  "\b\b\b\b\b\b\b\b\b\b\b\b\b\b\b\b\b\b\b\b\b\b\b\b\b\b\b\b\b\b\b\b\b\b\b\b\b\b\b\b\b\b\b\b\b\b\b\b\b\b\b\b\b\b\b\b\b\b\b\b\b\b\b\b\b\b\b\b\b\b\b\b\b\b\b\b\b\b\b\r577/600 [===========================>..] - ETA: 0s - loss: 2.3940 - acc: 0.0983"
                ]
              },
              {
                "output_type": "stream",
                "name": "stdout",
                "text": [
                  "\b\b\b\b\b\b\b\b\b\b\b\b\b\b\b\b\b\b\b\b\b\b\b\b\b\b\b\b\b\b\b\b\b\b\b\b\b\b\b\b\b\b\b\b\b\b\b\b\b\b\b\b\b\b\b\b\b\b\b\b\b\b\b\b\b\b\b\b\b\b\b\b\b\b\b\b\b\b\b\r600/600 [==============================] - 1s 2ms/step - loss: 2.3940 - acc: 0.0983 - val_loss: 2.3937 - val_acc: 0.1000\n"
                ]
              },
              {
                "output_type": "stream",
                "name": "stdout",
                "text": [
                  "Epoch 10/20\n"
                ]
              },
              {
                "output_type": "stream",
                "name": "stdout",
                "text": [
                  "\r  1/600 [..............................] - ETA: 3s - loss: 2.3937 - acc: 0.0800"
                ]
              },
              {
                "output_type": "stream",
                "name": "stdout",
                "text": [
                  "\b\b\b\b\b\b\b\b\b\b\b\b\b\b\b\b\b\b\b\b\b\b\b\b\b\b\b\b\b\b\b\b\b\b\b\b\b\b\b\b\b\b\b\b\b\b\b\b\b\b\b\b\b\b\b\b\b\b\b\b\b\b\b\b\b\b\b\b\b\b\b\b\b\b\b\b\b\b\b\r 29/600 [>.............................] - ETA: 1s - loss: 2.3937 - acc: 0.0993"
                ]
              },
              {
                "output_type": "stream",
                "name": "stdout",
                "text": [
                  "\b\b\b\b\b\b\b\b\b\b\b\b\b\b\b\b\b\b\b\b\b\b\b\b\b\b\b\b\b\b\b\b\b\b\b\b\b\b\b\b\b\b\b\b\b\b\b\b\b\b\b\b\b\b\b\b\b\b\b\b\b\b\b\b\b\b\b\b\b\b\b\b\b\b\b\b\b\b\b\r 54/600 [=>............................] - ETA: 1s - loss: 2.3937 - acc: 0.0991"
                ]
              },
              {
                "output_type": "stream",
                "name": "stdout",
                "text": [
                  "\b\b\b\b\b\b\b\b\b\b\b\b\b\b\b\b\b\b\b\b\b\b\b\b\b\b\b\b\b\b\b\b\b\b\b\b\b\b\b\b\b\b\b\b\b\b\b\b\b\b\b\b\b\b\b\b\b\b\b\b\b\b\b\b\b\b\b\b\b\b\b\b\b\b\b\b\b\b\b\r 81/600 [===>..........................] - ETA: 0s - loss: 2.3937 - acc: 0.0984"
                ]
              },
              {
                "output_type": "stream",
                "name": "stdout",
                "text": [
                  "\b\b\b\b\b\b\b\b\b\b\b\b\b\b\b\b\b\b\b\b\b\b\b\b\b\b\b\b\b\b\b\b\b\b\b\b\b\b\b\b\b\b\b\b\b\b\b\b\b\b\b\b\b\b\b\b\b\b\b\b\b\b\b\b\b\b\b\b\b\b\b\b\b\b\b\b\b\b\b\r108/600 [====>.........................] - ETA: 0s - loss: 2.3937 - acc: 0.0983"
                ]
              },
              {
                "output_type": "stream",
                "name": "stdout",
                "text": [
                  "\b\b\b\b\b\b\b\b\b\b\b\b\b\b\b\b\b\b\b\b\b\b\b\b\b\b\b\b\b\b\b\b\b\b\b\b\b\b\b\b\b\b\b\b\b\b\b\b\b\b\b\b\b\b\b\b\b\b\b\b\b\b\b\b\b\b\b\b\b\b\b\b\b\b\b\b\b\b\b\r139/600 [=====>........................] - ETA: 0s - loss: 2.3937 - acc: 0.1000"
                ]
              },
              {
                "output_type": "stream",
                "name": "stdout",
                "text": [
                  "\b\b\b\b\b\b\b\b\b\b\b\b\b\b\b\b\b\b\b\b\b\b\b\b\b\b\b\b\b\b\b\b\b\b\b\b\b\b\b\b\b\b\b\b\b\b\b\b\b\b\b\b\b\b\b\b\b\b\b\b\b\b\b\b\b\b\b\b\b\b\b\b\b\b\b\b\b\b\b\r170/600 [=======>......................] - ETA: 0s - loss: 2.3937 - acc: 0.1004"
                ]
              },
              {
                "output_type": "stream",
                "name": "stdout",
                "text": [
                  "\b\b\b\b\b\b\b\b\b\b\b\b\b\b\b\b\b\b\b\b\b\b\b\b\b\b\b\b\b\b\b\b\b\b\b\b\b\b\b\b\b\b\b\b\b\b\b\b\b\b\b\b\b\b\b\b\b\b\b\b\b\b\b\b\b\b\b\b\b\b\b\b\b\b\b\b\b\b\b\r197/600 [========>.....................] - ETA: 0s - loss: 2.3937 - acc: 0.0994"
                ]
              },
              {
                "output_type": "stream",
                "name": "stdout",
                "text": [
                  "\b\b\b\b\b\b\b\b\b\b\b\b\b\b\b\b\b\b\b\b\b\b\b\b\b\b\b\b\b\b\b\b\b\b\b\b\b\b\b\b\b\b\b\b\b\b\b\b\b\b\b\b\b\b\b\b\b\b\b\b\b\b\b\b\b\b\b\b\b\b\b\b\b\b\b\b\b\b\b\r227/600 [==========>...................] - ETA: 0s - loss: 2.3936 - acc: 0.1000"
                ]
              },
              {
                "output_type": "stream",
                "name": "stdout",
                "text": [
                  "\b\b\b\b\b\b\b\b\b\b\b\b\b\b\b\b\b\b\b\b\b\b\b\b\b\b\b\b\b\b\b\b\b\b\b\b\b\b\b\b\b\b\b\b\b\b\b\b\b\b\b\b\b\b\b\b\b\b\b\b\b\b\b\b\b\b\b\b\b\b\b\b\b\b\b\b\b\b\b\r260/600 [============>.................] - ETA: 0s - loss: 2.3936 - acc: 0.0986"
                ]
              },
              {
                "output_type": "stream",
                "name": "stdout",
                "text": [
                  "\b\b\b\b\b\b\b\b\b\b\b\b\b\b\b\b\b\b\b\b\b\b\b\b\b\b\b\b\b\b\b\b\b\b\b\b\b\b\b\b\b\b\b\b\b\b\b\b\b\b\b\b\b\b\b\b\b\b\b\b\b\b\b\b\b\b\b\b\b\b\b\b\b\b\b\b\b\b\b\r290/600 [=============>................] - ETA: 0s - loss: 2.3936 - acc: 0.0990"
                ]
              },
              {
                "output_type": "stream",
                "name": "stdout",
                "text": [
                  "\b\b\b\b\b\b\b\b\b\b\b\b\b\b\b\b\b\b\b\b\b\b\b\b\b\b\b\b\b\b\b\b\b\b\b\b\b\b\b\b\b\b\b\b\b\b\b\b\b\b\b\b\b\b\b\b\b\b\b\b\b\b\b\b\b\b\b\b\b\b\b\b\b\b\b\b\b\b\b\r323/600 [===============>..............] - ETA: 0s - loss: 2.3936 - acc: 0.0987"
                ]
              },
              {
                "output_type": "stream",
                "name": "stdout",
                "text": [
                  "\b\b\b\b\b\b\b\b\b\b\b\b\b\b\b\b\b\b\b\b\b\b\b\b\b\b\b\b\b\b\b\b\b\b\b\b\b\b\b\b\b\b\b\b\b\b\b\b\b\b\b\b\b\b\b\b\b\b\b\b\b\b\b\b\b\b\b\b\b\b\b\b\b\b\b\b\b\b\b\r355/600 [================>.............] - ETA: 0s - loss: 2.3936 - acc: 0.0988"
                ]
              },
              {
                "output_type": "stream",
                "name": "stdout",
                "text": [
                  "\b\b\b\b\b\b\b\b\b\b\b\b\b\b\b\b\b\b\b\b\b\b\b\b\b\b\b\b\b\b\b\b\b\b\b\b\b\b\b\b\b\b\b\b\b\b\b\b\b\b\b\b\b\b\b\b\b\b\b\b\b\b\b\b\b\b\b\b\b\b\b\b\b\b\b\b\b\b\b\r387/600 [==================>...........] - ETA: 0s - loss: 2.3936 - acc: 0.0988"
                ]
              },
              {
                "output_type": "stream",
                "name": "stdout",
                "text": [
                  "\b\b\b\b\b\b\b\b\b\b\b\b\b\b\b\b\b\b\b\b\b\b\b\b\b\b\b\b\b\b\b\b\b\b\b\b\b\b\b\b\b\b\b\b\b\b\b\b\b\b\b\b\b\b\b\b\b\b\b\b\b\b\b\b\b\b\b\b\b\b\b\b\b\b\b\b\b\b\b\r417/600 [===================>..........] - ETA: 0s - loss: 2.3936 - acc: 0.0987"
                ]
              },
              {
                "output_type": "stream",
                "name": "stdout",
                "text": [
                  "\b\b\b\b\b\b\b\b\b\b\b\b\b\b\b\b\b\b\b\b\b\b\b\b\b\b\b\b\b\b\b\b\b\b\b\b\b\b\b\b\b\b\b\b\b\b\b\b\b\b\b\b\b\b\b\b\b\b\b\b\b\b\b\b\b\b\b\b\b\b\b\b\b\b\b\b\b\b\b\r449/600 [=====================>........] - ETA: 0s - loss: 2.3936 - acc: 0.0985"
                ]
              },
              {
                "output_type": "stream",
                "name": "stdout",
                "text": [
                  "\b\b\b\b\b\b\b\b\b\b\b\b\b\b\b\b\b\b\b\b\b\b\b\b\b\b\b\b\b\b\b\b\b\b\b\b\b\b\b\b\b\b\b\b\b\b\b\b\b\b\b\b\b\b\b\b\b\b\b\b\b\b\b\b\b\b\b\b\b\b\b\b\b\b\b\b\b\b\b\r482/600 [=======================>......] - ETA: 0s - loss: 2.3936 - acc: 0.0983"
                ]
              },
              {
                "output_type": "stream",
                "name": "stdout",
                "text": [
                  "\b\b\b\b\b\b\b\b\b\b\b\b\b\b\b\b\b\b\b\b\b\b\b\b\b\b\b\b\b\b\b\b\b\b\b\b\b\b\b\b\b\b\b\b\b\b\b\b\b\b\b\b\b\b\b\b\b\b\b\b\b\b\b\b\b\b\b\b\b\b\b\b\b\b\b\b\b\b\b\r515/600 [========================>.....] - ETA: 0s - loss: 2.3935 - acc: 0.0982"
                ]
              },
              {
                "output_type": "stream",
                "name": "stdout",
                "text": [
                  "\b\b\b\b\b\b\b\b\b\b\b\b\b\b\b\b\b\b\b\b\b\b\b\b\b\b\b\b\b\b\b\b\b\b\b\b\b\b\b\b\b\b\b\b\b\b\b\b\b\b\b\b\b\b\b\b\b\b\b\b\b\b\b\b\b\b\b\b\b\b\b\b\b\b\b\b\b\b\b\r548/600 [==========================>...] - ETA: 0s - loss: 2.3935 - acc: 0.0984"
                ]
              },
              {
                "output_type": "stream",
                "name": "stdout",
                "text": [
                  "\b\b\b\b\b\b\b\b\b\b\b\b\b\b\b\b\b\b\b\b\b\b\b\b\b\b\b\b\b\b\b\b\b\b\b\b\b\b\b\b\b\b\b\b\b\b\b\b\b\b\b\b\b\b\b\b\b\b\b\b\b\b\b\b\b\b\b\b\b\b\b\b\b\b\b\b\b\b\b\r579/600 [===========================>..] - ETA: 0s - loss: 2.3935 - acc: 0.0982"
                ]
              },
              {
                "output_type": "stream",
                "name": "stdout",
                "text": [
                  "\b\b\b\b\b\b\b\b\b\b\b\b\b\b\b\b\b\b\b\b\b\b\b\b\b\b\b\b\b\b\b\b\b\b\b\b\b\b\b\b\b\b\b\b\b\b\b\b\b\b\b\b\b\b\b\b\b\b\b\b\b\b\b\b\b\b\b\b\b\b\b\b\b\b\b\b\b\b\b\r600/600 [==============================] - 1s 2ms/step - loss: 2.3935 - acc: 0.0981 - val_loss: 2.3932 - val_acc: 0.1000\n"
                ]
              },
              {
                "output_type": "stream",
                "name": "stdout",
                "text": [
                  "Epoch 11/20\n",
                  "\r  1/600 [..............................] - ETA: 1s - loss: 2.3933 - acc: 0.1400"
                ]
              },
              {
                "output_type": "stream",
                "name": "stdout",
                "text": [
                  "\b\b\b\b\b\b\b\b\b\b\b\b\b\b\b\b\b\b\b\b\b\b\b\b\b\b\b\b\b\b\b\b\b\b\b\b\b\b\b\b\b\b\b\b\b\b\b\b\b\b\b\b\b\b\b\b\b\b\b\b\b\b\b\b\b\b\b\b\b\b\b\b\b\b\b\b\b\b\b\r 33/600 [>.............................] - ETA: 0s - loss: 2.3932 - acc: 0.1021"
                ]
              },
              {
                "output_type": "stream",
                "name": "stdout",
                "text": [
                  "\b\b\b\b\b\b\b\b\b\b\b\b\b\b\b\b\b\b\b\b\b\b\b\b\b\b\b\b\b\b\b\b\b\b\b\b\b\b\b\b\b\b\b\b\b\b\b\b\b\b\b\b\b\b\b\b\b\b\b\b\b\b\b\b\b\b\b\b\b\b\b\b\b\b\b\b\b\b\b\r 60/600 [==>...........................] - ETA: 0s - loss: 2.3932 - acc: 0.0993"
                ]
              },
              {
                "output_type": "stream",
                "name": "stdout",
                "text": [
                  "\b\b\b\b\b\b\b\b\b\b\b\b\b\b\b\b\b\b\b\b\b\b\b\b\b\b\b\b\b\b\b\b\b\b\b\b\b\b\b\b\b\b\b\b\b\b\b\b\b\b\b\b\b\b\b\b\b\b\b\b\b\b\b\b\b\b\b\b\b\b\b\b\b\b\b\b\b\b\b\r 92/600 [===>..........................] - ETA: 0s - loss: 2.3932 - acc: 0.0997"
                ]
              },
              {
                "output_type": "stream",
                "name": "stdout",
                "text": [
                  "\b\b\b\b\b\b\b\b\b\b\b\b\b\b\b\b\b\b\b\b\b\b\b\b\b\b\b\b\b\b\b\b\b\b\b\b\b\b\b\b\b\b\b\b\b\b\b\b\b\b\b\b\b\b\b\b\b\b\b\b\b\b\b\b\b\b\b\b\b\b\b\b\b\b\b\b\b\b\b\r122/600 [=====>........................] - ETA: 0s - loss: 2.3932 - acc: 0.1006"
                ]
              },
              {
                "output_type": "stream",
                "name": "stdout",
                "text": [
                  "\b\b\b\b\b\b\b\b\b\b\b\b\b\b\b\b\b\b\b\b\b\b\b\b\b\b\b\b\b\b\b\b\b\b\b\b\b\b\b\b\b\b\b\b\b\b\b\b\b\b\b\b\b\b\b\b\b\b\b\b\b\b\b\b\b\b\b\b\b\b\b\b\b\b\b\b\b\b\b\r149/600 [======>.......................] - ETA: 0s - loss: 2.3932 - acc: 0.1021"
                ]
              },
              {
                "output_type": "stream",
                "name": "stdout",
                "text": [
                  "\b\b\b\b\b\b\b\b\b\b\b\b\b\b\b\b\b\b\b\b\b\b\b\b\b\b\b\b\b\b\b\b\b\b\b\b\b\b\b\b\b\b\b\b\b\b\b\b\b\b\b\b\b\b\b\b\b\b\b\b\b\b\b\b\b\b\b\b\b\b\b\b\b\b\b\b\b\b\b\r179/600 [=======>......................] - ETA: 0s - loss: 2.3932 - acc: 0.1031"
                ]
              },
              {
                "output_type": "stream",
                "name": "stdout",
                "text": [
                  "\b\b\b\b\b\b\b\b\b\b\b\b\b\b\b\b\b\b\b\b\b\b\b\b\b\b\b\b\b\b\b\b\b\b\b\b\b\b\b\b\b\b\b\b\b\b\b\b\b\b\b\b\b\b\b\b\b\b\b\b\b\b\b\b\b\b\b\b\b\b\b\b\b\b\b\b\b\b\b\r205/600 [=========>....................] - ETA: 0s - loss: 2.3931 - acc: 0.1028"
                ]
              },
              {
                "output_type": "stream",
                "name": "stdout",
                "text": [
                  "\b\b\b\b\b\b\b\b\b\b\b\b\b\b\b\b\b\b\b\b\b\b\b\b\b\b\b\b\b\b\b\b\b\b\b\b\b\b\b\b\b\b\b\b\b\b\b\b\b\b\b\b\b\b\b\b\b\b\b\b\b\b\b\b\b\b\b\b\b\b\b\b\b\b\b\b\b\b\b\r231/600 [==========>...................] - ETA: 0s - loss: 2.3931 - acc: 0.1026"
                ]
              },
              {
                "output_type": "stream",
                "name": "stdout",
                "text": [
                  "\b\b\b\b\b\b\b\b\b\b\b\b\b\b\b\b\b\b\b\b\b\b\b\b\b\b\b\b\b\b\b\b\b\b\b\b\b\b\b\b\b\b\b\b\b\b\b\b\b\b\b\b\b\b\b\b\b\b\b\b\b\b\b\b\b\b\b\b\b\b\b\b\b\b\b\b\b\b\b\r261/600 [============>.................] - ETA: 0s - loss: 2.3931 - acc: 0.1030"
                ]
              },
              {
                "output_type": "stream",
                "name": "stdout",
                "text": [
                  "\b\b\b\b\b\b\b\b\b\b\b\b\b\b\b\b\b\b\b\b\b\b\b\b\b\b\b\b\b\b\b\b\b\b\b\b\b\b\b\b\b\b\b\b\b\b\b\b\b\b\b\b\b\b\b\b\b\b\b\b\b\b\b\b\b\b\b\b\b\b\b\b\b\b\b\b\b\b\b\r290/600 [=============>................] - ETA: 0s - loss: 2.3931 - acc: 0.1022"
                ]
              },
              {
                "output_type": "stream",
                "name": "stdout",
                "text": [
                  "\b\b\b\b\b\b\b\b\b\b\b\b\b\b\b\b\b\b\b\b\b\b\b\b\b\b\b\b\b\b\b\b\b\b\b\b\b\b\b\b\b\b\b\b\b\b\b\b\b\b\b\b\b\b\b\b\b\b\b\b\b\b\b\b\b\b\b\b\b\b\b\b\b\b\b\b\b\b\b\r321/600 [===============>..............] - ETA: 0s - loss: 2.3931 - acc: 0.1020"
                ]
              },
              {
                "output_type": "stream",
                "name": "stdout",
                "text": [
                  "\b\b\b\b\b\b\b\b\b\b\b\b\b\b\b\b\b\b\b\b\b\b\b\b\b\b\b\b\b\b\b\b\b\b\b\b\b\b\b\b\b\b\b\b\b\b\b\b\b\b\b\b\b\b\b\b\b\b\b\b\b\b\b\b\b\b\b\b\b\b\b\b\b\b\b\b\b\b\b\r349/600 [================>.............] - ETA: 0s - loss: 2.3931 - acc: 0.1017"
                ]
              },
              {
                "output_type": "stream",
                "name": "stdout",
                "text": [
                  "\b\b\b\b\b\b\b\b\b\b\b\b\b\b\b\b\b\b\b\b\b\b\b\b\b\b\b\b\b\b\b\b\b\b\b\b\b\b\b\b\b\b\b\b\b\b\b\b\b\b\b\b\b\b\b\b\b\b\b\b\b\b\b\b\b\b\b\b\b\b\b\b\b\b\b\b\b\b\b\r378/600 [=================>............] - ETA: 0s - loss: 2.3931 - acc: 0.1013"
                ]
              },
              {
                "output_type": "stream",
                "name": "stdout",
                "text": [
                  "\b\b\b\b\b\b\b\b\b\b\b\b\b\b\b\b\b\b\b\b\b\b\b\b\b\b\b\b\b\b\b\b\b\b\b\b\b\b\b\b\b\b\b\b\b\b\b\b\b\b\b\b\b\b\b\b\b\b\b\b\b\b\b\b\b\b\b\b\b\b\b\b\b\b\b\b\b\b\b\r409/600 [===================>..........] - ETA: 0s - loss: 2.3931 - acc: 0.1014"
                ]
              },
              {
                "output_type": "stream",
                "name": "stdout",
                "text": [
                  "\b\b\b\b\b\b\b\b\b\b\b\b\b\b\b\b\b\b\b\b\b\b\b\b\b\b\b\b\b\b\b\b\b\b\b\b\b\b\b\b\b\b\b\b\b\b\b\b\b\b\b\b\b\b\b\b\b\b\b\b\b\b\b\b\b\b\b\b\b\b\b\b\b\b\b\b\b\b\b\r439/600 [====================>.........] - ETA: 0s - loss: 2.3931 - acc: 0.1010"
                ]
              },
              {
                "output_type": "stream",
                "name": "stdout",
                "text": [
                  "\b\b\b\b\b\b\b\b\b\b\b\b\b\b\b\b\b\b\b\b\b\b\b\b\b\b\b\b\b\b\b\b\b\b\b\b\b\b\b\b\b\b\b\b\b\b\b\b\b\b\b\b\b\b\b\b\b\b\b\b\b\b\b\b\b\b\b\b\b\b\b\b\b\b\b\b\b\b\b\r465/600 [======================>.......] - ETA: 0s - loss: 2.3931 - acc: 0.1005"
                ]
              },
              {
                "output_type": "stream",
                "name": "stdout",
                "text": [
                  "\b\b\b\b\b\b\b\b\b\b\b\b\b\b\b\b\b\b\b\b\b\b\b\b\b\b\b\b\b\b\b\b\b\b\b\b\b\b\b\b\b\b\b\b\b\b\b\b\b\b\b\b\b\b\b\b\b\b\b\b\b\b\b\b\b\b\b\b\b\b\b\b\b\b\b\b\b\b\b\r497/600 [=======================>......] - ETA: 0s - loss: 2.3931 - acc: 0.0998"
                ]
              },
              {
                "output_type": "stream",
                "name": "stdout",
                "text": [
                  "\b\b\b\b\b\b\b\b\b\b\b\b\b\b\b\b\b\b\b\b\b\b\b\b\b\b\b\b\b\b\b\b\b\b\b\b\b\b\b\b\b\b\b\b\b\b\b\b\b\b\b\b\b\b\b\b\b\b\b\b\b\b\b\b\b\b\b\b\b\b\b\b\b\b\b\b\b\b\b\r530/600 [=========================>....] - ETA: 0s - loss: 2.3931 - acc: 0.0994"
                ]
              },
              {
                "output_type": "stream",
                "name": "stdout",
                "text": [
                  "\b\b\b\b\b\b\b\b\b\b\b\b\b\b\b\b\b\b\b\b\b\b\b\b\b\b\b\b\b\b\b\b\b\b\b\b\b\b\b\b\b\b\b\b\b\b\b\b\b\b\b\b\b\b\b\b\b\b\b\b\b\b\b\b\b\b\b\b\b\b\b\b\b\b\b\b\b\b\b\r563/600 [===========================>..] - ETA: 0s - loss: 2.3930 - acc: 0.0990"
                ]
              },
              {
                "output_type": "stream",
                "name": "stdout",
                "text": [
                  "\b\b\b\b\b\b\b\b\b\b\b\b\b\b\b\b\b\b\b\b\b\b\b\b\b\b\b\b\b\b\b\b\b\b\b\b\b\b\b\b\b\b\b\b\b\b\b\b\b\b\b\b\b\b\b\b\b\b\b\b\b\b\b\b\b\b\b\b\b\b\b\b\b\b\b\b\b\b\b\r592/600 [============================>.] - ETA: 0s - loss: 2.3930 - acc: 0.0985"
                ]
              },
              {
                "output_type": "stream",
                "name": "stdout",
                "text": [
                  "\b\b\b\b\b\b\b\b\b\b\b\b\b\b\b\b\b\b\b\b\b\b\b\b\b\b\b\b\b\b\b\b\b\b\b\b\b\b\b\b\b\b\b\b\b\b\b\b\b\b\b\b\b\b\b\b\b\b\b\b\b\b\b\b\b\b\b\b\b\b\b\b\b\b\b\b\b\b\b\r600/600 [==============================] - 1s 2ms/step - loss: 2.3930 - acc: 0.0985 - val_loss: 2.3927 - val_acc: 0.1000\n"
                ]
              },
              {
                "output_type": "stream",
                "name": "stdout",
                "text": [
                  "Epoch 12/20\n",
                  "\r  1/600 [..............................] - ETA: 1s - loss: 2.3928 - acc: 0.0500"
                ]
              },
              {
                "output_type": "stream",
                "name": "stdout",
                "text": [
                  "\b\b\b\b\b\b\b\b\b\b\b\b\b\b\b\b\b\b\b\b\b\b\b\b\b\b\b\b\b\b\b\b\b\b\b\b\b\b\b\b\b\b\b\b\b\b\b\b\b\b\b\b\b\b\b\b\b\b\b\b\b\b\b\b\b\b\b\b\b\b\b\b\b\b\b\b\b\b\b\r 31/600 [>.............................] - ETA: 0s - loss: 2.3928 - acc: 0.0984"
                ]
              },
              {
                "output_type": "stream",
                "name": "stdout",
                "text": [
                  "\b\b\b\b\b\b\b\b\b\b\b\b\b\b\b\b\b\b\b\b\b\b\b\b\b\b\b\b\b\b\b\b\b\b\b\b\b\b\b\b\b\b\b\b\b\b\b\b\b\b\b\b\b\b\b\b\b\b\b\b\b\b\b\b\b\b\b\b\b\b\b\b\b\b\b\b\b\b\b\r 58/600 [=>............................] - ETA: 0s - loss: 2.3927 - acc: 0.0955"
                ]
              },
              {
                "output_type": "stream",
                "name": "stdout",
                "text": [
                  "\b\b\b\b\b\b\b\b\b\b\b\b\b\b\b\b\b\b\b\b\b\b\b\b\b\b\b\b\b\b\b\b\b\b\b\b\b\b\b\b\b\b\b\b\b\b\b\b\b\b\b\b\b\b\b\b\b\b\b\b\b\b\b\b\b\b\b\b\b\b\b\b\b\b\b\b\b\b\b\r 87/600 [===>..........................] - ETA: 0s - loss: 2.3927 - acc: 0.0951"
                ]
              },
              {
                "output_type": "stream",
                "name": "stdout",
                "text": [
                  "\b\b\b\b\b\b\b\b\b\b\b\b\b\b\b\b\b\b\b\b\b\b\b\b\b\b\b\b\b\b\b\b\b\b\b\b\b\b\b\b\b\b\b\b\b\b\b\b\b\b\b\b\b\b\b\b\b\b\b\b\b\b\b\b\b\b\b\b\b\b\b\b\b\b\b\b\b\b\b\r"
                ]
              },
              {
                "output_type": "stream",
                "name": "stdout",
                "text": [
                  "116/600 [====>.........................] - ETA: 0s - loss: 2.3927 - acc: 0.0983"
                ]
              },
              {
                "output_type": "stream",
                "name": "stdout",
                "text": [
                  "\b\b\b\b\b\b\b\b\b\b\b\b\b\b\b\b\b\b\b\b\b\b\b\b\b\b\b\b\b\b\b\b\b\b\b\b\b\b\b\b\b\b\b\b\b\b\b\b\b\b\b\b\b\b\b\b\b\b\b\b\b\b\b\b\b\b\b\b\b\b\b\b\b\b\b\b\b\b\b\r144/600 [======>.......................] - ETA: 0s - loss: 2.3927 - acc: 0.0981"
                ]
              },
              {
                "output_type": "stream",
                "name": "stdout",
                "text": [
                  "\b\b\b\b\b\b\b\b\b\b\b\b\b\b\b\b\b\b\b\b\b\b\b\b\b\b\b\b\b\b\b\b\b\b\b\b\b\b\b\b\b\b\b\b\b\b\b\b\b\b\b\b\b\b\b\b\b\b\b\b\b\b\b\b\b\b\b\b\b\b\b\b\b\b\b\b\b\b\b\r174/600 [=======>......................] - ETA: 0s - loss: 2.3927 - acc: 0.0975"
                ]
              },
              {
                "output_type": "stream",
                "name": "stdout",
                "text": [
                  "\b\b\b\b\b\b\b\b\b\b\b\b\b\b\b\b\b\b\b\b\b\b\b\b\b\b\b\b\b\b\b\b\b\b\b\b\b\b\b\b\b\b\b\b\b\b\b\b\b\b\b\b\b\b\b\b\b\b\b\b\b\b\b\b\b\b\b\b\b\b\b\b\b\b\b\b\b\b\b\r201/600 [=========>....................] - ETA: 0s - loss: 2.3927 - acc: 0.0966"
                ]
              },
              {
                "output_type": "stream",
                "name": "stdout",
                "text": [
                  "\b\b\b\b\b\b\b\b\b\b\b\b\b\b\b\b\b\b\b\b\b\b\b\b\b\b\b\b\b\b\b\b\b\b\b\b\b\b\b\b\b\b\b\b\b\b\b\b\b\b\b\b\b\b\b\b\b\b\b\b\b\b\b\b\b\b\b\b\b\b\b\b\b\b\b\b\b\b\b\r229/600 [==========>...................] - ETA: 0s - loss: 2.3927 - acc: 0.0963"
                ]
              },
              {
                "output_type": "stream",
                "name": "stdout",
                "text": [
                  "\b\b\b\b\b\b\b\b\b\b\b\b\b\b\b\b\b\b\b\b\b\b\b\b\b\b\b\b\b\b\b\b\b\b\b\b\b\b\b\b\b\b\b\b\b\b\b\b\b\b\b\b\b\b\b\b\b\b\b\b\b\b\b\b\b\b\b\b\b\b\b\b\b\b\b\b\b\b\b\r258/600 [===========>..................] - ETA: 0s - loss: 2.3927 - acc: 0.0965"
                ]
              },
              {
                "output_type": "stream",
                "name": "stdout",
                "text": [
                  "\b\b\b\b\b\b\b\b\b\b\b\b\b\b\b\b\b\b\b\b\b\b\b\b\b\b\b\b\b\b\b\b\b\b\b\b\b\b\b\b\b\b\b\b\b\b\b\b\b\b\b\b\b\b\b\b\b\b\b\b\b\b\b\b\b\b\b\b\b\b\b\b\b\b\b\b\b\b\b\r288/600 [=============>................] - ETA: 0s - loss: 2.3927 - acc: 0.0967"
                ]
              },
              {
                "output_type": "stream",
                "name": "stdout",
                "text": [
                  "\b\b\b\b\b\b\b\b\b\b\b\b\b\b\b\b\b\b\b\b\b\b\b\b\b\b\b\b\b\b\b\b\b\b\b\b\b\b\b\b\b\b\b\b\b\b\b\b\b\b\b\b\b\b\b\b\b\b\b\b\b\b\b\b\b\b\b\b\b\b\b\b\b\b\b\b\b\b\b\r313/600 [==============>...............] - ETA: 0s - loss: 2.3927 - acc: 0.0970"
                ]
              },
              {
                "output_type": "stream",
                "name": "stdout",
                "text": [
                  "\b\b\b\b\b\b\b\b\b\b\b\b\b\b\b\b\b\b\b\b\b\b\b\b\b\b\b\b\b\b\b\b\b\b\b\b\b\b\b\b\b\b\b\b\b\b\b\b\b\b\b\b\b\b\b\b\b\b\b\b\b\b\b\b\b\b\b\b\b\b\b\b\b\b\b\b\b\b\b\r339/600 [===============>..............] - ETA: 0s - loss: 2.3926 - acc: 0.0976"
                ]
              },
              {
                "output_type": "stream",
                "name": "stdout",
                "text": [
                  "\b\b\b\b\b\b\b\b\b\b\b\b\b\b\b\b\b\b\b\b\b\b\b\b\b\b\b\b\b\b\b\b\b\b\b\b\b\b\b\b\b\b\b\b\b\b\b\b\b\b\b\b\b\b\b\b\b\b\b\b\b\b\b\b\b\b\b\b\b\b\b\b\b\b\b\b\b\b\b\r367/600 [=================>............] - ETA: 0s - loss: 2.3926 - acc: 0.0981"
                ]
              },
              {
                "output_type": "stream",
                "name": "stdout",
                "text": [
                  "\b\b\b\b\b\b\b\b\b\b\b\b\b\b\b\b\b\b\b\b\b\b\b\b\b\b\b\b\b\b\b\b\b\b\b\b\b\b\b\b\b\b\b\b\b\b\b\b\b\b\b\b\b\b\b\b\b\b\b\b\b\b\b\b\b\b\b\b\b\b\b\b\b\b\b\b\b\b\b\r396/600 [==================>...........] - ETA: 0s - loss: 2.3926 - acc: 0.0981"
                ]
              },
              {
                "output_type": "stream",
                "name": "stdout",
                "text": [
                  "\b\b\b\b\b\b\b\b\b\b\b\b\b\b\b\b\b\b\b\b\b\b\b\b\b\b\b\b\b\b\b\b\b\b\b\b\b\b\b\b\b\b\b\b\b\b\b\b\b\b\b\b\b\b\b\b\b\b\b\b\b\b\b\b\b\b\b\b\b\b\b\b\b\b\b\b\b\b\b\r429/600 [====================>.........] - ETA: 0s - loss: 2.3926 - acc: 0.0976"
                ]
              },
              {
                "output_type": "stream",
                "name": "stdout",
                "text": [
                  "\b\b\b\b\b\b\b\b\b\b\b\b\b\b\b\b\b\b\b\b\b\b\b\b\b\b\b\b\b\b\b\b\b\b\b\b\b\b\b\b\b\b\b\b\b\b\b\b\b\b\b\b\b\b\b\b\b\b\b\b\b\b\b\b\b\b\b\b\b\b\b\b\b\b\b\b\b\b\b\r461/600 [======================>.......] - ETA: 0s - loss: 2.3926 - acc: 0.0972"
                ]
              },
              {
                "output_type": "stream",
                "name": "stdout",
                "text": [
                  "\b\b\b\b\b\b\b\b\b\b\b\b\b\b\b\b\b\b\b\b\b\b\b\b\b\b\b\b\b\b\b\b\b\b\b\b\b\b\b\b\b\b\b\b\b\b\b\b\b\b\b\b\b\b\b\b\b\b\b\b\b\b\b\b\b\b\b\b\b\b\b\b\b\b\b\b\b\b\b\r492/600 [=======================>......] - ETA: 0s - loss: 2.3926 - acc: 0.0971"
                ]
              },
              {
                "output_type": "stream",
                "name": "stdout",
                "text": [
                  "\b\b\b\b\b\b\b\b\b\b\b\b\b\b\b\b\b\b\b\b\b\b\b\b\b\b\b\b\b\b\b\b\b\b\b\b\b\b\b\b\b\b\b\b\b\b\b\b\b\b\b\b\b\b\b\b\b\b\b\b\b\b\b\b\b\b\b\b\b\b\b\b\b\b\b\b\b\b\b\r522/600 [=========================>....] - ETA: 0s - loss: 2.3926 - acc: 0.0970"
                ]
              },
              {
                "output_type": "stream",
                "name": "stdout",
                "text": [
                  "\b\b\b\b\b\b\b\b\b\b\b\b\b\b\b\b\b\b\b\b\b\b\b\b\b\b\b\b\b\b\b\b\b\b\b\b\b\b\b\b\b\b\b\b\b\b\b\b\b\b\b\b\b\b\b\b\b\b\b\b\b\b\b\b\b\b\b\b\b\b\b\b\b\b\b\b\b\b\b\r549/600 [==========================>...] - ETA: 0s - loss: 2.3926 - acc: 0.0968"
                ]
              },
              {
                "output_type": "stream",
                "name": "stdout",
                "text": [
                  "\b\b\b\b\b\b\b\b\b\b\b\b\b\b\b\b\b\b\b\b\b\b\b\b\b\b\b\b\b\b\b\b\b\b\b\b\b\b\b\b\b\b\b\b\b\b\b\b\b\b\b\b\b\b\b\b\b\b\b\b\b\b\b\b\b\b\b\b\b\b\b\b\b\b\b\b\b\b\b\r578/600 [===========================>..] - ETA: 0s - loss: 2.3926 - acc: 0.0969"
                ]
              },
              {
                "output_type": "stream",
                "name": "stdout",
                "text": [
                  "\b\b\b\b\b\b\b\b\b\b\b\b\b\b\b\b\b\b\b\b\b\b\b\b\b\b\b\b\b\b\b\b\b\b\b\b\b\b\b\b\b\b\b\b\b\b\b\b\b\b\b\b\b\b\b\b\b\b\b\b\b\b\b\b\b\b\b\b\b\b\b\b\b\b\b\b\b\b\b\r600/600 [==============================] - 1s 2ms/step - loss: 2.3925 - acc: 0.0971 - val_loss: 2.3923 - val_acc: 0.1000\n"
                ]
              },
              {
                "output_type": "stream",
                "name": "stdout",
                "text": [
                  "Epoch 13/20\n",
                  "\r  1/600 [..............................] - ETA: 2s - loss: 2.3923 - acc: 0.1200"
                ]
              },
              {
                "output_type": "stream",
                "name": "stdout",
                "text": [
                  "\b\b\b\b\b\b\b\b\b\b\b\b\b\b\b\b\b\b\b\b\b\b\b\b\b\b\b\b\b\b\b\b\b\b\b\b\b\b\b\b\b\b\b\b\b\b\b\b\b\b\b\b\b\b\b\b\b\b\b\b\b\b\b\b\b\b\b\b\b\b\b\b\b\b\b\b\b\b\b\r 27/600 [>.............................] - ETA: 1s - loss: 2.3922 - acc: 0.0993"
                ]
              },
              {
                "output_type": "stream",
                "name": "stdout",
                "text": [
                  "\b\b\b\b\b\b\b\b\b\b\b\b\b\b\b\b\b\b\b\b\b\b\b\b\b\b\b\b\b\b\b\b\b\b\b\b\b\b\b\b\b\b\b\b\b\b\b\b\b\b\b\b\b\b\b\b\b\b\b\b\b\b\b\b\b\b\b\b\b\b\b\b\b\b\b\b\b\b\b\r 53/600 [=>............................] - ETA: 1s - loss: 2.3922 - acc: 0.1008"
                ]
              },
              {
                "output_type": "stream",
                "name": "stdout",
                "text": [
                  "\b\b\b\b\b\b\b\b\b\b\b\b\b\b\b\b\b\b\b\b\b\b\b\b\b\b\b\b\b\b\b\b\b\b\b\b\b\b\b\b\b\b\b\b\b\b\b\b\b\b\b\b\b\b\b\b\b\b\b\b\b\b\b\b\b\b\b\b\b\b\b\b\b\b\b\b\b\b\b\r 84/600 [===>..........................] - ETA: 0s - loss: 2.3923 - acc: 0.1000"
                ]
              },
              {
                "output_type": "stream",
                "name": "stdout",
                "text": [
                  "\b\b\b\b\b\b\b\b\b\b\b\b\b\b\b\b\b\b\b\b\b\b\b\b\b\b\b\b\b\b\b\b\b\b\b\b\b\b\b\b\b\b\b\b\b\b\b\b\b\b\b\b\b\b\b\b\b\b\b\b\b\b\b\b\b\b\b\b\b\b\b\b\b\b\b\b\b\b\b\r115/600 [====>.........................] - ETA: 0s - loss: 2.3922 - acc: 0.1012"
                ]
              },
              {
                "output_type": "stream",
                "name": "stdout",
                "text": [
                  "\b\b\b\b\b\b\b\b\b\b\b\b\b\b\b\b\b\b\b\b\b\b\b\b\b\b\b\b\b\b\b\b\b\b\b\b\b\b\b\b\b\b\b\b\b\b\b\b\b\b\b\b\b\b\b\b\b\b\b\b\b\b\b\b\b\b\b\b\b\b\b\b\b\b\b\b\b\b\b\r147/600 [======>.......................] - ETA: 0s - loss: 2.3922 - acc: 0.1025"
                ]
              },
              {
                "output_type": "stream",
                "name": "stdout",
                "text": [
                  "\b\b\b\b\b\b\b\b\b\b\b\b\b\b\b\b\b\b\b\b\b\b\b\b\b\b\b\b\b\b\b\b\b\b\b\b\b\b\b\b\b\b\b\b\b\b\b\b\b\b\b\b\b\b\b\b\b\b\b\b\b\b\b\b\b\b\b\b\b\b\b\b\b\b\b\b\b\b\b\r175/600 [=======>......................] - ETA: 0s - loss: 2.3922 - acc: 0.1024"
                ]
              },
              {
                "output_type": "stream",
                "name": "stdout",
                "text": [
                  "\b\b\b\b\b\b\b\b\b\b\b\b\b\b\b\b\b\b\b\b\b\b\b\b\b\b\b\b\b\b\b\b\b\b\b\b\b\b\b\b\b\b\b\b\b\b\b\b\b\b\b\b\b\b\b\b\b\b\b\b\b\b\b\b\b\b\b\b\b\b\b\b\b\b\b\b\b\b\b\r207/600 [=========>....................] - ETA: 0s - loss: 2.3922 - acc: 0.1029"
                ]
              },
              {
                "output_type": "stream",
                "name": "stdout",
                "text": [
                  "\b\b\b\b\b\b\b\b\b\b\b\b\b\b\b\b\b\b\b\b\b\b\b\b\b\b\b\b\b\b\b\b\b\b\b\b\b\b\b\b\b\b\b\b\b\b\b\b\b\b\b\b\b\b\b\b\b\b\b\b\b\b\b\b\b\b\b\b\b\b\b\b\b\b\b\b\b\b\b\r239/600 [==========>...................] - ETA: 0s - loss: 2.3922 - acc: 0.1020"
                ]
              },
              {
                "output_type": "stream",
                "name": "stdout",
                "text": [
                  "\b\b\b\b\b\b\b\b\b\b\b\b\b\b\b\b\b\b\b\b\b\b\b\b\b\b\b\b\b\b\b\b\b\b\b\b\b\b\b\b\b\b\b\b\b\b\b\b\b\b\b\b\b\b\b\b\b\b\b\b\b\b\b\b\b\b\b\b\b\b\b\b\b\b\b\b\b\b\b\r273/600 [============>.................] - ETA: 0s - loss: 2.3922 - acc: 0.1018"
                ]
              },
              {
                "output_type": "stream",
                "name": "stdout",
                "text": [
                  "\b\b\b\b\b\b\b\b\b\b\b\b\b\b\b\b\b\b\b\b\b\b\b\b\b\b\b\b\b\b\b\b\b\b\b\b\b\b\b\b\b\b\b\b\b\b\b\b\b\b\b\b\b\b\b\b\b\b\b\b\b\b\b\b\b\b\b\b\b\b\b\b\b\b\b\b\b\b\b\r306/600 [==============>...............] - ETA: 0s - loss: 2.3922 - acc: 0.1011"
                ]
              },
              {
                "output_type": "stream",
                "name": "stdout",
                "text": [
                  "\b\b\b\b\b\b\b\b\b\b\b\b\b\b\b\b\b\b\b\b\b\b\b\b\b\b\b\b\b\b\b\b\b\b\b\b\b\b\b\b\b\b\b\b\b\b\b\b\b\b\b\b\b\b\b\b\b\b\b\b\b\b\b\b\b\b\b\b\b\b\b\b\b\b\b\b\b\b\b\r335/600 [===============>..............] - ETA: 0s - loss: 2.3921 - acc: 0.1009"
                ]
              },
              {
                "output_type": "stream",
                "name": "stdout",
                "text": [
                  "\b\b\b\b\b\b\b\b\b\b\b\b\b\b\b\b\b\b\b\b\b\b\b\b\b\b\b\b\b\b\b\b\b\b\b\b\b\b\b\b\b\b\b\b\b\b\b\b\b\b\b\b\b\b\b\b\b\b\b\b\b\b\b\b\b\b\b\b\b\b\b\b\b\b\b\b\b\b\b\r368/600 [=================>............] - ETA: 0s - loss: 2.3921 - acc: 0.1003"
                ]
              },
              {
                "output_type": "stream",
                "name": "stdout",
                "text": [
                  "\b\b\b\b\b\b\b\b\b\b\b\b\b\b\b\b\b\b\b\b\b\b\b\b\b\b\b\b\b\b\b\b\b\b\b\b\b\b\b\b\b\b\b\b\b\b\b\b\b\b\b\b\b\b\b\b\b\b\b\b\b\b\b\b\b\b\b\b\b\b\b\b\b\b\b\b\b\b\b\r400/600 [===================>..........] - ETA: 0s - loss: 2.3921 - acc: 0.0998"
                ]
              },
              {
                "output_type": "stream",
                "name": "stdout",
                "text": [
                  "\b\b\b\b\b\b\b\b\b\b\b\b\b\b\b\b\b\b\b\b\b\b\b\b\b\b\b\b\b\b\b\b\b\b\b\b\b\b\b\b\b\b\b\b\b\b\b\b\b\b\b\b\b\b\b\b\b\b\b\b\b\b\b\b\b\b\b\b\b\b\b\b\b\b\b\b\b\b\b\r433/600 [====================>.........] - ETA: 0s - loss: 2.3921 - acc: 0.1006"
                ]
              },
              {
                "output_type": "stream",
                "name": "stdout",
                "text": [
                  "\b\b\b\b\b\b\b\b\b\b\b\b\b\b\b\b\b\b\b\b\b\b\b\b\b\b\b\b\b\b\b\b\b\b\b\b\b\b\b\b\b\b\b\b\b\b\b\b\b\b\b\b\b\b\b\b\b\b\b\b\b\b\b\b\b\b\b\b\b\b\b\b\b\b\b\b\b\b\b\r458/600 [=====================>........] - ETA: 0s - loss: 2.3921 - acc: 0.1002"
                ]
              },
              {
                "output_type": "stream",
                "name": "stdout",
                "text": [
                  "\b\b\b\b\b\b\b\b\b\b\b\b\b\b\b\b\b\b\b\b\b\b\b\b\b\b\b\b\b\b\b\b\b\b\b\b\b\b\b\b\b\b\b\b\b\b\b\b\b\b\b\b\b\b\b\b\b\b\b\b\b\b\b\b\b\b\b\b\b\b\b\b\b\b\b\b\b\b\b\r482/600 [=======================>......] - ETA: 0s - loss: 2.3921 - acc: 0.0999"
                ]
              },
              {
                "output_type": "stream",
                "name": "stdout",
                "text": [
                  "\b\b\b\b\b\b\b\b\b\b\b\b\b\b\b\b\b\b\b\b\b\b\b\b\b\b\b\b\b\b\b\b\b\b\b\b\b\b\b\b\b\b\b\b\b\b\b\b\b\b\b\b\b\b\b\b\b\b\b\b\b\b\b\b\b\b\b\b\b\b\b\b\b\b\b\b\b\b\b\r508/600 [========================>.....] - ETA: 0s - loss: 2.3921 - acc: 0.0995"
                ]
              },
              {
                "output_type": "stream",
                "name": "stdout",
                "text": [
                  "\b\b\b\b\b\b\b\b\b\b\b\b\b\b\b\b\b\b\b\b\b\b\b\b\b\b\b\b\b\b\b\b\b\b\b\b\b\b\b\b\b\b\b\b\b\b\b\b\b\b\b\b\b\b\b\b\b\b\b\b\b\b\b\b\b\b\b\b\b\b\b\b\b\b\b\b\b\b\b\r535/600 [=========================>....] - ETA: 0s - loss: 2.3921 - acc: 0.0996"
                ]
              },
              {
                "output_type": "stream",
                "name": "stdout",
                "text": [
                  "\b\b\b\b\b\b\b\b\b\b\b\b\b\b\b\b\b\b\b\b\b\b\b\b\b\b\b\b\b\b\b\b\b\b\b\b\b\b\b\b\b\b\b\b\b\b\b\b\b\b\b\b\b\b\b\b\b\b\b\b\b\b\b\b\b\b\b\b\b\b\b\b\b\b\b\b\b\b\b\r563/600 [===========================>..] - ETA: 0s - loss: 2.3921 - acc: 0.0991"
                ]
              },
              {
                "output_type": "stream",
                "name": "stdout",
                "text": [
                  "\b\b\b\b\b\b\b\b\b\b\b\b\b\b\b\b\b\b\b\b\b\b\b\b\b\b\b\b\b\b\b\b\b\b\b\b\b\b\b\b\b\b\b\b\b\b\b\b\b\b\b\b\b\b\b\b\b\b\b\b\b\b\b\b\b\b\b\b\b\b\b\b\b\b\b\b\b\b\b\r589/600 [============================>.] - ETA: 0s - loss: 2.3921 - acc: 0.0988"
                ]
              },
              {
                "output_type": "stream",
                "name": "stdout",
                "text": [
                  "\b\b\b\b\b\b\b\b\b\b\b\b\b\b\b\b\b\b\b\b\b\b\b\b\b\b\b\b\b\b\b\b\b\b\b\b\b\b\b\b\b\b\b\b\b\b\b\b\b\b\b\b\b\b\b\b\b\b\b\b\b\b\b\b\b\b\b\b\b\b\b\b\b\b\b\b\b\b\b\r600/600 [==============================] - 1s 2ms/step - loss: 2.3921 - acc: 0.0987 - val_loss: 2.3918 - val_acc: 0.1000\n"
                ]
              },
              {
                "output_type": "stream",
                "name": "stdout",
                "text": [
                  "Epoch 14/20\n",
                  "\r  1/600 [..............................] - ETA: 3s - loss: 2.3918 - acc: 0.0400"
                ]
              },
              {
                "output_type": "stream",
                "name": "stdout",
                "text": [
                  "\b\b\b\b\b\b\b\b\b\b\b\b\b\b\b\b\b\b\b\b\b\b\b\b\b\b\b\b\b\b\b\b\b\b\b\b\b\b\b\b\b\b\b\b\b\b\b\b\b\b\b\b\b\b\b\b\b\b\b\b\b\b\b\b\b\b\b\b\b\b\b\b\b\b\b\b\b\b\b\r 32/600 [>.............................] - ETA: 0s - loss: 2.3917 - acc: 0.0928"
                ]
              },
              {
                "output_type": "stream",
                "name": "stdout",
                "text": [
                  "\b\b\b\b\b\b\b\b\b\b\b\b\b\b\b\b\b\b\b\b\b\b\b\b\b\b\b\b\b\b\b\b\b\b\b\b\b\b\b\b\b\b\b\b\b\b\b\b\b\b\b\b\b\b\b\b\b\b\b\b\b\b\b\b\b\b\b\b\b\b\b\b\b\b\b\b\b\b\b\r 63/600 [==>...........................] - ETA: 0s - loss: 2.3917 - acc: 0.0979"
                ]
              },
              {
                "output_type": "stream",
                "name": "stdout",
                "text": [
                  "\b\b\b\b\b\b\b\b\b\b\b\b\b\b\b\b\b\b\b\b\b\b\b\b\b\b\b\b\b\b\b\b\b\b\b\b\b\b\b\b\b\b\b\b\b\b\b\b\b\b\b\b\b\b\b\b\b\b\b\b\b\b\b\b\b\b\b\b\b\b\b\b\b\b\b\b\b\b\b\r 90/600 [===>..........................] - ETA: 0s - loss: 2.3917 - acc: 0.1008"
                ]
              },
              {
                "output_type": "stream",
                "name": "stdout",
                "text": [
                  "\b\b\b\b\b\b\b\b\b\b\b\b\b\b\b\b\b\b\b\b\b\b\b\b\b\b\b\b\b\b\b\b\b\b\b\b\b\b\b\b\b\b\b\b\b\b\b\b\b\b\b\b\b\b\b\b\b\b\b\b\b\b\b\b\b\b\b\b\b\b\b\b\b\b\b\b\b\b\b\r120/600 [=====>........................] - ETA: 0s - loss: 2.3917 - acc: 0.0998"
                ]
              },
              {
                "output_type": "stream",
                "name": "stdout",
                "text": [
                  "\b\b\b\b\b\b\b\b\b\b\b\b\b\b\b\b\b\b\b\b\b\b\b\b\b\b\b\b\b\b\b\b\b\b\b\b\b\b\b\b\b\b\b\b\b\b\b\b\b\b\b\b\b\b\b\b\b\b\b\b\b\b\b\b\b\b\b\b\b\b\b\b\b\b\b\b\b\b\b\r151/600 [======>.......................] - ETA: 0s - loss: 2.3917 - acc: 0.1006"
                ]
              },
              {
                "output_type": "stream",
                "name": "stdout",
                "text": [
                  "\b\b\b\b\b\b\b\b\b\b\b\b\b\b\b\b\b\b\b\b\b\b\b\b\b\b\b\b\b\b\b\b\b\b\b\b\b\b\b\b\b\b\b\b\b\b\b\b\b\b\b\b\b\b\b\b\b\b\b\b\b\b\b\b\b\b\b\b\b\b\b\b\b\b\b\b\b\b\b\r183/600 [========>.....................] - ETA: 0s - loss: 2.3917 - acc: 0.1009"
                ]
              },
              {
                "output_type": "stream",
                "name": "stdout",
                "text": [
                  "\b\b\b\b\b\b\b\b\b\b\b\b\b\b\b\b\b\b\b\b\b\b\b\b\b\b\b\b\b\b\b\b\b\b\b\b\b\b\b\b\b\b\b\b\b\b\b\b\b\b\b\b\b\b\b\b\b\b\b\b\b\b\b\b\b\b\b\b\b\b\b\b\b\b\b\b\b\b\b\r216/600 [=========>....................] - ETA: 0s - loss: 2.3917 - acc: 0.1004"
                ]
              },
              {
                "output_type": "stream",
                "name": "stdout",
                "text": [
                  "\b\b\b\b\b\b\b\b\b\b\b\b\b\b\b\b\b\b\b\b\b\b\b\b\b\b\b\b\b\b\b\b\b\b\b\b\b\b\b\b\b\b\b\b\b\b\b\b\b\b\b\b\b\b\b\b\b\b\b\b\b\b\b\b\b\b\b\b\b\b\b\b\b\b\b\b\b\b\b\r242/600 [===========>..................] - ETA: 0s - loss: 2.3917 - acc: 0.0994"
                ]
              },
              {
                "output_type": "stream",
                "name": "stdout",
                "text": [
                  "\b\b\b\b\b\b\b\b\b\b\b\b\b\b\b\b\b\b\b\b\b\b\b\b\b\b\b\b\b\b\b\b\b\b\b\b\b\b\b\b\b\b\b\b\b\b\b\b\b\b\b\b\b\b\b\b\b\b\b\b\b\b\b\b\b\b\b\b\b\b\b\b\b\b\b\b\b\b\b\r273/600 [============>.................] - ETA: 0s - loss: 2.3917 - acc: 0.0993"
                ]
              },
              {
                "output_type": "stream",
                "name": "stdout",
                "text": [
                  "\b\b\b\b\b\b\b\b\b\b\b\b\b\b\b\b\b\b\b\b\b\b\b\b\b\b\b\b\b\b\b\b\b\b\b\b\b\b\b\b\b\b\b\b\b\b\b\b\b\b\b\b\b\b\b\b\b\b\b\b\b\b\b\b\b\b\b\b\b\b\b\b\b\b\b\b\b\b\b\r304/600 [==============>...............] - ETA: 0s - loss: 2.3917 - acc: 0.0985"
                ]
              },
              {
                "output_type": "stream",
                "name": "stdout",
                "text": [
                  "\b\b\b\b\b\b\b\b\b\b\b\b\b\b\b\b\b\b\b\b\b\b\b\b\b\b\b\b\b\b\b\b\b\b\b\b\b\b\b\b\b\b\b\b\b\b\b\b\b\b\b\b\b\b\b\b\b\b\b\b\b\b\b\b\b\b\b\b\b\b\b\b\b\b\b\b\b\b\b\r336/600 [===============>..............] - ETA: 0s - loss: 2.3917 - acc: 0.0988"
                ]
              },
              {
                "output_type": "stream",
                "name": "stdout",
                "text": [
                  "\b\b\b\b\b\b\b\b\b\b\b\b\b\b\b\b\b\b\b\b\b\b\b\b\b\b\b\b\b\b\b\b\b\b\b\b\b\b\b\b\b\b\b\b\b\b\b\b\b\b\b\b\b\b\b\b\b\b\b\b\b\b\b\b\b\b\b\b\b\b\b\b\b\b\b\b\b\b\b\r362/600 [=================>............] - ETA: 0s - loss: 2.3916 - acc: 0.0985"
                ]
              },
              {
                "output_type": "stream",
                "name": "stdout",
                "text": [
                  "\b\b\b\b\b\b\b\b\b\b\b\b\b\b\b\b\b\b\b\b\b\b\b\b\b\b\b\b\b\b\b\b\b\b\b\b\b\b\b\b\b\b\b\b\b\b\b\b\b\b\b\b\b\b\b\b\b\b\b\b\b\b\b\b\b\b\b\b\b\b\b\b\b\b\b\b\b\b\b\r390/600 [==================>...........] - ETA: 0s - loss: 2.3916 - acc: 0.0979"
                ]
              },
              {
                "output_type": "stream",
                "name": "stdout",
                "text": [
                  "\b\b\b\b\b\b\b\b\b\b\b\b\b\b\b\b\b\b\b\b\b\b\b\b\b\b\b\b\b\b\b\b\b\b\b\b\b\b\b\b\b\b\b\b\b\b\b\b\b\b\b\b\b\b\b\b\b\b\b\b\b\b\b\b\b\b\b\b\b\b\b\b\b\b\b\b\b\b\b\r418/600 [===================>..........] - ETA: 0s - loss: 2.3916 - acc: 0.0980"
                ]
              },
              {
                "output_type": "stream",
                "name": "stdout",
                "text": [
                  "\b\b\b\b\b\b\b\b\b\b\b\b\b\b\b\b\b\b\b\b\b\b\b\b\b\b\b\b\b\b\b\b\b\b\b\b\b\b\b\b\b\b\b\b\b\b\b\b\b\b\b\b\b\b\b\b\b\b\b\b\b\b\b\b\b\b\b\b\b\b\b\b\b\b\b\b\b\b\b\r447/600 [=====================>........] - ETA: 0s - loss: 2.3916 - acc: 0.0974"
                ]
              },
              {
                "output_type": "stream",
                "name": "stdout",
                "text": [
                  "\b\b\b\b\b\b\b\b\b\b\b\b\b\b\b\b\b\b\b\b\b\b\b\b\b\b\b\b\b\b\b\b\b\b\b\b\b\b\b\b\b\b\b\b\b\b\b\b\b\b\b\b\b\b\b\b\b\b\b\b\b\b\b\b\b\b\b\b\b\b\b\b\b\b\b\b\b\b\b\r476/600 [======================>.......] - ETA: 0s - loss: 2.3916 - acc: 0.0972"
                ]
              },
              {
                "output_type": "stream",
                "name": "stdout",
                "text": [
                  "\b\b\b\b\b\b\b\b\b\b\b\b\b\b\b\b\b\b\b\b\b\b\b\b\b\b\b\b\b\b\b\b\b\b\b\b\b\b\b\b\b\b\b\b\b\b\b\b\b\b\b\b\b\b\b\b\b\b\b\b\b\b\b\b\b\b\b\b\b\b\b\b\b\b\b\b\b\b\b\r504/600 [========================>.....] - ETA: 0s - loss: 2.3916 - acc: 0.0976"
                ]
              },
              {
                "output_type": "stream",
                "name": "stdout",
                "text": [
                  "\b\b\b\b\b\b\b\b\b\b\b\b\b\b\b\b\b\b\b\b\b\b\b\b\b\b\b\b\b\b\b\b\b\b\b\b\b\b\b\b\b\b\b\b\b\b\b\b\b\b\b\b\b\b\b\b\b\b\b\b\b\b\b\b\b\b\b\b\b\b\b\b\b\b\b\b\b\b\b\r527/600 [=========================>....] - ETA: 0s - loss: 2.3916 - acc: 0.0976"
                ]
              },
              {
                "output_type": "stream",
                "name": "stdout",
                "text": [
                  "\b\b\b\b\b\b\b\b\b\b\b\b\b\b\b\b\b\b\b\b\b\b\b\b\b\b\b\b\b\b\b\b\b\b\b\b\b\b\b\b\b\b\b\b\b\b\b\b\b\b\b\b\b\b\b\b\b\b\b\b\b\b\b\b\b\b\b\b\b\b\b\b\b\b\b\b\b\b\b\r551/600 [==========================>...] - ETA: 0s - loss: 2.3916 - acc: 0.0973"
                ]
              },
              {
                "output_type": "stream",
                "name": "stdout",
                "text": [
                  "\b\b\b\b\b\b\b\b\b\b\b\b\b\b\b\b\b\b\b\b\b\b\b\b\b\b\b\b\b\b\b\b\b\b\b\b\b\b\b\b\b\b\b\b\b\b\b\b\b\b\b\b\b\b\b\b\b\b\b\b\b\b\b\b\b\b\b\b\b\b\b\b\b\b\b\b\b\b\b\r571/600 [===========================>..] - ETA: 0s - loss: 2.3916 - acc: 0.0971"
                ]
              },
              {
                "output_type": "stream",
                "name": "stdout",
                "text": [
                  "\b\b\b\b\b\b\b\b\b\b\b\b\b\b\b\b\b\b\b\b\b\b\b\b\b\b\b\b\b\b\b\b\b\b\b\b\b\b\b\b\b\b\b\b\b\b\b\b\b\b\b\b\b\b\b\b\b\b\b\b\b\b\b\b\b\b\b\b\b\b\b\b\b\b\b\b\b\b\b\r599/600 [============================>.] - ETA: 0s - loss: 2.3916 - acc: 0.0972"
                ]
              },
              {
                "output_type": "stream",
                "name": "stdout",
                "text": [
                  "\b\b\b\b\b\b\b\b\b\b\b\b\b\b\b\b\b\b\b\b\b\b\b\b\b\b\b\b\b\b\b\b\b\b\b\b\b\b\b\b\b\b\b\b\b\b\b\b\b\b\b\b\b\b\b\b\b\b\b\b\b\b\b\b\b\b\b\b\b\b\b\b\b\b\b\b\b\b\b\r600/600 [==============================] - 1s 2ms/step - loss: 2.3916 - acc: 0.0971 - val_loss: 2.3913 - val_acc: 0.1000\n"
                ]
              },
              {
                "output_type": "stream",
                "name": "stdout",
                "text": [
                  "Epoch 15/20\n",
                  "\r  1/600 [..............................] - ETA: 3s - loss: 2.3913 - acc: 0.1000"
                ]
              },
              {
                "output_type": "stream",
                "name": "stdout",
                "text": [
                  "\b\b\b\b\b\b\b\b\b\b\b\b\b\b\b\b\b\b\b\b\b\b\b\b\b\b\b\b\b\b\b\b\b\b\b\b\b\b\b\b\b\b\b\b\b\b\b\b\b\b\b\b\b\b\b\b\b\b\b\b\b\b\b\b\b\b\b\b\b\b\b\b\b\b\b\b\b\b\b\r 32/600 [>.............................] - ETA: 0s - loss: 2.3913 - acc: 0.1028"
                ]
              },
              {
                "output_type": "stream",
                "name": "stdout",
                "text": [
                  "\b\b\b\b\b\b\b\b\b\b\b\b\b\b\b\b\b\b\b\b\b\b\b\b\b\b\b\b\b\b\b\b\b\b\b\b\b\b\b\b\b\b\b\b\b\b\b\b\b\b\b\b\b\b\b\b\b\b\b\b\b\b\b\b\b\b\b\b\b\b\b\b\b\b\b\b\b\b\b\r 62/600 [==>...........................] - ETA: 0s - loss: 2.3913 - acc: 0.0977"
                ]
              },
              {
                "output_type": "stream",
                "name": "stdout",
                "text": [
                  "\b\b\b\b\b\b\b\b\b\b\b\b\b\b\b\b\b\b\b\b\b\b\b\b\b\b\b\b\b\b\b\b\b\b\b\b\b\b\b\b\b\b\b\b\b\b\b\b\b\b\b\b\b\b\b\b\b\b\b\b\b\b\b\b\b\b\b\b\b\b\b\b\b\b\b\b\b\b\b\r 92/600 [===>..........................] - ETA: 0s - loss: 2.3913 - acc: 0.0972"
                ]
              },
              {
                "output_type": "stream",
                "name": "stdout",
                "text": [
                  "\b\b\b\b\b\b\b\b\b\b\b\b\b\b\b\b\b\b\b\b\b\b\b\b\b\b\b\b\b\b\b\b\b\b\b\b\b\b\b\b\b\b\b\b\b\b\b\b\b\b\b\b\b\b\b\b\b\b\b\b\b\b\b\b\b\b\b\b\b\b\b\b\b\b\b\b\b\b\b\r122/600 [=====>........................] - ETA: 0s - loss: 2.3913 - acc: 0.0980"
                ]
              },
              {
                "output_type": "stream",
                "name": "stdout",
                "text": [
                  "\b\b\b\b\b\b\b\b\b\b\b\b\b\b\b\b\b\b\b\b\b\b\b\b\b\b\b\b\b\b\b\b\b\b\b\b\b\b\b\b\b\b\b\b\b\b\b\b\b\b\b\b\b\b\b\b\b\b\b\b\b\b\b\b\b\b\b\b\b\b\b\b\b\b\b\b\b\b\b\r154/600 [======>.......................] - ETA: 0s - loss: 2.3913 - acc: 0.0988"
                ]
              },
              {
                "output_type": "stream",
                "name": "stdout",
                "text": [
                  "\b\b\b\b\b\b\b\b\b\b\b\b\b\b\b\b\b\b\b\b\b\b\b\b\b\b\b\b\b\b\b\b\b\b\b\b\b\b\b\b\b\b\b\b\b\b\b\b\b\b\b\b\b\b\b\b\b\b\b\b\b\b\b\b\b\b\b\b\b\b\b\b\b\b\b\b\b\b\b\r187/600 [========>.....................] - ETA: 0s - loss: 2.3912 - acc: 0.0984"
                ]
              },
              {
                "output_type": "stream",
                "name": "stdout",
                "text": [
                  "\b\b\b\b\b\b\b\b\b\b\b\b\b\b\b\b\b\b\b\b\b\b\b\b\b\b\b\b\b\b\b\b\b\b\b\b\b\b\b\b\b\b\b\b\b\b\b\b\b\b\b\b\b\b\b\b\b\b\b\b\b\b\b\b\b\b\b\b\b\b\b\b\b\b\b\b\b\b\b\r217/600 [=========>....................] - ETA: 0s - loss: 2.3912 - acc: 0.0982"
                ]
              },
              {
                "output_type": "stream",
                "name": "stdout",
                "text": [
                  "\b\b\b\b\b\b\b\b\b\b\b\b\b\b\b\b\b\b\b\b\b\b\b\b\b\b\b\b\b\b\b\b\b\b\b\b\b\b\b\b\b\b\b\b\b\b\b\b\b\b\b\b\b\b\b\b\b\b\b\b\b\b\b\b\b\b\b\b\b\b\b\b\b\b\b\b\b\b\b\r245/600 [===========>..................] - ETA: 0s - loss: 2.3912 - acc: 0.0989"
                ]
              },
              {
                "output_type": "stream",
                "name": "stdout",
                "text": [
                  "\b\b\b\b\b\b\b\b\b\b\b\b\b\b\b\b\b\b\b\b\b\b\b\b\b\b\b\b\b\b\b\b\b\b\b\b\b\b\b\b\b\b\b\b\b\b\b\b\b\b\b\b\b\b\b\b\b\b\b\b\b\b\b\b\b\b\b\b\b\b\b\b\b\b\b\b\b\b\b\r275/600 [============>.................] - ETA: 0s - loss: 2.3912 - acc: 0.0997"
                ]
              },
              {
                "output_type": "stream",
                "name": "stdout",
                "text": [
                  "\b\b\b\b\b\b\b\b\b\b\b\b\b\b\b\b\b\b\b\b\b\b\b\b\b\b\b\b\b\b\b\b\b\b\b\b\b\b\b\b\b\b\b\b\b\b\b\b\b\b\b\b\b\b\b\b\b\b\b\b\b\b\b\b\b\b\b\b\b\b\b\b\b\b\b\b\b\b\b\r304/600 [==============>...............] - ETA: 0s - loss: 2.3912 - acc: 0.0995"
                ]
              },
              {
                "output_type": "stream",
                "name": "stdout",
                "text": [
                  "\b\b\b\b\b\b\b\b\b\b\b\b\b\b\b\b\b\b\b\b\b\b\b\b\b\b\b\b\b\b\b\b\b\b\b\b\b\b\b\b\b\b\b\b\b\b\b\b\b\b\b\b\b\b\b\b\b\b\b\b\b\b\b\b\b\b\b\b\b\b\b\b\b\b\b\b\b\b\b\r329/600 [===============>..............] - ETA: 0s - loss: 2.3912 - acc: 0.0991"
                ]
              },
              {
                "output_type": "stream",
                "name": "stdout",
                "text": [
                  "\b\b\b\b\b\b\b\b\b\b\b\b\b\b\b\b\b\b\b\b\b\b\b\b\b\b\b\b\b\b\b\b\b\b\b\b\b\b\b\b\b\b\b\b\b\b\b\b\b\b\b\b\b\b\b\b\b\b\b\b\b\b\b\b\b\b\b\b\b\b\b\b\b\b\b\b\b\b\b\r356/600 [================>.............] - ETA: 0s - loss: 2.3912 - acc: 0.0989"
                ]
              },
              {
                "output_type": "stream",
                "name": "stdout",
                "text": [
                  "\b\b\b\b\b\b\b\b\b\b\b\b\b\b\b\b\b\b\b\b\b\b\b\b\b\b\b\b\b\b\b\b\b\b\b\b\b\b\b\b\b\b\b\b\b\b\b\b\b\b\b\b\b\b\b\b\b\b\b\b\b\b\b\b\b\b\b\b\b\b\b\b\b\b\b\b\b\b\b\r386/600 [==================>...........] - ETA: 0s - loss: 2.3912 - acc: 0.0981"
                ]
              },
              {
                "output_type": "stream",
                "name": "stdout",
                "text": [
                  "\b\b\b\b\b\b\b\b\b\b\b\b\b\b\b\b\b\b\b\b\b\b\b\b\b\b\b\b\b\b\b\b\b\b\b\b\b\b\b\b\b\b\b\b\b\b\b\b\b\b\b\b\b\b\b\b\b\b\b\b\b\b\b\b\b\b\b\b\b\b\b\b\b\b\b\b\b\b\b\r413/600 [===================>..........] - ETA: 0s - loss: 2.3912 - acc: 0.0981"
                ]
              },
              {
                "output_type": "stream",
                "name": "stdout",
                "text": [
                  "\b\b\b\b\b\b\b\b\b\b\b\b\b\b\b\b\b\b\b\b\b\b\b\b\b\b\b\b\b\b\b\b\b\b\b\b\b\b\b\b\b\b\b\b\b\b\b\b\b\b\b\b\b\b\b\b\b\b\b\b\b\b\b\b\b\b\b\b\b\b\b\b\b\b\b\b\b\b\b\r443/600 [=====================>........] - ETA: 0s - loss: 2.3911 - acc: 0.0981"
                ]
              },
              {
                "output_type": "stream",
                "name": "stdout",
                "text": [
                  "\b\b\b\b\b\b\b\b\b\b\b\b\b\b\b\b\b\b\b\b\b\b\b\b\b\b\b\b\b\b\b\b\b\b\b\b\b\b\b\b\b\b\b\b\b\b\b\b\b\b\b\b\b\b\b\b\b\b\b\b\b\b\b\b\b\b\b\b\b\b\b\b\b\b\b\b\b\b\b\r474/600 [======================>.......] - ETA: 0s - loss: 2.3911 - acc: 0.0982"
                ]
              },
              {
                "output_type": "stream",
                "name": "stdout",
                "text": [
                  "\b\b\b\b\b\b\b\b\b\b\b\b\b\b\b\b\b\b\b\b\b\b\b\b\b\b\b\b\b\b\b\b\b\b\b\b\b\b\b\b\b\b\b\b\b\b\b\b\b\b\b\b\b\b\b\b\b\b\b\b\b\b\b\b\b\b\b\b\b\b\b\b\b\b\b\b\b\b\b\r501/600 [========================>.....] - ETA: 0s - loss: 2.3911 - acc: 0.0979"
                ]
              },
              {
                "output_type": "stream",
                "name": "stdout",
                "text": [
                  "\b\b\b\b\b\b\b\b\b\b\b\b\b\b\b\b\b\b\b\b\b\b\b\b\b\b\b\b\b\b\b\b\b\b\b\b\b\b\b\b\b\b\b\b\b\b\b\b\b\b\b\b\b\b\b\b\b\b\b\b\b\b\b\b\b\b\b\b\b\b\b\b\b\b\b\b\b\b\b\r532/600 [=========================>....] - ETA: 0s - loss: 2.3911 - acc: 0.0981"
                ]
              },
              {
                "output_type": "stream",
                "name": "stdout",
                "text": [
                  "\b\b\b\b\b\b\b\b\b\b\b\b\b\b\b\b\b\b\b\b\b\b\b\b\b\b\b\b\b\b\b\b\b\b\b\b\b\b\b\b\b\b\b\b\b\b\b\b\b\b\b\b\b\b\b\b\b\b\b\b\b\b\b\b\b\b\b\b\b\b\b\b\b\b\b\b\b\b\b\r564/600 [===========================>..] - ETA: 0s - loss: 2.3911 - acc: 0.0980"
                ]
              },
              {
                "output_type": "stream",
                "name": "stdout",
                "text": [
                  "\b\b\b\b\b\b\b\b\b\b\b\b\b\b\b\b\b\b\b\b\b\b\b\b\b\b\b\b\b\b\b\b\b\b\b\b\b\b\b\b\b\b\b\b\b\b\b\b\b\b\b\b\b\b\b\b\b\b\b\b\b\b\b\b\b\b\b\b\b\b\b\b\b\b\b\b\b\b\b\r596/600 [============================>.] - ETA: 0s - loss: 2.3911 - acc: 0.0978"
                ]
              },
              {
                "output_type": "stream",
                "name": "stdout",
                "text": [
                  "\b\b\b\b\b\b\b\b\b\b\b\b\b\b\b\b\b\b\b\b\b\b\b\b\b\b\b\b\b\b\b\b\b\b\b\b\b\b\b\b\b\b\b\b\b\b\b\b\b\b\b\b\b\b\b\b\b\b\b\b\b\b\b\b\b\b\b\b\b\b\b\b\b\b\b\b\b\b\b\r600/600 [==============================] - 1s 2ms/step - loss: 2.3911 - acc: 0.0975 - val_loss: 2.3908 - val_acc: 0.1000\n"
                ]
              },
              {
                "output_type": "stream",
                "name": "stdout",
                "text": [
                  "Epoch 16/20\n",
                  "\r  1/600 [..............................] - ETA: 1s - loss: 2.3907 - acc: 0.1200"
                ]
              },
              {
                "output_type": "stream",
                "name": "stdout",
                "text": [
                  "\b\b\b\b\b\b\b\b\b\b\b\b\b\b\b\b\b\b\b\b\b\b\b\b\b\b\b\b\b\b\b\b\b\b\b\b\b\b\b\b\b\b\b\b\b\b\b\b\b\b\b\b\b\b\b\b\b\b\b\b\b\b\b\b\b\b\b\b\b\b\b\b\b\b\b\b\b\b\b\r 33/600 [>.............................] - ETA: 0s - loss: 2.3908 - acc: 0.1003"
                ]
              },
              {
                "output_type": "stream",
                "name": "stdout",
                "text": [
                  "\b\b\b\b\b\b\b\b\b\b\b\b\b\b\b\b\b\b\b\b\b\b\b\b\b\b\b\b\b\b\b\b\b\b\b\b\b\b\b\b\b\b\b\b\b\b\b\b\b\b\b\b\b\b\b\b\b\b\b\b\b\b\b\b\b\b\b\b\b\b\b\b\b\b\b\b\b\b\b\r 63/600 [==>...........................] - ETA: 0s - loss: 2.3908 - acc: 0.1002"
                ]
              },
              {
                "output_type": "stream",
                "name": "stdout",
                "text": [
                  "\b\b\b\b\b\b\b\b\b\b\b\b\b\b\b\b\b\b\b\b\b\b\b\b\b\b\b\b\b\b\b\b\b\b\b\b\b\b\b\b\b\b\b\b\b\b\b\b\b\b\b\b\b\b\b\b\b\b\b\b\b\b\b\b\b\b\b\b\b\b\b\b\b\b\b\b\b\b\b\r 95/600 [===>..........................] - ETA: 0s - loss: 2.3908 - acc: 0.1031"
                ]
              },
              {
                "output_type": "stream",
                "name": "stdout",
                "text": [
                  "\b\b\b\b\b\b\b\b\b\b\b\b\b\b\b\b\b\b\b\b\b\b\b\b\b\b\b\b\b\b\b\b\b\b\b\b\b\b\b\b\b\b\b\b\b\b\b\b\b\b\b\b\b\b\b\b\b\b\b\b\b\b\b\b\b\b\b\b\b\b\b\b\b\b\b\b\b\b\b\r122/600 [=====>........................] - ETA: 0s - loss: 2.3908 - acc: 0.1013"
                ]
              },
              {
                "output_type": "stream",
                "name": "stdout",
                "text": [
                  "\b\b\b\b\b\b\b\b\b\b\b\b\b\b\b\b\b\b\b\b\b\b\b\b\b\b\b\b\b\b\b\b\b\b\b\b\b\b\b\b\b\b\b\b\b\b\b\b\b\b\b\b\b\b\b\b\b\b\b\b\b\b\b\b\b\b\b\b\b\b\b\b\b\b\b\b\b\b\b\r144/600 [======>.......................] - ETA: 0s - loss: 2.3908 - acc: 0.0997"
                ]
              },
              {
                "output_type": "stream",
                "name": "stdout",
                "text": [
                  "\b\b\b\b\b\b\b\b\b\b\b\b\b\b\b\b\b\b\b\b\b\b\b\b\b\b\b\b\b\b\b\b\b\b\b\b\b\b\b\b\b\b\b\b\b\b\b\b\b\b\b\b\b\b\b\b\b\b\b\b\b\b\b\b\b\b\b\b\b\b\b\b\b\b\b\b\b\b\b\r169/600 [=======>......................] - ETA: 0s - loss: 2.3908 - acc: 0.0991"
                ]
              },
              {
                "output_type": "stream",
                "name": "stdout",
                "text": [
                  "\b\b\b\b\b\b\b\b\b\b\b\b\b\b\b\b\b\b\b\b\b\b\b\b\b\b\b\b\b\b\b\b\b\b\b\b\b\b\b\b\b\b\b\b\b\b\b\b\b\b\b\b\b\b\b\b\b\b\b\b\b\b\b\b\b\b\b\b\b\b\b\b\b\b\b\b\b\b\b\r196/600 [========>.....................] - ETA: 0s - loss: 2.3908 - acc: 0.0983"
                ]
              },
              {
                "output_type": "stream",
                "name": "stdout",
                "text": [
                  "\b\b\b\b\b\b\b\b\b\b\b\b\b\b\b\b\b\b\b\b\b\b\b\b\b\b\b\b\b\b\b\b\b\b\b\b\b\b\b\b\b\b\b\b\b\b\b\b\b\b\b\b\b\b\b\b\b\b\b\b\b\b\b\b\b\b\b\b\b\b\b\b\b\b\b\b\b\b\b\r222/600 [==========>...................] - ETA: 0s - loss: 2.3907 - acc: 0.0994"
                ]
              },
              {
                "output_type": "stream",
                "name": "stdout",
                "text": [
                  "\b\b\b\b\b\b\b\b\b\b\b\b\b\b\b\b\b\b\b\b\b\b\b\b\b\b\b\b\b\b\b\b\b\b\b\b\b\b\b\b\b\b\b\b\b\b\b\b\b\b\b\b\b\b\b\b\b\b\b\b\b\b\b\b\b\b\b\b\b\b\b\b\b\b\b\b\b\b\b\r243/600 [===========>..................] - ETA: 0s - loss: 2.3907 - acc: 0.0990"
                ]
              },
              {
                "output_type": "stream",
                "name": "stdout",
                "text": [
                  "\b\b\b\b\b\b\b\b\b\b\b\b\b\b\b\b\b\b\b\b\b\b\b\b\b\b\b\b\b\b\b\b\b\b\b\b\b\b\b\b\b\b\b\b\b\b\b\b\b\b\b\b\b\b\b\b\b\b\b\b\b\b\b\b\b\b\b\b\b\b\b\b\b\b\b\b\b\b\b\r272/600 [============>.................] - ETA: 0s - loss: 2.3907 - acc: 0.0992"
                ]
              },
              {
                "output_type": "stream",
                "name": "stdout",
                "text": [
                  "\b\b\b\b\b\b\b\b\b\b\b\b\b\b\b\b\b\b\b\b\b\b\b\b\b\b\b\b\b\b\b\b\b\b\b\b\b\b\b\b\b\b\b\b\b\b\b\b\b\b\b\b\b\b\b\b\b\b\b\b\b\b\b\b\b\b\b\b\b\b\b\b\b\b\b\b\b\b\b\r301/600 [==============>...............] - ETA: 0s - loss: 2.3907 - acc: 0.0989"
                ]
              },
              {
                "output_type": "stream",
                "name": "stdout",
                "text": [
                  "\b\b\b\b\b\b\b\b\b\b\b\b\b\b\b\b\b\b\b\b\b\b\b\b\b\b\b\b\b\b\b\b\b\b\b\b\b\b\b\b\b\b\b\b\b\b\b\b\b\b\b\b\b\b\b\b\b\b\b\b\b\b\b\b\b\b\b\b\b\b\b\b\b\b\b\b\b\b\b\r329/600 [===============>..............] - ETA: 0s - loss: 2.3907 - acc: 0.0977"
                ]
              },
              {
                "output_type": "stream",
                "name": "stdout",
                "text": [
                  "\b\b\b\b\b\b\b\b\b\b\b\b\b\b\b\b\b\b\b\b\b\b\b\b\b\b\b\b\b\b\b\b\b\b\b\b\b\b\b\b\b\b\b\b\b\b\b\b\b\b\b\b\b\b\b\b\b\b\b\b\b\b\b\b\b\b\b\b\b\b\b\b\b\b\b\b\b\b\b\r357/600 [================>.............] - ETA: 0s - loss: 2.3907 - acc: 0.0981"
                ]
              },
              {
                "output_type": "stream",
                "name": "stdout",
                "text": [
                  "\b\b\b\b\b\b\b\b\b\b\b\b\b\b\b\b\b\b\b\b\b\b\b\b\b\b\b\b\b\b\b\b\b\b\b\b\b\b\b\b\b\b\b\b\b\b\b\b\b\b\b\b\b\b\b\b\b\b\b\b\b\b\b\b\b\b\b\b\b\b\b\b\b\b\b\b\b\b\b\r385/600 [==================>...........] - ETA: 0s - loss: 2.3907 - acc: 0.0984"
                ]
              },
              {
                "output_type": "stream",
                "name": "stdout",
                "text": [
                  "\b\b\b\b\b\b\b\b\b\b\b\b\b\b\b\b\b\b\b\b\b\b\b\b\b\b\b\b\b\b\b\b\b\b\b\b\b\b\b\b\b\b\b\b\b\b\b\b\b\b\b\b\b\b\b\b\b\b\b\b\b\b\b\b\b\b\b\b\b\b\b\b\b\b\b\b\b\b\b\r415/600 [===================>..........] - ETA: 0s - loss: 2.3907 - acc: 0.0975"
                ]
              },
              {
                "output_type": "stream",
                "name": "stdout",
                "text": [
                  "\b\b\b\b\b\b\b\b\b\b\b\b\b\b\b\b\b\b\b\b\b\b\b\b\b\b\b\b\b\b\b\b\b\b\b\b\b\b\b\b\b\b\b\b\b\b\b\b\b\b\b\b\b\b\b\b\b\b\b\b\b\b\b\b\b\b\b\b\b\b\b\b\b\b\b\b\b\b\b\r447/600 [=====================>........] - ETA: 0s - loss: 2.3907 - acc: 0.0975"
                ]
              },
              {
                "output_type": "stream",
                "name": "stdout",
                "text": [
                  "\b\b\b\b\b\b\b\b\b\b\b\b\b\b\b\b\b\b\b\b\b\b\b\b\b\b\b\b\b\b\b\b\b\b\b\b\b\b\b\b\b\b\b\b\b\b\b\b\b\b\b\b\b\b\b\b\b\b\b\b\b\b\b\b\b\b\b\b\b\b\b\b\b\b\b\b\b\b\b\r479/600 [======================>.......] - ETA: 0s - loss: 2.3907 - acc: 0.0970"
                ]
              },
              {
                "output_type": "stream",
                "name": "stdout",
                "text": [
                  "\b\b\b\b\b\b\b\b\b\b\b\b\b\b\b\b\b\b\b\b\b\b\b\b\b\b\b\b\b\b\b\b\b\b\b\b\b\b\b\b\b\b\b\b\b\b\b\b\b\b\b\b\b\b\b\b\b\b\b\b\b\b\b\b\b\b\b\b\b\b\b\b\b\b\b\b\b\b\b\r512/600 [========================>.....] - ETA: 0s - loss: 2.3906 - acc: 0.0970"
                ]
              },
              {
                "output_type": "stream",
                "name": "stdout",
                "text": [
                  "\b\b\b\b\b\b\b\b\b\b\b\b\b\b\b\b\b\b\b\b\b\b\b\b\b\b\b\b\b\b\b\b\b\b\b\b\b\b\b\b\b\b\b\b\b\b\b\b\b\b\b\b\b\b\b\b\b\b\b\b\b\b\b\b\b\b\b\b\b\b\b\b\b\b\b\b\b\b\b\r543/600 [==========================>...] - ETA: 0s - loss: 2.3906 - acc: 0.0964"
                ]
              },
              {
                "output_type": "stream",
                "name": "stdout",
                "text": [
                  "\b\b\b\b\b\b\b\b\b\b\b\b\b\b\b\b\b\b\b\b\b\b\b\b\b\b\b\b\b\b\b\b\b\b\b\b\b\b\b\b\b\b\b\b\b\b\b\b\b\b\b\b\b\b\b\b\b\b\b\b\b\b\b\b\b\b\b\b\b\b\b\b\b\b\b\b\b\b\b\r575/600 [===========================>..] - ETA: 0s - loss: 2.3906 - acc: 0.0963"
                ]
              },
              {
                "output_type": "stream",
                "name": "stdout",
                "text": [
                  "\b\b\b\b\b\b\b\b\b\b\b\b\b\b\b\b\b\b\b\b\b\b\b\b\b\b\b\b\b\b\b\b\b\b\b\b\b\b\b\b\b\b\b\b\b\b\b\b\b\b\b\b\b\b\b\b\b\b\b\b\b\b\b\b\b\b\b\b\b\b\b\b\b\b\b\b\b\b\b\r600/600 [==============================] - 1s 2ms/step - loss: 2.3906 - acc: 0.0962 - val_loss: 2.3903 - val_acc: 0.1000\n"
                ]
              },
              {
                "output_type": "stream",
                "name": "stdout",
                "text": [
                  "Epoch 17/20\n",
                  "\r  1/600 [..............................] - ETA: 2s - loss: 2.3904 - acc: 0.1000"
                ]
              },
              {
                "output_type": "stream",
                "name": "stdout",
                "text": [
                  "\b\b\b\b\b\b\b\b\b\b\b\b\b\b\b\b\b\b\b\b\b\b\b\b\b\b\b\b\b\b\b\b\b\b\b\b\b\b\b\b\b\b\b\b\b\b\b\b\b\b\b\b\b\b\b\b\b\b\b\b\b\b\b\b\b\b\b\b\b\b\b\b\b\b\b\b\b\b\b\r 24/600 [>.............................] - ETA: 1s - loss: 2.3903 - acc: 0.1000"
                ]
              },
              {
                "output_type": "stream",
                "name": "stdout",
                "text": [
                  "\b\b\b\b\b\b\b\b\b\b\b\b\b\b\b\b\b\b\b\b\b\b\b\b\b\b\b\b\b\b\b\b\b\b\b\b\b\b\b\b\b\b\b\b\b\b\b\b\b\b\b\b\b\b\b\b\b\b\b\b\b\b\b\b\b\b\b\b\b\b\b\b\b\b\b\b\b\b\b\r 54/600 [=>............................] - ETA: 1s - loss: 2.3903 - acc: 0.0993"
                ]
              },
              {
                "output_type": "stream",
                "name": "stdout",
                "text": [
                  "\b\b\b\b\b\b\b\b\b\b\b\b\b\b\b\b\b\b\b\b\b\b\b\b\b\b\b\b\b\b\b\b\b\b\b\b\b\b\b\b\b\b\b\b\b\b\b\b\b\b\b\b\b\b\b\b\b\b\b\b\b\b\b\b\b\b\b\b\b\b\b\b\b\b\b\b\b\b\b\r 84/600 [===>..........................] - ETA: 0s - loss: 2.3903 - acc: 0.0952"
                ]
              },
              {
                "output_type": "stream",
                "name": "stdout",
                "text": [
                  "\b\b\b\b\b\b\b\b\b\b\b\b\b\b\b\b\b\b\b\b\b\b\b\b\b\b\b\b\b\b\b\b\b\b\b\b\b\b\b\b\b\b\b\b\b\b\b\b\b\b\b\b\b\b\b\b\b\b\b\b\b\b\b\b\b\b\b\b\b\b\b\b\b\b\b\b\b\b\b\r112/600 [====>.........................] - ETA: 0s - loss: 2.3903 - acc: 0.0979"
                ]
              },
              {
                "output_type": "stream",
                "name": "stdout",
                "text": [
                  "\b\b\b\b\b\b\b\b\b\b\b\b\b\b\b\b\b\b\b\b\b\b\b\b\b\b\b\b\b\b\b\b\b\b\b\b\b\b\b\b\b\b\b\b\b\b\b\b\b\b\b\b\b\b\b\b\b\b\b\b\b\b\b\b\b\b\b\b\b\b\b\b\b\b\b\b\b\b\b\r140/600 [======>.......................] - ETA: 0s - loss: 2.3903 - acc: 0.0987"
                ]
              },
              {
                "output_type": "stream",
                "name": "stdout",
                "text": [
                  "\b\b\b\b\b\b\b\b\b\b\b\b\b\b\b\b\b\b\b\b\b\b\b\b\b\b\b\b\b\b\b\b\b\b\b\b\b\b\b\b\b\b\b\b\b\b\b\b\b\b\b\b\b\b\b\b\b\b\b\b\b\b\b\b\b\b\b\b\b\b\b\b\b\b\b\b\b\b\b\r170/600 [=======>......................] - ETA: 0s - loss: 2.3903 - acc: 0.0984"
                ]
              },
              {
                "output_type": "stream",
                "name": "stdout",
                "text": [
                  "\b\b\b\b\b\b\b\b\b\b\b\b\b\b\b\b\b\b\b\b\b\b\b\b\b\b\b\b\b\b\b\b\b\b\b\b\b\b\b\b\b\b\b\b\b\b\b\b\b\b\b\b\b\b\b\b\b\b\b\b\b\b\b\b\b\b\b\b\b\b\b\b\b\b\b\b\b\b\b\r201/600 [=========>....................] - ETA: 0s - loss: 2.3903 - acc: 0.0988"
                ]
              },
              {
                "output_type": "stream",
                "name": "stdout",
                "text": [
                  "\b\b\b\b\b\b\b\b\b\b\b\b\b\b\b\b\b\b\b\b\b\b\b\b\b\b\b\b\b\b\b\b\b\b\b\b\b\b\b\b\b\b\b\b\b\b\b\b\b\b\b\b\b\b\b\b\b\b\b\b\b\b\b\b\b\b\b\b\b\b\b\b\b\b\b\b\b\b\b\r229/600 [==========>...................] - ETA: 0s - loss: 2.3903 - acc: 0.0991"
                ]
              },
              {
                "output_type": "stream",
                "name": "stdout",
                "text": [
                  "\b\b\b\b\b\b\b\b\b\b\b\b\b\b\b\b\b\b\b\b\b\b\b\b\b\b\b\b\b\b\b\b\b\b\b\b\b\b\b\b\b\b\b\b\b\b\b\b\b\b\b\b\b\b\b\b\b\b\b\b\b\b\b\b\b\b\b\b\b\b\b\b\b\b\b\b\b\b\b\r257/600 [===========>..................] - ETA: 0s - loss: 2.3903 - acc: 0.0986"
                ]
              },
              {
                "output_type": "stream",
                "name": "stdout",
                "text": [
                  "\b\b\b\b\b\b\b\b\b\b\b\b\b\b\b\b\b\b\b\b\b\b\b\b\b\b\b\b\b\b\b\b\b\b\b\b\b\b\b\b\b\b\b\b\b\b\b\b\b\b\b\b\b\b\b\b\b\b\b\b\b\b\b\b\b\b\b\b\b\b\b\b\b\b\b\b\b\b\b\r284/600 [=============>................] - ETA: 0s - loss: 2.3902 - acc: 0.1002"
                ]
              },
              {
                "output_type": "stream",
                "name": "stdout",
                "text": [
                  "\b\b\b\b\b\b\b\b\b\b\b\b\b\b\b\b\b\b\b\b\b\b\b\b\b\b\b\b\b\b\b\b\b\b\b\b\b\b\b\b\b\b\b\b\b\b\b\b\b\b\b\b\b\b\b\b\b\b\b\b\b\b\b\b\b\b\b\b\b\b\b\b\b\b\b\b\b\b\b\r314/600 [==============>...............] - ETA: 0s - loss: 2.3902 - acc: 0.0997"
                ]
              },
              {
                "output_type": "stream",
                "name": "stdout",
                "text": [
                  "\b\b\b\b\b\b\b\b\b\b\b\b\b\b\b\b\b\b\b\b\b\b\b\b\b\b\b\b\b\b\b\b\b\b\b\b\b\b\b\b\b\b\b\b\b\b\b\b\b\b\b\b\b\b\b\b\b\b\b\b\b\b\b\b\b\b\b\b\b\b\b\b\b\b\b\b\b\b\b\r344/600 [================>.............] - ETA: 0s - loss: 2.3902 - acc: 0.0989"
                ]
              },
              {
                "output_type": "stream",
                "name": "stdout",
                "text": [
                  "\b\b\b\b\b\b\b\b\b\b\b\b\b\b\b\b\b\b\b\b\b\b\b\b\b\b\b\b\b\b\b\b\b\b\b\b\b\b\b\b\b\b\b\b\b\b\b\b\b\b\b\b\b\b\b\b\b\b\b\b\b\b\b\b\b\b\b\b\b\b\b\b\b\b\b\b\b\b\b\r374/600 [=================>............] - ETA: 0s - loss: 2.3902 - acc: 0.0992"
                ]
              },
              {
                "output_type": "stream",
                "name": "stdout",
                "text": [
                  "\b\b\b\b\b\b\b\b\b\b\b\b\b\b\b\b\b\b\b\b\b\b\b\b\b\b\b\b\b\b\b\b\b\b\b\b\b\b\b\b\b\b\b\b\b\b\b\b\b\b\b\b\b\b\b\b\b\b\b\b\b\b\b\b\b\b\b\b\b\b\b\b\b\b\b\b\b\b\b\r405/600 [===================>..........] - ETA: 0s - loss: 2.3902 - acc: 0.0990"
                ]
              },
              {
                "output_type": "stream",
                "name": "stdout",
                "text": [
                  "\b\b\b\b\b\b\b\b\b\b\b\b\b\b\b\b\b\b\b\b\b\b\b\b\b\b\b\b\b\b\b\b\b\b\b\b\b\b\b\b\b\b\b\b\b\b\b\b\b\b\b\b\b\b\b\b\b\b\b\b\b\b\b\b\b\b\b\b\b\b\b\b\b\b\b\b\b\b\b\r436/600 [====================>.........] - ETA: 0s - loss: 2.3902 - acc: 0.0987"
                ]
              },
              {
                "output_type": "stream",
                "name": "stdout",
                "text": [
                  "\b\b\b\b\b\b\b\b\b\b\b\b\b\b\b\b\b\b\b\b\b\b\b\b\b\b\b\b\b\b\b\b\b\b\b\b\b\b\b\b\b\b\b\b\b\b\b\b\b\b\b\b\b\b\b\b\b\b\b\b\b\b\b\b\b\b\b\b\b\b\b\b\b\b\b\b\b\b\b\r464/600 [======================>.......] - ETA: 0s - loss: 2.3902 - acc: 0.0989"
                ]
              },
              {
                "output_type": "stream",
                "name": "stdout",
                "text": [
                  "\b\b\b\b\b\b\b\b\b\b\b\b\b\b\b\b\b\b\b\b\b\b\b\b\b\b\b\b\b\b\b\b\b\b\b\b\b\b\b\b\b\b\b\b\b\b\b\b\b\b\b\b\b\b\b\b\b\b\b\b\b\b\b\b\b\b\b\b\b\b\b\b\b\b\b\b\b\b\b\r495/600 [=======================>......] - ETA: 0s - loss: 2.3902 - acc: 0.0984"
                ]
              },
              {
                "output_type": "stream",
                "name": "stdout",
                "text": [
                  "\b\b\b\b\b\b\b\b\b\b\b\b\b\b\b\b\b\b\b\b\b\b\b\b\b\b\b\b\b\b\b\b\b\b\b\b\b\b\b\b\b\b\b\b\b\b\b\b\b\b\b\b\b\b\b\b\b\b\b\b\b\b\b\b\b\b\b\b\b\b\b\b\b\b\b\b\b\b\b\r527/600 [=========================>....] - ETA: 0s - loss: 2.3902 - acc: 0.0981"
                ]
              },
              {
                "output_type": "stream",
                "name": "stdout",
                "text": [
                  "\b\b\b\b\b\b\b\b\b\b\b\b\b\b\b\b\b\b\b\b\b\b\b\b\b\b\b\b\b\b\b\b\b\b\b\b\b\b\b\b\b\b\b\b\b\b\b\b\b\b\b\b\b\b\b\b\b\b\b\b\b\b\b\b\b\b\b\b\b\b\b\b\b\b\b\b\b\b\b\r559/600 [==========================>...] - ETA: 0s - loss: 2.3902 - acc: 0.0977"
                ]
              },
              {
                "output_type": "stream",
                "name": "stdout",
                "text": [
                  "\b\b\b\b\b\b\b\b\b\b\b\b\b\b\b\b\b\b\b\b\b\b\b\b\b\b\b\b\b\b\b\b\b\b\b\b\b\b\b\b\b\b\b\b\b\b\b\b\b\b\b\b\b\b\b\b\b\b\b\b\b\b\b\b\b\b\b\b\b\b\b\b\b\b\b\b\b\b\b\r591/600 [============================>.] - ETA: 0s - loss: 2.3901 - acc: 0.0971"
                ]
              },
              {
                "output_type": "stream",
                "name": "stdout",
                "text": [
                  "\b\b\b\b\b\b\b\b\b\b\b\b\b\b\b\b\b\b\b\b\b\b\b\b\b\b\b\b\b\b\b\b\b\b\b\b\b\b\b\b\b\b\b\b\b\b\b\b\b\b\b\b\b\b\b\b\b\b\b\b\b\b\b\b\b\b\b\b\b\b\b\b\b\b\b\b\b\b\b\r600/600 [==============================] - 1s 2ms/step - loss: 2.3901 - acc: 0.0970 - val_loss: 2.3899 - val_acc: 0.1000\n"
                ]
              },
              {
                "output_type": "stream",
                "name": "stdout",
                "text": [
                  "Epoch 18/20\n",
                  "\r  1/600 [..............................] - ETA: 1s - loss: 2.3900 - acc: 0.0600"
                ]
              },
              {
                "output_type": "stream",
                "name": "stdout",
                "text": [
                  "\b\b\b\b\b\b\b\b\b\b\b\b\b\b\b\b\b\b\b\b\b\b\b\b\b\b\b\b\b\b\b\b\b\b\b\b\b\b\b\b\b\b\b\b\b\b\b\b\b\b\b\b\b\b\b\b\b\b\b\b\b\b\b\b\b\b\b\b\b\b\b\b\b\b\b\b\b\b\b\r 28/600 [>.............................] - ETA: 1s - loss: 2.3898 - acc: 0.0975"
                ]
              },
              {
                "output_type": "stream",
                "name": "stdout",
                "text": [
                  "\b\b\b\b\b\b\b\b\b\b\b\b\b\b\b\b\b\b\b\b\b\b\b\b\b\b\b\b\b\b\b\b\b\b\b\b\b\b\b\b\b\b\b\b\b\b\b\b\b\b\b\b\b\b\b\b\b\b\b\b\b\b\b\b\b\b\b\b\b\b\b\b\b\b\b\b\b\b\b\r 57/600 [=>............................] - ETA: 0s - loss: 2.3899 - acc: 0.0940"
                ]
              },
              {
                "output_type": "stream",
                "name": "stdout",
                "text": [
                  "\b\b\b\b\b\b\b\b\b\b\b\b\b\b\b\b\b\b\b\b\b\b\b\b\b\b\b\b\b\b\b\b\b\b\b\b\b\b\b\b\b\b\b\b\b\b\b\b\b\b\b\b\b\b\b\b\b\b\b\b\b\b\b\b\b\b\b\b\b\b\b\b\b\b\b\b\b\b\b\r 84/600 [===>..........................] - ETA: 0s - loss: 2.3899 - acc: 0.0945"
                ]
              },
              {
                "output_type": "stream",
                "name": "stdout",
                "text": [
                  "\b\b\b\b\b\b\b\b\b\b\b\b\b\b\b\b\b\b\b\b\b\b\b\b\b\b\b\b\b\b\b\b\b\b\b\b\b\b\b\b\b\b\b\b\b\b\b\b\b\b\b\b\b\b\b\b\b\b\b\b\b\b\b\b\b\b\b\b\b\b\b\b\b\b\b\b\b\b\b\r112/600 [====>.........................] - ETA: 0s - loss: 2.3899 - acc: 0.0957"
                ]
              },
              {
                "output_type": "stream",
                "name": "stdout",
                "text": [
                  "\b\b\b\b\b\b\b\b\b\b\b\b\b\b\b\b\b\b\b\b\b\b\b\b\b\b\b\b\b\b\b\b\b\b\b\b\b\b\b\b\b\b\b\b\b\b\b\b\b\b\b\b\b\b\b\b\b\b\b\b\b\b\b\b\b\b\b\b\b\b\b\b\b\b\b\b\b\b\b\r140/600 [======>.......................] - ETA: 0s - loss: 2.3898 - acc: 0.0966"
                ]
              },
              {
                "output_type": "stream",
                "name": "stdout",
                "text": [
                  "\b\b\b\b\b\b\b\b\b\b\b\b\b\b\b\b\b\b\b\b\b\b\b\b\b\b\b\b\b\b\b\b\b\b\b\b\b\b\b\b\b\b\b\b\b\b\b\b\b\b\b\b\b\b\b\b\b\b\b\b\b\b\b\b\b\b\b\b\b\b\b\b\b\b\b\b\b\b\b\r170/600 [=======>......................] - ETA: 0s - loss: 2.3898 - acc: 0.0958"
                ]
              },
              {
                "output_type": "stream",
                "name": "stdout",
                "text": [
                  "\b\b\b\b\b\b\b\b\b\b\b\b\b\b\b\b\b\b\b\b\b\b\b\b\b\b\b\b\b\b\b\b\b\b\b\b\b\b\b\b\b\b\b\b\b\b\b\b\b\b\b\b\b\b\b\b\b\b\b\b\b\b\b\b\b\b\b\b\b\b\b\b\b\b\b\b\b\b\b\r201/600 [=========>....................] - ETA: 0s - loss: 2.3898 - acc: 0.0955"
                ]
              },
              {
                "output_type": "stream",
                "name": "stdout",
                "text": [
                  "\b\b\b\b\b\b\b\b\b\b\b\b\b\b\b\b\b\b\b\b\b\b\b\b\b\b\b\b\b\b\b\b\b\b\b\b\b\b\b\b\b\b\b\b\b\b\b\b\b\b\b\b\b\b\b\b\b\b\b\b\b\b\b\b\b\b\b\b\b\b\b\b\b\b\b\b\b\b\b\r229/600 [==========>...................] - ETA: 0s - loss: 2.3898 - acc: 0.0967"
                ]
              },
              {
                "output_type": "stream",
                "name": "stdout",
                "text": [
                  "\b\b\b\b\b\b\b\b\b\b\b\b\b\b\b\b\b\b\b\b\b\b\b\b\b\b\b\b\b\b\b\b\b\b\b\b\b\b\b\b\b\b\b\b\b\b\b\b\b\b\b\b\b\b\b\b\b\b\b\b\b\b\b\b\b\b\b\b\b\b\b\b\b\b\b\b\b\b\b\r261/600 [============>.................] - ETA: 0s - loss: 2.3898 - acc: 0.0957"
                ]
              },
              {
                "output_type": "stream",
                "name": "stdout",
                "text": [
                  "\b\b\b\b\b\b\b\b\b\b\b\b\b\b\b\b\b\b\b\b\b\b\b\b\b\b\b\b\b\b\b\b\b\b\b\b\b\b\b\b\b\b\b\b\b\b\b\b\b\b\b\b\b\b\b\b\b\b\b\b\b\b\b\b\b\b\b\b\b\b\b\b\b\b\b\b\b\b\b\r294/600 [=============>................] - ETA: 0s - loss: 2.3898 - acc: 0.0952"
                ]
              },
              {
                "output_type": "stream",
                "name": "stdout",
                "text": [
                  "\b\b\b\b\b\b\b\b\b\b\b\b\b\b\b\b\b\b\b\b\b\b\b\b\b\b\b\b\b\b\b\b\b\b\b\b\b\b\b\b\b\b\b\b\b\b\b\b\b\b\b\b\b\b\b\b\b\b\b\b\b\b\b\b\b\b\b\b\b\b\b\b\b\b\b\b\b\b\b\r327/600 [===============>..............] - ETA: 0s - loss: 2.3898 - acc: 0.0954"
                ]
              },
              {
                "output_type": "stream",
                "name": "stdout",
                "text": [
                  "\b\b\b\b\b\b\b\b\b\b\b\b\b\b\b\b\b\b\b\b\b\b\b\b\b\b\b\b\b\b\b\b\b\b\b\b\b\b\b\b\b\b\b\b\b\b\b\b\b\b\b\b\b\b\b\b\b\b\b\b\b\b\b\b\b\b\b\b\b\b\b\b\b\b\b\b\b\b\b\r359/600 [================>.............] - ETA: 0s - loss: 2.3898 - acc: 0.0960"
                ]
              },
              {
                "output_type": "stream",
                "name": "stdout",
                "text": [
                  "\b\b\b\b\b\b\b\b\b\b\b\b\b\b\b\b\b\b\b\b\b\b\b\b\b\b\b\b\b\b\b\b\b\b\b\b\b\b\b\b\b\b\b\b\b\b\b\b\b\b\b\b\b\b\b\b\b\b\b\b\b\b\b\b\b\b\b\b\b\b\b\b\b\b\b\b\b\b\b\r391/600 [==================>...........] - ETA: 0s - loss: 2.3897 - acc: 0.0957"
                ]
              },
              {
                "output_type": "stream",
                "name": "stdout",
                "text": [
                  "\b\b\b\b\b\b\b\b\b\b\b\b\b\b\b\b\b\b\b\b\b\b\b\b\b\b\b\b\b\b\b\b\b\b\b\b\b\b\b\b\b\b\b\b\b\b\b\b\b\b\b\b\b\b\b\b\b\b\b\b\b\b\b\b\b\b\b\b\b\b\b\b\b\b\b\b\b\b\b\r421/600 [====================>.........] - ETA: 0s - loss: 2.3897 - acc: 0.0956"
                ]
              },
              {
                "output_type": "stream",
                "name": "stdout",
                "text": [
                  "\b\b\b\b\b\b\b\b\b\b\b\b\b\b\b\b\b\b\b\b\b\b\b\b\b\b\b\b\b\b\b\b\b\b\b\b\b\b\b\b\b\b\b\b\b\b\b\b\b\b\b\b\b\b\b\b\b\b\b\b\b\b\b\b\b\b\b\b\b\b\b\b\b\b\b\b\b\b\b\r451/600 [=====================>........] - ETA: 0s - loss: 2.3897 - acc: 0.0951"
                ]
              },
              {
                "output_type": "stream",
                "name": "stdout",
                "text": [
                  "\b\b\b\b\b\b\b\b\b\b\b\b\b\b\b\b\b\b\b\b\b\b\b\b\b\b\b\b\b\b\b\b\b\b\b\b\b\b\b\b\b\b\b\b\b\b\b\b\b\b\b\b\b\b\b\b\b\b\b\b\b\b\b\b\b\b\b\b\b\b\b\b\b\b\b\b\b\b\b\r480/600 [=======================>......] - ETA: 0s - loss: 2.3897 - acc: 0.0953"
                ]
              },
              {
                "output_type": "stream",
                "name": "stdout",
                "text": [
                  "\b\b\b\b\b\b\b\b\b\b\b\b\b\b\b\b\b\b\b\b\b\b\b\b\b\b\b\b\b\b\b\b\b\b\b\b\b\b\b\b\b\b\b\b\b\b\b\b\b\b\b\b\b\b\b\b\b\b\b\b\b\b\b\b\b\b\b\b\b\b\b\b\b\b\b\b\b\b\b\r506/600 [========================>.....] - ETA: 0s - loss: 2.3897 - acc: 0.0953"
                ]
              },
              {
                "output_type": "stream",
                "name": "stdout",
                "text": [
                  "\b\b\b\b\b\b\b\b\b\b\b\b\b\b\b\b\b\b\b\b\b\b\b\b\b\b\b\b\b\b\b\b\b\b\b\b\b\b\b\b\b\b\b\b\b\b\b\b\b\b\b\b\b\b\b\b\b\b\b\b\b\b\b\b\b\b\b\b\b\b\b\b\b\b\b\b\b\b\b\r525/600 [=========================>....] - ETA: 0s - loss: 2.3897 - acc: 0.0953"
                ]
              },
              {
                "output_type": "stream",
                "name": "stdout",
                "text": [
                  "\b\b\b\b\b\b\b\b\b\b\b\b\b\b\b\b\b\b\b\b\b\b\b\b\b\b\b\b\b\b\b\b\b\b\b\b\b\b\b\b\b\b\b\b\b\b\b\b\b\b\b\b\b\b\b\b\b\b\b\b\b\b\b\b\b\b\b\b\b\b\b\b\b\b\b\b\b\b\b\r551/600 [==========================>...] - ETA: 0s - loss: 2.3897 - acc: 0.0951"
                ]
              },
              {
                "output_type": "stream",
                "name": "stdout",
                "text": [
                  "\b\b\b\b\b\b\b\b\b\b\b\b\b\b\b\b\b\b\b\b\b\b\b\b\b\b\b\b\b\b\b\b\b\b\b\b\b\b\b\b\b\b\b\b\b\b\b\b\b\b\b\b\b\b\b\b\b\b\b\b\b\b\b\b\b\b\b\b\b\b\b\b\b\b\b\b\b\b\b\r578/600 [===========================>..] - ETA: 0s - loss: 2.3897 - acc: 0.0946"
                ]
              },
              {
                "output_type": "stream",
                "name": "stdout",
                "text": [
                  "\b\b\b\b\b\b\b\b\b\b\b\b\b\b\b\b\b\b\b\b\b\b\b\b\b\b\b\b\b\b\b\b\b\b\b\b\b\b\b\b\b\b\b\b\b\b\b\b\b\b\b\b\b\b\b\b\b\b\b\b\b\b\b\b\b\b\b\b\b\b\b\b\b\b\b\b\b\b\b\r600/600 [==============================] - 1s 2ms/step - loss: 2.3897 - acc: 0.0943 - val_loss: 2.3894 - val_acc: 0.1000\n"
                ]
              },
              {
                "output_type": "stream",
                "name": "stdout",
                "text": [
                  "Epoch 19/20\n",
                  "\r  1/600 [..............................] - ETA: 1s - loss: 2.3895 - acc: 0.0800"
                ]
              },
              {
                "output_type": "stream",
                "name": "stdout",
                "text": [
                  "\b\b\b\b\b\b\b\b\b\b\b\b\b\b\b\b\b\b\b\b\b\b\b\b\b\b\b\b\b\b\b\b\b\b\b\b\b\b\b\b\b\b\b\b\b\b\b\b\b\b\b\b\b\b\b\b\b\b\b\b\b\b\b\b\b\b\b\b\b\b\b\b\b\b\b\b\b\b\b\r 28/600 [>.............................] - ETA: 1s - loss: 2.3894 - acc: 0.0954"
                ]
              },
              {
                "output_type": "stream",
                "name": "stdout",
                "text": [
                  "\b\b\b\b\b\b\b\b\b\b\b\b\b\b\b\b\b\b\b\b\b\b\b\b\b\b\b\b\b\b\b\b\b\b\b\b\b\b\b\b\b\b\b\b\b\b\b\b\b\b\b\b\b\b\b\b\b\b\b\b\b\b\b\b\b\b\b\b\b\b\b\b\b\b\b\b\b\b\b\r 57/600 [=>............................] - ETA: 0s - loss: 2.3894 - acc: 0.1023"
                ]
              },
              {
                "output_type": "stream",
                "name": "stdout",
                "text": [
                  "\b\b\b\b\b\b\b\b\b\b\b\b\b\b\b\b\b\b\b\b\b\b\b\b\b\b\b\b\b\b\b\b\b\b\b\b\b\b\b\b\b\b\b\b\b\b\b\b\b\b\b\b\b\b\b\b\b\b\b\b\b\b\b\b\b\b\b\b\b\b\b\b\b\b\b\b\b\b\b\r 87/600 [===>..........................] - ETA: 0s - loss: 2.3894 - acc: 0.1028"
                ]
              },
              {
                "output_type": "stream",
                "name": "stdout",
                "text": [
                  "\b\b\b\b\b\b\b\b\b\b\b\b\b\b\b\b\b\b\b\b\b\b\b\b\b\b\b\b\b\b\b\b\b\b\b\b\b\b\b\b\b\b\b\b\b\b\b\b\b\b\b\b\b\b\b\b\b\b\b\b\b\b\b\b\b\b\b\b\b\b\b\b\b\b\b\b\b\b\b\r118/600 [====>.........................] - ETA: 0s - loss: 2.3894 - acc: 0.1003"
                ]
              },
              {
                "output_type": "stream",
                "name": "stdout",
                "text": [
                  "\b\b\b\b\b\b\b\b\b\b\b\b\b\b\b\b\b\b\b\b\b\b\b\b\b\b\b\b\b\b\b\b\b\b\b\b\b\b\b\b\b\b\b\b\b\b\b\b\b\b\b\b\b\b\b\b\b\b\b\b\b\b\b\b\b\b\b\b\b\b\b\b\b\b\b\b\b\b\b\r148/600 [======>.......................] - ETA: 0s - loss: 2.3893 - acc: 0.0992"
                ]
              },
              {
                "output_type": "stream",
                "name": "stdout",
                "text": [
                  "\b\b\b\b\b\b\b\b\b\b\b\b\b\b\b\b\b\b\b\b\b\b\b\b\b\b\b\b\b\b\b\b\b\b\b\b\b\b\b\b\b\b\b\b\b\b\b\b\b\b\b\b\b\b\b\b\b\b\b\b\b\b\b\b\b\b\b\b\b\b\b\b\b\b\b\b\b\b\b\r183/600 [========>.....................] - ETA: 0s - loss: 2.3893 - acc: 0.1000"
                ]
              },
              {
                "output_type": "stream",
                "name": "stdout",
                "text": [
                  "\b\b\b\b\b\b\b\b\b\b\b\b\b\b\b\b\b\b\b\b\b\b\b\b\b\b\b\b\b\b\b\b\b\b\b\b\b\b\b\b\b\b\b\b\b\b\b\b\b\b\b\b\b\b\b\b\b\b\b\b\b\b\b\b\b\b\b\b\b\b\b\b\b\b\b\b\b\b\b\r217/600 [=========>....................] - ETA: 0s - loss: 2.3893 - acc: 0.0994"
                ]
              },
              {
                "output_type": "stream",
                "name": "stdout",
                "text": [
                  "\b\b\b\b\b\b\b\b\b\b\b\b\b\b\b\b\b\b\b\b\b\b\b\b\b\b\b\b\b\b\b\b\b\b\b\b\b\b\b\b\b\b\b\b\b\b\b\b\b\b\b\b\b\b\b\b\b\b\b\b\b\b\b\b\b\b\b\b\b\b\b\b\b\b\b\b\b\b\b\r250/600 [===========>..................] - ETA: 0s - loss: 2.3893 - acc: 0.0986"
                ]
              },
              {
                "output_type": "stream",
                "name": "stdout",
                "text": [
                  "\b\b\b\b\b\b\b\b\b\b\b\b\b\b\b\b\b\b\b\b\b\b\b\b\b\b\b\b\b\b\b\b\b\b\b\b\b\b\b\b\b\b\b\b\b\b\b\b\b\b\b\b\b\b\b\b\b\b\b\b\b\b\b\b\b\b\b\b\b\b\b\b\b\b\b\b\b\b\b\r281/600 [=============>................] - ETA: 0s - loss: 2.3893 - acc: 0.0984"
                ]
              },
              {
                "output_type": "stream",
                "name": "stdout",
                "text": [
                  "\b\b\b\b\b\b\b\b\b\b\b\b\b\b\b\b\b\b\b\b\b\b\b\b\b\b\b\b\b\b\b\b\b\b\b\b\b\b\b\b\b\b\b\b\b\b\b\b\b\b\b\b\b\b\b\b\b\b\b\b\b\b\b\b\b\b\b\b\b\b\b\b\b\b\b\b\b\b\b\r311/600 [==============>...............] - ETA: 0s - loss: 2.3893 - acc: 0.0984"
                ]
              },
              {
                "output_type": "stream",
                "name": "stdout",
                "text": [
                  "\b\b\b\b\b\b\b\b\b\b\b\b\b\b\b\b\b\b\b\b\b\b\b\b\b\b\b\b\b\b\b\b\b\b\b\b\b\b\b\b\b\b\b\b\b\b\b\b\b\b\b\b\b\b\b\b\b\b\b\b\b\b\b\b\b\b\b\b\b\b\b\b\b\b\b\b\b\b\b\r343/600 [================>.............] - ETA: 0s - loss: 2.3893 - acc: 0.0980"
                ]
              },
              {
                "output_type": "stream",
                "name": "stdout",
                "text": [
                  "\b\b\b\b\b\b\b\b\b\b\b\b\b\b\b\b\b\b\b\b\b\b\b\b\b\b\b\b\b\b\b\b\b\b\b\b\b\b\b\b\b\b\b\b\b\b\b\b\b\b\b\b\b\b\b\b\b\b\b\b\b\b\b\b\b\b\b\b\b\b\b\b\b\b\b\b\b\b\b\r375/600 [=================>............] - ETA: 0s - loss: 2.3893 - acc: 0.0981"
                ]
              },
              {
                "output_type": "stream",
                "name": "stdout",
                "text": [
                  "\b\b\b\b\b\b\b\b\b\b\b\b\b\b\b\b\b\b\b\b\b\b\b\b\b\b\b\b\b\b\b\b\b\b\b\b\b\b\b\b\b\b\b\b\b\b\b\b\b\b\b\b\b\b\b\b\b\b\b\b\b\b\b\b\b\b\b\b\b\b\b\b\b\b\b\b\b\b\b\r406/600 [===================>..........] - ETA: 0s - loss: 2.3893 - acc: 0.0974"
                ]
              },
              {
                "output_type": "stream",
                "name": "stdout",
                "text": [
                  "\b\b\b\b\b\b\b\b\b\b\b\b\b\b\b\b\b\b\b\b\b\b\b\b\b\b\b\b\b\b\b\b\b\b\b\b\b\b\b\b\b\b\b\b\b\b\b\b\b\b\b\b\b\b\b\b\b\b\b\b\b\b\b\b\b\b\b\b\b\b\b\b\b\b\b\b\b\b\b\r432/600 [====================>.........] - ETA: 0s - loss: 2.3893 - acc: 0.0974"
                ]
              },
              {
                "output_type": "stream",
                "name": "stdout",
                "text": [
                  "\b\b\b\b\b\b\b\b\b\b\b\b\b\b\b\b\b\b\b\b\b\b\b\b\b\b\b\b\b\b\b\b\b\b\b\b\b\b\b\b\b\b\b\b\b\b\b\b\b\b\b\b\b\b\b\b\b\b\b\b\b\b\b\b\b\b\b\b\b\b\b\b\b\b\b\b\b\b\b\r457/600 [=====================>........] - ETA: 0s - loss: 2.3892 - acc: 0.0978"
                ]
              },
              {
                "output_type": "stream",
                "name": "stdout",
                "text": [
                  "\b\b\b\b\b\b\b\b\b\b\b\b\b\b\b\b\b\b\b\b\b\b\b\b\b\b\b\b\b\b\b\b\b\b\b\b\b\b\b\b\b\b\b\b\b\b\b\b\b\b\b\b\b\b\b\b\b\b\b\b\b\b\b\b\b\b\b\b\b\b\b\b\b\b\b\b\b\b\b\r487/600 [=======================>......] - ETA: 0s - loss: 2.3892 - acc: 0.0976"
                ]
              },
              {
                "output_type": "stream",
                "name": "stdout",
                "text": [
                  "\b\b\b\b\b\b\b\b\b\b\b\b\b\b\b\b\b\b\b\b\b\b\b\b\b\b\b\b\b\b\b\b\b\b\b\b\b\b\b\b\b\b\b\b\b\b\b\b\b\b\b\b\b\b\b\b\b\b\b\b\b\b\b\b\b\b\b\b\b\b\b\b\b\b\b\b\b\b\b\r517/600 [========================>.....] - ETA: 0s - loss: 2.3892 - acc: 0.0980"
                ]
              },
              {
                "output_type": "stream",
                "name": "stdout",
                "text": [
                  "\b\b\b\b\b\b\b\b\b\b\b\b\b\b\b\b\b\b\b\b\b\b\b\b\b\b\b\b\b\b\b\b\b\b\b\b\b\b\b\b\b\b\b\b\b\b\b\b\b\b\b\b\b\b\b\b\b\b\b\b\b\b\b\b\b\b\b\b\b\b\b\b\b\b\b\b\b\b\b\r546/600 [==========================>...] - ETA: 0s - loss: 2.3892 - acc: 0.0981"
                ]
              },
              {
                "output_type": "stream",
                "name": "stdout",
                "text": [
                  "\b\b\b\b\b\b\b\b\b\b\b\b\b\b\b\b\b\b\b\b\b\b\b\b\b\b\b\b\b\b\b\b\b\b\b\b\b\b\b\b\b\b\b\b\b\b\b\b\b\b\b\b\b\b\b\b\b\b\b\b\b\b\b\b\b\b\b\b\b\b\b\b\b\b\b\b\b\b\b\r576/600 [===========================>..] - ETA: 0s - loss: 2.3892 - acc: 0.0976"
                ]
              },
              {
                "output_type": "stream",
                "name": "stdout",
                "text": [
                  "\b\b\b\b\b\b\b\b\b\b\b\b\b\b\b\b\b\b\b\b\b\b\b\b\b\b\b\b\b\b\b\b\b\b\b\b\b\b\b\b\b\b\b\b\b\b\b\b\b\b\b\b\b\b\b\b\b\b\b\b\b\b\b\b\b\b\b\b\b\b\b\b\b\b\b\b\b\b\b\r600/600 [==============================] - 1s 2ms/step - loss: 2.3892 - acc: 0.0976 - val_loss: 2.3889 - val_acc: 0.1000\n"
                ]
              },
              {
                "output_type": "stream",
                "name": "stdout",
                "text": [
                  "Epoch 20/20\n",
                  "\r  1/600 [..............................] - ETA: 3s - loss: 2.3889 - acc: 0.0900"
                ]
              },
              {
                "output_type": "stream",
                "name": "stdout",
                "text": [
                  "\b\b\b\b\b\b\b\b\b\b\b\b\b\b\b\b\b\b\b\b\b\b\b\b\b\b\b\b\b\b\b\b\b\b\b\b\b\b\b\b\b\b\b\b\b\b\b\b\b\b\b\b\b\b\b\b\b\b\b\b\b\b\b\b\b\b\b\b\b\b\b\b\b\b\b\b\b\b\b\r 31/600 [>.............................] - ETA: 0s - loss: 2.3889 - acc: 0.1058"
                ]
              },
              {
                "output_type": "stream",
                "name": "stdout",
                "text": [
                  "\b\b\b\b\b\b\b\b\b\b\b\b\b\b\b\b\b\b\b\b\b\b\b\b\b\b\b\b\b\b\b\b\b\b\b\b\b\b\b\b\b\b\b\b\b\b\b\b\b\b\b\b\b\b\b\b\b\b\b\b\b\b\b\b\b\b\b\b\b\b\b\b\b\b\b\b\b\b\b\r 61/600 [==>...........................] - ETA: 0s - loss: 2.3889 - acc: 0.1033"
                ]
              },
              {
                "output_type": "stream",
                "name": "stdout",
                "text": [
                  "\b\b\b\b\b\b\b\b\b\b\b\b\b\b\b\b\b\b\b\b\b\b\b\b\b\b\b\b\b\b\b\b\b\b\b\b\b\b\b\b\b\b\b\b\b\b\b\b\b\b\b\b\b\b\b\b\b\b\b\b\b\b\b\b\b\b\b\b\b\b\b\b\b\b\b\b\b\b\b\r 91/600 [===>..........................] - ETA: 0s - loss: 2.3888 - acc: 0.1019"
                ]
              },
              {
                "output_type": "stream",
                "name": "stdout",
                "text": [
                  "\b\b\b\b\b\b\b\b\b\b\b\b\b\b\b\b\b\b\b\b\b\b\b\b\b\b\b\b\b\b\b\b\b\b\b\b\b\b\b\b\b\b\b\b\b\b\b\b\b\b\b\b\b\b\b\b\b\b\b\b\b\b\b\b\b\b\b\b\b\b\b\b\b\b\b\b\b\b\b\r123/600 [=====>........................] - ETA: 0s - loss: 2.3889 - acc: 0.1015"
                ]
              },
              {
                "output_type": "stream",
                "name": "stdout",
                "text": [
                  "\b\b\b\b\b\b\b\b\b\b\b\b\b\b\b\b\b\b\b\b\b\b\b\b\b\b\b\b\b\b\b\b\b\b\b\b\b\b\b\b\b\b\b\b\b\b\b\b\b\b\b\b\b\b\b\b\b\b\b\b\b\b\b\b\b\b\b\b\b\b\b\b\b\b\b\b\b\b\b\r155/600 [======>.......................] - ETA: 0s - loss: 2.3889 - acc: 0.1006"
                ]
              },
              {
                "output_type": "stream",
                "name": "stdout",
                "text": [
                  "\b\b\b\b\b\b\b\b\b\b\b\b\b\b\b\b\b\b\b\b\b\b\b\b\b\b\b\b\b\b\b\b\b\b\b\b\b\b\b\b\b\b\b\b\b\b\b\b\b\b\b\b\b\b\b\b\b\b\b\b\b\b\b\b\b\b\b\b\b\b\b\b\b\b\b\b\b\b\b\r187/600 [========>.....................] - ETA: 0s - loss: 2.3889 - acc: 0.1002"
                ]
              },
              {
                "output_type": "stream",
                "name": "stdout",
                "text": [
                  "\b\b\b\b\b\b\b\b\b\b\b\b\b\b\b\b\b\b\b\b\b\b\b\b\b\b\b\b\b\b\b\b\b\b\b\b\b\b\b\b\b\b\b\b\b\b\b\b\b\b\b\b\b\b\b\b\b\b\b\b\b\b\b\b\b\b\b\b\b\b\b\b\b\b\b\b\b\b\b\r219/600 [=========>....................] - ETA: 0s - loss: 2.3888 - acc: 0.1007"
                ]
              },
              {
                "output_type": "stream",
                "name": "stdout",
                "text": [
                  "\b\b\b\b\b\b\b\b\b\b\b\b\b\b\b\b\b\b\b\b\b\b\b\b\b\b\b\b\b\b\b\b\b\b\b\b\b\b\b\b\b\b\b\b\b\b\b\b\b\b\b\b\b\b\b\b\b\b\b\b\b\b\b\b\b\b\b\b\b\b\b\b\b\b\b\b\b\b\b\r252/600 [===========>..................] - ETA: 0s - loss: 2.3888 - acc: 0.1002"
                ]
              },
              {
                "output_type": "stream",
                "name": "stdout",
                "text": [
                  "\b\b\b\b\b\b\b\b\b\b\b\b\b\b\b\b\b\b\b\b\b\b\b\b\b\b\b\b\b\b\b\b\b\b\b\b\b\b\b\b\b\b\b\b\b\b\b\b\b\b\b\b\b\b\b\b\b\b\b\b\b\b\b\b\b\b\b\b\b\b\b\b\b\b\b\b\b\b\b\r281/600 [=============>................] - ETA: 0s - loss: 2.3888 - acc: 0.1005"
                ]
              },
              {
                "output_type": "stream",
                "name": "stdout",
                "text": [
                  "\b\b\b\b\b\b\b\b\b\b\b\b\b\b\b\b\b\b\b\b\b\b\b\b\b\b\b\b\b\b\b\b\b\b\b\b\b\b\b\b\b\b\b\b\b\b\b\b\b\b\b\b\b\b\b\b\b\b\b\b\b\b\b\b\b\b\b\b\b\b\b\b\b\b\b\b\b\b\b\r311/600 [==============>...............] - ETA: 0s - loss: 2.3888 - acc: 0.1010"
                ]
              },
              {
                "output_type": "stream",
                "name": "stdout",
                "text": [
                  "\b\b\b\b\b\b\b\b\b\b\b\b\b\b\b\b\b\b\b\b\b\b\b\b\b\b\b\b\b\b\b\b\b\b\b\b\b\b\b\b\b\b\b\b\b\b\b\b\b\b\b\b\b\b\b\b\b\b\b\b\b\b\b\b\b\b\b\b\b\b\b\b\b\b\b\b\b\b\b\r336/600 [===============>..............] - ETA: 0s - loss: 2.3888 - acc: 0.1004"
                ]
              },
              {
                "output_type": "stream",
                "name": "stdout",
                "text": [
                  "\b\b\b\b\b\b\b\b\b\b\b\b\b\b\b\b\b\b\b\b\b\b\b\b\b\b\b\b\b\b\b\b\b\b\b\b\b\b\b\b\b\b\b\b\b\b\b\b\b\b\b\b\b\b\b\b\b\b\b\b\b\b\b\b\b\b\b\b\b\b\b\b\b\b\b\b\b\b\b\r366/600 [=================>............] - ETA: 0s - loss: 2.3888 - acc: 0.1001"
                ]
              },
              {
                "output_type": "stream",
                "name": "stdout",
                "text": [
                  "\b\b\b\b\b\b\b\b\b\b\b\b\b\b\b\b\b\b\b\b\b\b\b\b\b\b\b\b\b\b\b\b\b\b\b\b\b\b\b\b\b\b\b\b\b\b\b\b\b\b\b\b\b\b\b\b\b\b\b\b\b\b\b\b\b\b\b\b\b\b\b\b\b\b\b\b\b\b\b\r395/600 [==================>...........] - ETA: 0s - loss: 2.3888 - acc: 0.1000"
                ]
              },
              {
                "output_type": "stream",
                "name": "stdout",
                "text": [
                  "\b\b\b\b\b\b\b\b\b\b\b\b\b\b\b\b\b\b\b\b\b\b\b\b\b\b\b\b\b\b\b\b\b\b\b\b\b\b\b\b\b\b\b\b\b\b\b\b\b\b\b\b\b\b\b\b\b\b\b\b\b\b\b\b\b\b\b\b\b\b\b\b\b\b\b\b\b\b\b\r422/600 [====================>.........] - ETA: 0s - loss: 2.3888 - acc: 0.0998"
                ]
              },
              {
                "output_type": "stream",
                "name": "stdout",
                "text": [
                  "\b\b\b\b\b\b\b\b\b\b\b\b\b\b\b\b\b\b\b\b\b\b\b\b\b\b\b\b\b\b\b\b\b\b\b\b\b\b\b\b\b\b\b\b\b\b\b\b\b\b\b\b\b\b\b\b\b\b\b\b\b\b\b\b\b\b\b\b\b\b\b\b\b\b\b\b\b\b\b\r450/600 [=====================>........] - ETA: 0s - loss: 2.3888 - acc: 0.0995"
                ]
              },
              {
                "output_type": "stream",
                "name": "stdout",
                "text": [
                  "\b\b\b\b\b\b\b\b\b\b\b\b\b\b\b\b\b\b\b\b\b\b\b\b\b\b\b\b\b\b\b\b\b\b\b\b\b\b\b\b\b\b\b\b\b\b\b\b\b\b\b\b\b\b\b\b\b\b\b\b\b\b\b\b\b\b\b\b\b\b\b\b\b\b\b\b\b\b\b\r480/600 [=======================>......] - ETA: 0s - loss: 2.3888 - acc: 0.0997"
                ]
              },
              {
                "output_type": "stream",
                "name": "stdout",
                "text": [
                  "\b\b\b\b\b\b\b\b\b\b\b\b\b\b\b\b\b\b\b\b\b\b\b\b\b\b\b\b\b\b\b\b\b\b\b\b\b\b\b\b\b\b\b\b\b\b\b\b\b\b\b\b\b\b\b\b\b\b\b\b\b\b\b\b\b\b\b\b\b\b\b\b\b\b\b\b\b\b\b\r508/600 [========================>.....] - ETA: 0s - loss: 2.3888 - acc: 0.0994"
                ]
              },
              {
                "output_type": "stream",
                "name": "stdout",
                "text": [
                  "\b\b\b\b\b\b\b\b\b\b\b\b\b\b\b\b\b\b\b\b\b\b\b\b\b\b\b\b\b\b\b\b\b\b\b\b\b\b\b\b\b\b\b\b\b\b\b\b\b\b\b\b\b\b\b\b\b\b\b\b\b\b\b\b\b\b\b\b\b\b\b\b\b\b\b\b\b\b\b\r537/600 [=========================>....] - ETA: 0s - loss: 2.3887 - acc: 0.0993"
                ]
              },
              {
                "output_type": "stream",
                "name": "stdout",
                "text": [
                  "\b\b\b\b\b\b\b\b\b\b\b\b\b\b\b\b\b\b\b\b\b\b\b\b\b\b\b\b\b\b\b\b\b\b\b\b\b\b\b\b\b\b\b\b\b\b\b\b\b\b\b\b\b\b\b\b\b\b\b\b\b\b\b\b\b\b\b\b\b\b\b\b\b\b\b\b\b\b\b\r564/600 [===========================>..] - ETA: 0s - loss: 2.3887 - acc: 0.0990"
                ]
              },
              {
                "output_type": "stream",
                "name": "stdout",
                "text": [
                  "\b\b\b\b\b\b\b\b\b\b\b\b\b\b\b\b\b\b\b\b\b\b\b\b\b\b\b\b\b\b\b\b\b\b\b\b\b\b\b\b\b\b\b\b\b\b\b\b\b\b\b\b\b\b\b\b\b\b\b\b\b\b\b\b\b\b\b\b\b\b\b\b\b\b\b\b\b\b\b\r595/600 [============================>.] - ETA: 0s - loss: 2.3887 - acc: 0.0985"
                ]
              },
              {
                "output_type": "stream",
                "name": "stdout",
                "text": [
                  "\b\b\b\b\b\b\b\b\b\b\b\b\b\b\b\b\b\b\b\b\b\b\b\b\b\b\b\b\b\b\b\b\b\b\b\b\b\b\b\b\b\b\b\b\b\b\b\b\b\b\b\b\b\b\b\b\b\b\b\b\b\b\b\b\b\b\b\b\b\b\b\b\b\b\b\b\b\b\b\r600/600 [==============================] - 1s 2ms/step - loss: 2.3887 - acc: 0.0985 - val_loss: 2.3885 - val_acc: 0.1000\n"
                ]
              },
              {
                "output_type": "stream",
                "name": "stdout",
                "text": [
                  "Accuracy:  0.10000000149011612\n"
                ]
              },
              {
                "output_type": "display_data",
                "data": {
                  "image/png": "iVBORw0KGgoAAAANSUhEUgAAAY4AAAEWCAYAAABxMXBSAAAABHNCSVQICAgIfAhkiAAAAAlwSFlzAAALEgAACxIB0t1+/AAAADh0RVh0U29mdHdhcmUAbWF0cGxvdGxpYiB2ZXJzaW9uMy4yLjIsIGh0dHA6Ly9tYXRwbG90bGliLm9yZy+WH4yJAAAgAElEQVR4nOzdeXiU5bn48e+dmWSyTRLIStjClhB2BDfcUFSoglqrVVtbbW2ttra/0+VY23Nqt9PF03patT2np4vVtqd1t0Wr4oKgiCKLImsWMIEEyDIhO9mf3x/zDgwhCZNk3syS+3NdczF5t3nekJl7nu1+xBiDUkopFaiYUBdAKaVUZNHAoZRSalA0cCillBoUDRxKKaUGRQOHUkqpQdHAoZRSalA0cCjVDxHJExEjIs4Ajr1VRDaMRLmUCjUNHCoqiEiZiHSISEav7e9ZH/55oSmZUtFHA4eKJh8CN/l+EJG5QGLoihMeAqkxKTUYGjhUNPkz8Gm/n28B/uR/gIikisifRKRGRMpF5N9FJMba5xCRn4tIrYjsB67s49w/iMhhEakUkf8QEUcgBRORJ0XkiIg0iMgbIjLbb1+CiNxvladBRDaISIK173wR2Sgi9SJyUERutbavE5HP+V3jpKYyq5b1JREpAUqsbQ9Y12gUka0icoHf8Q4R+baI7BORJmv/RBH5tYjc3+teVovIVwO5bxWdNHCoaPIOkCIihdYH+o3AX3od8xCQCkwFLsIbaD5j7fs8sBJYCCwGrut17iNAFzDdOuZy4HME5kVgBpAFbAP+z2/fz4FFwBJgLHA30CMik63zHgIygQXA+wG+HsA1wNnALOvnzdY1xgJ/BZ4UkXhr39fw1tauAFKAzwKtwKPATX7BNQO41DpfjVbGGH3oI+IfQBneD7R/B34CrABeAZyAAfIAB9ABzPI77wvAOuv5WuAOv32XW+c6gWygHUjw238T8Lr1/FZgQ4BlTbOum4r3y9sxYH4fx30LeLafa6wDPuf380mvb13/ktOU46jvdYEi4Op+jtsDXGY9vwt4IdT/3/oI7UPbPlW0+TPwBjCFXs1UQAYQC5T7bSsHxlvPc4GDvfb5TLbOPSwivm0xvY7vk1X7+RFwPd6aQ49feVxAPLCvj1Mn9rM9UCeVTUS+AdyG9z4N3pqFbzDBQK/1KHAz3kB8M/DAMMqkooA2VamoYowpx9tJfgXwTK/dtUAn3iDgMwmotJ4fxvsB6r/P5yDeGkeGMSbNeqQYY2Zzep8ArsZbI0rFW/sBEKtMbcC0Ps472M92gBZO7vjP6eOY46mvrf6Mu4GPA2OMMWlAg1WG073WX4CrRWQ+UAj8vZ/j1CihgUNFo9vwNtO0+G80xnQDTwA/EhG31YfwNU70gzwBfEVEJojIGOAev3MPAy8D94tIiojEiMg0EbkogPK48QYdD94P+x/7XbcHeBj4LxHJtTqpzxURF95+kEtF5OMi4hSRdBFZYJ36PnCtiCSKyHTrnk9Xhi6gBnCKyL14axw+vwd+KCIzxGueiKRbZazA2z/yZ+BpY8yxAO5ZRTENHCrqGGP2GWO29LP7y3i/re8HNuDt5H3Y2vc7YA2wHW8Hdu8ay6eBOGA33v6Bp4BxARTpT3ibvSqtc9/ptf8bwA68H851wH1AjDHmAN6a09et7e8D861zfoG3v6YKb1PS/zGwNcBLQLFVljZObsr6L7yB82WgEfgDkOC3/1FgLt7goUY5MUYXclJKDUxELsRbM5ts9ENj1NMah1JqQCISC/w/4PcaNBRo4FBKDUBECoF6vE1yvwxxcVSY0KYqpZRSg6I1DqWUUoMyKiYAZmRkmLy8vFAXQymlIsrWrVtrjTGZvbePisCRl5fHli39jc5USinVFxEp72u7NlUppZQaFA0cSimlBkUDh1JKqUEZFX0cfens7KSiooK2trZQF8V28fHxTJgwgdjY2FAXRSkVBUZt4KioqMDtdpOXl4dfmuyoY4zB4/FQUVHBlClTQl0cpVQUsLWpSkRWiEiRiJSKyD197L9QRLaJSJeIXNdr3y0iUmI9bvHbvkhEdljXfFCG+Knf1tZGenp6VAcNABEhPT19VNSslFIjw7bAYS1e82vgI3iXrrxJRGb1OuwA3pXL/trr3LHAd/Eue3kW8F0rzTXA/+Bd4nOG9VgxjDIO9dSIMlruUyk1MuxsqjoLKDXG7AcQkcfwLmaz23eAMabM2tfT69zlwCvGmDpr/yvAChFZB6QYY96xtv8J77rKL9pyBw0V0BklSw80V8MfvxHqUiilRlLOXPjIT4N+WTsDx3hOzvdfgbcGMdRzx1uPij62n0JEbgduB5g0aVJfh4SUp+4oy671tsAdqa7F4YghM30sAO++/BRxcXH9nrvl/R386fG/8+BPvjMiZVVKKX9R2zlujPkt8FuAxYsXDy2TY+qEYBbpJOkZ8P7OPQB873vfIzk5mW9840SNoKurC6ez7/+exZfOYPGl1w7uBWu64DP/HHJ5lVLKx87O8UpOXr95AifWdh7quZXW86FcM+zdeuut3HHHHZx99tncfffdvPvuu5x77rksXLiQJUuWUFRUBMC6detYuXIl4A06n/3sZ1m6dClTp07lwQcfDOUtKKVGATtrHJuBGSIyBe+H+43AJwI8dw3wY78O8cuBbxlj6kSkUUTOATbhXcrzoeEW9PvP7WL3ocbhXuYks3JT+O6q2YM+r6Kigo0bN+JwOGhsbOTNN9/E6XTy6quv8u1vf5unn376lHP27t3L66+/TlNTEwUFBdx55506Z0MpZRvbAocxpktE7sIbBBzAw8aYXSLyA2CLMWa1iJwJPAuMAVaJyPeNMbOtAPFDvMEH4Ae+jnLgi8AjeNdDfhG7OsZD5Prrr8fhcADQ0NDALbfcQklJCSJCZ2dnn+dceeWVuFwuXC4XWVlZVFVVMWGCfc1sSqnRzdY+DmPMC8ALvbbd6/d8Myc3Pfkf9zDwcB/btwBzglnOodQM7JKUlHT8+Xe+8x0uvvhinn32WcrKyli6dGmf57hcruPPHQ4HXV1ddhdTKTWKaa6qMNbQ0MD48d5BY4888khoC6OUUhYNHGHs7rvv5lvf+hYLFy7UWoRSKmyMijXHFy9ebHov5LRnzx4KCwtDVKKRN9ruVyk1fCKy1RizuPd2rXEopZQaFA0cSimlBkUDh1JKqUHRwKGUUmpQNHAopZQaFA0cSimlBiVqs+OGO4/Hw7JlywA4cuQIDoeDzMxMAN59990B06qDN9FhXFwcS5Yssb2sSinlTwNHiKSnp/P+++8DfadVP51169aRnJysgUMpNeK0qSqMbN26lYsuuohFixaxfPlyDh8+DMCDDz7IrFmzmDdvHjfeeCNlZWX85je/4Re/+AULFizgzTffDHHJlVKjidY4AF68B47sCO41B7lkozGGL3/5y/zjH/8gMzOTxx9/nH/7t3/j4Ycf5qc//SkffvghLpeL+vp60tLSuOOOOwZdS1FKqWDQwBEm2tvb2blzJ5dddhkA3d3djBs3DoB58+bxyU9+kmuuuYZrrrkmlMVUSikNHIAti7kPljGG2bNn8/bbb5+y75///CdvvPEGzz33HD/60Y/YsSPItSOllBoE7eMIEy6Xi5qamuOBo7Ozk127dtHT08PBgwe5+OKLue+++2hoaKC5uRm3201TU1OIS62UGo00cISJmJgYnnrqKb75zW8yf/58FixYwMaNG+nu7ubmm29m7ty5LFy4kK985SukpaWxatUqnn32We0cV0qNOE2rPkqMtvtVSg2fplVXSikVFBo4lFJKDcqoDhyjoZkORs99KqVGxqgNHPHx8Xg8nqj/UDXG4PF4iI+PD3VRlFJRYtTO45gwYQIVFRXU1NSEuii2i4+PZ8KECaEuhlIqSozawBEbG8uUKVNCXQyllIo4o7apSiml1NBo4FBKKTUotgYOEVkhIkUiUioi9/Sx3yUij1v7N4lInrU9TkT+KCI7RGS7iCz1O+cGEflARHaJyH12ll8ppdSpbAscIuIAfg18BJgF3CQis3oddhtw1BgzHfgF4AsEnwcwxswFLgPuF5EYEUkHfgYsM8bMBnJEZJld96CUUupUdtY4zgJKjTH7jTEdwGPA1b2OuRp41Hr+FLBMRARvoFkLYIypBuqBxcBUoMQY4xsK9SrwMRvvYVRraO2kobUz1MVQSoUZOwPHeOCg388V1rY+jzHGdAENQDqwHbhKRJwiMgVYBEwESoECEckTESdwjbX9FCJyu4hsEZEto2HIrR3u+ts2LvjPtbyyuyrURVFKhZFw7Rx/GG+g2QL8EtgIdBtjjgJ3Ao8DbwJlQHdfFzDG/NYYs9gYszgzM3NECh1NjDFsP1hPS0c3n//TFn78wh46u3tCXSylVBiwcx5HJSfXBiZY2/o6psKqQaQCHuOdzv1V30EishEoBjDGPAc8Z22/nX4ChxqemqZ2Gtu6+PYVMzlYd4zfvrGfreVH+dUnFjIuNSHUxVNKhZCdNY7NwAwRmSIiccCNwOpex6wGbrGeXwesNcYYEUkUkSQAEbkM6DLG7LZ+zrL+HQN8Efi9jfcwapVUNwMwJzeVH14zhwdvWsjew41c8cCbrCuqDnHplFKhZFvgsPos7gLWAHuAJ4wxu0TkByJylXXYH4B0ESkFvgb4huxmAdtEZA/wTeBTfpd+QER2A28BPzXGFNt1D6NZcZV3dcHp2ckAXDU/l9VfPp/slHg+88hm7n+5iO6e6M7zpZTqm60pR4wxLwAv9Np2r9/zNuD6Ps4rAwr6ueZNwS2l6ktJdTNpibFkJruOb5uWmcyzXzyP767eyUNrS9lSdpQHblpAllsTKCo1moRr57gKsdKqZmZkJeMdHX1CQpyD/7xuPj+7bh7vHTzKFQ9sYOO+2hCVUikVCho41CmMMRRXNzE9y93vMdcvnsg/vnQ+KQlObv79Jn61toQebbpSalTQwKFOUdvcQX1rJzOykgc8riDHzXN3nc/Kebn8/OVibn1kM3UtHSNUSqVUqGjgUKcoqfZ2jOdn91/j8ElyOXngxgX86KNzeGefhyseeJOt5XV2F1EpFUIaONQpSq2huDOyB65x+IgInzx7Ms98cQlxzhhu+N93+N0b+6N+dcVo98y2Cr797I5QF0OFIQ0c6hQlVc24451kuV2nP9jPnPGpPP+V87m0MJsfvbCH2/+8VXNdRbA/bPiQv246wOGGY6EuigozGjjUKYqrmvocURWIlPhY/ufmM7h35Sxe31vNnf+31YYSKrtVN7Wx61AjAK/t0Qmf6mQaONQpSqubmTHAiKrTERE+e/4Uvn55ARv3eY43fanI8Waxd4h1YpyDtXs1cKiTaeBQJ/E0t+Np6Qi4f2Mg1y2agDNGeGLLwdMfrMLKuuIaMpJdfHzxRN4qreVYh6aEUydo4FAnOdExPvQah0+m28Wywiye3lpBR5dm1o0U3T2GN0tquDA/g0sLs2nv6uGtUp3kqU7QwKFO4ktueLo5HIG68cxJeFo6eG2PrukxWDsrG3hnv2fEX3d7RT31rZ0sLcjirCljSYpz8Jo2V0Wcru4e2rvsqSlq4FAnKalqItnlZFxqcPJPXZifSU5KPI9t1uaqQBljeHRjGdf8+i0+9+gW2978/VlfVIMIXDA9gzhnDBfmZ7J2b5UOr44wT22tYNn96znS0Bb0a2vgUCcpqW5m+hBHVPXFESN8fPEE3iip4VC9Dus8nbbObr7+5Ha+u3oX0zKTaW7vYmPpyNY61hfXMH9CGmOS4gBYVphNVWP78VFWKvwd6+jmF68Wk+V2kZ0yuGH1gdDAoU5SUt0ctGYqn+sXe9fzenJLRVCvG20qjrZy3W828sy2Sv7fshn8467zcLucvLTzyIiVoa6lg+0V9SwtOLFq5tKCTER0WG4kefitD6lqbOdbVxQG7UugPw0c6rj61g5qmtqDMqLK38SxiZw/PYMnthzUNTz6sbG0llUPbaC8tpXff3oxX70sn/hYBxfPzOKVPVUj9nt7s6QGY+Ci/BOBIyPZxYKJaazdq/1UkaCupYPfrNvHpYXZnJk31pbX0MChjjvRMT78EVW93XDmRCrrj+nonF6MMfz2jX3c/IdNZCS7+Mdd53HprOzj+1fMyaGupYPNZSOT/2t9UQ1jEmOZNyHtpO2XFmazvaKB6qbgt5er4HpobQktHV18c0WfSxoFhQYOdVxJ1eByVA3GZbOyGZMYy+PaSX5ca0cXX/7be/z4hb0sn53Ds186j6mZJ//uL8rPJM4Zw5pd9jdX9fQY3iip4YIZmThiTm7euGRmFgCv6+iqsHbA08pf3inn44snBmVIfX80cKjjSqqbSIxzkJuaEPRru5wOrj1jAi/vPoKnuT3o14805Z4Wrv3vjbyw4zB3ryjgvz95BsmuUxfkTHI5uXBGJmt2HrF9VNPuw43UNnec1EzlMzPHTW5qvPZzhLmfvVyEI0b46mX5tr6OBg51XKk1oiomJvidaeBtrursNjz7XqUt148UrxdVs+qhDRxuaOORz5zFF5dOH7ADc/nsbA41tLGjssHWcq0r8gaFC/sIHCLCJYVZbCitpa1TZ5GHow8q6nlu+yE+d/5UslPsXc5ZA4c6rriqielBHlHlLz/bzRmT0nhs88GImBPwl3fK+fTD7/KrtSVsKasb9uz3nh7DQ6+V8NlHNjN+TCLPf/n8Pj+ke7u0MBtHjNjeXLW+uIY541PI7Ccr8rLCbFo7utn0oa63Em6MMfz0xb2MTYrjCxdNtf31Tq0bq1Gp4VgnVY3ttnSM+7vxzEnc/fQHbDtwlEWT7RnxESy/e3M/NU3tvFFcA0BCrIPFeWM4Z2o6505LZ+74VGIdgX33amrr5GtPbOeV3VVcsyCXn1w7j4Q4R0DnjkmK4+wpY3lp5xH+dfnMId/PQBqOdbLtQD13XjSt32POnZpOQqyD1/ZU9dmcpUJnfXENG/d5+O6qWbjjY21/PQ0cCjiRoyrfho5xf1fOG8f3n9vFY+8eDOvAcbCulXJPK99dNYtrFoxn04d1vLPfw9v7PPxsTREASXEOFueN5dxp6ZwzNZ05uSk4+wgkpdXN3P7nLZR7WvnOyll89ry8QY+tXzEnh3v/sYvS06wFP1RvldbS3WO4qKD/gBAf6+C86Rm8tqea719lbJkfoAavu8db25g0NpFPnj15RF5TA4cCoNRaLtbuGkeSy8lVC3L5+3uHuHeEvh0NhW/Y8AUzMhiTFMeKOTmsmJMDeDMIb/qwjrf3eXh7v4efvrgXALfLyZlTxnLO1LGcOzWDWbkpvLqniq8/sR2XM4a/3HY2505LH1J5Lp/lDRxrdlXZEjjWF9XgjneycGLagMddWpjFq3uqKK5qpiDH3r8VFZi/v1fJ3iNNPHjTQuKcI9P7oIFDAVBc1Ux8bAzjxwR/RFVvN5w5ib+9e5Dnth/mE2dPsv31hmJDaS3ZKS6mZZ5aA0tPdnHF3HFcMXcc4F30aNP+Ot7e7+GdfZ7j61e4XU6a2ruYPyGV/7l5EblpQ//d5qTGs2BiGmt2HeFLF08f8nX6YoxhfXENF8zI6LPG5O9ia1juq3uqNHCEgbbObv7rlWLmjk9lpfX3OBI0cCjAO/lvWmbyKeP37TB/Qiozc9w8vvlAWAaOnh7Dxn0eK9XG6X8fWe54Vs3PZdX8XACqGtt4Z7+Hd/Z7GJMYx1eWzSA+NrD+jIGsmJPDT1/cS2X9McYPIwj1VlTVxJHGtoD6LbJT4pk7PpW1e6uDHsDU4P3p7TIq64/xs+vm2TYasi+21mtEZIWIFIlIqYjc08d+l4g8bu3fJCJ51vY4EfmjiOwQke0istTvnJus7R+IyEsikmHnPYwWpVVN5Ns4YcifiHDDmRPZXtHA7jBMnLf7cCN1LR2cP31of1rZKfFcvWA8P7l2HnevmBmUoAGwfLa3qezlII+uWlfk7fy/KD8roOMvmZnFtgNHqWvpCGo51OA0tHby69f3cVF+JkuG+Lc6VLYFDhFxAL8GPgLMAm4SkVm9DrsNOGqMmQ78ArjP2v55AGPMXOAy4H4RiRERJ/AAcLExZh7wAXCXXfcwWjS1dXKooc3Wobi9fXTheOKcMWG5OqCvf2OogcMuUzKSKMh2Bz3p4fqiGmbmuMkJMJX+pYXZGHNi3ocKjf9eV0pjWyf3fMSekXYDsbPGcRZQaozZb4zpAB4Dru51zNXAo9bzp4Bl4m0bmAWsBTDGVAP1wGJArEeSdVwKcMjGexgV9tW0AMFbvCkQaYlxLJ+dwzPbKsJuQtmG0lrys5PJsnkS1VAsn53N5rK6oM2+b27vYkt53aCG187OTSHL7dJZ5CFUWX+MP24s49qFEygclzLir29n4BgP+H+drLC29XmMMaYLaADSge3AVSLiFJEpwCJgojGmE7gT2IE3YMwC/mDjPYwKxVXWiKoRaqryufHMiTS2dY1IHqZAtXV2s7msjvPCrLbhs3xODj3G2zkdDBtLa+nsHngYbm8xMcIlM7N4o7hGlwQOkftf9g4J/9rl9qYW6U+4zhx/GG+g2QL8EtgIdItILN7AsRDIxdtU9a2+LiAit4vIFhHZUlNTMzKljlCl1c3EOWOYNDZxRF/33KnpTBybEFaJD7eVH6Wtsyfsmql8Zo1LYcKYhKA1V60vrvHORxnknJplhdk0tXexZYSy9qoTdh9q5Nn3KvnMkrygDpIYDDsDRyUw0e/nCda2Po+x+i9SAY8xpssY81VjzAJjzNVAGlAMLAAwxuwz3pwVTwBL+npxY8xvjTGLjTGLMzN1lutASqqaRmxElb+YGOGGxRPZuM9DuadlRF+7PxtKa3HGCGdPHdp8C7uJCCtm5/BWqYemts5hXcsYw7qiGpZYS8QOxnnT04lzxvCqNleNuPte2ktKfCxfXBq6UW12Bo7NwAwRmSIiccCNwOpex6wGbrGeXwesNcYYEUkUkSQAEbkM6DLG7MYbaGaJiC8SXAbssfEeRgU7Vv0L1HWLJhIjhE0n+VultSyclNZnptpwsXxODh3dPbxeNLya9L6aFirrjw0pfUhinJMl09J5TdciH1EbS2tZX1zDly6eRmpi6CbP2hY4rD6Lu4A1eD/cnzDG7BKRH4jIVdZhfwDSRaQU+BrgG7KbBWwTkT3AN4FPWdc8BHwfeENEPsBbA/mxXfcwGrS0d1Fx9FjIAkdOajwXF2Tx5JYKurpD217e0NrJB5UNYdu/4XPGpDFkJLuG3Te0vtg3DHdoNfJlM7Mo97SyvzY8aovRrqfH8JMX9zI+LYFPn5sX0rLY2sdhjHnBGJNvjJlmjPmRte1eY8xq63mbMeZ6Y8x0Y8xZxpj91vYyY0yBMabQGHOpMabc75q/sbbPM8asMsZ47LyHaLevxr7FmwJ1w5kTqW5qPz6fIFQ27qvFmPAbhtubI0a4bFY26/ZWD2tE2rqiaqZlJjFxiH1blxR6Vyp8LUgd9Wpgz+84zI7KBr5mLSscSuHaOa5GyIlV/0KXPuLimVlkul08FuJO8g2ltSTFOZh/mnxN4WDFnBxaOrqHvBTvMSs9eqCT/voyPi2BmTluHZY7Ajq6evj5miIKx6VwzcLeg1NHngaOUa6kuplYhzB5hEdU+Yt1xHDdogm8XlRNVWPo1rR+q7SWc6amB5wqPZTOnZqOO9455NFV7+z30NHVw9JBDMPty7LCLLaUH6WhdXgd9Wpg/7epnAN1rdzzkZkjPoilL+H/DlG2KqlqYmpG8mmT29nt44sn0t1jeGprRUhe/2BdK2WeVs6fEd7NVD5xzhiWzfRmqh1K39D64hriY2M4a8rwUtsvK8ymu8ewvkSHvNulsa2Th9aWct70dC4Mk79PDRyjXEl1M9ND2L/hMyUjiXOmjuWJLQfp6Rn5UTob94VnmpGBrJiTw9HWTt4dwlyK9cU1nDM1fdht5fMnpJGeFKf9HDb63/X7qGvp4J4VhWGzBsppA4eIrBIRDTBR6FhHNwePtpJv8xocgbrxzEmUe1p558ORH+/wZkktWW7XiObrGq4L8zNxOWNYM8jmqnJPCx/WtrA0CKv4OWKEpQVZrCuqCfmouGh0pKGNP2z4kKvm5zJ3Qmqoi3NcIAHhBqBERP5TREY+m5ayzb6aZowJ7Ygqfyvm5JAS7xzxmeS+NOrnT88Im290gUiMc3JRfiZrdlUNqpZ2fBhuwdA7xv1dWph1fOlZFVy/fLWY7h7Dvy4vCHVRTnLawGGMuRlvio99wCMi8raVziM8vqaGsfcP1rN6+yFKqprC8ttYyfFV/8IjcMTHOvjowvG8uPMI9a0jl7J7zxErjXqYtB8PxvLZORxpbOODyoaAz1lXVMPk9ESmZCQFpQznz8gg1iHaXBVkpdVNPLHlIDefM3nIQ6btEtD0WGNMo4g8BSQA/wJ8FPhXEXnQGPOQnQWMVJ3dPdz2yGY81poFcc4Y8rOTmZmTwswcN4XjvP+mJ7tCVsaSqmacMcLk9OB8gATDDWdO4tG3y/n7e5Xcet6UEXlN35DWcJ/415dlhVk4Y4Q1u46wIIBhxG2d3by9z8P1iycErQzu+FjOnpLOa3ur+dYVhUG77mj37HuViAhfvmRGqItyitMGDmuW92eA6cCfgLOMMdUikgjsBjRw9GF9UQ2elg6+f9VsUhKc7DncxJ7Djawvrjlp5FCm20XhuBQKc9zMHOdmZk4K0zKTR2Tt4JLqZqZkJI3YOsWBmJWbwrwJqTy2+SC3LMkbkaajN0tqmZGVTHYYplE/nbTEOM6Zms6anUe4e3nBaX9fW8qOcqyze8izxftzycwsfvD8bso9LWH1RSSSlXlamTgmgbFJcaEuyikCqXF8DPiFMeYN/43GmFYRuc2eYkW+p7dVkJ4UxyfOnkSsI4aPLjyxr7a5naIj3kCy53ATe4808se3PHRYzVnOGGF6VjIzc9zcsiSPhZPG2FLG0upmCseFX4vjDWdO5N+e3ckHFQ22T8bzpVG/8czwW8I2UMvn5PCdv++ktLr5tBM51xVVE+eI4dxpwU3iuKzQGzjW7q3mM0GqKe6sbOBgXSsfGcG1tMNJuaeFSWEahAMJHN8DDvt+EJEEINtKC/KaXQWLZPWtHby2p5qbz5nc52SyjKAqsmoAACAASURBVGQXGdNdJzWNdHb3UFbbwp4jTew93Miew42s3VvNBxUNvPb1i4L+zbuts5tyT8vxdbLDyVXzc/mP5/fw2OaDtgeObQfCO416IC6flc13/r6Tl3YeOW3gWF9cw1lTxpIYF9wkjpPTk5ielcxre4ITOF7dXcVdf9tGR1cPm759KZnu0DXphoIxhnJPK2fY9KVxuAJpo3gS8O/Z7ba2qX4898FhOrp7uPaMwFMDxDpimJHt5qr5udy9YiZ//MxZfPMjM9lf28Kew01BL+P+mhZ6TPh0jPtzx8dy5bxxPLf9EK0dXba+1lultThihHOC/A18JGWnxHPGpDReOk3Sw8r6Y5RUNw97tnh/ls3MYtOHw0/3/vjmA3zhL1sZn5ZAj4EXdx4+/UlR5mhrJ01tXSO+Rk6gAgkcTmvpVwCs5+HX6BZGnt5awcwcN7Nzh7ek44rZOThihOc/CP7quMdHVIXJUNzebjxzIs3tXfzzA3s/NDaU1LJwYninUQ/Eijk57DrUyMG61n6PWV80vGy4p7OsMJvObsOGkqHlzzLG8Ku1JXzz6R2cNz2D1XedT0G2m+e2j77VoX3r0+SFaVNVIIGjxi8NOiJyNTC0v4xRYF9NM+8frOdjZ0wYdvNSerKLJdPS+eeOw0Ff86C0uhlHjARtSGawLZo8hmmZSfzlnXLb1nuIlDTqgVg+OwdgwFTr64uryU2Nt22S4xmT0khNiB3S4k7dPYbvrt7Fz18u5qMLx/P7Ty8myeVk5bxxbC47yuGGYzaUOHyVe7xfACanR26N4w7g2yJyQEQO4l0f4wv2FityPbOtghiBqxcEp+9g5bxxlHta2VnZGJTr+ZRUNTM5PRGXM7TpmfsjItx2/lS2VzTwxhC/wZ7O2/utNOoROH+jt8npSczMcfPyrr7nUnR09fBWqYeLCrJsG6nmdMSwtCCTdUXVdA9iQmJbZzdf/ts2/vR2ObdfOJX7r59/fKTfSqsPzu6aZ7gp97QiQtjN3/AJZALgPmPMOcAsoNAYs8QYU2p/0SJPT4/h2W2VXJifSVaQhnYun52DM0Z4fkdwq+vF1U1h2b/h77pFE8hNjeeBV4ttqXX40qgHMv8hEiyfncPm8jpqmtpP2bftwFGa27tsa6byuWRmFp6WDrZXBDaLvLGtk1v/+C4v7DjCv19ZyLevKCTGL/vrlIwk5oxPGXXNVeWeFnJS4kO+7kZ/AhrALyJXAl8EviYi94rIvfYWKzK9s9/DoYY2rj0jeJOr0hLjOH9GBv/8IHjNVe1d3ZR7WpkRJjmq+hPnjOHOi6ez7UA9b5UGP3/VW6WeiEmjHogVc3IwBl7tYwb3uqIanDHCedPtHQSwND8LR4ywNoDmqqrGNj7+m7fZWn6UB25cwOcumNrncavm5bK9ooEDnv77b6JNeV1r2DZTQWBJDn+DN1/VlwEBrgcm21yuiPTUtgrcLieXz8oO6nWvnDuOiqPH2F4ReFqJgZTVttLdY8K2Y9zfxxdPYFxqPA+8FtxaR8XRVj6sbYmK/g2fmTluJo1N7HONjvXFNSyaPAZ3vL3rVKcmxrJ48pg+g5e/fTXNXPvfGzlY18rDt57J1Qv6H4F45TzvPI7nbBgkEq7KPS1MHhue/Y8QWI1jiTHm08BRY8z3gXOBfHuLFXla2rt4aecRrpw3LujVy8tn5xDrEJ4PUnX9RI6q8K5xALicDu5cOo3NZUd5e1/wah2+NCPR0L/hIyKsmJPDxn21NPoNia1qbGPP4UYusmkYbm/LCrPYe6SJyvq+O7TfO3CU6/5nI22d3Tx2+7lcMGPgck0Yk8gZk9J4fpT0czS3d1Hb3MHkjAiucQC+JdlaRSQX6ARG51TOAby08witHd18bFHwmql8UhNiuXBGJi/sOByUtSqKq5qJEZiaGb7faPx9fPFEslNcPPBaSdCuuaHUQ5bbFfb9PIO1fLZ3SOzre080Ffmy4S4dxjKxg7HMWot87d5Tm6teL6rmE7/bhDs+lqfvXBJwqvBV83PZc7iR0urmoJY1HPmG4kZ6jeM5EUkDfgZsA8qAv9pZqEj09LYKJo1NZPFke2Z6rpw/jkMNbbx38Oiwr1Va3cSksYlh2/HWW3ysgzsumsamD+t4Z//wax09PYaNpbURl0Y9EAsnjiHT7TqpuWp9cQ1ZbteIpZeZmpFEXnriKdlyn95awece3cLUzCSeuvNc8gYxFPyKueMQwZY5TeHmQJgPxYXTBA5rAafXjDH1xpin8fZtzDTGaOe4n8r6Y7y938O1Z4y37YPo0sJs4pwxQamul1SdPqdRuLnprElkul088Orwax17jjTiaemIqv4Nn5gY4fJZ2awrqqGts5uu7h7eLK7hovzMEQuSIsIlM7PZuM9Da0cXxhh+s34fX39yO+dMHctjt59Dlntwow6zU+I5e8pYntt+yLZ5PeGizAockyI1cBhjeoBf+/3cbowJTg9tFPn7e5UYA9cuDH4zlY87Ppal+cNvrurs7uHD2paIa6KJj3XwhQun8vZ+D+9+OPilUv1Fchr1QKyYk8Oxzm7eKK5he0U9jW1dI9a/4bOsMIuOrh7eLKnlh8/v4acv7mXV/FwevvXMIXfQr5qfy74ae1LwhJMDdS2MTYojxeaBDMMRSFPVayLyMYm2On2QGGN4elsFZ+WNtf0bwpXzxlHV2M6W8qE3V5XVttAVISOqevvk2ZPJSHbx4DD7OjaUepielUxOauSlUQ/EOVPTSYl3smZXFeuLaoiRkV9L/cy8sbhdTr7x5HYefutDPnveFB64YcGwJpx+ZM4421LwhJOy2vAeiguBBY4v4E1q2C4ijSLSJCLBncYcwd4/WM/+mhY+tijwhIZDdWlhNi5nzLDeOCVW52IkjKjqLSHOW+vYUFrL1vKh1Trau7p590NPRGfDPZ1YRwyXFmbz6p4qXt1TzcJJY0hLHNn0cnHOGC4syKSprYt7PjKT76w8eWLfUIxNiuO86Rk890F0N1cdqGtlcpjOGPcJZOa42xgTY4yJM8akWD8PL3tfFHl6WwUuZwxXjMCaAUkuJ5fMzOKFHUcGldLBX0lVMyIwLTPyahwAnzxnEulJcTzw2tCSF2wrr4/4NOqBWD4nh4Zjnew+3Gj7bPH+fG/VbJ6+cwl3XDQtaP0rK+eN42DdMT4I0pymcNPe1c2hhmNhvxhWIBMAL+zrEcjFRWSFiBSJSKmI3NPHfpeIPG7t3yQiedb2OBH5o4jsEJHtIrLU2u4Wkff9HrUi8stB3XEQtXd189z2wyyfnWP7xCqflfNyqW1uZ9OHQxtdVFLdxMQxiSTERcaIqt4S45x8/sKpvFFcw3sHBt9kt6G0BkeMcPbUsTaULnxcOCOT+Fjv29uuNOqnk+l2sSjIowyXW3OaojUFycG6YxgT3iOqILCmqn/1e3wHeA7v4k4DEhEH3o71j+DNc3WTiMzqddhteCcWTgd+Adxnbf88gDFmLnAZcL+IxBhjmowxC3wPoBx4JoB7sMXaPdU0HOu0Ze5Gfy6ZmUVCrGPISd9Kq5sjrmO8t0+dM5mxSXFDmtexodTDgolpIxboQyUhzsGymdlkuV3MyQ1srkQkSE2I5aL8TJ7/IDhzmsLNgTprDkek1ziMMav8HpcBc4BAvuqdBZQaY/Zba3g8Blzd65irgUet508By6xO+FnAWuv1q4F6YLH/iSKSD2QBbwZQFls8va2CLLdrRJs9EuIcLCvM4qWdR+jq7jn9CX66unvYX9PC9AjsGPeX5HLyuQumsK6ohvcPBpZMD7xp1HdU1EftaKrefvzRuTx955Jh9y2Em1XzcznS2MbWIdQ4B+NQ/THW7h04dUqwldWG/xwOCDDJYS8VQGEAx40HDvY6r3cP8vFjjDFdQAOQDmwHrhIRp4hMARYBE3udeyPwuOmnl0xEbheRLSKypaamJoDiDk5tczvrimr46MLxOEb4jblyXi6elg7e2T+4DuLyulY6unsismO8t0+fm0daYiwPDaLW8fZ+Dz0GLoiiNCMDSU2MDdu03MNxaWE28bExtjZXGWP48t/e4/N/2kpbZ7dtr9PbgbpWkl1O0pPCe628QPo4HhKRB63Hr/B+w99mc7kexhtotgC/BDbiXbLW343A3/q7gDHmt8aYxcaYxZmZwW/jXf3+Ibp6TFAz4QZqaUEmSXGOQY+uKqnyjqjKj/AaB0Cyy8nnzp/Ca3ur2RFgR+mG0pqoSqM+Wp0YJHJ40LXuQK3efoit5Ufp7jEjmuakzNPCpLGJYZ/RIJAaxxZgq/V4G/imMebmAM6r5ORawgRrW5/HiIgTSAU8xpguY8xXrb6Mq4E0oNh3kojMx7uk7dYAymGLZ96rYM74FApyRv7be3ysg8tmZfPSriN0DuKNU2olN4zUEVW93bIkj5R4Z8B9HW+Vejg7itKoj2ar5uVS29zBpmFOBu1La0cXP31xLznWmjrFVSM34fCAp5W8ME5u6BPIO+gp4C/GmEeNMf8HvCMigdzZZmCGiEwRkTi8NYTVvY5ZDdxiPb8OWGuMMSKSKCJJACJyGdBljNntd95NDFDbsFvRkSZ2VjbysRDUNnyunJdLfWvn8VnQgSiuamZ8WgJJEb6+to87Ppbbzp/Kq3uq2Fk5cK0jGtOoj2YXz8waUq07EL9Zv5/DDW384oYFxDliKBqhwNHdYzh4tJVJYZzc0CegmeNAgt/PCcCrpzvJ6rO4C1gD7AGeMMbsEpEf+K1h/gcgXURKga8BviG7WcA2EdmDd6naT/W6/McJYeB4elsFzhjhqvnBWR52KC7Mz8Dtcg5qdFVJdXNEzhgfyK3n5eGOd/LQ2oFrHRuthaCiff7GaOGrdb+48wgdXcFrrqo42sr/rt/HynnjOHdaOlMzkyg+MjKB41D9MTq7DXlh3jEOgQWOeGPM8UY+63lAd2aMecEYk2+MmWaM+ZG17V5jzGrreZsx5npjzHRjzFnGmP3W9jJjTIExptAYc6kxprzXdacaY/YGepPB1NXdw7PvVbK0IIv0ZFcoigB416m4bHY2a3YF9sbp7jHsq2kmP8KSG55OakIsnz1vCmt2VbHncP8JDd4srSXT7YqK/h3ltWr+4Gvdp/PTF70fK9+6wjv+pyDHTXHVyPRxlEdAckOfQAJHi4ic4ftBRBYBfa/QMgpsKK2lpqmdj51hf4qR01k1L5fGti42lJ5+1NjBulY6unqYHuFzOPry2fOm4Hb1X+uI5jTqo9kFMzJJiXcGbWXAdz+s4/kPDnPHRdMYn+ZtZMnPdlNZf4wmv4Wx7FJuzeHIC/M5HBBY4PgX4EkReVNENgCP422CGpWe2VZJakIslxSOzKI4AzlvegapCbE8v/30zVW+Dr5In/zXl9TEWG49L48XdhyhqI9mhb1HmqI2jfpoFueMYcWcHF7eVTXsIbPdPYbvP7eLcanx3HHRtOPbfTX0khEYWVXuaSXOGXO8Uz6cBTIBcDMwE7gTuAMoDOVoplBqbOtkza4jrJo/blhZPoMlzhnD8tnZvLL79G8c3x9+NNY4AG47fwpJcQ4e7KPWcXyZWA0cUWflvFya27uOr3I4VE9uOciuQ41864rCk9LxFFiBYyT6OcqtobiRMGEzkHkcXwKSjDE7jTE7gWQR+aL9RQs/L3xwmPaunpCOpurtynm5NLV38cZp3jil1c2MS42P2lQbaYlx3LIkjxd2HKak1yiYDaW1UZ1GfTRbMi2dsUlxw5oM2NjWyc/WFLF48hhWzTs5WemEMQkkxDpGZGRVuSf8s+L6BNJU9XljzPG8DsaYo1i5pEabZ7ZVMjUzKawmkC2Zls6YxFj+uWPg5qqS6qaIW/VvsD53wVQSYh08tPZE5tz2rm42RXka9dHM6Yjhirk5vLanmtaOriFd46HXSqhr7eC7q2af0gcWEyPkZyfbPpfDGEO5pzUiOsYhsMDh8F/EyUpeGN7z4W1wwNPKu2V1fOyMCWHVwRrr8LbzvjpAc1WPNfs1Gvs3/I1NiuPT5+bx3AeHjs/29aVR1/6N6LVyXi7HOrt5bU/1oM/dX9PMIxvLuH7RBOZO6DsZ5Ixs+0dW1TS1c6yzOyI6xiGwwPES8LiILBORZXjnT7xob7HCz9PbKhCBaxaGfjRVbyvn5dLS0c26or7fOBVHj9HW2RP1gQPg8xdMId7p4FdWX8dbpbWjIo36aHZm3liyU1xDaq760T/34HI6+Mbygn6PKch2U9PUTl1Lx3CKOaDyusgZiguBBY5v4s1Ue4f12MHJEwKjnjGGZ96r4Nyp6ceH6YWTs6eMJSM5juf6mQxYYqUaibbJf31JT3bxqXMns3r7IfbXNLOhtJb5E1LDev1mNTyOGOGKueNYV1xD4yCGza4rqua1vdV8+ZLpZLn77//Kt9IK2dlcVVYbOUNxIbBRVT3AJqAMb6r0S/DOBB81Npcd5WDdsbDqFPfntJqr1vbTzntiRFV093H4fP6CqcQ5Y/jJi3v5oKKe82eEZiEjNXJWzc+lo6uHV3YFlga9s7uHHz6/m8npidx6Xt6Axx4fWWVj4DhQ10qMEJZfTPvSb+AQkXwR+a6I7AUeAg4AGGMuNsb8aqQKGA6e2VZBYpyDFXNyQl2UfvnaedfuPbW5qqSqmewUF6kJo+Nbd6bbxc1nT+aV3VX0GB2GOxosnJjG+LSEgCcD/vntcvbVtPDvV8467dD67BQXKfFOe2scnlbGj0kgzhkZCTgHKuVevLWLlcaY840xD3FqavOo19bZzT8/OMyKOTlhnRzwzLyxZLpdfeauKqluioo1OAbj9oum4nLGkKhp1EcFEWHl/HFsKKnl6Gn6IupaOvjlq8VcMCODSwOYyCsi5Ge7KT5iXwf5AU8LkyMguaHPQIHjWuAw8LqI/M7qGA+f4UQjZM2uIzS1d3FdmDZT+ThihCvnjmPt3mqa2080V/lGVEXrxL/+ZLnj+fYVhXzp4ukR8y1ODc+qebl09Rhe2nVkwOP+65UiWjq6+c7KWQGPkMzPcVNU1UQ/68YNW5mnNexX/fPX7zvKGPN3Y8yNeGeNv4439UiWiPyPiFw+UgUMtWe2VZKbGs85U9NDXZTTunLeONq7enhtz4l23kMNx2jt6I665IaBuGVJHl+6eHqoi6FGyOzcFKZkJA2Yan3P4Ub+uukAnzpn8qDeEwXZbhqOdVLd1B6Mop6kobWThmOd0RE4fIwxLcaYvxpjVuFdjOk9vCOtol5VYxtvltTw0TPGR0QagEWTxpCTEs/zfs1Vvo7x0TCiSo1uIsKqeeN4e5+Hmj4+4I0x/OC53aQkxPIvl84Y1LV9QaavXGjD5UtuODlCRlTBINccN8YctZZkXWZXgcLJ39+rpMcQkuVhhyLGGpa4vujEsERf+o3pUbLqn1IDWTU/lx4DL+48ta9vza4jvL3fw9cuyyctcXBzmH3p+O3oIC+z0qlHVY1jtDLG8PS2ChZMTIuopVZXzh9HR3cPr+72NleVVDWTkexiTNKom+yvRqEZ2W4Kst2nTAZs6+zmP/65h/zsZD5x1qRBXzc92UVGcpwtgeOAx1vjmBQheapAA8eAvn55waCrtKHmG5boa64qGQWpRpTyt2r+ODaXHeVQ/Yllg/6w4UMqjh7ju6tm4xzimvP52W6KbEg9UuZpJcvtIjEufEdt9qaBox8iwvLZOSwtCP26G4MhIlw5bxxvltTQ0NpJaXWzrnqnRpWV87xLOr9gJf6samzj16+Xcvms7GHlLMvPdlNS1URPT3BHVh3wtEbMjHEfDRxR6Mq54+jsNjz6dhnN7V1MH4UjqtTolZeRxNzxqcebq+57aS9d3YZ/u7JwWNctyHHT2tFNZX1wF0At87RETI4qHw0cUWjehFQmjk3g92/uB6Jz1T+lBrJq/ji2VzTwj/creWZbJZ89f8qwRy3l25B6pLWji+qmdvI0cKhQExGunOtdjxw0cKjR50qruerrT2wn0+3irkuGP5/HN6Q9mIs6HTieFVebqlQYWGmtZJaeFEd6sivEpVFqZI1PS2DR5DF09RjuXl5AchDSBaXEx5KbGh/UZWTLraG4kVbjiJxufDUos3NTmJqZxDhdLlWNUnddPJ1X9lQFNau1N/VI8EZWlVtDcSMpTxVo4IhaIsIjt56FwxH+M96VssPFM7O4eGZwR0UWZLvZWOqhq7tnyMN6/ZV7WklNiCU1MbIyV2tTVRSblJ4YMfn9lYoE+dluOrp7jq/YN1zlntaIa6YCDRxKKRWw4yOrgtTPUV7XEnEd42Bz4BCRFSJSJCKlInJPH/tdIvK4tX+TiORZ2+NE5I8iskNEtovIUr9z4kTktyJSLCJ7ReRjdt6DUkr5TM9KRiQ4I6s6unqoPHosImsctvVxiIgD+DVwGVABbBaR1caY3X6H3QYcNcZMF5EbgfuAG4DPAxhj5opIFvCiiJxpLWP7b0C1MSZfRGKAsXbdg1JK+UuIczB5bGJQ5nJU1h+jx0RWjiofO2scZwGlxpj9xpgO4DHg6l7HXA08aj1/Clgm3pVVZgFrAYwx1UA9sNg67rPAT6x9PcaYWhvvQSmlTpKf7aY4CCOryqwRVXkZ2lTlbzxw0O/nCmtbn8cYY7qABiAd2A5cJSJOEZkCLAImiohvDdAfisg2EXlSRLL7enERuV1EtojIlpqamuDdlVJqVCvIcfNhbQvtXcNbSfuAL5261jiC5mG8gWYL8EtgI971zp14F5PaaIw5A3gb+HlfF7DWDVlsjFmcmZk5MqVWSkW9GdluunsM+2tahnWdMk8LCbEOMt2RN0HXzsBRCUz0+3mCta3PY0TECaQCHmNMlzHmq8aYBcaYq4E0oBjwAK3AM9b5TwJn2HcLSil1soIg5aw6YK0zHui65+HEzsCxGZghIlNEJA64EVjd65jVwC3W8+uAtcYYIyKJIpIEICKXAV3GmN3Gu1L8c8BS65xlwG6UUmqETMlIwhkjw15GtszTElGr/vmzbVSVMaZLRO4C1gAO4GFjzC4R+QGwxRizGvgD8GcRKQXq8AYXgCxgjYj04K2VfMrv0t+0zvklUAN8xq57UEqp3uKcMUzNTBpWB3l3j+Fg3TGWFfbZRRv2bE05Yox5AXih17Z7/Z63Adf3cV4ZUNDPNcuBC4NaUKWUGoQZ2W52VDQM+fwjjW10dPdEbI0jXDvHlVIqbBVkuzlQ10prR9eQzo/U5IY+GjiUUmqQfKlHSobYXHV8KK7WOJRSanQoyPEGjqGmHinztBLrEHIjNAmpBg6llBqkSWMTcTljKBli4DhQ18LEMYk4YiJvKC5o4FBKqUFzxAjTs5KHvKhTWW0rkyK0mQo0cCil1JAUZLuHlF7dGMOBulbyIjCduo8GDqWUGoL8HDdHGttoONY5qPM8LR00t3dFZFZcHw0cSik1BAXHR1YNrtZRHuEjqkADh1JKDUn+EEdWHZ/DoU1VSik1uuSmxpPscg66n6Pc04oITBwbmUNxQQOHUkoNiYgwIzt5SDWO3NQEXE6HTSWznwYOpZQaooIhrAZYXtca0R3joIFDKaWGLD/bTV1LB7XN7QGfU+5pJS9DA4dSSo1KvtQjgfZzNLZ1UtfSwaQITW7oo4FDKaWGaEZ2MhD4yCpfcsO8CB6KCxo4lFJqyDKTXYxJjA14GVnfHI5ITjcCGjiUUmrIRIT8bHfAy8iWRcEcDtDAoZRSw1KQ46akqhljzGmPPeBpJSM5jmSXrYuv2k4Dh1JKDUN+tpum9i4ON7Sd9tgyT0vE1zZAA4dSSg2LbzXAQDrID9S1MjnC53CABg6llBqWfGtk1emG5LZ1dnO4oU1rHEopNdqlJcaRneI6bY3jYF3kZ8X10cChlFLDlJ/t7SAfSFkUpFP30cChlFLDVJDtpqS6ie6e/kdWRUM6dR8NHEopNUz52W7aOnuON0f15UBdK+54J2MSY0ewZPawNXCIyAoRKRKRUhG5p4/9LhF53Nq/SUTyrO1xIvJHEdkhIttFZKnfOeusa75vPbLsvAellDqdQBZ1KvO0Mjk9EREZqWLZxrbAISIO4NfAR4BZwE0iMqvXYbcBR40x04FfAPdZ2z8PYIyZC1wG3C8i/mX9pDFmgfWotuselFIqEDOyvCOrBlpG9oCnhckRntzQx84ax1lAqTFmvzGmA3gMuLrXMVcDj1rPnwKWiTcczwLWAliBoR5YbGNZlVJqyJJcTiaOTaConw7yru4eKo4ei4qOcbA3cIwHDvr9XGFt6/MYY0wX0ACkA9uBq0TEKSJTgEXARL/z/mg1U31HoqHep5SKeAXZ7n7nchyqb6Orx2jgsNnDeAPNFuCXwEag29r3SasJ6wLr8am+LiAit4vIFhHZUlNTMwJFVkqNZjOy3eyraaajq+eUfdGS3NDHzsBRycm1hAnWtj6PEREnkAp4jDFdxpivWn0YVwNpQDGAMabS+rcJ+CveJrFTGGN+a4xZbIxZnJmZGcTbUkqpUxVku+nqMceDhL/yKJr8B/YGjs3ADBGZIiJxwI3A6l7HrAZusZ5fB6w1xhgRSRSRJAARuQzoMsbstpquMqztscBKYKeN96CUUgHx5azqa22O8toWXM4Yst3xI10sW9iW29cY0yUidwFrAAfwsDFml4j8ANhijFkN/AH4s4iUAnV4gwtAFrBGRHrw1kp8zVEua3usdc1Xgd/ZdQ9KKRWoqZlJOGLE288x7+R95XWtTBqbSExMdHTJ2poU3hjzAvBCr233+j1vA67v47wyoKCP7S14O8qVUiqsxMc6yEtP7HMuR3mUpFP3CdfOcaWUijj52W6Kew3J7ekx3nTqUdK/ARo4lFIqaPKz3ZR5Wmjr7D6+rbqpnbbOHvI0cCillOqtIMeNMVBafaLW4UtuOEmbqpRSSvXW18iqciudutY4lFJKnSIvPZE4R8xJHeTldS04YoTctIQQliy4NHAopVSQOB0xTM1MOin1SJmnlQljEoh1RM/Hud+v9gAACDhJREFUbfTciVJKhYGCnJNHVh3weOdwRBMNHEopFUT52W4q64/R1NaJMd4UJHlR1DEOGjiUUiqoCqwO8pLqZupbO2lq64qqORxg88xxpZQabY6PrDrShC/BSDTNGgcNHEopFVQTxiSQEOugqKqJhDgHED1ZcX00cCilVBDFxAj52cmUVDWTlhAHoJ3jSimlBpaf7aaoqonyuhZyUuKJj3WEukhBpYFDKaWCrCDHTU1TO+8frGdSlDVTgQYOpZQKuhlWB/n+mpaoSjXio4FDKaWCzDckF6JvRBVo4FBKqaDLTnGREu8dexRtI6pAA4dSSgWdiFCQ4611TB6rNQ6llFIB8E0EjMbOcZ3HoZRSNvjk2ZOZMCaR1ITYUBcl6DRwKKWUDWblpjArNyXUxbCFNlUppZQaFA0cSimlBkUDh1JKqUHRwKGUUmpQNHAopZQaFA0cSimlBkUDh1JKqUHRwKGUUmpQxBgT6jLYTkRqgPIhnp4B1AaxOMGm5RseLd/waPmGJ9zLN9kYk9l746gIHMMhIluMMYtDXY7+aPmGR8s3PFq+4Qn38vVHm6qUUkoNigYOpZRSg6KB4/R+G+oCnIaWb3i0fMOj5RuecC9fn7SPQyml1KBojUMppdSgaOBQSik1KBo4LCKyQkSKRKRURO7pY79LRB639m8SkbwRLNtEEXldRHaLyC4R+X99HLNURBpE5H3rce9Ilc96/TIR2WG99pY+9ouIPGj9/j4QkTNGsGwFfr+X90WkUUT+pdcxI/r7E5GHRaRaRHb6bRsrIq+ISIn175h+zr3FOqZERG4ZwfL9TET2Wv9/z4pIWj/nDvi3YGP5vicilX7/h1f0c+6A73Uby/e4X9nKROT9fs61/fc3bMaYUf8AHMA+YCoQB2wHZvU65ovAb6znNwKPj2D5xgFnWM/dQHEf5VsKPB/C32EZkDHA/iuAFwEBzgE2hfD/+gjeiU0h+/0BFwJnADv9tv0ncI/1/B7gvj7OGwvst/4dYz0fM0LluxxwWs/v66t8gfwt2Fi+7wHfCOD/f8D3ul3l67X/fuDeUP3+hvvQGofXWUCpMWa/MaYDeAy4utcxVwOPWs+fApaJiIxE4Ywxh40x26znTcAeYPxIvHYQXQ38yXi9A6SJyLgQlGMZsM8YM9RMAkFhjHkDqOu12f9v7FHgmj5OXQ68Yv5/e/cWakUVx3H8+0ONRENMwS4WZvkklYlEifUQIRohdCEVIVMhlIx6qR58i556iNAkyK6EREQ3H6wshQjKjEStKFIiSDketYsihaj9e1hrx7TPHt2De8+c6veBzZ5Zs86Z/15nzf7vWTNn7YhfIuJX4ENgXh3xRcSWiDiVV7cDk3u9326VtF83ujnWz9mZ4svvG/cAr/V6v3Vx4kguBX4qrO9n6Bvz33XywXMUmFBLdAV5iOw64PMOm2+UtFvSe5Km1xoYBLBF0peS7u+wvZs2rsMiyg/YJtsPYFJEDOTlg8CkDnWGSzsuJ51BdnK2vtBPq/NQ2oslQ33Dof1uAgYjYm/J9ibbrytOHP8iksYCbwIPR8Sxts07ScMv1wLrgHdqDm9ORMwE5gMPSLq55v2flaTzgAXAGx02N91+/xBpzGJY3isvaQ1wCthYUqWpvvAscCUwAxggDQcNR4s589nGsD+WnDiSA8BlhfXJuaxjHUkjgXHAz7VEl/Y5ipQ0NkbEW+3bI+JYRBzPy5uBUZIm1hVfRBzIz4eAt0lDAkXdtHG/zQd2RsRg+4am2y8bbA3f5edDHeo02o6S7gNuB5bk5DZEF32hLyJiMCJOR8SfwIaS/TbdfiOBO4HXy+o01X5VOHEkXwDTJF2RP5UuAja11dkEtO5guRvYVnbg9FoeE30B+DYiniqpc1Hrmouk60l/21oSm6Qxki5oLZMuon7dVm0TcG++u+oG4GhhWKYupZ/0mmy/gmIfWwq826HOB8BcSePzUMzcXNZ3kuYBjwILIuL3kjrd9IV+xVe8ZnZHyX67Odb76Vbgu4jY32ljk+1XSdNX54fLg3TXz/ekOy7W5LLHSQcJwPmkIY59wA5gao2xzSENW+wBduXHbcBKYGWusxr4hnSXyHZgdo3xTc373Z1jaLVfMT4B63P7fgXMqvnvO4aUCMYVyhprP1ICGwBOksbZV5CumW0F9gIfARfmurOA5ws/uzz3w33Ashrj20e6PtDqg627DC8BNp+pL9QU36u5b+0hJYOL2+PL60OO9Triy+Uvt/pcoW7t7XeuD085YmZmlXioyszMKnHiMDOzSpw4zMysEicOMzOrxInDzMwqceIw6wFJp9tm4O3ZrKuSphRnWTVr2simAzD7j/gjImY0HYRZHXzGYdZH+bsVnszfr7BD0lW5fIqkbXlCvq2SLs/lk/J3XezOj9n5V42QtEHp+1i2SBrd2Iuy/z0nDrPeGN02VLWwsO1oRFwNPAM8ncvWAa9ExDWkyQLX5vK1wMeRJlucSfrvYYBpwPqImA78BtzV59djVsr/OW7WA5KOR8TYDuU/ArdExA95osqDETFB0hHSlBgnc/lAREyUdBiYHBEnCr9jCuk7OKbl9ceAURHxRP9fmdlQPuMw678oWa7iRGH5NL4+aQ1y4jDrv4WF58/y8qekmVkBlgCf5OWtwCoASSMkjasrSLNu+VOLWW+MlrSrsP5+RLRuyR0vaQ/prGFxLnsQeEnSI8BhYFkufwh4TtIK0pnFKtIsq2bDhq9xmPVRvsYxKyKONB2LWa94qMrMzCrxGYeZmVXiMw4zM6vEicPMzCpx4jAzs0qcOMzMrBInDjMzq+QvV8bj+HYA11QAAAAASUVORK5CYII=\n",
                  "text/plain": "<Figure size 432x288 with 1 Axes>"
                },
                "metadata": {
                  "needs_background": "light"
                }
              },
              {
                "output_type": "display_data",
                "data": {
                  "image/png": "iVBORw0KGgoAAAANSUhEUgAAAYgAAAEWCAYAAAB8LwAVAAAABHNCSVQICAgIfAhkiAAAAAlwSFlzAAALEgAACxIB0t1+/AAAADh0RVh0U29mdHdhcmUAbWF0cGxvdGxpYiB2ZXJzaW9uMy4yLjIsIGh0dHA6Ly9tYXRwbG90bGliLm9yZy+WH4yJAAAgAElEQVR4nO3de5RkZX3u8e9T1xm6h0tXj4IzwIC3pRxwRjsYwRNBj4qokeRogvGC0RMW5iiyovGCRyU5MRFzRERNCInEGM3RHAHFiBFMQGCh4MxkuA4GRAhDBpgLzI2Zrtvv/LF3ddf0VPf0rbqG2s9nrVq9e+93V/26prqfed+997sVEZiZmU2U63UBZmZ2YHJAmJlZRw4IMzPryAFhZmYdOSDMzKwjB4SZmXXkgDCbA0krJIWkwjTavkvSzXN9HrOF4oCwzJD0oKSqpOEJ6/8t/eO8ojeVmR2YHBCWNb8E3tr6RtLxwEG9K8fswOWAsKz5e+Cdbd+fBXytvYGkQyR9TdImSQ9J+l+Scum2vKT/I2mzpAeA13fY9yuSNkp6RNKfSMrPtEhJz5J0taStku6X9Htt206UtFrSdkmPSbooXb9I0tclbZH0pKSfSXrmTF/brMUBYVnzU+BgSS9I/3CfCXx9QpsvAocAxwKvIAmU3023/R7wBmAVMAK8ecK+XwXqwHPSNq8B/scs6vwmsAF4Vvoafyrplem2LwBfiIiDgWcD/5iuPyut+0igApwD7J7Fa5sBDgjLplYv4tXAeuCR1oa20PhYROyIiAeBzwHvSJv8FnBxRDwcEVuBP2vb95nA6cB5EbErIh4HPp8+37RJOhI4GfhIROyJiHXA3zDe86kBz5E0HBE7I+KnbesrwHMiohERayJi+0xe26ydA8Ky6O+B3wHexYThJWAYKAIPta17CFiWLj8LeHjCtpaj0303pkM8TwJ/BTxjhvU9C9gaETsmqeE9wPOAe9NhpDe0/Vw/BL4p6T8lfVZScYavbTbGAWGZExEPkRysPh24csLmzST/Ez+6bd1RjPcyNpIM4bRva3kYGAWGI+LQ9HFwRBw3wxL/ExiStKRTDRFxX0S8lSR4LgS+LWkgImoR8UcR8ULgJJKhsHdiNksOCMuq9wCvjIhd7SsjokEypv9pSUskHQ38AePHKf4ROFfSckmHAR9t23cjcC3wOUkHS8pJerakV8yksIh4GLgF+LP0wPMJab1fB5D0dklLI6IJPJnu1pR0qqTj02Gy7SRB15zJa5u1c0BYJkXELyJi9SSb3w/sAh4Abgb+Abg83fbXJMM4twNr2bcH8k6gBNwDPAF8GzhiFiW+FVhB0pu4CvhURPwo3XYacLeknSQHrM+MiN3A4enrbSc5tvJjkmEns1mRbxhkZmaduAdhZmYdOSDMzKwjB4SZmXXkgDAzs476amrh4eHhWLFiRa/LMDN72lizZs3miFjaaVtfBcSKFStYvXqyMxfNzGwiSQ9Nts1DTGZm1pEDwszMOnJAmJlZR311DKKTWq3Ghg0b2LNnT69L6bpFixaxfPlyikVP4Glmc9f3AbFhwwaWLFnCihUrkNTrcromItiyZQsbNmzgmGOO6XU5ZtYH+n6Iac+ePVQqlb4OBwBJVCqVTPSUzGxh9H1AAH0fDi1Z+TnNbGFkIiCmEhE8tn0PO/bUel2KmdkBJfMBIYnNO0fZsac+78+9ZcsWVq5cycqVKzn88MNZtmzZ2PfVanXKfVevXs2555477zWZmU1X3x+kno5CTtQb839fjEqlwrp16wC44IILGBwc5EMf+tDY9nq9TqHQ+Z9gZGSEkZGRea/JzGy6Mt+DAMjnctSbC3Nnxne9612cc845vPSlL+XDH/4wt912Gy972ctYtWoVJ510Ej//+c8BuOGGG3jDG5J70V9wwQW8+93v5pRTTuHYY4/lkksuWZBazSzbMtWD+KPv3c09/7l9n/V7ag0CWFzMz/g5X/isg/nUG2d2T/oNGzZwyy23kM/n2b59OzfddBOFQoEf/ehHnH/++VxxxRX77HPvvfdy/fXXs2PHDp7//Ofz3ve+19c7mFlXZSogJiOJZnPhbr36lre8hXw+CaNt27Zx1llncd999yGJWq3zwfLXv/71lMtlyuUyz3jGM3jsscdYvnz5gtVsZtmTqYCY7H/6j27bzaYdVf7LsoMX5FTRgYGBseVPfOITnHrqqVx11VU8+OCDnHLKKR33KZfLY8v5fJ56ff4PqpuZtfMxCKCQyxEEjQXsRbRs27aNZcuWAfDVr351wV/fzGwyDgigkE96DfUeBMSHP/xhPvaxj7Fq1Sr3CszsgKKIhf+j2C0jIyMx8YZB69ev5wUveMGU++3YU+OXm3fx7KWDDJSf3qNu0/l5zcxaJK2JiI7n1LsHQTLEBFBvLMyprmZmTwcOCHo7xGRmdqByQAD5nAPCzGwiBwSQk8jn5IAwM2vjgEgVcjkfgzAza+OASBVy6sl1EGZmB6qn9zmd86iQF6P1+e1BbNmyhVe96lUAPProo+TzeZYuXQrAbbfdRqlUmnL/G264gVKpxEknnTSvdZmZTYcDIpXvwpTf+5vue39uuOEGBgcHHRBm1hMeYkoVcjkazSbdvnBwzZo1vOIVr+AlL3kJr33ta9m4cSMAl1xyCS984Qs54YQTOPPMM3nwwQe59NJL+fznP8/KlSu56aabulqXmdlE2epB/OCj8OidHTdVGk0G600o54EZTNh3+PHwus9Mq2lE8P73v5/vfve7LF26lG9961t8/OMf5/LLL+czn/kMv/zlLymXyzz55JMceuihnHPOOTPudZiZzZdsBcQUWpO4Rowvz7fR0VHuuusuXv3qVwPQaDQ44ogjADjhhBN429vexhlnnMEZZ5zRnQLMzGYgWwExxf/09+yp8cDmXRw7PMjgou68LRHBcccdx09+8pN9tn3/+9/nxhtv5Hvf+x6f/vSnufPOzj0dM7OF4mMQqUI+nY+pi7ceLZfLbNq0aSwgarUad999N81mk4cffphTTz2VCy+8kG3btrFz506WLFnCjh07ulaPmdlUHBCphZhuI5fL8e1vf5uPfOQjvOhFL2LlypXccsstNBoN3v72t3P88cezatUqzj33XA499FDe+MY3ctVVV/kgtZn1RNeGmCQdCXwNeCYQwGUR8YUO7U4BLgaKwOaIeEW6/jTgC0Ae+JuImN6R4FkqpAHRrYvlLrjggrHlG2+8cZ/tN9988z7rnve853HHHXd0pR4zs/3p5jGIOvDBiFgraQmwRtJ1EXFPq4GkQ4G/AE6LiP+Q9Ix0fR74MvBqYAPwM0lXt+873yR5ug0zszZdG2KKiI0RsTZd3gGsB5ZNaPY7wJUR8R9pu8fT9ScC90fEAxFRBb4JvKlbtbZ4wj4zs3ELcgxC0gpgFXDrhE3PAw6TdIOkNZLema5fBjzc1m4D+4ZL67nPlrRa0upNmzZ1fP3pXvxWyD+9A6Kf7g5oZr3X9YCQNAhcAZwXEdsnbC4ALwFeD7wW+ISk583k+SPisogYiYiR1jxH7RYtWsSWLVum9cez0IXpNhZKRLBlyxYWLVrU61LMrE909ToISUWScPhGRFzZockGYEtE7AJ2SboReFG6/si2dsuBR2ZTw/Lly9mwYQOT9S7aPflUld3VBs0nFs/mpXpu0aJFLF++vNdlmFmf6OZZTAK+AqyPiIsmafZd4EuSCkAJeCnweeBe4LmSjiEJhjNJjlfMWLFY5JhjjplW24t/9O9c/KP7uP/Trxu7LsLMLKu62YM4GXgHcKekdem684GjACLi0ohYL+mfgTuAJsnprHcBSHof8EOS01wvj4i7u1grAJWBZPrtJ56qsXRJudsvZ2Z2QOtaQETEzUxj1ruI+HPgzzusvwa4pgulTaoymITCll2jDggzyzyPo7QZSnsQW3dWe1yJmVnvOSDaDA8mAbF5lwPCzMwB0WZoIB1i2jna40rMzHrPAdHm0MVFcoKt7kGYmTkg2uVyYmigxGYfgzAzc0BMVBkos3WXh5jMzBwQE1QGS2xxD8LMzAEx0dBAyccgzMxwQOxjeLDMZp/FZGbmgJhoaKDE9j11qnXfOMjMss0BMUFlsDUfk4eZzCzbHBATtCbs84FqM8s6B8QE7RP2mZllmQNigiH3IMzMAAfEPoZb8zH5VFczyzgHxAQHLy5QyMkT9plZ5jkgJpDki+XMzHBAdFQZLHvCPjPLPAdEB5WBkifsM7PMc0B0UBks+SC1mWWeA6KDoYGS70ttZpnngOhgeLDMjtE6e2qNXpdiZtYzDogOWhfL+UwmM8syB0QHFQeEmZkDopPWjK6+L4SZZZkDooNKOt2GexBmlmUOiA5aPQhP2GdmWeaA6GCwXKCUz/laCDPLNAdEB5KSi+V8DMLMMswBMQlP2GdmWeeAmERlsMxmB4SZZZgDYhKVAQ8xmVm2dS0gJB0p6XpJ90i6W9IHOrQ5RdI2SevSxyfbtj0o6c50/epu1TmZioeYzCzjCl187jrwwYhYK2kJsEbSdRFxz4R2N0XEGyZ5jlMjYnMXa5zU0GCJp6oNdlcbLC7le1GCmVlPda0HEREbI2JturwDWA8s69brzbfxe1N7mMnMsmlBjkFIWgGsAm7tsPllkm6X9ANJx7WtD+BaSWsknT3Fc58tabWk1Zs2bZq3mlsT9vliOTPLqm4OMQEgaRC4AjgvIrZP2LwWODoidko6HfgO8Nx028sj4hFJzwCuk3RvRNw48fkj4jLgMoCRkZGYr7pbV1P7OISZZVVXexCSiiTh8I2IuHLi9ojYHhE70+VrgKKk4fT7R9KvjwNXASd2s9aJhgeTISZP2GdmWdXNs5gEfAVYHxEXTdLm8LQdkk5M69kiaSA9sI2kAeA1wF3dqrUT3xPCzLKum0NMJwPvAO6UtC5ddz5wFEBEXAq8GXivpDqwGzgzIkLSM4Gr0uwoAP8QEf/cxVr3cVApz6Ki52Mys+zqWkBExM2A9tPmS8CXOqx/AHhRl0qbFklUBsoeYjKzzPKV1FOoDPpiOTPLLgfEFIYGSj7N1cwyywExhcpA2T0IM8ssB8QUKoMlNu8cJWLeLq8wM3vacEBMoTJQYrTe5Klqo9elmJktOAfEFCrpxXI+DmFmWeSAmEKlNR+TJ+wzswxyQEyhNR+TexBmlkUOiCkMuQdhZhnmgJhCZeyeEO5BmFn2OCCmsLiU56BS3kNMZpZJDoj98HQbZpZVDoj9GPKEfWaWUQ6I/RgecA/CzLLJAbEflUFP2Gdm2eSA2I+hdMI+z8dkZlnjgNiP4cES1UaTHaP1XpdiZragHBD7MXZvag8zmVnGTCsgJA1IyqXLz5P065KK3S3twDA2YZ+vpjazjJluD+JGYJGkZcC1wDuAr3arqANJa8K+ze5BmFnGTDcgFBFPAb8J/EVEvAU4rntlHThaE/b5VFczy5ppB4SklwFvA76frst3p6QDy9iEfb5YzswyZroBcR7wMeCqiLhb0rHA9d0r68BRLuRZUi54wj4zy5zCdBpFxI+BHwOkB6s3R8S53SzsQDLki+XMLIOmexbTP0g6WNIAcBdwj6Q/7G5pB46Kp9swswya7hDTCyNiO3AG8APgGJIzmTKhMugJ+8wse6YbEMX0uoczgKsjogZkZu4J9yDMLIumGxB/BTwIDAA3Sjoa2N6tog40rXtCNJuZyUQzs+kFRERcEhHLIuL0SDwEnNrl2g4YQwNl6s1g+55ar0sxM1sw0z1IfYikiyStTh+fI+lNZMJwerGcT3U1syyZ7hDT5cAO4LfSx3bgb7tV1IFm/GI5B4SZZcd0A+LZEfGpiHggffwRcOxUO0g6UtL1ku6RdLekD3Roc4qkbZLWpY9Ptm07TdLPJd0v6aMz+7HmV2UgmbBvqyfsM7MMmdaFcsBuSS+PiJsBJJ0M7N7PPnXggxGxVtISYI2k6yLingntboqIN7SvkJQHvgy8GtgA/EzS1R32XRCt+Zg8YZ+ZZcl0A+Ic4GuSDkm/fwI4a6odImIjsDFd3iFpPbAMmM4f+ROB+yPiAQBJ3wTeNM19591hB3nCPjPLnumexXR7RLwIOAE4ISJWAa+c7otIWgGsAm7tsPllkm6X9ANJrRlilwEPt7XZkK7r9Nxntw6eb9q0abolzUipkOOQxUVP2GdmmTKjO8pFxPb0imqAP5jOPpIGgSuA89r2bVkLHJ2GzxeB78yknrSmyyJiJCJGli5dOtPdp60yUPJZTGaWKXO55aj22yC5+voK4BsRceXE7Wng7EyXryG5YnsYeAQ4sq3p8nRdz1Q8YZ+ZZcxcAmLKy4olCfgKsD4iLpqkzeFpOySdmNazBfgZ8FxJx0gqAWcCV8+h1jkbGij5tqNmlilTHqSWtIPOQSBg8X6e+2SSCf3ulLQuXXc+cBRARFwKvBl4r6Q6yVlRZ0ZEAHVJ7wN+SHJjossj4u7p/UjdURkss+ahJ3pZgpnZgpoyICJiyWyfOD0ldsphqIj4EvClSbZdA1wz29efb60J+5rNIJfb7+iamdnT3lyGmDKlMlCiGfDkbs/HZGbZ4ICYpqHB5Gpqn+pqZlnhgJim4QFP2Gdm2eKAmKahQU/YZ2bZ4oCYJk/YZ2ZZ44CYpsMOKiJ5wj4zyw4HxDQV8jkOXVz0xXJmlhkOiBmoDJY9o6uZZYYDYgaGBkoeYjKzzHBAzMDwYMk9CDPLDAfEDAwNlHyhnJllhgNiBioDZZ7cXaPeaPa6FDOzrnNAzEBlsEQEPPGU52Mys/7ngJiB8YvlfBzCzPqfA2IGKmPTbfg4hJn1PwfEDFTSCfs2uwdhZhnggJiBSjrl91b3IMwsAxwQM3Do4iI5ecpvM8sGB8QM5HJKroVwQJhZBjggZsgXy5lZVjggZqgy4An7zCwbHBAzNDRY8l3lzCwTHBAzNOxjEGaWEQ6IGaoMltm2u0bN8zGZWZ9zQMzQUHqx3BPuRZhZn3NAzNBwOt2GbxxkZv3OATFDQ+mEfb43tZn1OwfEDLUm7POprmbW7xwQMzQ2YZ+HmMyszzkgZujgRUUKObHVQ0xm1uccEDOUy4nDBnyxnJn1PwfELFR8sZyZZUDXAkLSkZKul3SPpLslfWCKtr8iqS7pzW3rGpLWpY+ru1XnbFQGPWGfmfW/Qhefuw58MCLWSloCrJF0XUTc095IUh64ELh2wv67I2JlF+ubtcpAmTueeLLXZZiZdVXXehARsTEi1qbLO4D1wLIOTd8PXAE83q1a5lvFE/aZWQYsyDEISSuAVcCtE9YvA34D+MsOuy2StFrSTyWdMcVzn522W71p06Z5rHpylYESO0brjNYbC/J6Zma90PWAkDRI0kM4LyK2T9h8MfCRiOg0893RETEC/A5wsaRnd3r+iLgsIkYiYmTp0qXzWvtkxu5N7QPVZtbHunkMAklFknD4RkRc2aHJCPBNSQDDwOmS6hHxnYh4BCAiHpB0A0kP5BfdrHe6WhP2bdlZ5YhDFve4GjOz7ujmWUwCvgKsj4iLOrWJiGMiYkVErAC+Dfx+RHxH0mGSyunzDAMnA/d0eo5eaE3Y51NdzayfdbMHcTLwDuBOSevSdecDRwFExKVT7PsC4K8kNUlC7DMTz37qpbEJ+3yqq5n1sa4FRETcDGgG7d/VtnwLcHwXypoXnrDPzLLAV1LPwpJygWJenrDPzPqaA2IWJFEZKHvCPjPraw6IWfLFcmbW7xwQszQ0UGKzj0GYWR9zQMzS8KCHmMysvzkgZmnI94Qwsz7ngJilymCJp6oNdlc9H5OZ9ScHxCy17k29xcNMZtanHBCzVBnwhH1m1t8cELM0NDg+YZ+ZWT9yQMzScGs+JvcgzKxPOSBmabwH4WMQZtafHBCzNFDKUy7k3IMws77lgJglSQwPln0Mwsz6lgNiDoYGSj7N1cz6lgNiDiqDJZ/mamZ9ywExB55uw8z6mQNiDoYHy2zZNUpE9LoUM7N554CYg6GBEntqTZ7yfExm1occEHPQmo/JxyHMrB85IOagkl4st9kXy5lZH3JAzIEn7DOzfuaAmIOKJ+wzsz7mgJiDVg9isy+WM7M+5ICYg8WlPAeV8mx1D8LM+pADYo6S6TYcEGbWfxwQc1QZLDsgzKwvOSDmqDJQ8j0hzKwvOSDmqDLgCfvMrD85IOZoaDCZsM/zMZlZv3FAzNHwQJlqo8nO0XqvSzEzm1ddCwhJR0q6XtI9ku6W9IEp2v6KpLqkN7etO0vSfenjrG7VOVe+WM7M+lWhi89dBz4YEWslLQHWSLouIu5pbyQpD1wIXNu2bgj4FDACRLrv1RHxRBfrnZWhdMK+LbtGWTE80ONqzMzmT9d6EBGxMSLWpss7gPXAsg5N3w9cATzetu61wHURsTUNheuA07pV61wMDyZXU7sHYWb9ZkGOQUhaAawCbp2wfhnwG8BfTthlGfBw2/cb6BwuPTfeg3BAmFl/6eYQEwCSBkl6COdFxPYJmy8GPhIRTUmzff6zgbMBjjrqqNkV+W9fBwT5EhRKkC9DvgiFcrJcKCXb8qV03fjy0OI8APdu3M69j26nlM9RzOcoF3KUCslyqZCjkBOz/RnNzHqhqwEhqUgSDt+IiCs7NBkBvpn+4RwGTpdUBx4BTmlrtxy4odNrRMRlwGUAIyMjszvX9PsfhPqeWe26CLh/UY7q2iK1tXmqFKlSYFcUeIIiNQpUKVClSJ0CdRVpqEgjV6KuIs1cstzMFYlciWa+ROSKRD4JqsgX0VhAlVGhjAolcsUyueIiculyvlAmX1pEvlimUCpTKC6iUCxRKhYoFXKU0qBqD61SPnnkcg4uM9tX1wJCyV/9rwDrI+KiTm0i4pi29l8F/ikivpMepP5TSYelm18DfKxbtXLuOmiMQqMG9dEJy9Xk0Wm5nrTbsWMH23Y+NbZv1GvQGKXcqLKoUUWNKmrWyDWr5Bo7yUWyXGjWyDVrFBo1ClGnEFXyNOf1R6tGPg2p8bDaHYWxIKtRoEaRutrCSyUaucJYcDXbAizGAqw81uNSIelxtcJLhSSwkhBLl0tl8mloFUqLx8KrPayKbaGVBJko5H0mtlmvdLMHcTLwDuBOSevSdecDRwFExKWT7RgRWyX9b+Bn6ao/joitXav04CPmtPth6WNeNBt7hQ+N0QnLVZr1UerVPdRrozTSr81alUZtN41ajWZ9D1Gv0qyNEo0qUR8lxkItCaxF6SPXTL7PNWvkmrvJNWvkYzy48vUahUge8x1etTS8aoz3vHZGYZ9Aq1NMw6tAPVeiqSL1XNL7aioNr/z419YQYORLqFBMe15JcOXyJVQskyuUyRVL5AuLyJfSr8XSeO+rVKZUyO/d20pDq+jel2WE+ukK4JGRkVi9enWvy+hfzcbePamJPatGjUZtD41aEmCN2mgSXtVRGvU9NGpJaDXrSWi1vu7znI0aaoyiRtLTGut9NWvkm1XyUU+/jodXgca8/7ij0ephFcZ6W9VohVd+r2HDVoAlw4dJT2xi76uZT76OHcMaO85VgkKRXDqEmCukIVYsky8UyReTocPcXsOHZYqF/HjvK982fNgWZnkf+7L9kLQmIkY6bev6QWrrI7k8lA4CDpq0ST59lBaqppZmE5q1sV5SEjR7DxVGozoWWvXRPTTqozTSXliznoRbM+2hJb2uJACjUSPSnpca1fGhw2YtCa9GlVxzJ/lo9cRqFJo18o0a+ahTjBoF5v9K+3rk2sIqCa5dUeDJtkBLXrlAXSXqKiRDhyrRyBVpajzAmrlCOnxYIvJFSIMsCiWUTx+F5MSMXKE0/kiPg+WLZfLFUjKMWEqWi8UyxcLEYURRzO8dZHn3wg5YDgjrD7kc5MrJ/8jLnZuI5APfkw99xF49pPFeUzp02OqBpUOG9eoo9doemrVq0gurj9KsjdKoVzsMH473vtSoUmikx7daPbFmjVxzD7m095UMI1bJN+rp0GGdYlTJMf+jCdWxYcTkMUqRPW3rWkOJdZLeVxJixbGeWHOsJ1YcPw42NpSYHAtTvjh+PCwNslxruVhOwqtQSocUyxSKZfKl9GtxEaVSkWJeYz2xYtr7Gvs+n3yfxZ6YA8JsIUhJeBUmSa9Uqwc2dasuaR3/2qsXtneINWtV6vVRGtWkJ9ZoeyQhVk1DLDkONvZof85mjWJ9lFKzxmCzlh4Dq6J9QqxGvlkjX6+nw4n1rgwlNkJ7DSPWKDAaBXZMGF4cPwsx+dpUcaxHNh5ihWQ4MVckcsU0xEpJj6xQGgszpQGWK7QCrXVSRxJi+ULaIxsLsrQ31j6sOCHIBsrz/+fcAWFmiVwecouhuHjyJvRg+LBds5EGVrXt695BFvUkpGrpcbDkUW0LsupYj6wVYM36aDJEWU+eJxpV1KhRblYpN8aHEtWskmvuIhd18s0auUiCrFCrkYt6EiNdOKEDoLlXkOXHlndGgW25Q1l1wa37f5IZckCY2dNHLp88iosmbdLTocSW9t7YXkE2vtystXphVerV5PhXPQ2wvYKsXiVqSS+smfbCkh5Z+lzNKoOFyY8LzoUDwsxsvj0demPT4KuQzMysIweEmZl15IAwM7OOHBBmZtaRA8LMzDpyQJiZWUcOCDMz68gBYWZmHfXVdN+SNgEPzXL3YWDzPJYz31zf3Li+uXF9c3Mg13d0RCzttKGvAmIuJK2ebE70A4HrmxvXNzeub24O9Pom4yEmMzPryAFhZmYdOSDGXdbrAvbD9c2N65sb1zc3B3p9HfkYhJmZdeQehJmZdeSAMDOzjjIXEJJOk/RzSfdL+miH7WVJ30q33yppxQLWdqSk6yXdI+luSR/o0OYUSdskrUsfn1yo+tLXf1DSnelrr+6wXZIuSd+/OyS9eAFre37b+7JO0nZJ501os6Dvn6TLJT0u6a62dUOSrpN0X/r1sEn2PSttc5+ksxawvj+XdG/673eVpEMn2XfKz0IX67tA0iNt/4anT7LvlL/rXazvW221PShp3ST7dv39m7OIyMyD5H7wvwCOJbmZ0+3ACye0+X3g0nT5TOBbC1jfEcCL0+UlwL93qO8U4J96+B4+CAxPsf104Ackd378VeDWHv5bP0pyEVDP3j/g14AXA3e1rfss8NF0+aPAhR32GwIeSEwyQ8cAAAUeSURBVL8eli4ftkD1vQYopMsXdqpvOp+FLtZ3AfChafz7T/m73q36Jmz/HPDJXr1/c31krQdxInB/RDwQEVXgm8CbJrR5E/B36fK3gVdJ0kIUFxEbI2JturwDWA8sW4jXnkdvAr4WiZ8Ch0o6ogd1vAr4RUTM9sr6eRERNwJbJ6xu/4z9HXBGh11fC1wXEVsj4gngOuC0hagvIq6NiHr67U+B5fP9utM1yfs3HdP5XZ+zqepL/278FvB/5/t1F0rWAmIZ8HDb9xvY9w/wWJv0l2QbUFmQ6tqkQ1urgFs7bH6ZpNsl/UDScQtaGARwraQ1ks7usH067/FCOJPJfzF7+f4BPDMiNqbLjwLP7NDmQHkf303SI+xkf5+FbnpfOgR2+SRDdAfC+/dfgcci4r5Jtvfy/ZuWrAXE04KkQeAK4LyI2D5h81qSYZMXAV8EvrPA5b08Il4MvA74n5J+bYFff78klYBfB/5fh829fv/2EslYwwF5rrmkjwN14BuTNOnVZ+EvgWcDK4GNJMM4B6K3MnXv4YD/XcpaQDwCHNn2/fJ0Xcc2kgrAIcCWBakuec0iSTh8IyKunLg9IrZHxM50+RqgKGl4oeqLiEfSr48DV5F05dtN5z3uttcBayPisYkbev3+pR5rDbulXx/v0Kan76OkdwFvAN6Whtg+pvFZ6IqIeCwiGhHRBP56ktft9ftXAH4T+NZkbXr1/s1E1gLiZ8BzJR2T/i/zTODqCW2uBlpnjLwZ+NfJfkHmWzpm+RVgfURcNEmbw1vHRCSdSPJvuCABJmlA0pLWMsnBzLsmNLsaeGd6NtOvAtvahlMWyqT/c+vl+9em/TN2FvDdDm1+CLxG0mHpEMpr0nVdJ+k04MPAr0fEU5O0mc5noVv1tR/T+o1JXnc6v+vd9N+AeyNiQ6eNvXz/ZqTXR8kX+kFyls2/k5zh8PF03R+T/DIALCIZmrgfuA04dgFreznJcMMdwLr0cTpwDnBO2uZ9wN0kZ2X8FDhpAes7Nn3d29MaWu9fe30Cvpy+v3cCIwv87ztA8gf/kLZ1PXv/SIJqI1AjGQd/D8kxrX8B7gN+BAylbUeAv2nb993p5/B+4HcXsL77ScbvW5/B1ll9zwKumeqzsED1/X362bqD5I/+ERPrS7/f53d9IepL13+19Zlra7vg799cH55qw8zMOsraEJOZmU2TA8LMzDpyQJiZWUcOCDMz68gBYWZmHTkgzGZAUmPCjLHzNkuopBXts4Ka9Vqh1wWYPc3sjoiVvS7CbCG4B2E2D9K5/T+bzu9/m6TnpOtXSPrXdGK5f5F0VLr+mem9Fm5PHyelT5WX9NdK7gdyraTFPfuhLPMcEGYzs3jCENNvt23bFhHHA18CLk7XfRH4u4g4gWTSu0vS9ZcAP45k0sAXk1xNC/Bc4MsRcRzwJPDfu/zzmE3KV1KbzYCknREx2GH9g8ArI+KBdMLFRyOiImkzyVQQtXT9xogYlrQJWB4Ro23PsYLkHhDPTb//CFCMiD/p/k9mti/3IMzmT0yyPBOjbcsNfJzQesgBYTZ/frvt60/S5VtIZhIFeBtwU7r8L8B7ASTlJR2yUEWaTZf/d2I2M4sn3IT+nyOidarrYZLuIOkFvDVd937gbyX9IbAJ+N10/QeAyyS9h6Sn8F6SWUHNDhg+BmE2D9JjECMRsbnXtZjNFw8xmZlZR+5BmJlZR+5BmJlZRw4IMzPryAFhZmYdOSDMzKwjB4SZmXX0/wEECj9Y3MV/4wAAAABJRU5ErkJggg==\n",
                  "text/plain": "<Figure size 432x288 with 1 Axes>"
                },
                "metadata": {
                  "needs_background": "light"
                }
              }
            ],
            "_view_module": "@jupyter-widgets/output",
            "_model_module_version": "1.0.0",
            "_view_count": null,
            "_view_module_version": "1.0.0",
            "layout": "IPY_MODEL_4b06a08ea6064dfca55c1acf0b3824d3",
            "_model_module": "@jupyter-widgets/output"
          }
        },
        "a6820bc06ce94e48813ab31cb5db859b": {
          "model_module": "@jupyter-widgets/controls",
          "model_name": "SliderStyleModel",
          "model_module_version": "1.5.0",
          "state": {
            "_view_name": "StyleView",
            "handle_color": null,
            "_model_name": "SliderStyleModel",
            "description_width": "",
            "_view_module": "@jupyter-widgets/base",
            "_model_module_version": "1.5.0",
            "_view_count": null,
            "_view_module_version": "1.2.0",
            "_model_module": "@jupyter-widgets/controls"
          }
        },
        "bb629b0958064f98a4fe0f559dd459e4": {
          "model_module": "@jupyter-widgets/base",
          "model_name": "LayoutModel",
          "model_module_version": "1.2.0",
          "state": {
            "_view_name": "LayoutView",
            "grid_template_rows": null,
            "right": null,
            "justify_content": null,
            "_view_module": "@jupyter-widgets/base",
            "overflow": null,
            "_model_module_version": "1.2.0",
            "_view_count": null,
            "flex_flow": null,
            "width": null,
            "min_width": null,
            "border": null,
            "align_items": null,
            "bottom": null,
            "_model_module": "@jupyter-widgets/base",
            "top": null,
            "grid_column": null,
            "overflow_y": null,
            "overflow_x": null,
            "grid_auto_flow": null,
            "grid_area": null,
            "grid_template_columns": null,
            "flex": null,
            "_model_name": "LayoutModel",
            "justify_items": null,
            "grid_row": null,
            "max_height": null,
            "align_content": null,
            "visibility": null,
            "align_self": null,
            "height": null,
            "min_height": null,
            "padding": null,
            "grid_auto_rows": null,
            "grid_gap": null,
            "max_width": null,
            "order": null,
            "_view_module_version": "1.2.0",
            "grid_template_areas": null,
            "object_position": null,
            "object_fit": null,
            "grid_auto_columns": null,
            "margin": null,
            "display": null,
            "left": null
          }
        },
        "b3859f5ceab04c969fa6ee23811118aa": {
          "model_module": "@jupyter-widgets/controls",
          "model_name": "DescriptionStyleModel",
          "model_module_version": "1.5.0",
          "state": {
            "_view_name": "StyleView",
            "_model_name": "DescriptionStyleModel",
            "description_width": "initial",
            "_view_module": "@jupyter-widgets/base",
            "_model_module_version": "1.5.0",
            "_view_count": null,
            "_view_module_version": "1.2.0",
            "_model_module": "@jupyter-widgets/controls"
          }
        },
        "33cf77d7241a44cd81426b9ab4c8ecbc": {
          "model_module": "@jupyter-widgets/base",
          "model_name": "LayoutModel",
          "model_module_version": "1.2.0",
          "state": {
            "_view_name": "LayoutView",
            "grid_template_rows": null,
            "right": null,
            "justify_content": null,
            "_view_module": "@jupyter-widgets/base",
            "overflow": null,
            "_model_module_version": "1.2.0",
            "_view_count": null,
            "flex_flow": null,
            "width": null,
            "min_width": null,
            "border": null,
            "align_items": null,
            "bottom": null,
            "_model_module": "@jupyter-widgets/base",
            "top": null,
            "grid_column": null,
            "overflow_y": null,
            "overflow_x": null,
            "grid_auto_flow": null,
            "grid_area": null,
            "grid_template_columns": null,
            "flex": null,
            "_model_name": "LayoutModel",
            "justify_items": null,
            "grid_row": null,
            "max_height": null,
            "align_content": null,
            "visibility": null,
            "align_self": null,
            "height": null,
            "min_height": null,
            "padding": null,
            "grid_auto_rows": null,
            "grid_gap": null,
            "max_width": null,
            "order": null,
            "_view_module_version": "1.2.0",
            "grid_template_areas": null,
            "object_position": null,
            "object_fit": null,
            "grid_auto_columns": null,
            "margin": null,
            "display": null,
            "left": null
          }
        },
        "9a534d65ba2c4d49a8dfe5865c6eac2a": {
          "model_module": "@jupyter-widgets/controls",
          "model_name": "DescriptionStyleModel",
          "model_module_version": "1.5.0",
          "state": {
            "_view_name": "StyleView",
            "_model_name": "DescriptionStyleModel",
            "description_width": "initial",
            "_view_module": "@jupyter-widgets/base",
            "_model_module_version": "1.5.0",
            "_view_count": null,
            "_view_module_version": "1.2.0",
            "_model_module": "@jupyter-widgets/controls"
          }
        },
        "b12fa641860a45b7adbe21e99aeff59c": {
          "model_module": "@jupyter-widgets/base",
          "model_name": "LayoutModel",
          "model_module_version": "1.2.0",
          "state": {
            "_view_name": "LayoutView",
            "grid_template_rows": null,
            "right": null,
            "justify_content": null,
            "_view_module": "@jupyter-widgets/base",
            "overflow": null,
            "_model_module_version": "1.2.0",
            "_view_count": null,
            "flex_flow": null,
            "width": null,
            "min_width": null,
            "border": null,
            "align_items": null,
            "bottom": null,
            "_model_module": "@jupyter-widgets/base",
            "top": null,
            "grid_column": null,
            "overflow_y": null,
            "overflow_x": null,
            "grid_auto_flow": null,
            "grid_area": null,
            "grid_template_columns": null,
            "flex": null,
            "_model_name": "LayoutModel",
            "justify_items": null,
            "grid_row": null,
            "max_height": null,
            "align_content": null,
            "visibility": null,
            "align_self": null,
            "height": null,
            "min_height": null,
            "padding": null,
            "grid_auto_rows": null,
            "grid_gap": null,
            "max_width": null,
            "order": null,
            "_view_module_version": "1.2.0",
            "grid_template_areas": null,
            "object_position": null,
            "object_fit": null,
            "grid_auto_columns": null,
            "margin": null,
            "display": null,
            "left": null
          }
        },
        "46cc0c8c758144a982090b76f63713a2": {
          "model_module": "@jupyter-widgets/controls",
          "model_name": "ToggleButtonsStyleModel",
          "model_module_version": "1.5.0",
          "state": {
            "_view_name": "StyleView",
            "button_width": "",
            "_model_name": "ToggleButtonsStyleModel",
            "description_width": "initial",
            "_view_module": "@jupyter-widgets/base",
            "_model_module_version": "1.5.0",
            "_view_count": null,
            "font_weight": "",
            "_view_module_version": "1.2.0",
            "_model_module": "@jupyter-widgets/controls"
          }
        },
        "f980e7e4c0be4a4aa94a1b53561a6ecc": {
          "model_module": "@jupyter-widgets/base",
          "model_name": "LayoutModel",
          "model_module_version": "1.2.0",
          "state": {
            "_view_name": "LayoutView",
            "grid_template_rows": null,
            "right": null,
            "justify_content": null,
            "_view_module": "@jupyter-widgets/base",
            "overflow": null,
            "_model_module_version": "1.2.0",
            "_view_count": null,
            "flex_flow": null,
            "width": null,
            "min_width": null,
            "border": null,
            "align_items": null,
            "bottom": null,
            "_model_module": "@jupyter-widgets/base",
            "top": null,
            "grid_column": null,
            "overflow_y": null,
            "overflow_x": null,
            "grid_auto_flow": null,
            "grid_area": null,
            "grid_template_columns": null,
            "flex": null,
            "_model_name": "LayoutModel",
            "justify_items": null,
            "grid_row": null,
            "max_height": null,
            "align_content": null,
            "visibility": null,
            "align_self": null,
            "height": null,
            "min_height": null,
            "padding": null,
            "grid_auto_rows": null,
            "grid_gap": null,
            "max_width": null,
            "order": null,
            "_view_module_version": "1.2.0",
            "grid_template_areas": null,
            "object_position": null,
            "object_fit": null,
            "grid_auto_columns": null,
            "margin": null,
            "display": null,
            "left": null
          }
        },
        "84247884362a46f7bd7a1e1ea30cbb6a": {
          "model_module": "@jupyter-widgets/controls",
          "model_name": "ToggleButtonsStyleModel",
          "model_module_version": "1.5.0",
          "state": {
            "_view_name": "StyleView",
            "button_width": "",
            "_model_name": "ToggleButtonsStyleModel",
            "description_width": "initial",
            "_view_module": "@jupyter-widgets/base",
            "_model_module_version": "1.5.0",
            "_view_count": null,
            "font_weight": "",
            "_view_module_version": "1.2.0",
            "_model_module": "@jupyter-widgets/controls"
          }
        },
        "410d174e496d4de788c15a5c74a62dd1": {
          "model_module": "@jupyter-widgets/base",
          "model_name": "LayoutModel",
          "model_module_version": "1.2.0",
          "state": {
            "_view_name": "LayoutView",
            "grid_template_rows": null,
            "right": null,
            "justify_content": null,
            "_view_module": "@jupyter-widgets/base",
            "overflow": null,
            "_model_module_version": "1.2.0",
            "_view_count": null,
            "flex_flow": null,
            "width": null,
            "min_width": null,
            "border": null,
            "align_items": null,
            "bottom": null,
            "_model_module": "@jupyter-widgets/base",
            "top": null,
            "grid_column": null,
            "overflow_y": null,
            "overflow_x": null,
            "grid_auto_flow": null,
            "grid_area": null,
            "grid_template_columns": null,
            "flex": null,
            "_model_name": "LayoutModel",
            "justify_items": null,
            "grid_row": null,
            "max_height": null,
            "align_content": null,
            "visibility": null,
            "align_self": null,
            "height": null,
            "min_height": null,
            "padding": null,
            "grid_auto_rows": null,
            "grid_gap": null,
            "max_width": null,
            "order": null,
            "_view_module_version": "1.2.0",
            "grid_template_areas": null,
            "object_position": null,
            "object_fit": null,
            "grid_auto_columns": null,
            "margin": null,
            "display": null,
            "left": null
          }
        },
        "67d60dc35e654346a89891b40a64dbe2": {
          "model_module": "@jupyter-widgets/controls",
          "model_name": "ToggleButtonsStyleModel",
          "model_module_version": "1.5.0",
          "state": {
            "_view_name": "StyleView",
            "button_width": "",
            "_model_name": "ToggleButtonsStyleModel",
            "description_width": "initial",
            "_view_module": "@jupyter-widgets/base",
            "_model_module_version": "1.5.0",
            "_view_count": null,
            "font_weight": "",
            "_view_module_version": "1.2.0",
            "_model_module": "@jupyter-widgets/controls"
          }
        },
        "140b0a28e4b041d09ec32727f66fee5a": {
          "model_module": "@jupyter-widgets/base",
          "model_name": "LayoutModel",
          "model_module_version": "1.2.0",
          "state": {
            "_view_name": "LayoutView",
            "grid_template_rows": null,
            "right": null,
            "justify_content": null,
            "_view_module": "@jupyter-widgets/base",
            "overflow": null,
            "_model_module_version": "1.2.0",
            "_view_count": null,
            "flex_flow": null,
            "width": null,
            "min_width": null,
            "border": null,
            "align_items": null,
            "bottom": null,
            "_model_module": "@jupyter-widgets/base",
            "top": null,
            "grid_column": null,
            "overflow_y": null,
            "overflow_x": null,
            "grid_auto_flow": null,
            "grid_area": null,
            "grid_template_columns": null,
            "flex": null,
            "_model_name": "LayoutModel",
            "justify_items": null,
            "grid_row": null,
            "max_height": null,
            "align_content": null,
            "visibility": null,
            "align_self": null,
            "height": null,
            "min_height": null,
            "padding": null,
            "grid_auto_rows": null,
            "grid_gap": null,
            "max_width": null,
            "order": null,
            "_view_module_version": "1.2.0",
            "grid_template_areas": null,
            "object_position": null,
            "object_fit": null,
            "grid_auto_columns": null,
            "margin": null,
            "display": null,
            "left": null
          }
        },
        "23b83a30ec3448bb95bb2c27252a4868": {
          "model_module": "@jupyter-widgets/controls",
          "model_name": "DescriptionStyleModel",
          "model_module_version": "1.5.0",
          "state": {
            "_view_name": "StyleView",
            "_model_name": "DescriptionStyleModel",
            "description_width": "initial",
            "_view_module": "@jupyter-widgets/base",
            "_model_module_version": "1.5.0",
            "_view_count": null,
            "_view_module_version": "1.2.0",
            "_model_module": "@jupyter-widgets/controls"
          }
        },
        "7463337d0ddf467fb240309bc892040a": {
          "model_module": "@jupyter-widgets/base",
          "model_name": "LayoutModel",
          "model_module_version": "1.2.0",
          "state": {
            "_view_name": "LayoutView",
            "grid_template_rows": null,
            "right": null,
            "justify_content": null,
            "_view_module": "@jupyter-widgets/base",
            "overflow": null,
            "_model_module_version": "1.2.0",
            "_view_count": null,
            "flex_flow": null,
            "width": null,
            "min_width": null,
            "border": null,
            "align_items": null,
            "bottom": null,
            "_model_module": "@jupyter-widgets/base",
            "top": null,
            "grid_column": null,
            "overflow_y": null,
            "overflow_x": null,
            "grid_auto_flow": null,
            "grid_area": null,
            "grid_template_columns": null,
            "flex": null,
            "_model_name": "LayoutModel",
            "justify_items": null,
            "grid_row": null,
            "max_height": null,
            "align_content": null,
            "visibility": null,
            "align_self": null,
            "height": null,
            "min_height": null,
            "padding": null,
            "grid_auto_rows": null,
            "grid_gap": null,
            "max_width": null,
            "order": null,
            "_view_module_version": "1.2.0",
            "grid_template_areas": null,
            "object_position": null,
            "object_fit": null,
            "grid_auto_columns": null,
            "margin": null,
            "display": null,
            "left": null
          }
        },
        "f3ab08ec5b6f4bce854b04471d5d79a1": {
          "model_module": "@jupyter-widgets/controls",
          "model_name": "SliderStyleModel",
          "model_module_version": "1.5.0",
          "state": {
            "_view_name": "StyleView",
            "handle_color": null,
            "_model_name": "SliderStyleModel",
            "description_width": "initial",
            "_view_module": "@jupyter-widgets/base",
            "_model_module_version": "1.5.0",
            "_view_count": null,
            "_view_module_version": "1.2.0",
            "_model_module": "@jupyter-widgets/controls"
          }
        },
        "4174a07427af4278af815a3d7345c3c7": {
          "model_module": "@jupyter-widgets/base",
          "model_name": "LayoutModel",
          "model_module_version": "1.2.0",
          "state": {
            "_view_name": "LayoutView",
            "grid_template_rows": null,
            "right": null,
            "justify_content": null,
            "_view_module": "@jupyter-widgets/base",
            "overflow": null,
            "_model_module_version": "1.2.0",
            "_view_count": null,
            "flex_flow": null,
            "width": null,
            "min_width": null,
            "border": null,
            "align_items": null,
            "bottom": null,
            "_model_module": "@jupyter-widgets/base",
            "top": null,
            "grid_column": null,
            "overflow_y": null,
            "overflow_x": null,
            "grid_auto_flow": null,
            "grid_area": null,
            "grid_template_columns": null,
            "flex": null,
            "_model_name": "LayoutModel",
            "justify_items": null,
            "grid_row": null,
            "max_height": null,
            "align_content": null,
            "visibility": null,
            "align_self": null,
            "height": null,
            "min_height": null,
            "padding": null,
            "grid_auto_rows": null,
            "grid_gap": null,
            "max_width": null,
            "order": null,
            "_view_module_version": "1.2.0",
            "grid_template_areas": null,
            "object_position": null,
            "object_fit": null,
            "grid_auto_columns": null,
            "margin": null,
            "display": null,
            "left": null
          }
        },
        "b39f9c1fcb8c42b884e15b54da282aae": {
          "model_module": "@jupyter-widgets/controls",
          "model_name": "SliderStyleModel",
          "model_module_version": "1.5.0",
          "state": {
            "_view_name": "StyleView",
            "handle_color": null,
            "_model_name": "SliderStyleModel",
            "description_width": "initial",
            "_view_module": "@jupyter-widgets/base",
            "_model_module_version": "1.5.0",
            "_view_count": null,
            "_view_module_version": "1.2.0",
            "_model_module": "@jupyter-widgets/controls"
          }
        },
        "8e1c40b6b4ff4b2b934371e0a3bd8ba4": {
          "model_module": "@jupyter-widgets/base",
          "model_name": "LayoutModel",
          "model_module_version": "1.2.0",
          "state": {
            "_view_name": "LayoutView",
            "grid_template_rows": null,
            "right": null,
            "justify_content": null,
            "_view_module": "@jupyter-widgets/base",
            "overflow": null,
            "_model_module_version": "1.2.0",
            "_view_count": null,
            "flex_flow": null,
            "width": null,
            "min_width": null,
            "border": null,
            "align_items": null,
            "bottom": null,
            "_model_module": "@jupyter-widgets/base",
            "top": null,
            "grid_column": null,
            "overflow_y": null,
            "overflow_x": null,
            "grid_auto_flow": null,
            "grid_area": null,
            "grid_template_columns": null,
            "flex": null,
            "_model_name": "LayoutModel",
            "justify_items": null,
            "grid_row": null,
            "max_height": null,
            "align_content": null,
            "visibility": null,
            "align_self": null,
            "height": null,
            "min_height": null,
            "padding": null,
            "grid_auto_rows": null,
            "grid_gap": null,
            "max_width": null,
            "order": null,
            "_view_module_version": "1.2.0",
            "grid_template_areas": null,
            "object_position": null,
            "object_fit": null,
            "grid_auto_columns": null,
            "margin": null,
            "display": null,
            "left": null
          }
        },
        "823d70da560e4c8ab0f24ea0fc35ac9d": {
          "model_module": "@jupyter-widgets/controls",
          "model_name": "DescriptionStyleModel",
          "model_module_version": "1.5.0",
          "state": {
            "_view_name": "StyleView",
            "_model_name": "DescriptionStyleModel",
            "description_width": "initial",
            "_view_module": "@jupyter-widgets/base",
            "_model_module_version": "1.5.0",
            "_view_count": null,
            "_view_module_version": "1.2.0",
            "_model_module": "@jupyter-widgets/controls"
          }
        },
        "eb4aae3c575240ef849e3f2a1f9cf813": {
          "model_module": "@jupyter-widgets/base",
          "model_name": "LayoutModel",
          "model_module_version": "1.2.0",
          "state": {
            "_view_name": "LayoutView",
            "grid_template_rows": null,
            "right": null,
            "justify_content": null,
            "_view_module": "@jupyter-widgets/base",
            "overflow": null,
            "_model_module_version": "1.2.0",
            "_view_count": null,
            "flex_flow": null,
            "width": null,
            "min_width": null,
            "border": null,
            "align_items": null,
            "bottom": null,
            "_model_module": "@jupyter-widgets/base",
            "top": null,
            "grid_column": null,
            "overflow_y": null,
            "overflow_x": null,
            "grid_auto_flow": null,
            "grid_area": null,
            "grid_template_columns": null,
            "flex": null,
            "_model_name": "LayoutModel",
            "justify_items": null,
            "grid_row": null,
            "max_height": null,
            "align_content": null,
            "visibility": null,
            "align_self": null,
            "height": null,
            "min_height": null,
            "padding": null,
            "grid_auto_rows": null,
            "grid_gap": null,
            "max_width": null,
            "order": null,
            "_view_module_version": "1.2.0",
            "grid_template_areas": null,
            "object_position": null,
            "object_fit": null,
            "grid_auto_columns": null,
            "margin": null,
            "display": null,
            "left": null
          }
        },
        "4f90ff18cd4d4eca8c9beb35e28706db": {
          "model_module": "@jupyter-widgets/controls",
          "model_name": "DescriptionStyleModel",
          "model_module_version": "1.5.0",
          "state": {
            "_view_name": "StyleView",
            "_model_name": "DescriptionStyleModel",
            "description_width": "initial",
            "_view_module": "@jupyter-widgets/base",
            "_model_module_version": "1.5.0",
            "_view_count": null,
            "_view_module_version": "1.2.0",
            "_model_module": "@jupyter-widgets/controls"
          }
        },
        "022fee0fe50a47f59afc9d3240c05d46": {
          "model_module": "@jupyter-widgets/base",
          "model_name": "LayoutModel",
          "model_module_version": "1.2.0",
          "state": {
            "_view_name": "LayoutView",
            "grid_template_rows": null,
            "right": null,
            "justify_content": null,
            "_view_module": "@jupyter-widgets/base",
            "overflow": null,
            "_model_module_version": "1.2.0",
            "_view_count": null,
            "flex_flow": null,
            "width": null,
            "min_width": null,
            "border": null,
            "align_items": null,
            "bottom": null,
            "_model_module": "@jupyter-widgets/base",
            "top": null,
            "grid_column": null,
            "overflow_y": null,
            "overflow_x": null,
            "grid_auto_flow": null,
            "grid_area": null,
            "grid_template_columns": null,
            "flex": null,
            "_model_name": "LayoutModel",
            "justify_items": null,
            "grid_row": null,
            "max_height": null,
            "align_content": null,
            "visibility": null,
            "align_self": null,
            "height": null,
            "min_height": null,
            "padding": null,
            "grid_auto_rows": null,
            "grid_gap": null,
            "max_width": null,
            "order": null,
            "_view_module_version": "1.2.0",
            "grid_template_areas": null,
            "object_position": null,
            "object_fit": null,
            "grid_auto_columns": null,
            "margin": null,
            "display": null,
            "left": null
          }
        },
        "98a1e69a05fa4fd9a521279c8594a3b1": {
          "model_module": "@jupyter-widgets/controls",
          "model_name": "DescriptionStyleModel",
          "model_module_version": "1.5.0",
          "state": {
            "_view_name": "StyleView",
            "_model_name": "DescriptionStyleModel",
            "description_width": "initial",
            "_view_module": "@jupyter-widgets/base",
            "_model_module_version": "1.5.0",
            "_view_count": null,
            "_view_module_version": "1.2.0",
            "_model_module": "@jupyter-widgets/controls"
          }
        },
        "c047ff8cb8574bae9f60ebb975a31aaa": {
          "model_module": "@jupyter-widgets/base",
          "model_name": "LayoutModel",
          "model_module_version": "1.2.0",
          "state": {
            "_view_name": "LayoutView",
            "grid_template_rows": null,
            "right": null,
            "justify_content": null,
            "_view_module": "@jupyter-widgets/base",
            "overflow": null,
            "_model_module_version": "1.2.0",
            "_view_count": null,
            "flex_flow": null,
            "width": null,
            "min_width": null,
            "border": null,
            "align_items": null,
            "bottom": null,
            "_model_module": "@jupyter-widgets/base",
            "top": null,
            "grid_column": null,
            "overflow_y": null,
            "overflow_x": null,
            "grid_auto_flow": null,
            "grid_area": null,
            "grid_template_columns": null,
            "flex": null,
            "_model_name": "LayoutModel",
            "justify_items": null,
            "grid_row": null,
            "max_height": null,
            "align_content": null,
            "visibility": null,
            "align_self": null,
            "height": null,
            "min_height": null,
            "padding": null,
            "grid_auto_rows": null,
            "grid_gap": null,
            "max_width": null,
            "order": null,
            "_view_module_version": "1.2.0",
            "grid_template_areas": null,
            "object_position": null,
            "object_fit": null,
            "grid_auto_columns": null,
            "margin": null,
            "display": null,
            "left": null
          }
        },
        "64624aa447de400e8254c319f4fb96da": {
          "model_module": "@jupyter-widgets/controls",
          "model_name": "DescriptionStyleModel",
          "model_module_version": "1.5.0",
          "state": {
            "_view_name": "StyleView",
            "_model_name": "DescriptionStyleModel",
            "description_width": "initial",
            "_view_module": "@jupyter-widgets/base",
            "_model_module_version": "1.5.0",
            "_view_count": null,
            "_view_module_version": "1.2.0",
            "_model_module": "@jupyter-widgets/controls"
          }
        },
        "9b6eeb208d8f4620a9668c2cb5cdc5d7": {
          "model_module": "@jupyter-widgets/base",
          "model_name": "LayoutModel",
          "model_module_version": "1.2.0",
          "state": {
            "_view_name": "LayoutView",
            "grid_template_rows": null,
            "right": null,
            "justify_content": null,
            "_view_module": "@jupyter-widgets/base",
            "overflow": null,
            "_model_module_version": "1.2.0",
            "_view_count": null,
            "flex_flow": null,
            "width": null,
            "min_width": null,
            "border": null,
            "align_items": null,
            "bottom": null,
            "_model_module": "@jupyter-widgets/base",
            "top": null,
            "grid_column": null,
            "overflow_y": null,
            "overflow_x": null,
            "grid_auto_flow": null,
            "grid_area": null,
            "grid_template_columns": null,
            "flex": null,
            "_model_name": "LayoutModel",
            "justify_items": null,
            "grid_row": null,
            "max_height": null,
            "align_content": null,
            "visibility": null,
            "align_self": null,
            "height": null,
            "min_height": null,
            "padding": null,
            "grid_auto_rows": null,
            "grid_gap": null,
            "max_width": null,
            "order": null,
            "_view_module_version": "1.2.0",
            "grid_template_areas": null,
            "object_position": null,
            "object_fit": null,
            "grid_auto_columns": null,
            "margin": null,
            "display": null,
            "left": null
          }
        },
        "698be142adf7445fa3947d976a712801": {
          "model_module": "@jupyter-widgets/controls",
          "model_name": "ButtonStyleModel",
          "model_module_version": "1.5.0",
          "state": {
            "_view_name": "StyleView",
            "_model_name": "ButtonStyleModel",
            "_view_module": "@jupyter-widgets/base",
            "_model_module_version": "1.5.0",
            "_view_count": null,
            "button_color": null,
            "font_weight": "",
            "_view_module_version": "1.2.0",
            "_model_module": "@jupyter-widgets/controls"
          }
        },
        "a0c70d6d362b43a3bf69a0c258039b28": {
          "model_module": "@jupyter-widgets/base",
          "model_name": "LayoutModel",
          "model_module_version": "1.2.0",
          "state": {
            "_view_name": "LayoutView",
            "grid_template_rows": null,
            "right": null,
            "justify_content": null,
            "_view_module": "@jupyter-widgets/base",
            "overflow": null,
            "_model_module_version": "1.2.0",
            "_view_count": null,
            "flex_flow": null,
            "width": null,
            "min_width": null,
            "border": null,
            "align_items": null,
            "bottom": null,
            "_model_module": "@jupyter-widgets/base",
            "top": null,
            "grid_column": null,
            "overflow_y": null,
            "overflow_x": null,
            "grid_auto_flow": null,
            "grid_area": null,
            "grid_template_columns": null,
            "flex": null,
            "_model_name": "LayoutModel",
            "justify_items": null,
            "grid_row": null,
            "max_height": null,
            "align_content": null,
            "visibility": null,
            "align_self": null,
            "height": null,
            "min_height": null,
            "padding": null,
            "grid_auto_rows": null,
            "grid_gap": null,
            "max_width": null,
            "order": null,
            "_view_module_version": "1.2.0",
            "grid_template_areas": null,
            "object_position": null,
            "object_fit": null,
            "grid_auto_columns": null,
            "margin": null,
            "display": null,
            "left": null
          }
        },
        "4b06a08ea6064dfca55c1acf0b3824d3": {
          "model_module": "@jupyter-widgets/base",
          "model_name": "LayoutModel",
          "model_module_version": "1.2.0",
          "state": {
            "_view_name": "LayoutView",
            "grid_template_rows": null,
            "right": null,
            "justify_content": null,
            "_view_module": "@jupyter-widgets/base",
            "overflow": null,
            "_model_module_version": "1.2.0",
            "_view_count": null,
            "flex_flow": null,
            "width": null,
            "min_width": null,
            "border": null,
            "align_items": null,
            "bottom": null,
            "_model_module": "@jupyter-widgets/base",
            "top": null,
            "grid_column": null,
            "overflow_y": null,
            "overflow_x": null,
            "grid_auto_flow": null,
            "grid_area": null,
            "grid_template_columns": null,
            "flex": null,
            "_model_name": "LayoutModel",
            "justify_items": null,
            "grid_row": null,
            "max_height": null,
            "align_content": null,
            "visibility": null,
            "align_self": null,
            "height": null,
            "min_height": null,
            "padding": null,
            "grid_auto_rows": null,
            "grid_gap": null,
            "max_width": null,
            "order": null,
            "_view_module_version": "1.2.0",
            "grid_template_areas": null,
            "object_position": null,
            "object_fit": null,
            "grid_auto_columns": null,
            "margin": null,
            "display": null,
            "left": null
          }
        }
      }
    }
  },
  "cells": [
    {
      "cell_type": "markdown",
      "source": [
        "## Import dependencies"
      ],
      "metadata": {
        "id": "qNL0FTX-_woM"
      }
    },
    {
      "cell_type": "code",
      "execution_count": 1,
      "metadata": {
        "id": "fe2Y4NTc_tN2"
      },
      "outputs": [],
      "source": [
        "# import os\n",
        "# os.environ['CUDA_VISIBLE_DEVICES'] = '-1'\n",
        "# os.environ['THEANO_FLAGS'] = \"devise=cuda,force_device=True,floatX=float32\"\n",
        "# import theano\n",
        "from tensorflow import keras, optimizers\n",
        "\n",
        "from keras.models import Sequential\n",
        "from keras.layers import Dense, Activation\n",
        "from keras.callbacks import Callback\n",
        "from keras import regularizers\n",
        "\n",
        "from functools import partial\n",
        "from ipywidgets import *\n",
        "\n",
        "%matplotlib inline\n",
        "import matplotlib.pyplot as plt\n",
        "import numpy as np"
      ]
    },
    {
      "cell_type": "markdown",
      "source": [
        "## Import data"
      ],
      "metadata": {
        "id": "lMtil1PMByHJ"
      }
    },
    {
      "cell_type": "code",
      "source": [
        "def one_hot(y):\n",
        "  t = np.zeros((len(y), np.max(y) + 1))\n",
        "  t[np.arange(len(y)), y] = 1\n",
        "  return t"
      ],
      "metadata": {
        "id": "W0AYWP7PBPi9"
      },
      "execution_count": 3,
      "outputs": []
    },
    {
      "cell_type": "markdown",
      "source": [
        ""
      ],
      "metadata": {
        "id": "d0u_yDeMBzSc"
      }
    },
    {
      "cell_type": "code",
      "source": [
        "# PUT HERE DATA FROM https://keras.io/datasets/\n",
        "from keras.datasets import fashion_mnist\n",
        "\n",
        "(x_train, y_train), (x_test, y_test) = fashion_mnist.load_data()\n",
        "\n",
        "# flatten data\n",
        "x_train = x_train.reshape((x_train.shape[0], -1))\n",
        "x_test = x_test.reshape((x_test.shape[0], -1))\n",
        "\n",
        "# transform decimal to unitary code\n",
        "y_train = one_hot(y_train)\n",
        "y_test = one_hot(y_test)\n",
        "\n",
        "print(x_train.shape)\n",
        "print(y_train.shape)\n",
        "\n",
        "print(x_train[1])"
      ],
      "metadata": {
        "colab": {
          "base_uri": "https://localhost:8080/"
        },
        "id": "Vx2RzTrcAQjf",
        "outputId": "fff98fac-bb00-4b80-deb2-167be29444da"
      },
      "execution_count": 4,
      "outputs": [
        {
          "output_type": "stream",
          "name": "stdout",
          "text": [
            "(60000, 784)\n",
            "(60000, 10)\n",
            "[  0   0   0   0   0   1   0   0   0   0  41 188 103  54  48  43  87 168\n",
            " 133  16   0   0   0   0   0   0   0   0   0   0   0   1   0   0   0  49\n",
            " 136 219 216 228 236 255 255 255 255 217 215 254 231 160  45   0   0   0\n",
            "   0   0   0   0   0   0   0  14 176 222 224 212 203 198 196 200 215 204\n",
            " 202 201 201 201 209 218 224 164   0   0   0   0   0   0   0   0   0 188\n",
            " 219 200 198 202 198 199 199 201 196 198 198 200 200 200 200 201 200 225\n",
            "  41   0   0   0   0   0   0   0  51 219 199 203 203 212 238 248 250 245\n",
            " 249 246 247 252 248 235 207 203 203 222 140   0   0   0   0   0   0   0\n",
            " 116 226 206 204 207 204 101  75  47  73  48  50  45  51  63 113 222 202\n",
            " 206 220 224   0   0   0   0   0   0   0 200 222 209 203 215 200   0  70\n",
            "  98   0 103  59  68  71  49   0 219 206 214 210 250  38   0   0   0   0\n",
            "   0   0 247 218 212 210 215 214   0 254 243 139 255 174 251 255 205   0\n",
            " 215 217 214 208 220  95   0   0   0   0   0  45 226 214 214 215 224 205\n",
            "   0  42  35  60  16  17  12  13  70   0 189 216 212 206 212 156   0   0\n",
            "   0   0   0 164 235 214 211 220 216 201  52  71  89  94  83  78  70  76\n",
            "  92  87 206 207 222 213 219 208   0   0   0   0   0 106 187 223 237 248\n",
            " 211 198 252 250 248 245 248 252 253 250 252 239 201 212 225 215 193 113\n",
            "   0   0   0   0   0   0   0  17  54 159 222 193 208 192 197 200 200 200\n",
            " 200 201 203 195 210 165   0   0   0   0   0   0   0   0   0   0   0   0\n",
            "   0  47 225 192 214 203 206 204 204 205 206 204 212 197 218 107   0   0\n",
            "   0   0   0   0   0   0   0   0   1   6   0  46 212 195 212 202 206 205\n",
            " 204 205 206 204 212 200 218  91   0   3   1   0   0   0   0   0   0   0\n",
            "   0   1   0  11 197 199 205 202 205 206 204 205 207 204 205 205 218  77\n",
            "   0   5   0   0   0   0   0   0   0   0   0   3   0   2 191 198 201 205\n",
            " 206 205 205 206 209 206 199 209 219  74   0   5   0   0   0   0   0   0\n",
            "   0   0   0   2   0   0 188 197 200 207 207 204 207 207 210 208 198 207\n",
            " 221  72   0   4   0   0   0   0   0   0   0   0   0   2   0   0 215 198\n",
            " 203 206 208 205 207 207 210 208 200 202 222  75   0   4   0   0   0   0\n",
            "   0   0   0   0   0   1   0   0 212 198 209 206 209 206 208 207 211 206\n",
            " 205 198 221  80   0   3   0   0   0   0   0   0   0   0   0   1   0   0\n",
            " 204 201 205 208 207 205 211 205 210 210 209 195 221  96   0   3   0   0\n",
            "   0   0   0   0   0   0   0   1   0   0 202 201 205 209 207 205 213 206\n",
            " 210 209 210 194 217 105   0   2   0   0   0   0   0   0   0   0   0   1\n",
            "   0   0 204 204 205 208 207 205 215 207 210 208 211 193 213 115   0   2\n",
            "   0   0   0   0   0   0   0   0   0   0   0   0 204 207 207 208 206 206\n",
            " 215 210 210 207 212 195 210 118   0   2   0   0   0   0   0   0   0   0\n",
            "   0   1   0   0 198 208 208 208 204 207 212 212 210 207 211 196 207 121\n",
            "   0   1   0   0   0   0   0   0   0   0   0   1   0   0 198 210 207 208\n",
            " 206 209 213 212 211 207 210 197 207 124   0   1   0   0   0   0   0   0\n",
            "   0   0   0   0   0   0 172 210 203 201 199 204 207 205 204 201 205 197\n",
            " 206 127   0   0   0   0   0   0   0   0   0   0   0   0   0   0 188 221\n",
            " 214 234 236 238 244 244 244 240 243 214 224 162   0   2   0   0   0   0\n",
            "   0   0   0   0   0   1   0   0 139 146 130 135 135 137 125 124 125 121\n",
            " 119 114 130  76   0   0   0   0   0   0]\n"
          ]
        }
      ]
    },
    {
      "cell_type": "markdown",
      "source": [
        "## EXperimentation"
      ],
      "metadata": {
        "id": "nvWAGxlJB2Rd"
      }
    },
    {
      "cell_type": "markdown",
      "source": [
        "Plot drawing"
      ],
      "metadata": {
        "id": "H6S2pV51B7Ic"
      }
    },
    {
      "cell_type": "code",
      "source": [
        "def plot_accuracy(history):\n",
        "  # Plot training & validation accuracy values\n",
        "  plt.plot(history.history['acc'])\n",
        "  plt.plot(history.history['val_acc'])\n",
        "  plt.title('Model accuracy')\n",
        "  plt.ylabel('Accuracy')\n",
        "  plt.xlabel('Epoch')\n",
        "  plt.legend(['Train', 'Test'], loc='upper left')\n",
        "  plt.show()\n",
        "\n",
        "  # Plot training & validation loss values\n",
        "  plt.plot(history.history['loss'])\n",
        "  plt.plot(history.history['val_loss'])\n",
        "  plt.title('Model loss')\n",
        "  plt.ylabel('Loss')\n",
        "  plt.xlabel('Epoch')\n",
        "  plt.legend(['Train', 'Test'], loc='upper left')\n",
        "  plt.show()"
      ],
      "metadata": {
        "id": "Ru9Ui3GSB8rJ"
      },
      "execution_count": 5,
      "outputs": []
    },
    {
      "cell_type": "markdown",
      "source": [
        "Setting parameters"
      ],
      "metadata": {
        "id": "k1vGKGsEDHDl"
      }
    },
    {
      "cell_type": "code",
      "source": [
        "style = {'description_width': 'initial'}\n",
        "@interact_manual(\n",
        "  n_layers = IntSlider(min=0, max=4, value=2, description='Layers: '),\n",
        "\n",
        "  layer_size=IntSlider(min=0, max=20, value=6, description='Neurons per layer: ',\n",
        "      style=style),\n",
        "  \n",
        "  layer1_type = Dropdown(options=['softmax', 'relu', 'tanh', 'sigmoid', 'linear'], \n",
        "      value='relu', description='Layer 1 activation type: ', style=style),\n",
        "  layer2_type = Dropdown(options=['softmax', 'relu', 'tanh', 'sigmoid', 'linear'], \n",
        "      value='relu', description='Layer 2 activation type ', style=style),\n",
        "  layer3_type = Dropdown(options=['softmax', 'relu', 'tanh', 'sigmoid', 'linear'], \n",
        "      value='relu', description='Layer 3 activation type: ', style=style),\n",
        "  layer4_type = Dropdown(options=['softmax', 'relu', 'tanh', 'sigmoid', 'linear'], \n",
        "      value='relu', description='Layer 4 activation type: ', style=style),\n",
        "                 \n",
        "  layer_out_type = Dropdown(options=['softmax', 'relu', 'tanh', 'sigmoid', 'linear'],\n",
        "      value='sigmoid', description='Output layer activation type: ', style=style),\n",
        "  \n",
        "  loss_func=Dropdown(options={\n",
        "    'Standard deviation': 'mse', \n",
        "    'Mean absolute deviation': 'mae',\n",
        "    'Binary crossentropy': 'binary_crossentropy',\n",
        "    'Categorical crossentropy': 'categorical_crossentropy'\n",
        "  }, value='categorical_crossentropy', \n",
        "     description='Loss function: ', style=style),\n",
        "    \n",
        "  batch_size = BoundedIntText(min=0, max=len(x_train), value=100, \n",
        "      description='Batch size: ', style=style),\n",
        "  \n",
        "  lr=ToggleButtons(options=[\"-0.1\", \"0\", \"0.001\", \"0.01\", \"0.05\", \"0.1\", \"0.5\", \"1\", \"5\"], \n",
        "      value=\"0.01\", description='Learn rate: ', style=style),\n",
        "\n",
        "  l1=ToggleButtons(options=[\"-0.1\", \"0\", \"0.0001\", \"0.0005\", \"0.001\", \"0.005\", \"0.01\", \"0.05\", \"0.1\"], \n",
        "      value=\"0.0001\", description='Regularization  L1: ', style=style),\n",
        "  l2=ToggleButtons(options=[\"-0.1\", \"0\", \"0.0001\", \"0.0005\", \"0.001\", \"0.005\", \"0.01\", \"0.05\", \"0.1\"], \n",
        "      value=\"0.0001\", description='Regularization  L2: ', style=style),\n",
        "  \n",
        "  epochs=IntSlider(min=10, max=100, step=10, value=20, \n",
        "    description='Epoch count: ', style=style),\n",
        ")\n",
        "\n",
        "def interactive_learning(n_layers, loss_func, batch_size, lr, l1, l2, layer_out_type, epochs,\n",
        "                         layer_size, layer1_type, layer2_type, layer3_type, layer4_type):\n",
        "    \n",
        "  layer_sizes = [layer_size, layer_size, layer_size, layer_size]\n",
        "  layer_types = [layer1_type, layer2_type, layer3_type, layer4_type]\n",
        "   \n",
        "  lr, l1, l2 = float(lr), float(l1), float(l2)\n",
        "   \n",
        "  model = Sequential()\n",
        "  \n",
        "  if n_layers == 0:\n",
        "    model.add(Dense(len(y_train[0]), activation=layer_out_type, input_shape=x_train[0].shape, \n",
        "        kernel_regularizer=regularizers.l1_l2(l1=l1, l2=l2)))\n",
        "  else:\n",
        "    model.add(Dense(layer_sizes[0], activation=layer_types[0], input_shape=x_train[0].shape,\n",
        "        kernel_regularizer=regularizers.l1_l2(l1=l1, l2=l2)))\n",
        "    \n",
        "    for i in range(1, n_layers):\n",
        "      model.add(Dense(layer_sizes[i], activation=layer_types[i],  \n",
        "          kernel_regularizer=regularizers.l1_l2(l1=l1, l2=l2)))\n",
        "    \n",
        "    model.add(Dense(len(y_train[0]), activation=layer_out_type, \n",
        "        kernel_regularizer=regularizers.l1_l2(l1=l1, l2=l2)))\n",
        "    \n",
        "  model.compile(\n",
        "    optimizer=optimizers.SGD(lr=lr),\n",
        "    loss=loss_func,\n",
        "    metrics=['acc']\n",
        "  )\n",
        "    \n",
        "  model.summary()\n",
        "    \n",
        "  history = model.fit(\n",
        "    x_train, y_train,\n",
        "    epochs=epochs,\n",
        "    batch_size=batch_size,\n",
        "    validation_data=(x_test, y_test),\n",
        "    verbose=1\n",
        "  )\n",
        "    \n",
        "  print('Accuracy: ', history.history['val_acc'][-1])\n",
        "  plot_accuracy(history)\n"
      ],
      "metadata": {
        "colab": {
          "base_uri": "https://localhost:8080/",
          "height": 1000,
          "referenced_widgets": [
            "d74ee12d9677465f8ddc6799ebdcecd1",
            "95b6ce5abf3c49c094fa93c7f95b5027",
            "96c26c2520a940caaea462c76efd7e43",
            "e62debbe8b1e432ea742f06f40ca15bc",
            "989e0521c7564b019ac55d9184d65008",
            "4348d1d5ade7471b9352329612ab27a0",
            "809f81627e004047869d15e8e75301e1",
            "3a7bfc9a29a143679037bad20f95947e",
            "6f7229341d684fedb92cab593b88c118",
            "a29452b9238e4a02bd79dfad907a0cf3",
            "f2db53ca52474b8b8feb1bb1c33b20f9",
            "93061edc87924f0988256a54568e6d63",
            "9a508be7a6b0481d81adb9a8d4be8ab1",
            "14c12d9082814629a06f31c8fbc00036",
            "589b65b5b4e94f91942fe6c086042aec",
            "951881fd847e467493e7d2f6834928dc",
            "2db0ee080d974cdcaa00c14334724b65",
            "a6820bc06ce94e48813ab31cb5db859b",
            "bb629b0958064f98a4fe0f559dd459e4",
            "b3859f5ceab04c969fa6ee23811118aa",
            "33cf77d7241a44cd81426b9ab4c8ecbc",
            "9a534d65ba2c4d49a8dfe5865c6eac2a",
            "b12fa641860a45b7adbe21e99aeff59c",
            "46cc0c8c758144a982090b76f63713a2",
            "f980e7e4c0be4a4aa94a1b53561a6ecc",
            "84247884362a46f7bd7a1e1ea30cbb6a",
            "410d174e496d4de788c15a5c74a62dd1",
            "67d60dc35e654346a89891b40a64dbe2",
            "140b0a28e4b041d09ec32727f66fee5a",
            "23b83a30ec3448bb95bb2c27252a4868",
            "7463337d0ddf467fb240309bc892040a",
            "f3ab08ec5b6f4bce854b04471d5d79a1",
            "4174a07427af4278af815a3d7345c3c7",
            "b39f9c1fcb8c42b884e15b54da282aae",
            "8e1c40b6b4ff4b2b934371e0a3bd8ba4",
            "823d70da560e4c8ab0f24ea0fc35ac9d",
            "eb4aae3c575240ef849e3f2a1f9cf813",
            "4f90ff18cd4d4eca8c9beb35e28706db",
            "022fee0fe50a47f59afc9d3240c05d46",
            "98a1e69a05fa4fd9a521279c8594a3b1",
            "c047ff8cb8574bae9f60ebb975a31aaa",
            "64624aa447de400e8254c319f4fb96da",
            "9b6eeb208d8f4620a9668c2cb5cdc5d7",
            "698be142adf7445fa3947d976a712801",
            "a0c70d6d362b43a3bf69a0c258039b28",
            "4b06a08ea6064dfca55c1acf0b3824d3"
          ]
        },
        "id": "dtACFDYQDK07",
        "outputId": "f93f2f09-7045-4d40-d04c-076777c45a11"
      },
      "execution_count": 12,
      "outputs": [
        {
          "output_type": "display_data",
          "data": {
            "application/vnd.jupyter.widget-view+json": {
              "model_id": "d74ee12d9677465f8ddc6799ebdcecd1",
              "version_minor": 0,
              "version_major": 2
            },
            "text/plain": [
              "interactive(children=(IntSlider(value=2, description='Layers: ', max=4), Dropdown(description='Loss function: …"
            ]
          },
          "metadata": {}
        }
      ]
    }
  ]
}