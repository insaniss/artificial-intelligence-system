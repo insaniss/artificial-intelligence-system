{
  "nbformat": 4,
  "nbformat_minor": 0,
  "metadata": {
    "colab": {
      "name": "lab-5.0.ipynb",
      "provenance": [],
      "collapsed_sections": []
    },
    "kernelspec": {
      "name": "python3",
      "display_name": "Python 3"
    },
    "language_info": {
      "name": "python"
    }
  },
  "cells": [
    {
      "cell_type": "code",
      "execution_count": 1,
      "metadata": {
        "colab": {
          "base_uri": "https://localhost:8080/"
        },
        "id": "ud_VPkMT6PSJ",
        "outputId": "b8a78ad6-3a6e-4ed9-f82f-c90b12b5a17f"
      },
      "outputs": [
        {
          "output_type": "stream",
          "name": "stdout",
          "text": [
            "Requirement already satisfied: pip in /usr/local/lib/python3.7/dist-packages (21.1.3)\n",
            "Collecting pip\n",
            "  Downloading pip-21.3.1-py3-none-any.whl (1.7 MB)\n",
            "\u001b[K     |████████████████████████████████| 1.7 MB 26.1 MB/s \n",
            "\u001b[?25hInstalling collected packages: pip\n",
            "  Attempting uninstall: pip\n",
            "    Found existing installation: pip 21.1.3\n",
            "    Uninstalling pip-21.1.3:\n",
            "      Successfully uninstalled pip-21.1.3\n",
            "Successfully installed pip-21.3.1\n",
            "Collecting scikit-learn==0.23.0\n",
            "  Downloading scikit_learn-0.23.0-cp37-cp37m-manylinux1_x86_64.whl (7.3 MB)\n",
            "     |████████████████████████████████| 7.3 MB 29.9 MB/s            \n",
            "\u001b[?25hRequirement already satisfied: numpy>=1.13.3 in /usr/local/lib/python3.7/dist-packages (from scikit-learn==0.23.0) (1.19.5)\n",
            "Requirement already satisfied: threadpoolctl>=2.0.0 in /usr/local/lib/python3.7/dist-packages (from scikit-learn==0.23.0) (3.0.0)\n",
            "Requirement already satisfied: scipy>=0.19.1 in /usr/local/lib/python3.7/dist-packages (from scikit-learn==0.23.0) (1.4.1)\n",
            "Requirement already satisfied: joblib>=0.11 in /usr/local/lib/python3.7/dist-packages (from scikit-learn==0.23.0) (1.1.0)\n",
            "Installing collected packages: scikit-learn\n",
            "  Attempting uninstall: scikit-learn\n",
            "    Found existing installation: scikit-learn 1.0.1\n",
            "    Uninstalling scikit-learn-1.0.1:\n",
            "      Successfully uninstalled scikit-learn-1.0.1\n",
            "\u001b[31mERROR: pip's dependency resolver does not currently take into account all the packages that are installed. This behaviour is the source of the following dependency conflicts.\n",
            "imbalanced-learn 0.8.1 requires scikit-learn>=0.24, but you have scikit-learn 0.23.0 which is incompatible.\u001b[0m\n",
            "Successfully installed scikit-learn-0.23.0\n",
            "\u001b[33mWARNING: Running pip as the 'root' user can result in broken permissions and conflicting behaviour with the system package manager. It is recommended to use a virtual environment instead: https://pip.pypa.io/warnings/venv\u001b[0m\n"
          ]
        }
      ],
      "source": [
        "!pip install --upgrade pip\n",
        "!pip install --upgrade scikit-learn==0.23.0"
      ]
    },
    {
      "cell_type": "code",
      "source": [
        "import numpy as np\n",
        "\n",
        "import matplotlib\n",
        "import matplotlib.pyplot as plt\n",
        "%matplotlib inline\n",
        "\n",
        "from sklearn.metrics import classification_report"
      ],
      "metadata": {
        "id": "VBw6-90E6mWS"
      },
      "execution_count": 2,
      "outputs": []
    },
    {
      "cell_type": "markdown",
      "source": [
        "MNIST - датасет образцов рукописного написания цифр, является стандартом, предложенным Национальным институтом стандартов и технологий США с целью калибрации и сопоставления методов распознавания изображений с помощью машинного обучения. Образцы из набора NIST были нормализированы, прошли сглаживание и приведены к серому полутоновому изображению размером 28x28 пикселей."
      ],
      "metadata": {
        "id": "iHbv1bSm6pnC"
      }
    },
    {
      "cell_type": "code",
      "source": [
        "from keras.datasets import mnist\n",
        "(X_train, y_train), (X_pred, y_pred) = mnist.load_data()"
      ],
      "metadata": {
        "colab": {
          "base_uri": "https://localhost:8080/"
        },
        "id": "tGzNLnry6rv8",
        "outputId": "18a261b8-51a6-4c46-f06d-7ae635410a33"
      },
      "execution_count": 3,
      "outputs": [
        {
          "output_type": "stream",
          "name": "stdout",
          "text": [
            "Downloading data from https://storage.googleapis.com/tensorflow/tf-keras-datasets/mnist.npz\n",
            "11493376/11490434 [==============================] - 0s 0us/step\n",
            "11501568/11490434 [==============================] - 0s 0us/step\n"
          ]
        }
      ]
    },
    {
      "cell_type": "markdown",
      "source": [
        "Первый элемент"
      ],
      "metadata": {
        "id": "buEqGOkQ6xc_"
      }
    },
    {
      "cell_type": "code",
      "source": [
        "plt.title(\"Нулевой объект из тренировочного набора:\")\n",
        "plt.imshow(X_train[0], cmap=\"gray\")"
      ],
      "metadata": {
        "colab": {
          "base_uri": "https://localhost:8080/",
          "height": 300
        },
        "id": "936U__XD60IM",
        "outputId": "300b634e-2794-4570-89a3-f7d2fdacd6b8"
      },
      "execution_count": 4,
      "outputs": [
        {
          "output_type": "execute_result",
          "data": {
            "text/plain": [
              "<matplotlib.image.AxesImage at 0x7f7daf43dd10>"
            ]
          },
          "metadata": {},
          "execution_count": 4
        },
        {
          "output_type": "display_data",
          "data": {
            "image/png": "[encoded data removed]",
            "text/plain": [
              "<Figure size 432x288 with 1 Axes>"
            ]
          },
          "metadata": {
            "needs_background": "light"
          }
        }
      ]
    },
    {
      "cell_type": "code",
      "source": [
        "y_train[0]"
      ],
      "metadata": {
        "colab": {
          "base_uri": "https://localhost:8080/"
        },
        "id": "u_fJglHcZevE",
        "outputId": "07e3c895-088e-4e13-aa59-a0113264dc36"
      },
      "execution_count": 5,
      "outputs": [
        {
          "output_type": "execute_result",
          "data": {
            "text/plain": [
              "5"
            ]
          },
          "metadata": {},
          "execution_count": 5
        }
      ]
    },
    {
      "cell_type": "markdown",
      "source": [
        "Для разделения данных используем функцию train_test_split из библиотеки sklearn. Следующий код разделяет исходные данные в отношении 70/30."
      ],
      "metadata": {
        "id": "Ka9vT6R8Zi8N"
      }
    },
    {
      "cell_type": "code",
      "source": [
        "from sklearn.model_selection import train_test_split\n",
        "\n",
        "X_train, X_test, y_train, y_test = train_test_split(X_train, y_train, test_size=0.3, random_state=2020)"
      ],
      "metadata": {
        "id": "w0oeQb0aZgnr"
      },
      "execution_count": 6,
      "outputs": []
    },
    {
      "cell_type": "markdown",
      "source": [
        "Преобразуем данные"
      ],
      "metadata": {
        "id": "M-v82mBxZtyS"
      }
    },
    {
      "cell_type": "code",
      "source": [
        "dim = 784 # 28*28 \n",
        "X_train = X_train.reshape(len(X_train), dim)\n",
        "X_test = X_test.reshape(len(X_test), dim)"
      ],
      "metadata": {
        "id": "lLa4-diOZugl"
      },
      "execution_count": 7,
      "outputs": []
    },
    {
      "cell_type": "code",
      "source": [
        "disp = 0.8 + (279307 % 10) / 100;\n",
        "disp"
      ],
      "metadata": {
        "colab": {
          "base_uri": "https://localhost:8080/"
        },
        "id": "4P9xSpyKeTRV",
        "outputId": "f6cec3ad-fc75-47f9-97da-a49baac5684d"
      },
      "execution_count": 27,
      "outputs": [
        {
          "output_type": "execute_result",
          "data": {
            "text/plain": [
              "0.8700000000000001"
            ]
          },
          "metadata": {},
          "execution_count": 27
        }
      ]
    },
    {
      "cell_type": "markdown",
      "source": [
        "Уменьшим размерность тестовых данных"
      ],
      "metadata": {
        "id": "IjGdepSIeMur"
      }
    },
    {
      "cell_type": "code",
      "source": [
        "from sklearn.decomposition import PCA\n",
        "\n",
        "pca = PCA(n_components=27, svd_solver='full')\n",
        "modelPCA = pca.fit(X_train) \n",
        "\n",
        "X_train = modelPCA.transform(X_train)"
      ],
      "metadata": {
        "id": "oiMZ1do0eNWA"
      },
      "execution_count": 28,
      "outputs": []
    },
    {
      "cell_type": "markdown",
      "source": [
        "Найдем долю объясненной дисперсии в зависимости от количества используемых ГК"
      ],
      "metadata": {
        "id": "jYWH4Iqxe8H5"
      }
    },
    {
      "cell_type": "code",
      "source": [
        "explained_variance = np.round(np.cumsum(pca.explained_variance_ratio_), 3)\n",
        "explained_variance"
      ],
      "metadata": {
        "colab": {
          "base_uri": "https://localhost:8080/"
        },
        "id": "ATK8LbQPe8xd",
        "outputId": "030f9458-6ddf-4183-a393-61ced59fc442"
      },
      "execution_count": 29,
      "outputs": [
        {
          "output_type": "execute_result",
          "data": {
            "text/plain": [
              "array([0.12 , 0.208, 0.284, 0.35 , 0.41 , 0.463, 0.503, 0.539, 0.573,\n",
              "       0.602, 0.628, 0.653, 0.674, 0.695, 0.714, 0.733, 0.749, 0.765,\n",
              "       0.779, 0.794, 0.807, 0.819, 0.831, 0.842, 0.853, 0.864, 0.874])"
            ]
          },
          "metadata": {},
          "execution_count": 29
        }
      ]
    },
    {
      "cell_type": "code",
      "source": [
        "plt.plot(np.arange(27), explained_variance, ls = '-')"
      ],
      "metadata": {
        "colab": {
          "base_uri": "https://localhost:8080/",
          "height": 284
        },
        "id": "KcC7BaTVfIxZ",
        "outputId": "5dba2ac6-02d5-47dc-ac22-7c0cf3a51086"
      },
      "execution_count": 30,
      "outputs": [
        {
          "output_type": "execute_result",
          "data": {
            "text/plain": [
              "[<matplotlib.lines.Line2D at 0x7f7d9e7d4fd0>]"
            ]
          },
          "metadata": {},
          "execution_count": 30
        },
        {
          "output_type": "display_data",
          "data": {
            "image/png": "[encoded data removed]",
            "text/plain": [
              "<Figure size 432x288 with 1 Axes>"
            ]
          },
          "metadata": {
            "needs_background": "light"
          }
        }
      ]
    },
    {
      "cell_type": "markdown",
      "source": [
        "Подключаем библиотеку для обучения многоклассового классификатора методом One-vs-All и дерево принятия решений"
      ],
      "metadata": {
        "id": "6pAUFGE3fUS1"
      }
    },
    {
      "cell_type": "code",
      "source": [
        "from sklearn.multiclass import OneVsRestClassifier\n",
        "from sklearn.tree import DecisionTreeClassifier\n",
        "from sklearn.ensemble import RandomForestClassifier"
      ],
      "metadata": {
        "id": "gfrBCpD8fVB6"
      },
      "execution_count": 31,
      "outputs": []
    },
    {
      "cell_type": "code",
      "source": [
        "tree = RandomForestClassifier(criterion='gini', min_samples_leaf=10, max_depth=20, n_estimators=10, random_state=2020)\n",
        "clf = OneVsRestClassifier(tree).fit(X_train, y_train)"
      ],
      "metadata": {
        "id": "IvpakS6jfW3k"
      },
      "execution_count": 32,
      "outputs": []
    },
    {
      "cell_type": "markdown",
      "source": [
        "Примените полученное ранее преобразование метода главных компонент к тестовым данным"
      ],
      "metadata": {
        "id": "msaScRDLfkqT"
      }
    },
    {
      "cell_type": "code",
      "source": [
        "modelPCA = pca.fit(X_test)\n",
        "X_test = modelPCA.transform(X_test)\n",
        "y_pred = clf.predict(X_test)"
      ],
      "metadata": {
        "id": "Myoi2IK6fvOK"
      },
      "execution_count": 33,
      "outputs": []
    },
    {
      "cell_type": "code",
      "source": [
        "from sklearn.metrics import confusion_matrix\n",
        "CM = confusion_matrix(y_test, y_pred)\n",
        "CM"
      ],
      "metadata": {
        "colab": {
          "base_uri": "https://localhost:8080/"
        },
        "id": "GvUGbpPzf7N2",
        "outputId": "5a2954fc-8bba-470b-d82b-1a3c95efdf5b"
      },
      "execution_count": 34,
      "outputs": [
        {
          "output_type": "execute_result",
          "data": {
            "text/plain": [
              "array([[1333,    0,  113,   44,    4,   52,   35,   18,   93,    1],\n",
              "       [   0, 1765,   62,   12,    3,   31,  104,   77,   16,    5],\n",
              "       [  84,    9,  812,   61,   54,   85,  501,   24,  118,   15],\n",
              "       [  32,   12,   56, 1520,   16,   86,    9,   24,   91,   27],\n",
              "       [   7,    5,   74,    5, 1406,   15,   31,   31,   58,  124],\n",
              "       [ 125,    7,  169,  192,   62,  609,   15,   53,  332,   27],\n",
              "       [  38,   23,  720,   19,   12,   23,  774,   47,   93,   17],\n",
              "       [  50,   34,   15,    5,   45,   37,   75, 1483,   34,  108],\n",
              "       [  26,   18,  118,  288,   55,  568,   25,   21,  573,   81],\n",
              "       [  23,   14,   37,   63,  449,   47,   46,  189,  236,  720]])"
            ]
          },
          "metadata": {},
          "execution_count": 34
        }
      ]
    },
    {
      "cell_type": "markdown",
      "source": [
        "Число объектов класс 0 отнесенных к классу `номер в ису %9`"
      ],
      "metadata": {
        "id": "IJFUsqmDgFQZ"
      }
    },
    {
      "cell_type": "code",
      "source": [
        "var_class = 279307 % 9\n",
        "var_class"
      ],
      "metadata": {
        "colab": {
          "base_uri": "https://localhost:8080/"
        },
        "id": "MTXN_zyGgGKB",
        "outputId": "acc8a00f-8eef-4348-e4f5-93cd47e91b4e"
      },
      "execution_count": 35,
      "outputs": [
        {
          "output_type": "execute_result",
          "data": {
            "text/plain": [
              "1"
            ]
          },
          "metadata": {},
          "execution_count": 35
        }
      ]
    },
    {
      "cell_type": "code",
      "source": [
        "CM[var_class][var_class]"
      ],
      "metadata": {
        "colab": {
          "base_uri": "https://localhost:8080/"
        },
        "id": "TVi7vzBJgSMP",
        "outputId": "8fb8aba3-3816-482e-c69c-df29ffa207de"
      },
      "execution_count": 36,
      "outputs": [
        {
          "output_type": "execute_result",
          "data": {
            "text/plain": [
              "1765"
            ]
          },
          "metadata": {},
          "execution_count": 36
        }
      ]
    },
    {
      "cell_type": "markdown",
      "source": [
        "Определите Accuracy, Precision, Recall или F1 для обученной модели"
      ],
      "metadata": {
        "id": "TfBEyFh6ga_q"
      }
    },
    {
      "cell_type": "code",
      "source": [
        "target_names = ['class 0', 'class 1','class 2','class 3','class 4','class 5','class 6','class 7','class 8','class 9']"
      ],
      "metadata": {
        "id": "b6b6me_2jFga"
      },
      "execution_count": 38,
      "outputs": []
    },
    {
      "cell_type": "code",
      "source": [
        "from sklearn.metrics import classification_report\n",
        "print(classification_report(y_test, y_pred, target_names=target_names))"
      ],
      "metadata": {
        "colab": {
          "base_uri": "https://localhost:8080/"
        },
        "id": "ajZfkZpZgW6r",
        "outputId": "deaec4ac-55d4-4d0a-8238-030667ec6329"
      },
      "execution_count": 39,
      "outputs": [
        {
          "output_type": "stream",
          "name": "stdout",
          "text": [
            "              precision    recall  f1-score   support\n",
            "\n",
            "     class 0       0.78      0.79      0.78      1693\n",
            "     class 1       0.94      0.85      0.89      2075\n",
            "     class 2       0.37      0.46      0.41      1763\n",
            "     class 3       0.69      0.81      0.74      1873\n",
            "     class 4       0.67      0.80      0.73      1756\n",
            "     class 5       0.39      0.38      0.39      1591\n",
            "     class 6       0.48      0.44      0.46      1766\n",
            "     class 7       0.75      0.79      0.77      1886\n",
            "     class 8       0.35      0.32      0.34      1773\n",
            "     class 9       0.64      0.39      0.49      1824\n",
            "\n",
            "    accuracy                           0.61     18000\n",
            "   macro avg       0.61      0.60      0.60     18000\n",
            "weighted avg       0.61      0.61      0.61     18000\n",
            "\n"
          ]
        }
      ]
    },
    {
      "cell_type": "markdown",
      "source": [
        "Вероятность отнесения 5 любых изображений из тестового набора к назначенному классу\n",
        "\n"
      ],
      "metadata": {
        "id": "agY85bXYjMhl"
      }
    },
    {
      "cell_type": "code",
      "source": [
        "print(clf.predict_proba(X_train) [1] [y_pred[9]])\n",
        "print(clf.predict_proba(X_train) [2] [y_pred[3]])\n",
        "print(clf.predict_proba(X_train) [3] [y_pred[4]])\n",
        "print(clf.predict_proba(X_train) [5] [y_pred[8]])\n",
        "print(clf.predict_proba(X_train) [8] [y_pred[16]])"
      ],
      "metadata": {
        "colab": {
          "base_uri": "https://localhost:8080/"
        },
        "id": "Y7SpBT73jNOb",
        "outputId": "6c5ccfc1-04db-485f-c99e-66eb3d59c102"
      },
      "execution_count": 43,
      "outputs": [
        {
          "output_type": "stream",
          "name": "stdout",
          "text": [
            "0.934459491196736\n",
            "0.4550942286566563\n",
            "0.008128105800829491\n",
            "0.9112268641871055\n",
            "0.012355178879146842\n"
          ]
        }
      ]
    },
    {
      "cell_type": "markdown",
      "source": [
        "Число объектов класса 2 отнесенных к классу 8"
      ],
      "metadata": {
        "id": "UC0X1rXmjcYc"
      }
    },
    {
      "cell_type": "code",
      "source": [
        "CM[2][8]"
      ],
      "metadata": {
        "colab": {
          "base_uri": "https://localhost:8080/"
        },
        "id": "M-BYALMLjdCZ",
        "outputId": "ffbe921b-87e8-4660-8d4c-a02d11a7e1f9"
      },
      "execution_count": 44,
      "outputs": [
        {
          "output_type": "execute_result",
          "data": {
            "text/plain": [
              "118"
            ]
          },
          "metadata": {},
          "execution_count": 44
        }
      ]
    }
  ]
}